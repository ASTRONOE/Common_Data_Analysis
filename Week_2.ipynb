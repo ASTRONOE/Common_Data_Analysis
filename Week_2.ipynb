{
  "nbformat": 4,
  "nbformat_minor": 0,
  "metadata": {
    "colab": {
      "provenance": [],
      "authorship_tag": "ABX9TyMzG5zJrJ489x4yuI+j2lkC",
      "include_colab_link": true
    },
    "kernelspec": {
      "name": "python3",
      "display_name": "Python 3"
    },
    "language_info": {
      "name": "python"
    }
  },
  "cells": [
    {
      "cell_type": "markdown",
      "metadata": {
        "id": "view-in-github",
        "colab_type": "text"
      },
      "source": [
        "<a href=\"https://colab.research.google.com/github/ASTRONOE/Common_Data_Analysis/blob/KreativStorm/Week_2.ipynb\" target=\"_parent\"><img src=\"https://colab.research.google.com/assets/colab-badge.svg\" alt=\"Open In Colab\"/></a>"
      ]
    },
    {
      "cell_type": "markdown",
      "source": [
        "#**Data Analysis Hands-On Program - KreativStorm**\n",
        "##WEEK 2 ASSIGNMENT"
      ],
      "metadata": {
        "id": "7lHCTzHRSkC9"
      }
    },
    {
      "cell_type": "code",
      "source": [
        "#ensure pyreadstat for spss is installed!!\n",
        "!pip install pyreadstat"
      ],
      "metadata": {
        "colab": {
          "base_uri": "https://localhost:8080/"
        },
        "id": "H4w6ZX5MS-Du",
        "outputId": "3759a6ff-6972-425b-8f3d-67a8a4c422d5"
      },
      "execution_count": null,
      "outputs": [
        {
          "output_type": "stream",
          "name": "stdout",
          "text": [
            "Collecting pyreadstat\n",
            "  Downloading pyreadstat-1.2.2-cp310-cp310-manylinux_2_17_x86_64.manylinux2014_x86_64.whl (2.7 MB)\n",
            "\u001b[2K     \u001b[90m━━━━━━━━━━━━━━━━━━━━━━━━━━━━━━━━━━━━━━━━\u001b[0m \u001b[32m2.7/2.7 MB\u001b[0m \u001b[31m7.0 MB/s\u001b[0m eta \u001b[36m0:00:00\u001b[0m\n",
            "\u001b[?25hRequirement already satisfied: pandas>=1.2.0 in /usr/local/lib/python3.10/dist-packages (from pyreadstat) (1.5.3)\n",
            "Requirement already satisfied: python-dateutil>=2.8.1 in /usr/local/lib/python3.10/dist-packages (from pandas>=1.2.0->pyreadstat) (2.8.2)\n",
            "Requirement already satisfied: pytz>=2020.1 in /usr/local/lib/python3.10/dist-packages (from pandas>=1.2.0->pyreadstat) (2022.7.1)\n",
            "Requirement already satisfied: numpy>=1.21.0 in /usr/local/lib/python3.10/dist-packages (from pandas>=1.2.0->pyreadstat) (1.22.4)\n",
            "Requirement already satisfied: six>=1.5 in /usr/local/lib/python3.10/dist-packages (from python-dateutil>=2.8.1->pandas>=1.2.0->pyreadstat) (1.16.0)\n",
            "Installing collected packages: pyreadstat\n",
            "Successfully installed pyreadstat-1.2.2\n"
          ]
        }
      ]
    },
    {
      "cell_type": "code",
      "source": [
        "#load libraries\n",
        "import numpy as np\n",
        "import pandas as pd\n",
        "import pyreadstat as prs\n",
        "import matplotlib.pyplot as plt\n",
        "import statsmodels.api as sm\n",
        "import seaborn as sb\n",
        "from scipy.stats import shapiro, boxcox, pointbiserialr\n",
        "import statsmodels.api as sm\n",
        "from statsmodels.multivariate.manova import MANOVA\n",
        "from google.colab import files"
      ],
      "metadata": {
        "id": "tAQmRVmlTDWj"
      },
      "execution_count": null,
      "outputs": []
    },
    {
      "cell_type": "code",
      "source": [
        "sav_file = files.upload() #upload file from explorer"
      ],
      "metadata": {
        "colab": {
          "base_uri": "https://localhost:8080/",
          "height": 70
        },
        "id": "DhyVAaapTLpV",
        "outputId": "741df0eb-ad76-4d60-963d-e7aefabe68e4"
      },
      "execution_count": null,
      "outputs": [
        {
          "output_type": "display_data",
          "data": {
            "text/plain": [
              "<IPython.core.display.HTML object>"
            ],
            "text/html": [
              "\n",
              "     <input type=\"file\" id=\"files-84ca0c9b-b3dc-464f-8fc9-b00b5bdf04bc\" name=\"files[]\" multiple disabled\n",
              "        style=\"border:none\" />\n",
              "     <output id=\"result-84ca0c9b-b3dc-464f-8fc9-b00b5bdf04bc\">\n",
              "      Upload widget is only available when the cell has been executed in the\n",
              "      current browser session. Please rerun this cell to enable.\n",
              "      </output>\n",
              "      <script>// Copyright 2017 Google LLC\n",
              "//\n",
              "// Licensed under the Apache License, Version 2.0 (the \"License\");\n",
              "// you may not use this file except in compliance with the License.\n",
              "// You may obtain a copy of the License at\n",
              "//\n",
              "//      http://www.apache.org/licenses/LICENSE-2.0\n",
              "//\n",
              "// Unless required by applicable law or agreed to in writing, software\n",
              "// distributed under the License is distributed on an \"AS IS\" BASIS,\n",
              "// WITHOUT WARRANTIES OR CONDITIONS OF ANY KIND, either express or implied.\n",
              "// See the License for the specific language governing permissions and\n",
              "// limitations under the License.\n",
              "\n",
              "/**\n",
              " * @fileoverview Helpers for google.colab Python module.\n",
              " */\n",
              "(function(scope) {\n",
              "function span(text, styleAttributes = {}) {\n",
              "  const element = document.createElement('span');\n",
              "  element.textContent = text;\n",
              "  for (const key of Object.keys(styleAttributes)) {\n",
              "    element.style[key] = styleAttributes[key];\n",
              "  }\n",
              "  return element;\n",
              "}\n",
              "\n",
              "// Max number of bytes which will be uploaded at a time.\n",
              "const MAX_PAYLOAD_SIZE = 100 * 1024;\n",
              "\n",
              "function _uploadFiles(inputId, outputId) {\n",
              "  const steps = uploadFilesStep(inputId, outputId);\n",
              "  const outputElement = document.getElementById(outputId);\n",
              "  // Cache steps on the outputElement to make it available for the next call\n",
              "  // to uploadFilesContinue from Python.\n",
              "  outputElement.steps = steps;\n",
              "\n",
              "  return _uploadFilesContinue(outputId);\n",
              "}\n",
              "\n",
              "// This is roughly an async generator (not supported in the browser yet),\n",
              "// where there are multiple asynchronous steps and the Python side is going\n",
              "// to poll for completion of each step.\n",
              "// This uses a Promise to block the python side on completion of each step,\n",
              "// then passes the result of the previous step as the input to the next step.\n",
              "function _uploadFilesContinue(outputId) {\n",
              "  const outputElement = document.getElementById(outputId);\n",
              "  const steps = outputElement.steps;\n",
              "\n",
              "  const next = steps.next(outputElement.lastPromiseValue);\n",
              "  return Promise.resolve(next.value.promise).then((value) => {\n",
              "    // Cache the last promise value to make it available to the next\n",
              "    // step of the generator.\n",
              "    outputElement.lastPromiseValue = value;\n",
              "    return next.value.response;\n",
              "  });\n",
              "}\n",
              "\n",
              "/**\n",
              " * Generator function which is called between each async step of the upload\n",
              " * process.\n",
              " * @param {string} inputId Element ID of the input file picker element.\n",
              " * @param {string} outputId Element ID of the output display.\n",
              " * @return {!Iterable<!Object>} Iterable of next steps.\n",
              " */\n",
              "function* uploadFilesStep(inputId, outputId) {\n",
              "  const inputElement = document.getElementById(inputId);\n",
              "  inputElement.disabled = false;\n",
              "\n",
              "  const outputElement = document.getElementById(outputId);\n",
              "  outputElement.innerHTML = '';\n",
              "\n",
              "  const pickedPromise = new Promise((resolve) => {\n",
              "    inputElement.addEventListener('change', (e) => {\n",
              "      resolve(e.target.files);\n",
              "    });\n",
              "  });\n",
              "\n",
              "  const cancel = document.createElement('button');\n",
              "  inputElement.parentElement.appendChild(cancel);\n",
              "  cancel.textContent = 'Cancel upload';\n",
              "  const cancelPromise = new Promise((resolve) => {\n",
              "    cancel.onclick = () => {\n",
              "      resolve(null);\n",
              "    };\n",
              "  });\n",
              "\n",
              "  // Wait for the user to pick the files.\n",
              "  const files = yield {\n",
              "    promise: Promise.race([pickedPromise, cancelPromise]),\n",
              "    response: {\n",
              "      action: 'starting',\n",
              "    }\n",
              "  };\n",
              "\n",
              "  cancel.remove();\n",
              "\n",
              "  // Disable the input element since further picks are not allowed.\n",
              "  inputElement.disabled = true;\n",
              "\n",
              "  if (!files) {\n",
              "    return {\n",
              "      response: {\n",
              "        action: 'complete',\n",
              "      }\n",
              "    };\n",
              "  }\n",
              "\n",
              "  for (const file of files) {\n",
              "    const li = document.createElement('li');\n",
              "    li.append(span(file.name, {fontWeight: 'bold'}));\n",
              "    li.append(span(\n",
              "        `(${file.type || 'n/a'}) - ${file.size} bytes, ` +\n",
              "        `last modified: ${\n",
              "            file.lastModifiedDate ? file.lastModifiedDate.toLocaleDateString() :\n",
              "                                    'n/a'} - `));\n",
              "    const percent = span('0% done');\n",
              "    li.appendChild(percent);\n",
              "\n",
              "    outputElement.appendChild(li);\n",
              "\n",
              "    const fileDataPromise = new Promise((resolve) => {\n",
              "      const reader = new FileReader();\n",
              "      reader.onload = (e) => {\n",
              "        resolve(e.target.result);\n",
              "      };\n",
              "      reader.readAsArrayBuffer(file);\n",
              "    });\n",
              "    // Wait for the data to be ready.\n",
              "    let fileData = yield {\n",
              "      promise: fileDataPromise,\n",
              "      response: {\n",
              "        action: 'continue',\n",
              "      }\n",
              "    };\n",
              "\n",
              "    // Use a chunked sending to avoid message size limits. See b/62115660.\n",
              "    let position = 0;\n",
              "    do {\n",
              "      const length = Math.min(fileData.byteLength - position, MAX_PAYLOAD_SIZE);\n",
              "      const chunk = new Uint8Array(fileData, position, length);\n",
              "      position += length;\n",
              "\n",
              "      const base64 = btoa(String.fromCharCode.apply(null, chunk));\n",
              "      yield {\n",
              "        response: {\n",
              "          action: 'append',\n",
              "          file: file.name,\n",
              "          data: base64,\n",
              "        },\n",
              "      };\n",
              "\n",
              "      let percentDone = fileData.byteLength === 0 ?\n",
              "          100 :\n",
              "          Math.round((position / fileData.byteLength) * 100);\n",
              "      percent.textContent = `${percentDone}% done`;\n",
              "\n",
              "    } while (position < fileData.byteLength);\n",
              "  }\n",
              "\n",
              "  // All done.\n",
              "  yield {\n",
              "    response: {\n",
              "      action: 'complete',\n",
              "    }\n",
              "  };\n",
              "}\n",
              "\n",
              "scope.google = scope.google || {};\n",
              "scope.google.colab = scope.google.colab || {};\n",
              "scope.google.colab._files = {\n",
              "  _uploadFiles,\n",
              "  _uploadFilesContinue,\n",
              "};\n",
              "})(self);\n",
              "</script> "
            ]
          },
          "metadata": {}
        },
        {
          "output_type": "stream",
          "name": "stdout",
          "text": [
            "Saving Birthweight_reduced_kg_SPSS.sav to Birthweight_reduced_kg_SPSS.sav\n"
          ]
        }
      ]
    },
    {
      "cell_type": "code",
      "source": [
        "Df, meta = prs.read_sav(\"Birthweight_reduced_kg_SPSS.sav\") #load file"
      ],
      "metadata": {
        "id": "mtVULDOlTR2D"
      },
      "execution_count": null,
      "outputs": []
    },
    {
      "cell_type": "code",
      "source": [
        "#print dataframe summary\n",
        "print(Df.shape)\n",
        "print(Df.info())"
      ],
      "metadata": {
        "colab": {
          "base_uri": "https://localhost:8080/"
        },
        "id": "EKem69oCT2QQ",
        "outputId": "2e002f16-fed0-4bcd-a4fa-aa21d8690db3"
      },
      "execution_count": null,
      "outputs": [
        {
          "output_type": "stream",
          "name": "stdout",
          "text": [
            "(42, 16)\n",
            "<class 'pandas.core.frame.DataFrame'>\n",
            "RangeIndex: 42 entries, 0 to 41\n",
            "Data columns (total 16 columns):\n",
            " #   Column       Non-Null Count  Dtype  \n",
            "---  ------       --------------  -----  \n",
            " 0   ID           42 non-null     float64\n",
            " 1   Headcirc     42 non-null     float64\n",
            " 2   Length       42 non-null     float64\n",
            " 3   Birthweight  42 non-null     float64\n",
            " 4   Gestation    42 non-null     float64\n",
            " 5   mage         42 non-null     float64\n",
            " 6   smoker       42 non-null     float64\n",
            " 7   mheight      42 non-null     float64\n",
            " 8   mppwt        42 non-null     float64\n",
            " 9   fage         42 non-null     float64\n",
            " 10  fedyrs       42 non-null     float64\n",
            " 11  fnocig       42 non-null     float64\n",
            " 12  fheight      42 non-null     float64\n",
            " 13  lowbwt       42 non-null     float64\n",
            " 14  mage35       42 non-null     float64\n",
            " 15  mnocig       42 non-null     float64\n",
            "dtypes: float64(16)\n",
            "memory usage: 5.4 KB\n",
            "None\n"
          ]
        }
      ]
    },
    {
      "cell_type": "code",
      "source": [
        "# Accessing the variable names\n",
        "print(\"Variable names:\\n\", meta.column_names)\n",
        "\n",
        "# Accessing the variable labels\n",
        "print(\"Variable labels:\\n\", meta.variable_value_labels)\n",
        "\n",
        "# Accessing the detailed information about each variable\n",
        "print(\"Variable information:\")\n",
        "print(meta.column_names_to_labels)"
      ],
      "metadata": {
        "colab": {
          "base_uri": "https://localhost:8080/"
        },
        "id": "fl871AbuUBbp",
        "outputId": "8a092597-0d57-4c71-d53f-137f6de0499d"
      },
      "execution_count": null,
      "outputs": [
        {
          "output_type": "stream",
          "name": "stdout",
          "text": [
            "Variable names:\n",
            " ['ID', 'Headcirc', 'Length', 'Birthweight', 'Gestation', 'mage', 'smoker', 'mheight', 'mppwt', 'fage', 'fedyrs', 'fnocig', 'fheight', 'lowbwt', 'mage35', 'mnocig']\n",
            "Variable labels:\n",
            " {'smoker': {0.0: 'Non-smoker', 1.0: 'Smoker'}, 'lowbwt': {0.0: 'Not low birthweight', 1.0: 'Low birthweight'}, 'mage35': {0.0: 'Aged < 35', 1.0: 'Aged 35+'}}\n",
            "Variable information:\n",
            "{'ID': 'Baby ID', 'Headcirc': 'Head circumference (cm)', 'Length': 'Length of baby (cm)', 'Birthweight': 'Birthweight (kg)', 'Gestation': 'Gestational age at birth (weeks)', 'mage': 'Maternal age', 'smoker': None, 'mheight': 'Maternal height (cm)', 'mppwt': \"Mother's pre-pregnancy weight (kg)\", 'fage': \"Father's age\", 'fedyrs': 'Years father was in education', 'fnocig': 'Number of cigarettes smoked per day by father', 'fheight': \"Father's height (cm)\", 'lowbwt': 'Low birthweight baby', 'mage35': 'Mother aged over 35', 'mnocig': 'Number of cigarettes smoked per day by mother'}\n"
          ]
        }
      ]
    },
    {
      "cell_type": "code",
      "source": [
        "Df.head()"
      ],
      "metadata": {
        "colab": {
          "base_uri": "https://localhost:8080/",
          "height": 206
        },
        "id": "d_i16uvoUN3Q",
        "outputId": "260bfd3a-98e3-4b51-e162-e0f066e04acc"
      },
      "execution_count": null,
      "outputs": [
        {
          "output_type": "execute_result",
          "data": {
            "text/plain": [
              "       ID  Headcirc  Length  Birthweight  Gestation  mage  smoker  mheight  \\\n",
              "0  1360.0      34.0    56.0         4.55       44.0  20.0     0.0    162.0   \n",
              "1  1016.0      36.0    53.0         4.32       40.0  19.0     0.0    171.0   \n",
              "2   462.0      39.0    58.0         4.10       41.0  35.0     0.0    172.0   \n",
              "3  1187.0      38.0    53.0         4.07       44.0  20.0     0.0    174.0   \n",
              "4   553.0      37.0    54.0         3.94       42.0  24.0     0.0    175.0   \n",
              "\n",
              "   mppwt  fage  fedyrs  fnocig  fheight  lowbwt  mage35  mnocig  \n",
              "0   57.0  23.0    10.0    35.0    179.0     0.0     0.0     0.0  \n",
              "1   62.0  19.0    12.0     0.0    183.0     0.0     0.0     0.0  \n",
              "2   58.0  31.0    16.0    25.0    185.0     0.0     1.0     0.0  \n",
              "3   68.0  26.0    14.0    25.0    189.0     0.0     0.0     0.0  \n",
              "4   66.0  30.0    12.0     0.0    184.0     0.0     0.0     0.0  "
            ],
            "text/html": [
              "\n",
              "\n",
              "  <div id=\"df-35b47981-f0ba-4ad2-a804-11a6c6dd53a1\">\n",
              "    <div class=\"colab-df-container\">\n",
              "      <div>\n",
              "<style scoped>\n",
              "    .dataframe tbody tr th:only-of-type {\n",
              "        vertical-align: middle;\n",
              "    }\n",
              "\n",
              "    .dataframe tbody tr th {\n",
              "        vertical-align: top;\n",
              "    }\n",
              "\n",
              "    .dataframe thead th {\n",
              "        text-align: right;\n",
              "    }\n",
              "</style>\n",
              "<table border=\"1\" class=\"dataframe\">\n",
              "  <thead>\n",
              "    <tr style=\"text-align: right;\">\n",
              "      <th></th>\n",
              "      <th>ID</th>\n",
              "      <th>Headcirc</th>\n",
              "      <th>Length</th>\n",
              "      <th>Birthweight</th>\n",
              "      <th>Gestation</th>\n",
              "      <th>mage</th>\n",
              "      <th>smoker</th>\n",
              "      <th>mheight</th>\n",
              "      <th>mppwt</th>\n",
              "      <th>fage</th>\n",
              "      <th>fedyrs</th>\n",
              "      <th>fnocig</th>\n",
              "      <th>fheight</th>\n",
              "      <th>lowbwt</th>\n",
              "      <th>mage35</th>\n",
              "      <th>mnocig</th>\n",
              "    </tr>\n",
              "  </thead>\n",
              "  <tbody>\n",
              "    <tr>\n",
              "      <th>0</th>\n",
              "      <td>1360.0</td>\n",
              "      <td>34.0</td>\n",
              "      <td>56.0</td>\n",
              "      <td>4.55</td>\n",
              "      <td>44.0</td>\n",
              "      <td>20.0</td>\n",
              "      <td>0.0</td>\n",
              "      <td>162.0</td>\n",
              "      <td>57.0</td>\n",
              "      <td>23.0</td>\n",
              "      <td>10.0</td>\n",
              "      <td>35.0</td>\n",
              "      <td>179.0</td>\n",
              "      <td>0.0</td>\n",
              "      <td>0.0</td>\n",
              "      <td>0.0</td>\n",
              "    </tr>\n",
              "    <tr>\n",
              "      <th>1</th>\n",
              "      <td>1016.0</td>\n",
              "      <td>36.0</td>\n",
              "      <td>53.0</td>\n",
              "      <td>4.32</td>\n",
              "      <td>40.0</td>\n",
              "      <td>19.0</td>\n",
              "      <td>0.0</td>\n",
              "      <td>171.0</td>\n",
              "      <td>62.0</td>\n",
              "      <td>19.0</td>\n",
              "      <td>12.0</td>\n",
              "      <td>0.0</td>\n",
              "      <td>183.0</td>\n",
              "      <td>0.0</td>\n",
              "      <td>0.0</td>\n",
              "      <td>0.0</td>\n",
              "    </tr>\n",
              "    <tr>\n",
              "      <th>2</th>\n",
              "      <td>462.0</td>\n",
              "      <td>39.0</td>\n",
              "      <td>58.0</td>\n",
              "      <td>4.10</td>\n",
              "      <td>41.0</td>\n",
              "      <td>35.0</td>\n",
              "      <td>0.0</td>\n",
              "      <td>172.0</td>\n",
              "      <td>58.0</td>\n",
              "      <td>31.0</td>\n",
              "      <td>16.0</td>\n",
              "      <td>25.0</td>\n",
              "      <td>185.0</td>\n",
              "      <td>0.0</td>\n",
              "      <td>1.0</td>\n",
              "      <td>0.0</td>\n",
              "    </tr>\n",
              "    <tr>\n",
              "      <th>3</th>\n",
              "      <td>1187.0</td>\n",
              "      <td>38.0</td>\n",
              "      <td>53.0</td>\n",
              "      <td>4.07</td>\n",
              "      <td>44.0</td>\n",
              "      <td>20.0</td>\n",
              "      <td>0.0</td>\n",
              "      <td>174.0</td>\n",
              "      <td>68.0</td>\n",
              "      <td>26.0</td>\n",
              "      <td>14.0</td>\n",
              "      <td>25.0</td>\n",
              "      <td>189.0</td>\n",
              "      <td>0.0</td>\n",
              "      <td>0.0</td>\n",
              "      <td>0.0</td>\n",
              "    </tr>\n",
              "    <tr>\n",
              "      <th>4</th>\n",
              "      <td>553.0</td>\n",
              "      <td>37.0</td>\n",
              "      <td>54.0</td>\n",
              "      <td>3.94</td>\n",
              "      <td>42.0</td>\n",
              "      <td>24.0</td>\n",
              "      <td>0.0</td>\n",
              "      <td>175.0</td>\n",
              "      <td>66.0</td>\n",
              "      <td>30.0</td>\n",
              "      <td>12.0</td>\n",
              "      <td>0.0</td>\n",
              "      <td>184.0</td>\n",
              "      <td>0.0</td>\n",
              "      <td>0.0</td>\n",
              "      <td>0.0</td>\n",
              "    </tr>\n",
              "  </tbody>\n",
              "</table>\n",
              "</div>\n",
              "      <button class=\"colab-df-convert\" onclick=\"convertToInteractive('df-35b47981-f0ba-4ad2-a804-11a6c6dd53a1')\"\n",
              "              title=\"Convert this dataframe to an interactive table.\"\n",
              "              style=\"display:none;\">\n",
              "\n",
              "  <svg xmlns=\"http://www.w3.org/2000/svg\" height=\"24px\"viewBox=\"0 0 24 24\"\n",
              "       width=\"24px\">\n",
              "    <path d=\"M0 0h24v24H0V0z\" fill=\"none\"/>\n",
              "    <path d=\"M18.56 5.44l.94 2.06.94-2.06 2.06-.94-2.06-.94-.94-2.06-.94 2.06-2.06.94zm-11 1L8.5 8.5l.94-2.06 2.06-.94-2.06-.94L8.5 2.5l-.94 2.06-2.06.94zm10 10l.94 2.06.94-2.06 2.06-.94-2.06-.94-.94-2.06-.94 2.06-2.06.94z\"/><path d=\"M17.41 7.96l-1.37-1.37c-.4-.4-.92-.59-1.43-.59-.52 0-1.04.2-1.43.59L10.3 9.45l-7.72 7.72c-.78.78-.78 2.05 0 2.83L4 21.41c.39.39.9.59 1.41.59.51 0 1.02-.2 1.41-.59l7.78-7.78 2.81-2.81c.8-.78.8-2.07 0-2.86zM5.41 20L4 18.59l7.72-7.72 1.47 1.35L5.41 20z\"/>\n",
              "  </svg>\n",
              "      </button>\n",
              "\n",
              "\n",
              "\n",
              "    <div id=\"df-79453fa4-d103-46e2-92e6-ba6de7f7fa9d\">\n",
              "      <button class=\"colab-df-quickchart\" onclick=\"quickchart('df-79453fa4-d103-46e2-92e6-ba6de7f7fa9d')\"\n",
              "              title=\"Suggest charts.\"\n",
              "              style=\"display:none;\">\n",
              "\n",
              "<svg xmlns=\"http://www.w3.org/2000/svg\" height=\"24px\"viewBox=\"0 0 24 24\"\n",
              "     width=\"24px\">\n",
              "    <g>\n",
              "        <path d=\"M19 3H5c-1.1 0-2 .9-2 2v14c0 1.1.9 2 2 2h14c1.1 0 2-.9 2-2V5c0-1.1-.9-2-2-2zM9 17H7v-7h2v7zm4 0h-2V7h2v10zm4 0h-2v-4h2v4z\"/>\n",
              "    </g>\n",
              "</svg>\n",
              "      </button>\n",
              "    </div>\n",
              "\n",
              "<style>\n",
              "  .colab-df-quickchart {\n",
              "    background-color: #E8F0FE;\n",
              "    border: none;\n",
              "    border-radius: 50%;\n",
              "    cursor: pointer;\n",
              "    display: none;\n",
              "    fill: #1967D2;\n",
              "    height: 32px;\n",
              "    padding: 0 0 0 0;\n",
              "    width: 32px;\n",
              "  }\n",
              "\n",
              "  .colab-df-quickchart:hover {\n",
              "    background-color: #E2EBFA;\n",
              "    box-shadow: 0px 1px 2px rgba(60, 64, 67, 0.3), 0px 1px 3px 1px rgba(60, 64, 67, 0.15);\n",
              "    fill: #174EA6;\n",
              "  }\n",
              "\n",
              "  [theme=dark] .colab-df-quickchart {\n",
              "    background-color: #3B4455;\n",
              "    fill: #D2E3FC;\n",
              "  }\n",
              "\n",
              "  [theme=dark] .colab-df-quickchart:hover {\n",
              "    background-color: #434B5C;\n",
              "    box-shadow: 0px 1px 3px 1px rgba(0, 0, 0, 0.15);\n",
              "    filter: drop-shadow(0px 1px 2px rgba(0, 0, 0, 0.3));\n",
              "    fill: #FFFFFF;\n",
              "  }\n",
              "</style>\n",
              "\n",
              "    <script>\n",
              "      async function quickchart(key) {\n",
              "        const containerElement = document.querySelector('#' + key);\n",
              "        const charts = await google.colab.kernel.invokeFunction(\n",
              "            'suggestCharts', [key], {});\n",
              "      }\n",
              "    </script>\n",
              "\n",
              "      <script>\n",
              "\n",
              "function displayQuickchartButton(domScope) {\n",
              "  let quickchartButtonEl =\n",
              "    domScope.querySelector('#df-79453fa4-d103-46e2-92e6-ba6de7f7fa9d button.colab-df-quickchart');\n",
              "  quickchartButtonEl.style.display =\n",
              "    google.colab.kernel.accessAllowed ? 'block' : 'none';\n",
              "}\n",
              "\n",
              "        displayQuickchartButton(document);\n",
              "      </script>\n",
              "      <style>\n",
              "    .colab-df-container {\n",
              "      display:flex;\n",
              "      flex-wrap:wrap;\n",
              "      gap: 12px;\n",
              "    }\n",
              "\n",
              "    .colab-df-convert {\n",
              "      background-color: #E8F0FE;\n",
              "      border: none;\n",
              "      border-radius: 50%;\n",
              "      cursor: pointer;\n",
              "      display: none;\n",
              "      fill: #1967D2;\n",
              "      height: 32px;\n",
              "      padding: 0 0 0 0;\n",
              "      width: 32px;\n",
              "    }\n",
              "\n",
              "    .colab-df-convert:hover {\n",
              "      background-color: #E2EBFA;\n",
              "      box-shadow: 0px 1px 2px rgba(60, 64, 67, 0.3), 0px 1px 3px 1px rgba(60, 64, 67, 0.15);\n",
              "      fill: #174EA6;\n",
              "    }\n",
              "\n",
              "    [theme=dark] .colab-df-convert {\n",
              "      background-color: #3B4455;\n",
              "      fill: #D2E3FC;\n",
              "    }\n",
              "\n",
              "    [theme=dark] .colab-df-convert:hover {\n",
              "      background-color: #434B5C;\n",
              "      box-shadow: 0px 1px 3px 1px rgba(0, 0, 0, 0.15);\n",
              "      filter: drop-shadow(0px 1px 2px rgba(0, 0, 0, 0.3));\n",
              "      fill: #FFFFFF;\n",
              "    }\n",
              "  </style>\n",
              "\n",
              "      <script>\n",
              "        const buttonEl =\n",
              "          document.querySelector('#df-35b47981-f0ba-4ad2-a804-11a6c6dd53a1 button.colab-df-convert');\n",
              "        buttonEl.style.display =\n",
              "          google.colab.kernel.accessAllowed ? 'block' : 'none';\n",
              "\n",
              "        async function convertToInteractive(key) {\n",
              "          const element = document.querySelector('#df-35b47981-f0ba-4ad2-a804-11a6c6dd53a1');\n",
              "          const dataTable =\n",
              "            await google.colab.kernel.invokeFunction('convertToInteractive',\n",
              "                                                     [key], {});\n",
              "          if (!dataTable) return;\n",
              "\n",
              "          const docLinkHtml = 'Like what you see? Visit the ' +\n",
              "            '<a target=\"_blank\" href=https://colab.research.google.com/notebooks/data_table.ipynb>data table notebook</a>'\n",
              "            + ' to learn more about interactive tables.';\n",
              "          element.innerHTML = '';\n",
              "          dataTable['output_type'] = 'display_data';\n",
              "          await google.colab.output.renderOutput(dataTable, element);\n",
              "          const docLink = document.createElement('div');\n",
              "          docLink.innerHTML = docLinkHtml;\n",
              "          element.appendChild(docLink);\n",
              "        }\n",
              "      </script>\n",
              "    </div>\n",
              "  </div>\n"
            ]
          },
          "metadata": {},
          "execution_count": 7
        }
      ]
    },
    {
      "cell_type": "code",
      "source": [
        "Df.describe()"
      ],
      "metadata": {
        "colab": {
          "base_uri": "https://localhost:8080/",
          "height": 364
        },
        "id": "qLVr4warVsXK",
        "outputId": "c812b3b6-2901-41ef-bea7-41ff9fbc570a"
      },
      "execution_count": null,
      "outputs": [
        {
          "output_type": "execute_result",
          "data": {
            "text/plain": [
              "                ID   Headcirc     Length  Birthweight  Gestation       mage  \\\n",
              "count    42.000000  42.000000  42.000000    42.000000  42.000000  42.000000   \n",
              "mean    894.071429  34.595238  51.333333     3.312857  39.190476  25.547619   \n",
              "std     467.616186   2.399792   2.935624     0.603895   2.643336   5.666342   \n",
              "min      27.000000  30.000000  43.000000     1.920000  33.000000  18.000000   \n",
              "25%     537.250000  33.000000  50.000000     2.940000  38.000000  20.250000   \n",
              "50%     821.000000  34.000000  52.000000     3.295000  39.500000  24.000000   \n",
              "75%    1269.500000  36.000000  53.000000     3.647500  41.000000  29.000000   \n",
              "max    1764.000000  39.000000  58.000000     4.570000  45.000000  41.000000   \n",
              "\n",
              "          smoker     mheight      mppwt       fage     fedyrs     fnocig  \\\n",
              "count  42.000000   42.000000  42.000000  42.000000  42.000000  42.000000   \n",
              "mean    0.523810  164.452381  57.500000  28.904762  13.666667  17.190476   \n",
              "std     0.505487    6.504041   7.198408   6.863866   2.160247  17.308165   \n",
              "min     0.000000  149.000000  45.000000  19.000000  10.000000   0.000000   \n",
              "25%     0.000000  161.000000  52.250000  23.000000  12.000000   0.000000   \n",
              "50%     1.000000  164.500000  57.000000  29.500000  14.000000  18.500000   \n",
              "75%     1.000000  169.500000  62.000000  32.000000  16.000000  25.000000   \n",
              "max     1.000000  181.000000  78.000000  46.000000  16.000000  50.000000   \n",
              "\n",
              "          fheight     lowbwt     mage35     mnocig  \n",
              "count   42.000000  42.000000  42.000000  42.000000  \n",
              "mean   180.500000   0.142857   0.095238   9.428571  \n",
              "std      6.978189   0.354169   0.297102  12.511737  \n",
              "min    169.000000   0.000000   0.000000   0.000000  \n",
              "25%    175.250000   0.000000   0.000000   0.000000  \n",
              "50%    180.500000   0.000000   0.000000   4.500000  \n",
              "75%    184.750000   0.000000   0.000000  15.750000  \n",
              "max    200.000000   1.000000   1.000000  50.000000  "
            ],
            "text/html": [
              "\n",
              "\n",
              "  <div id=\"df-8b3272a0-2d4e-4bc8-998d-588be27f96ec\">\n",
              "    <div class=\"colab-df-container\">\n",
              "      <div>\n",
              "<style scoped>\n",
              "    .dataframe tbody tr th:only-of-type {\n",
              "        vertical-align: middle;\n",
              "    }\n",
              "\n",
              "    .dataframe tbody tr th {\n",
              "        vertical-align: top;\n",
              "    }\n",
              "\n",
              "    .dataframe thead th {\n",
              "        text-align: right;\n",
              "    }\n",
              "</style>\n",
              "<table border=\"1\" class=\"dataframe\">\n",
              "  <thead>\n",
              "    <tr style=\"text-align: right;\">\n",
              "      <th></th>\n",
              "      <th>ID</th>\n",
              "      <th>Headcirc</th>\n",
              "      <th>Length</th>\n",
              "      <th>Birthweight</th>\n",
              "      <th>Gestation</th>\n",
              "      <th>mage</th>\n",
              "      <th>smoker</th>\n",
              "      <th>mheight</th>\n",
              "      <th>mppwt</th>\n",
              "      <th>fage</th>\n",
              "      <th>fedyrs</th>\n",
              "      <th>fnocig</th>\n",
              "      <th>fheight</th>\n",
              "      <th>lowbwt</th>\n",
              "      <th>mage35</th>\n",
              "      <th>mnocig</th>\n",
              "    </tr>\n",
              "  </thead>\n",
              "  <tbody>\n",
              "    <tr>\n",
              "      <th>count</th>\n",
              "      <td>42.000000</td>\n",
              "      <td>42.000000</td>\n",
              "      <td>42.000000</td>\n",
              "      <td>42.000000</td>\n",
              "      <td>42.000000</td>\n",
              "      <td>42.000000</td>\n",
              "      <td>42.000000</td>\n",
              "      <td>42.000000</td>\n",
              "      <td>42.000000</td>\n",
              "      <td>42.000000</td>\n",
              "      <td>42.000000</td>\n",
              "      <td>42.000000</td>\n",
              "      <td>42.000000</td>\n",
              "      <td>42.000000</td>\n",
              "      <td>42.000000</td>\n",
              "      <td>42.000000</td>\n",
              "    </tr>\n",
              "    <tr>\n",
              "      <th>mean</th>\n",
              "      <td>894.071429</td>\n",
              "      <td>34.595238</td>\n",
              "      <td>51.333333</td>\n",
              "      <td>3.312857</td>\n",
              "      <td>39.190476</td>\n",
              "      <td>25.547619</td>\n",
              "      <td>0.523810</td>\n",
              "      <td>164.452381</td>\n",
              "      <td>57.500000</td>\n",
              "      <td>28.904762</td>\n",
              "      <td>13.666667</td>\n",
              "      <td>17.190476</td>\n",
              "      <td>180.500000</td>\n",
              "      <td>0.142857</td>\n",
              "      <td>0.095238</td>\n",
              "      <td>9.428571</td>\n",
              "    </tr>\n",
              "    <tr>\n",
              "      <th>std</th>\n",
              "      <td>467.616186</td>\n",
              "      <td>2.399792</td>\n",
              "      <td>2.935624</td>\n",
              "      <td>0.603895</td>\n",
              "      <td>2.643336</td>\n",
              "      <td>5.666342</td>\n",
              "      <td>0.505487</td>\n",
              "      <td>6.504041</td>\n",
              "      <td>7.198408</td>\n",
              "      <td>6.863866</td>\n",
              "      <td>2.160247</td>\n",
              "      <td>17.308165</td>\n",
              "      <td>6.978189</td>\n",
              "      <td>0.354169</td>\n",
              "      <td>0.297102</td>\n",
              "      <td>12.511737</td>\n",
              "    </tr>\n",
              "    <tr>\n",
              "      <th>min</th>\n",
              "      <td>27.000000</td>\n",
              "      <td>30.000000</td>\n",
              "      <td>43.000000</td>\n",
              "      <td>1.920000</td>\n",
              "      <td>33.000000</td>\n",
              "      <td>18.000000</td>\n",
              "      <td>0.000000</td>\n",
              "      <td>149.000000</td>\n",
              "      <td>45.000000</td>\n",
              "      <td>19.000000</td>\n",
              "      <td>10.000000</td>\n",
              "      <td>0.000000</td>\n",
              "      <td>169.000000</td>\n",
              "      <td>0.000000</td>\n",
              "      <td>0.000000</td>\n",
              "      <td>0.000000</td>\n",
              "    </tr>\n",
              "    <tr>\n",
              "      <th>25%</th>\n",
              "      <td>537.250000</td>\n",
              "      <td>33.000000</td>\n",
              "      <td>50.000000</td>\n",
              "      <td>2.940000</td>\n",
              "      <td>38.000000</td>\n",
              "      <td>20.250000</td>\n",
              "      <td>0.000000</td>\n",
              "      <td>161.000000</td>\n",
              "      <td>52.250000</td>\n",
              "      <td>23.000000</td>\n",
              "      <td>12.000000</td>\n",
              "      <td>0.000000</td>\n",
              "      <td>175.250000</td>\n",
              "      <td>0.000000</td>\n",
              "      <td>0.000000</td>\n",
              "      <td>0.000000</td>\n",
              "    </tr>\n",
              "    <tr>\n",
              "      <th>50%</th>\n",
              "      <td>821.000000</td>\n",
              "      <td>34.000000</td>\n",
              "      <td>52.000000</td>\n",
              "      <td>3.295000</td>\n",
              "      <td>39.500000</td>\n",
              "      <td>24.000000</td>\n",
              "      <td>1.000000</td>\n",
              "      <td>164.500000</td>\n",
              "      <td>57.000000</td>\n",
              "      <td>29.500000</td>\n",
              "      <td>14.000000</td>\n",
              "      <td>18.500000</td>\n",
              "      <td>180.500000</td>\n",
              "      <td>0.000000</td>\n",
              "      <td>0.000000</td>\n",
              "      <td>4.500000</td>\n",
              "    </tr>\n",
              "    <tr>\n",
              "      <th>75%</th>\n",
              "      <td>1269.500000</td>\n",
              "      <td>36.000000</td>\n",
              "      <td>53.000000</td>\n",
              "      <td>3.647500</td>\n",
              "      <td>41.000000</td>\n",
              "      <td>29.000000</td>\n",
              "      <td>1.000000</td>\n",
              "      <td>169.500000</td>\n",
              "      <td>62.000000</td>\n",
              "      <td>32.000000</td>\n",
              "      <td>16.000000</td>\n",
              "      <td>25.000000</td>\n",
              "      <td>184.750000</td>\n",
              "      <td>0.000000</td>\n",
              "      <td>0.000000</td>\n",
              "      <td>15.750000</td>\n",
              "    </tr>\n",
              "    <tr>\n",
              "      <th>max</th>\n",
              "      <td>1764.000000</td>\n",
              "      <td>39.000000</td>\n",
              "      <td>58.000000</td>\n",
              "      <td>4.570000</td>\n",
              "      <td>45.000000</td>\n",
              "      <td>41.000000</td>\n",
              "      <td>1.000000</td>\n",
              "      <td>181.000000</td>\n",
              "      <td>78.000000</td>\n",
              "      <td>46.000000</td>\n",
              "      <td>16.000000</td>\n",
              "      <td>50.000000</td>\n",
              "      <td>200.000000</td>\n",
              "      <td>1.000000</td>\n",
              "      <td>1.000000</td>\n",
              "      <td>50.000000</td>\n",
              "    </tr>\n",
              "  </tbody>\n",
              "</table>\n",
              "</div>\n",
              "      <button class=\"colab-df-convert\" onclick=\"convertToInteractive('df-8b3272a0-2d4e-4bc8-998d-588be27f96ec')\"\n",
              "              title=\"Convert this dataframe to an interactive table.\"\n",
              "              style=\"display:none;\">\n",
              "\n",
              "  <svg xmlns=\"http://www.w3.org/2000/svg\" height=\"24px\"viewBox=\"0 0 24 24\"\n",
              "       width=\"24px\">\n",
              "    <path d=\"M0 0h24v24H0V0z\" fill=\"none\"/>\n",
              "    <path d=\"M18.56 5.44l.94 2.06.94-2.06 2.06-.94-2.06-.94-.94-2.06-.94 2.06-2.06.94zm-11 1L8.5 8.5l.94-2.06 2.06-.94-2.06-.94L8.5 2.5l-.94 2.06-2.06.94zm10 10l.94 2.06.94-2.06 2.06-.94-2.06-.94-.94-2.06-.94 2.06-2.06.94z\"/><path d=\"M17.41 7.96l-1.37-1.37c-.4-.4-.92-.59-1.43-.59-.52 0-1.04.2-1.43.59L10.3 9.45l-7.72 7.72c-.78.78-.78 2.05 0 2.83L4 21.41c.39.39.9.59 1.41.59.51 0 1.02-.2 1.41-.59l7.78-7.78 2.81-2.81c.8-.78.8-2.07 0-2.86zM5.41 20L4 18.59l7.72-7.72 1.47 1.35L5.41 20z\"/>\n",
              "  </svg>\n",
              "      </button>\n",
              "\n",
              "\n",
              "\n",
              "    <div id=\"df-6f7c7b20-f6ed-40ad-b98e-0eb7fc003e27\">\n",
              "      <button class=\"colab-df-quickchart\" onclick=\"quickchart('df-6f7c7b20-f6ed-40ad-b98e-0eb7fc003e27')\"\n",
              "              title=\"Suggest charts.\"\n",
              "              style=\"display:none;\">\n",
              "\n",
              "<svg xmlns=\"http://www.w3.org/2000/svg\" height=\"24px\"viewBox=\"0 0 24 24\"\n",
              "     width=\"24px\">\n",
              "    <g>\n",
              "        <path d=\"M19 3H5c-1.1 0-2 .9-2 2v14c0 1.1.9 2 2 2h14c1.1 0 2-.9 2-2V5c0-1.1-.9-2-2-2zM9 17H7v-7h2v7zm4 0h-2V7h2v10zm4 0h-2v-4h2v4z\"/>\n",
              "    </g>\n",
              "</svg>\n",
              "      </button>\n",
              "    </div>\n",
              "\n",
              "<style>\n",
              "  .colab-df-quickchart {\n",
              "    background-color: #E8F0FE;\n",
              "    border: none;\n",
              "    border-radius: 50%;\n",
              "    cursor: pointer;\n",
              "    display: none;\n",
              "    fill: #1967D2;\n",
              "    height: 32px;\n",
              "    padding: 0 0 0 0;\n",
              "    width: 32px;\n",
              "  }\n",
              "\n",
              "  .colab-df-quickchart:hover {\n",
              "    background-color: #E2EBFA;\n",
              "    box-shadow: 0px 1px 2px rgba(60, 64, 67, 0.3), 0px 1px 3px 1px rgba(60, 64, 67, 0.15);\n",
              "    fill: #174EA6;\n",
              "  }\n",
              "\n",
              "  [theme=dark] .colab-df-quickchart {\n",
              "    background-color: #3B4455;\n",
              "    fill: #D2E3FC;\n",
              "  }\n",
              "\n",
              "  [theme=dark] .colab-df-quickchart:hover {\n",
              "    background-color: #434B5C;\n",
              "    box-shadow: 0px 1px 3px 1px rgba(0, 0, 0, 0.15);\n",
              "    filter: drop-shadow(0px 1px 2px rgba(0, 0, 0, 0.3));\n",
              "    fill: #FFFFFF;\n",
              "  }\n",
              "</style>\n",
              "\n",
              "    <script>\n",
              "      async function quickchart(key) {\n",
              "        const containerElement = document.querySelector('#' + key);\n",
              "        const charts = await google.colab.kernel.invokeFunction(\n",
              "            'suggestCharts', [key], {});\n",
              "      }\n",
              "    </script>\n",
              "\n",
              "      <script>\n",
              "\n",
              "function displayQuickchartButton(domScope) {\n",
              "  let quickchartButtonEl =\n",
              "    domScope.querySelector('#df-6f7c7b20-f6ed-40ad-b98e-0eb7fc003e27 button.colab-df-quickchart');\n",
              "  quickchartButtonEl.style.display =\n",
              "    google.colab.kernel.accessAllowed ? 'block' : 'none';\n",
              "}\n",
              "\n",
              "        displayQuickchartButton(document);\n",
              "      </script>\n",
              "      <style>\n",
              "    .colab-df-container {\n",
              "      display:flex;\n",
              "      flex-wrap:wrap;\n",
              "      gap: 12px;\n",
              "    }\n",
              "\n",
              "    .colab-df-convert {\n",
              "      background-color: #E8F0FE;\n",
              "      border: none;\n",
              "      border-radius: 50%;\n",
              "      cursor: pointer;\n",
              "      display: none;\n",
              "      fill: #1967D2;\n",
              "      height: 32px;\n",
              "      padding: 0 0 0 0;\n",
              "      width: 32px;\n",
              "    }\n",
              "\n",
              "    .colab-df-convert:hover {\n",
              "      background-color: #E2EBFA;\n",
              "      box-shadow: 0px 1px 2px rgba(60, 64, 67, 0.3), 0px 1px 3px 1px rgba(60, 64, 67, 0.15);\n",
              "      fill: #174EA6;\n",
              "    }\n",
              "\n",
              "    [theme=dark] .colab-df-convert {\n",
              "      background-color: #3B4455;\n",
              "      fill: #D2E3FC;\n",
              "    }\n",
              "\n",
              "    [theme=dark] .colab-df-convert:hover {\n",
              "      background-color: #434B5C;\n",
              "      box-shadow: 0px 1px 3px 1px rgba(0, 0, 0, 0.15);\n",
              "      filter: drop-shadow(0px 1px 2px rgba(0, 0, 0, 0.3));\n",
              "      fill: #FFFFFF;\n",
              "    }\n",
              "  </style>\n",
              "\n",
              "      <script>\n",
              "        const buttonEl =\n",
              "          document.querySelector('#df-8b3272a0-2d4e-4bc8-998d-588be27f96ec button.colab-df-convert');\n",
              "        buttonEl.style.display =\n",
              "          google.colab.kernel.accessAllowed ? 'block' : 'none';\n",
              "\n",
              "        async function convertToInteractive(key) {\n",
              "          const element = document.querySelector('#df-8b3272a0-2d4e-4bc8-998d-588be27f96ec');\n",
              "          const dataTable =\n",
              "            await google.colab.kernel.invokeFunction('convertToInteractive',\n",
              "                                                     [key], {});\n",
              "          if (!dataTable) return;\n",
              "\n",
              "          const docLinkHtml = 'Like what you see? Visit the ' +\n",
              "            '<a target=\"_blank\" href=https://colab.research.google.com/notebooks/data_table.ipynb>data table notebook</a>'\n",
              "            + ' to learn more about interactive tables.';\n",
              "          element.innerHTML = '';\n",
              "          dataTable['output_type'] = 'display_data';\n",
              "          await google.colab.output.renderOutput(dataTable, element);\n",
              "          const docLink = document.createElement('div');\n",
              "          docLink.innerHTML = docLinkHtml;\n",
              "          element.appendChild(docLink);\n",
              "        }\n",
              "      </script>\n",
              "    </div>\n",
              "  </div>\n"
            ]
          },
          "metadata": {},
          "execution_count": 10
        }
      ]
    },
    {
      "cell_type": "markdown",
      "source": [
        "`Q1. What is the mean father’s age?`"
      ],
      "metadata": {
        "id": "EBn3zjcTUNZ3"
      }
    },
    {
      "cell_type": "code",
      "source": [
        "Df.fage.mean()"
      ],
      "metadata": {
        "colab": {
          "base_uri": "https://localhost:8080/"
        },
        "id": "2TpdPpZ8Uox5",
        "outputId": "cb4ce80f-5c0a-4a5e-85a4-b74b2ac53e60"
      },
      "execution_count": null,
      "outputs": [
        {
          "output_type": "execute_result",
          "data": {
            "text/plain": [
              "28.904761904761905"
            ]
          },
          "metadata": {},
          "execution_count": 8
        }
      ]
    },
    {
      "cell_type": "markdown",
      "source": [
        "`Q2. What is the mean father’s age for low birthweight babies?`"
      ],
      "metadata": {
        "id": "_WKXXnNpU2Bf"
      }
    },
    {
      "cell_type": "code",
      "source": [
        "Df[Df['lowbwt'] == 1.0]['fage'].mean()"
      ],
      "metadata": {
        "colab": {
          "base_uri": "https://localhost:8080/"
        },
        "id": "7zNUgbZLVCqo",
        "outputId": "fab44e70-8aa2-4da0-fc46-ded36f87710a"
      },
      "execution_count": null,
      "outputs": [
        {
          "output_type": "execute_result",
          "data": {
            "text/plain": [
              "24.833333333333332"
            ]
          },
          "metadata": {},
          "execution_count": 13
        }
      ]
    },
    {
      "cell_type": "markdown",
      "source": [
        "`Q3. Is the father's age normally distributed? Justify your answer.`"
      ],
      "metadata": {
        "id": "jJFVl5RdV6_I"
      }
    },
    {
      "cell_type": "code",
      "source": [
        "fage = Df.fage\n",
        "fage.plot.hist(bins=5, title=\"Distribution of father's age\")"
      ],
      "metadata": {
        "colab": {
          "base_uri": "https://localhost:8080/",
          "height": 469
        },
        "id": "DDX2Ac_iWvsb",
        "outputId": "18261532-553b-4078-dfcc-b7054770f381"
      },
      "execution_count": null,
      "outputs": [
        {
          "output_type": "execute_result",
          "data": {
            "text/plain": [
              "<Axes: title={'center': \"Distribution of father's age\"}, ylabel='Frequency'>"
            ]
          },
          "metadata": {},
          "execution_count": 15
        },
        {
          "output_type": "display_data",
          "data": {
            "text/plain": [
              "<Figure size 640x480 with 1 Axes>"
            ],
            "image/png": "[encoded data removed]"
          },
          "metadata": {}
        }
      ]
    },
    {
      "cell_type": "code",
      "source": [
        "#Using QQ-plot\n",
        "sm.qqplot(fage, line='s')\n",
        "plt.title(\"QQ plot to test for normality\")"
      ],
      "metadata": {
        "colab": {
          "base_uri": "https://localhost:8080/",
          "height": 489
        },
        "id": "gUn5EfM9Xi2g",
        "outputId": "edfce675-1e70-4bea-eb27-23f27a2b53ea"
      },
      "execution_count": null,
      "outputs": [
        {
          "output_type": "execute_result",
          "data": {
            "text/plain": [
              "Text(0.5, 1.0, 'QQ plot to test for normality')"
            ]
          },
          "metadata": {},
          "execution_count": 16
        },
        {
          "output_type": "display_data",
          "data": {
            "text/plain": [
              "<Figure size 640x480 with 1 Axes>"
            ],
            "image/png": "[encoded data removed]"
          },
          "metadata": {}
        }
      ]
    },
    {
      "cell_type": "code",
      "source": [
        "#Shapiro-Wilk test for normality\n",
        "shapiro_statistic, p_value = shapiro(fage)\n",
        "alpha = 0.05\n",
        "if p_value > alpha:\n",
        "  print(\"The shapiro p-value,\", p_value, \"is greater than the alpha,\", alpha)\n",
        "  print(\"This implies that the data is normally distributed\")\n",
        "else:\n",
        "  print(\"The shapiro p-value,\", p_value, \"is less than the alpha,\", alpha)\n",
        "  print(\"This implies that the data is not normally distributed\")"
      ],
      "metadata": {
        "colab": {
          "base_uri": "https://localhost:8080/"
        },
        "id": "gn3I78QNXtQq",
        "outputId": "2434e1ec-7f5a-4718-8e04-383ebafb2d2b"
      },
      "execution_count": null,
      "outputs": [
        {
          "output_type": "stream",
          "name": "stdout",
          "text": [
            "The shapiro p-value, 0.038500070571899414 is less than the alpha, 0.05\n",
            "This implies that the data is not normally distributed\n"
          ]
        }
      ]
    },
    {
      "cell_type": "code",
      "source": [],
      "metadata": {
        "id": "xlkwlD9SMcuW"
      },
      "execution_count": null,
      "outputs": []
    },
    {
      "cell_type": "markdown",
      "source": [
        "`Answer:` All results from the histogram, the QQ-plot and Shapiro-Wilk test imply that the father's age is not normally distributed"
      ],
      "metadata": {
        "id": "C53mc9aPX4Je"
      }
    },
    {
      "cell_type": "markdown",
      "source": [
        "`Q4. If you apply the log transformation to the father's age, what is the mean score of the transformed variable?`"
      ],
      "metadata": {
        "id": "_9s6HcL9YLaW"
      }
    },
    {
      "cell_type": "code",
      "source": [
        "Df['fage_log'] = np.log(fage)\n",
        "Df['fage_log'].mean()"
      ],
      "metadata": {
        "colab": {
          "base_uri": "https://localhost:8080/"
        },
        "id": "i3nlCQuEZzbi",
        "outputId": "263da084-dc6d-4105-be2b-30752a3683f6"
      },
      "execution_count": null,
      "outputs": [
        {
          "output_type": "execute_result",
          "data": {
            "text/plain": [
              "3.3370421189026085"
            ]
          },
          "metadata": {},
          "execution_count": 24
        }
      ]
    },
    {
      "cell_type": "markdown",
      "source": [
        "`Q5. Is the above mean score a good representation of the real value? Justify your answer.`"
      ],
      "metadata": {
        "id": "OBhjQmipZ4bE"
      }
    },
    {
      "cell_type": "code",
      "source": [
        "Df['fage_log'].plot.hist()"
      ],
      "metadata": {
        "colab": {
          "base_uri": "https://localhost:8080/",
          "height": 447
        },
        "id": "K_ThWkGHaegf",
        "outputId": "75339806-a216-4820-cd64-43f0a2bb42e2"
      },
      "execution_count": null,
      "outputs": [
        {
          "output_type": "execute_result",
          "data": {
            "text/plain": [
              "<Axes: ylabel='Frequency'>"
            ]
          },
          "metadata": {},
          "execution_count": 25
        },
        {
          "output_type": "display_data",
          "data": {
            "text/plain": [
              "<Figure size 640x480 with 1 Axes>"
            ],
            "image/png": "[encoded data removed]"
          },
          "metadata": {}
        }
      ]
    },
    {
      "cell_type": "code",
      "source": [
        "np.exp(Df['fage_log'].mean())"
      ],
      "metadata": {
        "colab": {
          "base_uri": "https://localhost:8080/"
        },
        "id": "r47E4WTsamyl",
        "outputId": "ff4904ec-697e-4183-ea0c-74327b887c1d"
      },
      "execution_count": null,
      "outputs": [
        {
          "output_type": "execute_result",
          "data": {
            "text/plain": [
              "28.13578120774406"
            ]
          },
          "metadata": {},
          "execution_count": 28
        }
      ]
    },
    {
      "cell_type": "markdown",
      "source": [
        "`Answer:` Yes approximately, it is a good representation of the mean score."
      ],
      "metadata": {
        "id": "7DO34_0kcXRe"
      }
    },
    {
      "cell_type": "markdown",
      "source": [
        "`Q6. Is the new variable (log transform of father’s age) normally distributed? Justify your answer.`"
      ],
      "metadata": {
        "id": "uq9g8bVkhQU7"
      }
    },
    {
      "cell_type": "code",
      "source": [
        "fage_log = Df['fage_log']\n",
        "fage_log.plot.hist(bins=5, title=\"Distribution of father's age\")"
      ],
      "metadata": {
        "colab": {
          "base_uri": "https://localhost:8080/",
          "height": 469
        },
        "id": "3q34mnz1hdHa",
        "outputId": "967c4de5-dc6c-44e6-aa72-3af1538e2002"
      },
      "execution_count": null,
      "outputs": [
        {
          "output_type": "execute_result",
          "data": {
            "text/plain": [
              "<Axes: title={'center': \"Distribution of father's age\"}, ylabel='Frequency'>"
            ]
          },
          "metadata": {},
          "execution_count": 30
        },
        {
          "output_type": "display_data",
          "data": {
            "text/plain": [
              "<Figure size 640x480 with 1 Axes>"
            ],
            "image/png": "[encoded data removed]"
          },
          "metadata": {}
        }
      ]
    },
    {
      "cell_type": "code",
      "source": [
        "#Using QQ-plot\n",
        "sm.qqplot(fage_log, line='s')\n",
        "plt.title(\"QQ plot to test for normality\")"
      ],
      "metadata": {
        "colab": {
          "base_uri": "https://localhost:8080/",
          "height": 489
        },
        "id": "qMw51rMRht4I",
        "outputId": "2266d0f8-5466-4735-eafb-34d84e943cbf"
      },
      "execution_count": null,
      "outputs": [
        {
          "output_type": "execute_result",
          "data": {
            "text/plain": [
              "Text(0.5, 1.0, 'QQ plot to test for normality')"
            ]
          },
          "metadata": {},
          "execution_count": 31
        },
        {
          "output_type": "display_data",
          "data": {
            "text/plain": [
              "<Figure size 640x480 with 1 Axes>"
            ],
            "image/png": "[encoded data removed]"
          },
          "metadata": {}
        }
      ]
    },
    {
      "cell_type": "code",
      "source": [
        "#Shapiro-Wilk test for normality\n",
        "shapiro_statistic, p_value = shapiro(fage_log)\n",
        "alpha = 0.05\n",
        "if p_value > alpha:\n",
        "  print(\"The shapiro p-value,\", p_value, \"is greater than the alpha,\", alpha)\n",
        "  print(\"This implies that the data is normally distributed\")\n",
        "else:\n",
        "  print(\"The shapiro p-value,\", p_value, \"is less than the alpha,\", alpha)\n",
        "  print(\"This implies that the data is not normally distributed\")"
      ],
      "metadata": {
        "id": "7gtEDF_giFGJ",
        "colab": {
          "base_uri": "https://localhost:8080/"
        },
        "outputId": "2cfaa723-fa54-4bb6-de24-e2a378d7ec22"
      },
      "execution_count": null,
      "outputs": [
        {
          "output_type": "stream",
          "name": "stdout",
          "text": [
            "The shapiro p-value, 0.12867869436740875 is greater than the alpha, 0.05\n",
            "This implies that the data is normally distributed\n"
          ]
        }
      ]
    },
    {
      "cell_type": "markdown",
      "source": [
        "`Answer` The data is normally distributed according the different tests used, although the diagram is a bit asymmetric"
      ],
      "metadata": {
        "id": "x0dljAXbiMz0"
      }
    },
    {
      "cell_type": "markdown",
      "source": [
        "`Q7. Is the variable “years father was in education” normally distributed? `"
      ],
      "metadata": {
        "id": "YVWXlZFEjfrE"
      }
    },
    {
      "cell_type": "code",
      "source": [
        "fed = Df.fedyrs\n",
        "fed.plot.hist(bins=5, title=\"Years of fathers' education\")"
      ],
      "metadata": {
        "colab": {
          "base_uri": "https://localhost:8080/",
          "height": 469
        },
        "id": "zgTgjoxrjmJQ",
        "outputId": "5907f0a7-e37d-4294-f176-1e7b792cdb71"
      },
      "execution_count": null,
      "outputs": [
        {
          "output_type": "execute_result",
          "data": {
            "text/plain": [
              "<Axes: title={'center': \"Years of fathers' education\"}, ylabel='Frequency'>"
            ]
          },
          "metadata": {},
          "execution_count": 38
        },
        {
          "output_type": "display_data",
          "data": {
            "text/plain": [
              "<Figure size 640x480 with 1 Axes>"
            ],
            "image/png": "[encoded data removed]"
          },
          "metadata": {}
        }
      ]
    },
    {
      "cell_type": "code",
      "source": [
        "#Using QQ-plot\n",
        "sm.qqplot(fed, line='s')\n",
        "plt.title(\"QQ plot to test for normality\")"
      ],
      "metadata": {
        "colab": {
          "base_uri": "https://localhost:8080/",
          "height": 489
        },
        "id": "1KVx3NSAkaIW",
        "outputId": "d66d2e4e-09c7-4883-e81d-f8841d90ea46"
      },
      "execution_count": null,
      "outputs": [
        {
          "output_type": "execute_result",
          "data": {
            "text/plain": [
              "Text(0.5, 1.0, 'QQ plot to test for normality')"
            ]
          },
          "metadata": {},
          "execution_count": 39
        },
        {
          "output_type": "display_data",
          "data": {
            "text/plain": [
              "<Figure size 640x480 with 1 Axes>"
            ],
            "image/png": "[encoded data removed]"
          },
          "metadata": {}
        }
      ]
    },
    {
      "cell_type": "code",
      "source": [
        "#Shapiro-Wilk test for normality\n",
        "shapiro_statistic, p_value = shapiro(fed)\n",
        "alpha = 0.05\n",
        "if p_value > alpha:\n",
        "  print(\"The shapiro p-value,\", p_value, \"is greater than the alpha,\", alpha)\n",
        "  print(\"This implies that the data is normally distributed\")\n",
        "else:\n",
        "  print(\"The shapiro p-value,\", p_value, \"is less than the alpha,\", alpha)\n",
        "  print(\"This implies that the data is not normally distributed\")"
      ],
      "metadata": {
        "colab": {
          "base_uri": "https://localhost:8080/"
        },
        "id": "5--ihUkuk03M",
        "outputId": "bbdbe230-1d69-4aa5-d3da-f5033ce48036"
      },
      "execution_count": null,
      "outputs": [
        {
          "output_type": "stream",
          "name": "stdout",
          "text": [
            "The shapiro p-value, 4.4836884626420215e-05 is less than the alpha, 0.05\n",
            "This implies that the data is not normally distributed\n"
          ]
        }
      ]
    },
    {
      "cell_type": "markdown",
      "source": [
        "`Answer` All three tests show that the data is not normally distributed. The shapiro value is 4.5 and there are gaps in the QQ-plot and histogram."
      ],
      "metadata": {
        "id": "l60Ewzbmk_7A"
      }
    },
    {
      "cell_type": "markdown",
      "source": [
        "`Q8. Mentioning the null and alternative hypotheses, explain the above answer. `"
      ],
      "metadata": {
        "id": "VGVNVU0QlZMV"
      }
    },
    {
      "cell_type": "markdown",
      "source": [
        "All three tests show that the data is not normally distributed. The shapiro value is 4.5 and there are gaps in the QQ-plot and histogram, which is far above the usual 0.05 value for vindicating the null hyother. And so we reject the null hypothesis, H0 which assumes that the data is a normal distribution, and we accept the alternative hypothesis, H1."
      ],
      "metadata": {
        "id": "vWrZffjwlpnE"
      }
    },
    {
      "cell_type": "markdown",
      "source": [
        "`Q9. What is the mean score for the variable “years father was in education” after you apply the Box-Cox transformation?`"
      ],
      "metadata": {
        "id": "rTXUiFPYm43T"
      }
    },
    {
      "cell_type": "code",
      "source": [
        "transformed_education, lambda_value = boxcox(fed)\n",
        "Df['bctrans'] = transformed_education\n",
        "Df['bctrans'].mean()"
      ],
      "metadata": {
        "colab": {
          "base_uri": "https://localhost:8080/"
        },
        "id": "ZeowC8INnGdL",
        "outputId": "af3591e7-0a6b-477c-aaa2-a4198b8f8e08"
      },
      "execution_count": null,
      "outputs": [
        {
          "output_type": "execute_result",
          "data": {
            "text/plain": [
              "157.96716280846272"
            ]
          },
          "metadata": {},
          "execution_count": 44
        }
      ]
    },
    {
      "cell_type": "markdown",
      "source": [
        "`Q10. Is this new variable normally distributed? Explain.`"
      ],
      "metadata": {
        "id": "bd1DeIO2oIaW"
      }
    },
    {
      "cell_type": "code",
      "source": [
        "bctrans = Df['bctrans']\n",
        "bctrans.plot.hist(bins=5, title=\"Years of fathers' education transformed by boxcox\")"
      ],
      "metadata": {
        "colab": {
          "base_uri": "https://localhost:8080/",
          "height": 469
        },
        "id": "rzPrUd-QpZFq",
        "outputId": "831ce0a7-3092-43b2-805d-0d06a26ce964"
      },
      "execution_count": null,
      "outputs": [
        {
          "output_type": "execute_result",
          "data": {
            "text/plain": [
              "<Axes: title={'center': \"Years of fathers' education transformed by boxcox\"}, ylabel='Frequency'>"
            ]
          },
          "metadata": {},
          "execution_count": 47
        },
        {
          "output_type": "display_data",
          "data": {
            "text/plain": [
              "<Figure size 640x480 with 1 Axes>"
            ],
            "image/png": "[encoded data removed]"
          },
          "metadata": {}
        }
      ]
    },
    {
      "cell_type": "code",
      "source": [
        "#Using QQ-plot\n",
        "sm.qqplot(bctrans, line='s')\n",
        "plt.title(\"QQ plot to test for normality\")"
      ],
      "metadata": {
        "colab": {
          "base_uri": "https://localhost:8080/",
          "height": 489
        },
        "id": "uFHIDJuapwRW",
        "outputId": "bd3c4be2-07a7-407e-8187-e9623a5ea9d5"
      },
      "execution_count": null,
      "outputs": [
        {
          "output_type": "execute_result",
          "data": {
            "text/plain": [
              "Text(0.5, 1.0, 'QQ plot to test for normality')"
            ]
          },
          "metadata": {},
          "execution_count": 48
        },
        {
          "output_type": "display_data",
          "data": {
            "text/plain": [
              "<Figure size 640x480 with 1 Axes>"
            ],
            "image/png": "[encoded data removed]"
          },
          "metadata": {}
        }
      ]
    },
    {
      "cell_type": "code",
      "source": [
        "#Shapiro-Wilk test for normality\n",
        "shapiro_statistic, p_value = shapiro(bctrans)\n",
        "alpha = 0.05\n",
        "if p_value > alpha:\n",
        "  print(\"The shapiro p-value,\", p_value, \"is greater than the alpha,\", alpha)\n",
        "  print(\"This implies that the data is normally distributed\")\n",
        "else:\n",
        "  print(\"The shapiro p-value,\", p_value, \"is less than the alpha,\", alpha)\n",
        "  print(\"This implies that the data is not normally distributed\")"
      ],
      "metadata": {
        "colab": {
          "base_uri": "https://localhost:8080/"
        },
        "id": "iouyIjbOq5Wp",
        "outputId": "6663e608-ec25-4265-db73-cbe96c6df34f"
      },
      "execution_count": null,
      "outputs": [
        {
          "output_type": "stream",
          "name": "stdout",
          "text": [
            "The shapiro p-value, 4.1828556277323514e-05 is less than the alpha, 0.05\n",
            "This implies that the data is not normally distributed\n"
          ]
        }
      ]
    },
    {
      "cell_type": "markdown",
      "source": [
        "`Answer` All three tests show that the data is not normally distributed. The shapiro value is 4.5 and there are gaps in the QQ-plot and histogram. In fact it bears a lot of similarity with the original distribution."
      ],
      "metadata": {
        "id": "lXk8-0_erAbf"
      }
    },
    {
      "cell_type": "markdown",
      "source": [
        "`Q11. What is the mean score for this new variable (B-C transformed fathers’ years in education) for mothers aged under 35?`"
      ],
      "metadata": {
        "id": "B_7pjTJFrci0"
      }
    },
    {
      "cell_type": "code",
      "source": [
        "Df[Df['mage'] < 35]['bctrans'].mean()"
      ],
      "metadata": {
        "colab": {
          "base_uri": "https://localhost:8080/"
        },
        "id": "pZphKAKQsXOU",
        "outputId": "6e18e989-b71c-4f6b-bfc5-fecbc2f6ee29"
      },
      "execution_count": null,
      "outputs": [
        {
          "output_type": "execute_result",
          "data": {
            "text/plain": [
              "153.1804464073593"
            ]
          },
          "metadata": {},
          "execution_count": 52
        }
      ]
    },
    {
      "cell_type": "markdown",
      "source": [
        "`Q12. Which test would you use to investigate the relationship between birth weight and father's age?`\n",
        "* Pearson product-moment correlation\n",
        "* Spearman’s Rank order correlation\n",
        "* Point-Biserial correlation\n",
        "* Phi-Coefficient"
      ],
      "metadata": {
        "id": "v_dUd9KcsxNq"
      }
    },
    {
      "cell_type": "code",
      "source": [
        "Df[['Birthweight', 'fage']]"
      ],
      "metadata": {
        "colab": {
          "base_uri": "https://localhost:8080/",
          "height": 1000
        },
        "id": "wn_5J2Nev2Go",
        "outputId": "1f6ba729-9b80-44c5-a97c-48d3b783a5c2"
      },
      "execution_count": null,
      "outputs": [
        {
          "output_type": "execute_result",
          "data": {
            "text/plain": [
              "    Birthweight  fage\n",
              "0          4.55  23.0\n",
              "1          4.32  19.0\n",
              "2          4.10  31.0\n",
              "3          4.07  26.0\n",
              "4          3.94  30.0\n",
              "5          3.93  31.0\n",
              "6          3.77  31.0\n",
              "7          3.65  21.0\n",
              "8          3.63  20.0\n",
              "9          3.42  22.0\n",
              "10         3.35  37.0\n",
              "11         3.27  29.0\n",
              "12         3.23  35.0\n",
              "13         3.20  25.0\n",
              "14         3.15  30.0\n",
              "15         3.11  39.0\n",
              "16         3.03  27.0\n",
              "17         2.92  25.0\n",
              "18         2.90  23.0\n",
              "19         2.65  26.0\n",
              "20         3.64  24.0\n",
              "21         3.14  24.0\n",
              "22         2.78  20.0\n",
              "23         2.51  23.0\n",
              "24         2.37  20.0\n",
              "25         2.05  37.0\n",
              "26         1.92  20.0\n",
              "27         4.57  38.0\n",
              "28         3.59  41.0\n",
              "29         3.32  37.0\n",
              "30         3.00  38.0\n",
              "31         3.32  32.0\n",
              "32         2.74  24.0\n",
              "33         3.87  30.0\n",
              "34         3.86  40.0\n",
              "35         3.55  46.0\n",
              "36         3.53  30.0\n",
              "37         3.41  23.0\n",
              "38         3.18  32.0\n",
              "39         3.19  31.0\n",
              "40         2.66  23.0\n",
              "41         2.75  31.0"
            ],
            "text/html": [
              "\n",
              "\n",
              "  <div id=\"df-04635189-7e36-4497-be44-81658f11439d\">\n",
              "    <div class=\"colab-df-container\">\n",
              "      <div>\n",
              "<style scoped>\n",
              "    .dataframe tbody tr th:only-of-type {\n",
              "        vertical-align: middle;\n",
              "    }\n",
              "\n",
              "    .dataframe tbody tr th {\n",
              "        vertical-align: top;\n",
              "    }\n",
              "\n",
              "    .dataframe thead th {\n",
              "        text-align: right;\n",
              "    }\n",
              "</style>\n",
              "<table border=\"1\" class=\"dataframe\">\n",
              "  <thead>\n",
              "    <tr style=\"text-align: right;\">\n",
              "      <th></th>\n",
              "      <th>Birthweight</th>\n",
              "      <th>fage</th>\n",
              "    </tr>\n",
              "  </thead>\n",
              "  <tbody>\n",
              "    <tr>\n",
              "      <th>0</th>\n",
              "      <td>4.55</td>\n",
              "      <td>23.0</td>\n",
              "    </tr>\n",
              "    <tr>\n",
              "      <th>1</th>\n",
              "      <td>4.32</td>\n",
              "      <td>19.0</td>\n",
              "    </tr>\n",
              "    <tr>\n",
              "      <th>2</th>\n",
              "      <td>4.10</td>\n",
              "      <td>31.0</td>\n",
              "    </tr>\n",
              "    <tr>\n",
              "      <th>3</th>\n",
              "      <td>4.07</td>\n",
              "      <td>26.0</td>\n",
              "    </tr>\n",
              "    <tr>\n",
              "      <th>4</th>\n",
              "      <td>3.94</td>\n",
              "      <td>30.0</td>\n",
              "    </tr>\n",
              "    <tr>\n",
              "      <th>5</th>\n",
              "      <td>3.93</td>\n",
              "      <td>31.0</td>\n",
              "    </tr>\n",
              "    <tr>\n",
              "      <th>6</th>\n",
              "      <td>3.77</td>\n",
              "      <td>31.0</td>\n",
              "    </tr>\n",
              "    <tr>\n",
              "      <th>7</th>\n",
              "      <td>3.65</td>\n",
              "      <td>21.0</td>\n",
              "    </tr>\n",
              "    <tr>\n",
              "      <th>8</th>\n",
              "      <td>3.63</td>\n",
              "      <td>20.0</td>\n",
              "    </tr>\n",
              "    <tr>\n",
              "      <th>9</th>\n",
              "      <td>3.42</td>\n",
              "      <td>22.0</td>\n",
              "    </tr>\n",
              "    <tr>\n",
              "      <th>10</th>\n",
              "      <td>3.35</td>\n",
              "      <td>37.0</td>\n",
              "    </tr>\n",
              "    <tr>\n",
              "      <th>11</th>\n",
              "      <td>3.27</td>\n",
              "      <td>29.0</td>\n",
              "    </tr>\n",
              "    <tr>\n",
              "      <th>12</th>\n",
              "      <td>3.23</td>\n",
              "      <td>35.0</td>\n",
              "    </tr>\n",
              "    <tr>\n",
              "      <th>13</th>\n",
              "      <td>3.20</td>\n",
              "      <td>25.0</td>\n",
              "    </tr>\n",
              "    <tr>\n",
              "      <th>14</th>\n",
              "      <td>3.15</td>\n",
              "      <td>30.0</td>\n",
              "    </tr>\n",
              "    <tr>\n",
              "      <th>15</th>\n",
              "      <td>3.11</td>\n",
              "      <td>39.0</td>\n",
              "    </tr>\n",
              "    <tr>\n",
              "      <th>16</th>\n",
              "      <td>3.03</td>\n",
              "      <td>27.0</td>\n",
              "    </tr>\n",
              "    <tr>\n",
              "      <th>17</th>\n",
              "      <td>2.92</td>\n",
              "      <td>25.0</td>\n",
              "    </tr>\n",
              "    <tr>\n",
              "      <th>18</th>\n",
              "      <td>2.90</td>\n",
              "      <td>23.0</td>\n",
              "    </tr>\n",
              "    <tr>\n",
              "      <th>19</th>\n",
              "      <td>2.65</td>\n",
              "      <td>26.0</td>\n",
              "    </tr>\n",
              "    <tr>\n",
              "      <th>20</th>\n",
              "      <td>3.64</td>\n",
              "      <td>24.0</td>\n",
              "    </tr>\n",
              "    <tr>\n",
              "      <th>21</th>\n",
              "      <td>3.14</td>\n",
              "      <td>24.0</td>\n",
              "    </tr>\n",
              "    <tr>\n",
              "      <th>22</th>\n",
              "      <td>2.78</td>\n",
              "      <td>20.0</td>\n",
              "    </tr>\n",
              "    <tr>\n",
              "      <th>23</th>\n",
              "      <td>2.51</td>\n",
              "      <td>23.0</td>\n",
              "    </tr>\n",
              "    <tr>\n",
              "      <th>24</th>\n",
              "      <td>2.37</td>\n",
              "      <td>20.0</td>\n",
              "    </tr>\n",
              "    <tr>\n",
              "      <th>25</th>\n",
              "      <td>2.05</td>\n",
              "      <td>37.0</td>\n",
              "    </tr>\n",
              "    <tr>\n",
              "      <th>26</th>\n",
              "      <td>1.92</td>\n",
              "      <td>20.0</td>\n",
              "    </tr>\n",
              "    <tr>\n",
              "      <th>27</th>\n",
              "      <td>4.57</td>\n",
              "      <td>38.0</td>\n",
              "    </tr>\n",
              "    <tr>\n",
              "      <th>28</th>\n",
              "      <td>3.59</td>\n",
              "      <td>41.0</td>\n",
              "    </tr>\n",
              "    <tr>\n",
              "      <th>29</th>\n",
              "      <td>3.32</td>\n",
              "      <td>37.0</td>\n",
              "    </tr>\n",
              "    <tr>\n",
              "      <th>30</th>\n",
              "      <td>3.00</td>\n",
              "      <td>38.0</td>\n",
              "    </tr>\n",
              "    <tr>\n",
              "      <th>31</th>\n",
              "      <td>3.32</td>\n",
              "      <td>32.0</td>\n",
              "    </tr>\n",
              "    <tr>\n",
              "      <th>32</th>\n",
              "      <td>2.74</td>\n",
              "      <td>24.0</td>\n",
              "    </tr>\n",
              "    <tr>\n",
              "      <th>33</th>\n",
              "      <td>3.87</td>\n",
              "      <td>30.0</td>\n",
              "    </tr>\n",
              "    <tr>\n",
              "      <th>34</th>\n",
              "      <td>3.86</td>\n",
              "      <td>40.0</td>\n",
              "    </tr>\n",
              "    <tr>\n",
              "      <th>35</th>\n",
              "      <td>3.55</td>\n",
              "      <td>46.0</td>\n",
              "    </tr>\n",
              "    <tr>\n",
              "      <th>36</th>\n",
              "      <td>3.53</td>\n",
              "      <td>30.0</td>\n",
              "    </tr>\n",
              "    <tr>\n",
              "      <th>37</th>\n",
              "      <td>3.41</td>\n",
              "      <td>23.0</td>\n",
              "    </tr>\n",
              "    <tr>\n",
              "      <th>38</th>\n",
              "      <td>3.18</td>\n",
              "      <td>32.0</td>\n",
              "    </tr>\n",
              "    <tr>\n",
              "      <th>39</th>\n",
              "      <td>3.19</td>\n",
              "      <td>31.0</td>\n",
              "    </tr>\n",
              "    <tr>\n",
              "      <th>40</th>\n",
              "      <td>2.66</td>\n",
              "      <td>23.0</td>\n",
              "    </tr>\n",
              "    <tr>\n",
              "      <th>41</th>\n",
              "      <td>2.75</td>\n",
              "      <td>31.0</td>\n",
              "    </tr>\n",
              "  </tbody>\n",
              "</table>\n",
              "</div>\n",
              "      <button class=\"colab-df-convert\" onclick=\"convertToInteractive('df-04635189-7e36-4497-be44-81658f11439d')\"\n",
              "              title=\"Convert this dataframe to an interactive table.\"\n",
              "              style=\"display:none;\">\n",
              "\n",
              "  <svg xmlns=\"http://www.w3.org/2000/svg\" height=\"24px\"viewBox=\"0 0 24 24\"\n",
              "       width=\"24px\">\n",
              "    <path d=\"M0 0h24v24H0V0z\" fill=\"none\"/>\n",
              "    <path d=\"M18.56 5.44l.94 2.06.94-2.06 2.06-.94-2.06-.94-.94-2.06-.94 2.06-2.06.94zm-11 1L8.5 8.5l.94-2.06 2.06-.94-2.06-.94L8.5 2.5l-.94 2.06-2.06.94zm10 10l.94 2.06.94-2.06 2.06-.94-2.06-.94-.94-2.06-.94 2.06-2.06.94z\"/><path d=\"M17.41 7.96l-1.37-1.37c-.4-.4-.92-.59-1.43-.59-.52 0-1.04.2-1.43.59L10.3 9.45l-7.72 7.72c-.78.78-.78 2.05 0 2.83L4 21.41c.39.39.9.59 1.41.59.51 0 1.02-.2 1.41-.59l7.78-7.78 2.81-2.81c.8-.78.8-2.07 0-2.86zM5.41 20L4 18.59l7.72-7.72 1.47 1.35L5.41 20z\"/>\n",
              "  </svg>\n",
              "      </button>\n",
              "\n",
              "\n",
              "\n",
              "    <div id=\"df-f1706f53-c6b0-4359-ab2b-ba007bbc6f38\">\n",
              "      <button class=\"colab-df-quickchart\" onclick=\"quickchart('df-f1706f53-c6b0-4359-ab2b-ba007bbc6f38')\"\n",
              "              title=\"Suggest charts.\"\n",
              "              style=\"display:none;\">\n",
              "\n",
              "<svg xmlns=\"http://www.w3.org/2000/svg\" height=\"24px\"viewBox=\"0 0 24 24\"\n",
              "     width=\"24px\">\n",
              "    <g>\n",
              "        <path d=\"M19 3H5c-1.1 0-2 .9-2 2v14c0 1.1.9 2 2 2h14c1.1 0 2-.9 2-2V5c0-1.1-.9-2-2-2zM9 17H7v-7h2v7zm4 0h-2V7h2v10zm4 0h-2v-4h2v4z\"/>\n",
              "    </g>\n",
              "</svg>\n",
              "      </button>\n",
              "    </div>\n",
              "\n",
              "<style>\n",
              "  .colab-df-quickchart {\n",
              "    background-color: #E8F0FE;\n",
              "    border: none;\n",
              "    border-radius: 50%;\n",
              "    cursor: pointer;\n",
              "    display: none;\n",
              "    fill: #1967D2;\n",
              "    height: 32px;\n",
              "    padding: 0 0 0 0;\n",
              "    width: 32px;\n",
              "  }\n",
              "\n",
              "  .colab-df-quickchart:hover {\n",
              "    background-color: #E2EBFA;\n",
              "    box-shadow: 0px 1px 2px rgba(60, 64, 67, 0.3), 0px 1px 3px 1px rgba(60, 64, 67, 0.15);\n",
              "    fill: #174EA6;\n",
              "  }\n",
              "\n",
              "  [theme=dark] .colab-df-quickchart {\n",
              "    background-color: #3B4455;\n",
              "    fill: #D2E3FC;\n",
              "  }\n",
              "\n",
              "  [theme=dark] .colab-df-quickchart:hover {\n",
              "    background-color: #434B5C;\n",
              "    box-shadow: 0px 1px 3px 1px rgba(0, 0, 0, 0.15);\n",
              "    filter: drop-shadow(0px 1px 2px rgba(0, 0, 0, 0.3));\n",
              "    fill: #FFFFFF;\n",
              "  }\n",
              "</style>\n",
              "\n",
              "    <script>\n",
              "      async function quickchart(key) {\n",
              "        const containerElement = document.querySelector('#' + key);\n",
              "        const charts = await google.colab.kernel.invokeFunction(\n",
              "            'suggestCharts', [key], {});\n",
              "      }\n",
              "    </script>\n",
              "\n",
              "      <script>\n",
              "\n",
              "function displayQuickchartButton(domScope) {\n",
              "  let quickchartButtonEl =\n",
              "    domScope.querySelector('#df-f1706f53-c6b0-4359-ab2b-ba007bbc6f38 button.colab-df-quickchart');\n",
              "  quickchartButtonEl.style.display =\n",
              "    google.colab.kernel.accessAllowed ? 'block' : 'none';\n",
              "}\n",
              "\n",
              "        displayQuickchartButton(document);\n",
              "      </script>\n",
              "      <style>\n",
              "    .colab-df-container {\n",
              "      display:flex;\n",
              "      flex-wrap:wrap;\n",
              "      gap: 12px;\n",
              "    }\n",
              "\n",
              "    .colab-df-convert {\n",
              "      background-color: #E8F0FE;\n",
              "      border: none;\n",
              "      border-radius: 50%;\n",
              "      cursor: pointer;\n",
              "      display: none;\n",
              "      fill: #1967D2;\n",
              "      height: 32px;\n",
              "      padding: 0 0 0 0;\n",
              "      width: 32px;\n",
              "    }\n",
              "\n",
              "    .colab-df-convert:hover {\n",
              "      background-color: #E2EBFA;\n",
              "      box-shadow: 0px 1px 2px rgba(60, 64, 67, 0.3), 0px 1px 3px 1px rgba(60, 64, 67, 0.15);\n",
              "      fill: #174EA6;\n",
              "    }\n",
              "\n",
              "    [theme=dark] .colab-df-convert {\n",
              "      background-color: #3B4455;\n",
              "      fill: #D2E3FC;\n",
              "    }\n",
              "\n",
              "    [theme=dark] .colab-df-convert:hover {\n",
              "      background-color: #434B5C;\n",
              "      box-shadow: 0px 1px 3px 1px rgba(0, 0, 0, 0.15);\n",
              "      filter: drop-shadow(0px 1px 2px rgba(0, 0, 0, 0.3));\n",
              "      fill: #FFFFFF;\n",
              "    }\n",
              "  </style>\n",
              "\n",
              "      <script>\n",
              "        const buttonEl =\n",
              "          document.querySelector('#df-04635189-7e36-4497-be44-81658f11439d button.colab-df-convert');\n",
              "        buttonEl.style.display =\n",
              "          google.colab.kernel.accessAllowed ? 'block' : 'none';\n",
              "\n",
              "        async function convertToInteractive(key) {\n",
              "          const element = document.querySelector('#df-04635189-7e36-4497-be44-81658f11439d');\n",
              "          const dataTable =\n",
              "            await google.colab.kernel.invokeFunction('convertToInteractive',\n",
              "                                                     [key], {});\n",
              "          if (!dataTable) return;\n",
              "\n",
              "          const docLinkHtml = 'Like what you see? Visit the ' +\n",
              "            '<a target=\"_blank\" href=https://colab.research.google.com/notebooks/data_table.ipynb>data table notebook</a>'\n",
              "            + ' to learn more about interactive tables.';\n",
              "          element.innerHTML = '';\n",
              "          dataTable['output_type'] = 'display_data';\n",
              "          await google.colab.output.renderOutput(dataTable, element);\n",
              "          const docLink = document.createElement('div');\n",
              "          docLink.innerHTML = docLinkHtml;\n",
              "          element.appendChild(docLink);\n",
              "        }\n",
              "      </script>\n",
              "    </div>\n",
              "  </div>\n"
            ]
          },
          "metadata": {},
          "execution_count": 54
        }
      ]
    },
    {
      "cell_type": "code",
      "source": [
        "Df.plot.scatter(x='Birthweight', y='fage')"
      ],
      "metadata": {
        "colab": {
          "base_uri": "https://localhost:8080/",
          "height": 466
        },
        "id": "Gc4xTC0wwG6C",
        "outputId": "9166399f-3384-4a57-e501-3201e1c08c33"
      },
      "execution_count": null,
      "outputs": [
        {
          "output_type": "execute_result",
          "data": {
            "text/plain": [
              "<Axes: xlabel='Birthweight', ylabel='fage'>"
            ]
          },
          "metadata": {},
          "execution_count": 55
        },
        {
          "output_type": "display_data",
          "data": {
            "text/plain": [
              "<Figure size 640x480 with 1 Axes>"
            ],
            "image/png": "[encoded data removed]"
          },
          "metadata": {}
        }
      ]
    },
    {
      "cell_type": "code",
      "source": [
        "print(Df['Birthweight'].corr(Df['fage'], method='spearman'))\n",
        "print(Df['fage'].corr(Df['Birthweight'], method='pearson'))"
      ],
      "metadata": {
        "colab": {
          "base_uri": "https://localhost:8080/"
        },
        "id": "3LBcJSKx10nA",
        "outputId": "7adc65c0-a55d-4430-d286-f21806f6c449"
      },
      "execution_count": null,
      "outputs": [
        {
          "output_type": "stream",
          "name": "stdout",
          "text": [
            "0.17810631240688332\n",
            "0.17570999332980183\n"
          ]
        }
      ]
    },
    {
      "cell_type": "markdown",
      "source": [
        "`Answer` I will use Pearson correlation coefficient"
      ],
      "metadata": {
        "id": "NtkJii2vxd8A"
      }
    },
    {
      "cell_type": "markdown",
      "source": [
        "`Q13. Justify the above choice in terms of the distribution of data and the nature of the test.`"
      ],
      "metadata": {
        "id": "r6SyKtwH3Hd2"
      }
    },
    {
      "cell_type": "markdown",
      "source": [
        "`Answer` I will use Pearson correlation coefficient because the data assumes a normal distribution, and both variables have a continuous range."
      ],
      "metadata": {
        "id": "BBlk-Gt94-70"
      }
    },
    {
      "cell_type": "markdown",
      "source": [
        "`Q14. What is the direction of that relationship?`"
      ],
      "metadata": {
        "id": "Se118kLd5J2X"
      }
    },
    {
      "cell_type": "markdown",
      "source": [
        "`Answer` positive correlation."
      ],
      "metadata": {
        "id": "TzM5t4dZ5g83"
      }
    },
    {
      "cell_type": "markdown",
      "source": [
        "`Q15. What is the form of that relationship?`"
      ],
      "metadata": {
        "id": "eapecLay658h"
      }
    },
    {
      "cell_type": "markdown",
      "source": [
        "`Answer` Non-linear relationship."
      ],
      "metadata": {
        "id": "FzrX78ga6-kp"
      }
    },
    {
      "cell_type": "markdown",
      "source": [
        "`Q16. What is the degree of that relationship?`"
      ],
      "metadata": {
        "id": "QAyEkrwK7FNr"
      }
    },
    {
      "cell_type": "markdown",
      "source": [
        "`Answer` 0.178 implies weak correlation."
      ],
      "metadata": {
        "id": "S-n5pzHG7Nz0"
      }
    },
    {
      "cell_type": "markdown",
      "source": [
        "`Q17. What test would you use to investigate the relationship between smoking and birth weight?`"
      ],
      "metadata": {
        "id": "OuuMdbCK7_zV"
      }
    },
    {
      "cell_type": "markdown",
      "source": [
        "`Answer` Point-Biseral correlation"
      ],
      "metadata": {
        "id": "Mmnv-y658bxO"
      }
    },
    {
      "cell_type": "markdown",
      "source": [
        "`Q18. Report on the above results including information about direction/form/degree of the relationship.`"
      ],
      "metadata": {
        "id": "aas_J8qm8oSW"
      }
    },
    {
      "cell_type": "code",
      "source": [
        "pointbiserialr(Df['smoker'], Df['Birthweight'])"
      ],
      "metadata": {
        "colab": {
          "base_uri": "https://localhost:8080/"
        },
        "id": "thIcQ4n880RY",
        "outputId": "f541f128-0229-4910-b76b-0274ba74666b"
      },
      "execution_count": null,
      "outputs": [
        {
          "output_type": "execute_result",
          "data": {
            "text/plain": [
              "SignificanceResult(statistic=-0.31423394642987135, pvalue=0.04269624654559381)"
            ]
          },
          "metadata": {},
          "execution_count": 64
        }
      ]
    },
    {
      "cell_type": "code",
      "source": [
        "Df.plot.scatter(x='smoker', y='Birthweight')"
      ],
      "metadata": {
        "colab": {
          "base_uri": "https://localhost:8080/",
          "height": 466
        },
        "id": "WMYum5gU_YI7",
        "outputId": "eae9ae28-9eae-4858-9949-c5684fae1fdf"
      },
      "execution_count": null,
      "outputs": [
        {
          "output_type": "execute_result",
          "data": {
            "text/plain": [
              "<Axes: xlabel='smoker', ylabel='Birthweight'>"
            ]
          },
          "metadata": {},
          "execution_count": 66
        },
        {
          "output_type": "display_data",
          "data": {
            "text/plain": [
              "<Figure size 640x480 with 1 Axes>"
            ],
            "image/png": "[encoded data removed]"
          },
          "metadata": {}
        }
      ]
    },
    {
      "cell_type": "markdown",
      "source": [
        "`Answer` Using point-biseral correlation, we find out that the correlation coefficient is -0.314 which implies a negative correlation. Because it is a binary data, the form is sigmoid, and is of a strong degree since non-smokers don't have babies weighing below 2.6kg unlike the smokers. The smokers have few babies weighing above 3.6kg."
      ],
      "metadata": {
        "id": "MKBPNxFe_rY0"
      }
    },
    {
      "cell_type": "markdown",
      "source": [
        "`Q19. If you wanted to see the effect of the length of a baby on birthweight, what would your independent variable be?`\n",
        "* Length of baby\n",
        "* Birthweight"
      ],
      "metadata": {
        "id": "-A2AIP7WB081"
      }
    },
    {
      "cell_type": "markdown",
      "source": [
        "`Answer` Length of a baby"
      ],
      "metadata": {
        "id": "aGJmiFnrCK6F"
      }
    },
    {
      "cell_type": "markdown",
      "source": [
        "`Q20. In statistics, when creating a scatterplot, it is a common practice to put the independent variable on the x-axis and the dependent variable on the y-axis. With this in mind, create a scatterplot for the above case and provide the regression line. For homework submitted using MS Word, insert a picture of the scatterplot.`"
      ],
      "metadata": {
        "id": "Cfu6ROTcCTLQ"
      }
    },
    {
      "cell_type": "code",
      "source": [
        "sb.regplot(data=Df, x='Length', y='Birthweight')\n",
        "plt.xlabel('Length of babies')\n",
        "plt.ylabel('Birth weights')\n",
        "plt.title('Correlation between baby length and weight')"
      ],
      "metadata": {
        "colab": {
          "base_uri": "https://localhost:8080/",
          "height": 489
        },
        "id": "3N4dw6-4CbuK",
        "outputId": "dd4cc18d-7019-4234-91f3-45d6638a6ce8"
      },
      "execution_count": null,
      "outputs": [
        {
          "output_type": "execute_result",
          "data": {
            "text/plain": [
              "Text(0.5, 1.0, 'Correlation between baby length and weight')"
            ]
          },
          "metadata": {},
          "execution_count": 69
        },
        {
          "output_type": "display_data",
          "data": {
            "text/plain": [
              "<Figure size 640x480 with 1 Axes>"
            ],
            "image/png": "[encoded data removed]"
          },
          "metadata": {}
        }
      ]
    },
    {
      "cell_type": "markdown",
      "source": [
        "`Q21. Is the relationship between the length of baby and birthweight linear?`\n",
        "* Yes\n",
        "* No"
      ],
      "metadata": {
        "id": "WhROTcDRDvYr"
      }
    },
    {
      "cell_type": "markdown",
      "source": [
        "Yes"
      ],
      "metadata": {
        "id": "PqrHyOzfFAHA"
      }
    },
    {
      "cell_type": "markdown",
      "source": [
        "`Q22. Justify the above choice.`"
      ],
      "metadata": {
        "id": "Id1yJ58fFQ_Y"
      }
    },
    {
      "cell_type": "code",
      "source": [
        "Df['Length'].corr(Df['Birthweight'], method='pearson')"
      ],
      "metadata": {
        "colab": {
          "base_uri": "https://localhost:8080/"
        },
        "id": "JBHY0GgoFXiW",
        "outputId": "87824212-2641-465a-9705-5383019790e8"
      },
      "execution_count": null,
      "outputs": [
        {
          "output_type": "execute_result",
          "data": {
            "text/plain": [
              "0.7268334847885263"
            ]
          },
          "metadata": {},
          "execution_count": 71
        }
      ]
    },
    {
      "cell_type": "markdown",
      "source": [
        "The visual order of the points on the scatter plot, the slope of the regression line, and the correlation coefficint of 0.72 indicate that this is a strong positive correlation between the two variables."
      ],
      "metadata": {
        "id": "pcRsJM_GFqWS"
      }
    },
    {
      "cell_type": "markdown",
      "source": [
        "`Q23. Is there any evidence to suggest that the birth weight, length of baby, and head circumference are related?`"
      ],
      "metadata": {
        "id": "RZWJg43fGbIU"
      }
    },
    {
      "cell_type": "code",
      "source": [
        "sb.pairplot(Df[['Birthweight', 'Length', 'Headcirc']])"
      ],
      "metadata": {
        "colab": {
          "base_uri": "https://localhost:8080/",
          "height": 775
        },
        "id": "XdnVw-S9GpWg",
        "outputId": "3f62ecc8-b3e2-466d-9a00-f5f3aabb193c"
      },
      "execution_count": null,
      "outputs": [
        {
          "output_type": "execute_result",
          "data": {
            "text/plain": [
              "<seaborn.axisgrid.PairGrid at 0x7b5eb2b80d00>"
            ]
          },
          "metadata": {},
          "execution_count": 74
        },
        {
          "output_type": "display_data",
          "data": {
            "text/plain": [
              "<Figure size 750x750 with 12 Axes>"
            ],
            "image/png": "[encoded data removed]"
          },
          "metadata": {}
        }
      ]
    },
    {
      "cell_type": "code",
      "source": [
        "correlation_matrix = Df[['Birthweight', 'Length', 'Headcirc']].corr()\n",
        "\n",
        "# Create the correlation heatmap\n",
        "sb.heatmap(correlation_matrix, annot=True, cmap='coolwarm', center=0)\n",
        "plt.title(\"Correlation Heatmap\")\n",
        "plt.show()\n"
      ],
      "metadata": {
        "colab": {
          "base_uri": "https://localhost:8080/",
          "height": 452
        },
        "id": "6a_1iojwJgVb",
        "outputId": "60887fbf-e4c5-4c52-e9be-4b6ddb155b68"
      },
      "execution_count": null,
      "outputs": [
        {
          "output_type": "display_data",
          "data": {
            "text/plain": [
              "<Figure size 640x480 with 2 Axes>"
            ],
            "image/png": "[encoded data removed]"
          },
          "metadata": {}
        }
      ]
    },
    {
      "cell_type": "markdown",
      "source": [
        "Yes"
      ],
      "metadata": {
        "id": "XgBqyNsVJ7E0"
      }
    },
    {
      "cell_type": "markdown",
      "source": [
        "`Q24. Justify the above choice.`"
      ],
      "metadata": {
        "id": "ZMqNLs06LpA2"
      }
    },
    {
      "cell_type": "markdown",
      "source": [
        "In nature length or size of objects of the same density share proportion with mass or weight. In this case, an increase in head circumference or length should concur with an increase in weight."
      ],
      "metadata": {
        "id": "_4SZeSjKLvTR"
      }
    },
    {
      "cell_type": "markdown",
      "source": [
        "`Q25. Describe the above relationship in your own words and provide evidence for your claims.`"
      ],
      "metadata": {
        "id": "YXeSLDRYNSqE"
      }
    },
    {
      "cell_type": "markdown",
      "source": [
        "I used a correlation heatmap and a pairplot to assess the three variables. It showed a strong positive correlated values: 0.56, 0.68 and 0.73 among the three."
      ],
      "metadata": {
        "id": "-JPPEw-DNcta"
      }
    },
    {
      "cell_type": "code",
      "source": [],
      "metadata": {
        "id": "wDIw5m3hNDqf"
      },
      "execution_count": null,
      "outputs": []
    }
  ]
}