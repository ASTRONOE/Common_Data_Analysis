{
  "nbformat": 4,
  "nbformat_minor": 0,
  "metadata": {
    "colab": {
      "provenance": [],
      "authorship_tag": "ABX9TyOdx8smDQUssC/svVeAp2MS",
      "include_colab_link": true
    },
    "kernelspec": {
      "name": "python3",
      "display_name": "Python 3"
    },
    "language_info": {
      "name": "python"
    }
  },
  "cells": [
    {
      "cell_type": "markdown",
      "metadata": {
        "id": "view-in-github",
        "colab_type": "text"
      },
      "source": [
        "<a href=\"https://colab.research.google.com/github/ASTRONOE/Common_Data_Analysis/blob/KreativStorm/Week_2.ipynb\" target=\"_parent\"><img src=\"https://colab.research.google.com/assets/colab-badge.svg\" alt=\"Open In Colab\"/></a>"
      ]
    },
    {
      "cell_type": "markdown",
      "source": [
        "#**Data Analysis Hands-On Program - KreativStorm**\n",
        "##WEEK 1 ASSIGNMENT"
      ],
      "metadata": {
        "id": "uqxl4fS2hjiH"
      }
    },
    {
      "cell_type": "code",
      "source": [
        "#ensure pyreadstat for spss is installed!!\n",
        "!pip install pyreadstat"
      ],
      "metadata": {
        "colab": {
          "base_uri": "https://localhost:8080/"
        },
        "id": "LKnb_HEzmjAe",
        "outputId": "eade7dd8-22ca-4074-e4ca-5083f0ece62a"
      },
      "execution_count": null,
      "outputs": [
        {
          "output_type": "stream",
          "name": "stdout",
          "text": [
            "Collecting pyreadstat\n",
            "  Downloading pyreadstat-1.2.2-cp310-cp310-manylinux_2_17_x86_64.manylinux2014_x86_64.whl (2.7 MB)\n",
            "\u001b[?25l     \u001b[90m━━━━━━━━━━━━━━━━━━━━━━━━━━━━━━━━━━━━━━━━\u001b[0m \u001b[32m0.0/2.7 MB\u001b[0m \u001b[31m?\u001b[0m eta \u001b[36m-:--:--\u001b[0m\r\u001b[2K     \u001b[91m━\u001b[0m\u001b[90m╺\u001b[0m\u001b[90m━━━━━━━━━━━━━━━━━━━━━━━━━━━━━━━━━━━━━━\u001b[0m \u001b[32m0.1/2.7 MB\u001b[0m \u001b[31m2.8 MB/s\u001b[0m eta \u001b[36m0:00:01\u001b[0m\r\u001b[2K     \u001b[91m━━━━━━━━━━━━━━━━━━━━━━━━━━━━━━━━━━━━━━━\u001b[0m\u001b[91m╸\u001b[0m \u001b[32m2.7/2.7 MB\u001b[0m \u001b[31m43.3 MB/s\u001b[0m eta \u001b[36m0:00:01\u001b[0m\r\u001b[2K     \u001b[90m━━━━━━━━━━━━━━━━━━━━━━━━━━━━━━━━━━━━━━━━\u001b[0m \u001b[32m2.7/2.7 MB\u001b[0m \u001b[31m31.9 MB/s\u001b[0m eta \u001b[36m0:00:00\u001b[0m\n",
            "\u001b[?25hRequirement already satisfied: pandas>=1.2.0 in /usr/local/lib/python3.10/dist-packages (from pyreadstat) (1.5.3)\n",
            "Requirement already satisfied: python-dateutil>=2.8.1 in /usr/local/lib/python3.10/dist-packages (from pandas>=1.2.0->pyreadstat) (2.8.2)\n",
            "Requirement already satisfied: pytz>=2020.1 in /usr/local/lib/python3.10/dist-packages (from pandas>=1.2.0->pyreadstat) (2022.7.1)\n",
            "Requirement already satisfied: numpy>=1.21.0 in /usr/local/lib/python3.10/dist-packages (from pandas>=1.2.0->pyreadstat) (1.22.4)\n",
            "Requirement already satisfied: six>=1.5 in /usr/local/lib/python3.10/dist-packages (from python-dateutil>=2.8.1->pandas>=1.2.0->pyreadstat) (1.16.0)\n",
            "Installing collected packages: pyreadstat\n",
            "Successfully installed pyreadstat-1.2.2\n"
          ]
        }
      ]
    },
    {
      "cell_type": "code",
      "source": [
        "#load libraries\n",
        "import numpy as np\n",
        "import pandas as pd\n",
        "import pyreadstat as prs\n",
        "import matplotlib.pyplot as plt\n",
        "import statsmodels.api as sm\n",
        "from scipy.stats import kstest, norm, shapiro\n",
        "from google.colab import files"
      ],
      "metadata": {
        "id": "M6xZWvCTh552"
      },
      "execution_count": null,
      "outputs": []
    },
    {
      "cell_type": "code",
      "source": [
        "sav_file = files.upload() #upload file from explorer"
      ],
      "metadata": {
        "colab": {
          "base_uri": "https://localhost:8080/",
          "height": 70
        },
        "id": "OXtn6igZkD2h",
        "outputId": "14c24563-8b45-4537-a078-cf94bd657e02"
      },
      "execution_count": null,
      "outputs": [
        {
          "output_type": "display_data",
          "data": {
            "text/plain": [
              "<IPython.core.display.HTML object>"
            ],
            "text/html": [
              "\n",
              "     <input type=\"file\" id=\"files-4fc53e3e-fa82-4a62-b650-c0e8faa01ba5\" name=\"files[]\" multiple disabled\n",
              "        style=\"border:none\" />\n",
              "     <output id=\"result-4fc53e3e-fa82-4a62-b650-c0e8faa01ba5\">\n",
              "      Upload widget is only available when the cell has been executed in the\n",
              "      current browser session. Please rerun this cell to enable.\n",
              "      </output>\n",
              "      <script>// Copyright 2017 Google LLC\n",
              "//\n",
              "// Licensed under the Apache License, Version 2.0 (the \"License\");\n",
              "// you may not use this file except in compliance with the License.\n",
              "// You may obtain a copy of the License at\n",
              "//\n",
              "//      http://www.apache.org/licenses/LICENSE-2.0\n",
              "//\n",
              "// Unless required by applicable law or agreed to in writing, software\n",
              "// distributed under the License is distributed on an \"AS IS\" BASIS,\n",
              "// WITHOUT WARRANTIES OR CONDITIONS OF ANY KIND, either express or implied.\n",
              "// See the License for the specific language governing permissions and\n",
              "// limitations under the License.\n",
              "\n",
              "/**\n",
              " * @fileoverview Helpers for google.colab Python module.\n",
              " */\n",
              "(function(scope) {\n",
              "function span(text, styleAttributes = {}) {\n",
              "  const element = document.createElement('span');\n",
              "  element.textContent = text;\n",
              "  for (const key of Object.keys(styleAttributes)) {\n",
              "    element.style[key] = styleAttributes[key];\n",
              "  }\n",
              "  return element;\n",
              "}\n",
              "\n",
              "// Max number of bytes which will be uploaded at a time.\n",
              "const MAX_PAYLOAD_SIZE = 100 * 1024;\n",
              "\n",
              "function _uploadFiles(inputId, outputId) {\n",
              "  const steps = uploadFilesStep(inputId, outputId);\n",
              "  const outputElement = document.getElementById(outputId);\n",
              "  // Cache steps on the outputElement to make it available for the next call\n",
              "  // to uploadFilesContinue from Python.\n",
              "  outputElement.steps = steps;\n",
              "\n",
              "  return _uploadFilesContinue(outputId);\n",
              "}\n",
              "\n",
              "// This is roughly an async generator (not supported in the browser yet),\n",
              "// where there are multiple asynchronous steps and the Python side is going\n",
              "// to poll for completion of each step.\n",
              "// This uses a Promise to block the python side on completion of each step,\n",
              "// then passes the result of the previous step as the input to the next step.\n",
              "function _uploadFilesContinue(outputId) {\n",
              "  const outputElement = document.getElementById(outputId);\n",
              "  const steps = outputElement.steps;\n",
              "\n",
              "  const next = steps.next(outputElement.lastPromiseValue);\n",
              "  return Promise.resolve(next.value.promise).then((value) => {\n",
              "    // Cache the last promise value to make it available to the next\n",
              "    // step of the generator.\n",
              "    outputElement.lastPromiseValue = value;\n",
              "    return next.value.response;\n",
              "  });\n",
              "}\n",
              "\n",
              "/**\n",
              " * Generator function which is called between each async step of the upload\n",
              " * process.\n",
              " * @param {string} inputId Element ID of the input file picker element.\n",
              " * @param {string} outputId Element ID of the output display.\n",
              " * @return {!Iterable<!Object>} Iterable of next steps.\n",
              " */\n",
              "function* uploadFilesStep(inputId, outputId) {\n",
              "  const inputElement = document.getElementById(inputId);\n",
              "  inputElement.disabled = false;\n",
              "\n",
              "  const outputElement = document.getElementById(outputId);\n",
              "  outputElement.innerHTML = '';\n",
              "\n",
              "  const pickedPromise = new Promise((resolve) => {\n",
              "    inputElement.addEventListener('change', (e) => {\n",
              "      resolve(e.target.files);\n",
              "    });\n",
              "  });\n",
              "\n",
              "  const cancel = document.createElement('button');\n",
              "  inputElement.parentElement.appendChild(cancel);\n",
              "  cancel.textContent = 'Cancel upload';\n",
              "  const cancelPromise = new Promise((resolve) => {\n",
              "    cancel.onclick = () => {\n",
              "      resolve(null);\n",
              "    };\n",
              "  });\n",
              "\n",
              "  // Wait for the user to pick the files.\n",
              "  const files = yield {\n",
              "    promise: Promise.race([pickedPromise, cancelPromise]),\n",
              "    response: {\n",
              "      action: 'starting',\n",
              "    }\n",
              "  };\n",
              "\n",
              "  cancel.remove();\n",
              "\n",
              "  // Disable the input element since further picks are not allowed.\n",
              "  inputElement.disabled = true;\n",
              "\n",
              "  if (!files) {\n",
              "    return {\n",
              "      response: {\n",
              "        action: 'complete',\n",
              "      }\n",
              "    };\n",
              "  }\n",
              "\n",
              "  for (const file of files) {\n",
              "    const li = document.createElement('li');\n",
              "    li.append(span(file.name, {fontWeight: 'bold'}));\n",
              "    li.append(span(\n",
              "        `(${file.type || 'n/a'}) - ${file.size} bytes, ` +\n",
              "        `last modified: ${\n",
              "            file.lastModifiedDate ? file.lastModifiedDate.toLocaleDateString() :\n",
              "                                    'n/a'} - `));\n",
              "    const percent = span('0% done');\n",
              "    li.appendChild(percent);\n",
              "\n",
              "    outputElement.appendChild(li);\n",
              "\n",
              "    const fileDataPromise = new Promise((resolve) => {\n",
              "      const reader = new FileReader();\n",
              "      reader.onload = (e) => {\n",
              "        resolve(e.target.result);\n",
              "      };\n",
              "      reader.readAsArrayBuffer(file);\n",
              "    });\n",
              "    // Wait for the data to be ready.\n",
              "    let fileData = yield {\n",
              "      promise: fileDataPromise,\n",
              "      response: {\n",
              "        action: 'continue',\n",
              "      }\n",
              "    };\n",
              "\n",
              "    // Use a chunked sending to avoid message size limits. See b/62115660.\n",
              "    let position = 0;\n",
              "    do {\n",
              "      const length = Math.min(fileData.byteLength - position, MAX_PAYLOAD_SIZE);\n",
              "      const chunk = new Uint8Array(fileData, position, length);\n",
              "      position += length;\n",
              "\n",
              "      const base64 = btoa(String.fromCharCode.apply(null, chunk));\n",
              "      yield {\n",
              "        response: {\n",
              "          action: 'append',\n",
              "          file: file.name,\n",
              "          data: base64,\n",
              "        },\n",
              "      };\n",
              "\n",
              "      let percentDone = fileData.byteLength === 0 ?\n",
              "          100 :\n",
              "          Math.round((position / fileData.byteLength) * 100);\n",
              "      percent.textContent = `${percentDone}% done`;\n",
              "\n",
              "    } while (position < fileData.byteLength);\n",
              "  }\n",
              "\n",
              "  // All done.\n",
              "  yield {\n",
              "    response: {\n",
              "      action: 'complete',\n",
              "    }\n",
              "  };\n",
              "}\n",
              "\n",
              "scope.google = scope.google || {};\n",
              "scope.google.colab = scope.google.colab || {};\n",
              "scope.google.colab._files = {\n",
              "  _uploadFiles,\n",
              "  _uploadFilesContinue,\n",
              "};\n",
              "})(self);\n",
              "</script> "
            ]
          },
          "metadata": {}
        },
        {
          "output_type": "stream",
          "name": "stdout",
          "text": [
            "Saving Birthweight_reduced_kg_SPSS.sav to Birthweight_reduced_kg_SPSS.sav\n"
          ]
        }
      ]
    },
    {
      "cell_type": "code",
      "source": [
        "Df, meta = prs.read_sav(\"Birthweight_reduced_kg_SPSS.sav\") #load file"
      ],
      "metadata": {
        "id": "kokrPSTakg1r"
      },
      "execution_count": null,
      "outputs": []
    },
    {
      "cell_type": "code",
      "source": [
        "#print dataframe summary\n",
        "print(Df.shape)\n",
        "print(Df.info())"
      ],
      "metadata": {
        "colab": {
          "base_uri": "https://localhost:8080/"
        },
        "id": "Sf0HFEQJmNdn",
        "outputId": "a7340075-c429-4f87-cd31-a4fcdda2ce3b"
      },
      "execution_count": null,
      "outputs": [
        {
          "output_type": "stream",
          "name": "stdout",
          "text": [
            "(42, 16)\n",
            "<class 'pandas.core.frame.DataFrame'>\n",
            "RangeIndex: 42 entries, 0 to 41\n",
            "Data columns (total 16 columns):\n",
            " #   Column       Non-Null Count  Dtype  \n",
            "---  ------       --------------  -----  \n",
            " 0   ID           42 non-null     float64\n",
            " 1   Headcirc     42 non-null     float64\n",
            " 2   Length       42 non-null     float64\n",
            " 3   Birthweight  42 non-null     float64\n",
            " 4   Gestation    42 non-null     float64\n",
            " 5   mage         42 non-null     float64\n",
            " 6   smoker       42 non-null     float64\n",
            " 7   mheight      42 non-null     float64\n",
            " 8   mppwt        42 non-null     float64\n",
            " 9   fage         42 non-null     float64\n",
            " 10  fedyrs       42 non-null     float64\n",
            " 11  fnocig       42 non-null     float64\n",
            " 12  fheight      42 non-null     float64\n",
            " 13  lowbwt       42 non-null     float64\n",
            " 14  mage35       42 non-null     float64\n",
            " 15  mnocig       42 non-null     float64\n",
            "dtypes: float64(16)\n",
            "memory usage: 5.4 KB\n",
            "None\n"
          ]
        }
      ]
    },
    {
      "cell_type": "code",
      "source": [
        "Df.head()"
      ],
      "metadata": {
        "colab": {
          "base_uri": "https://localhost:8080/",
          "height": 206
        },
        "id": "_qptcELdpUcy",
        "outputId": "15e43e7f-c08e-4f49-d548-0bbf2b3a2a52"
      },
      "execution_count": null,
      "outputs": [
        {
          "output_type": "execute_result",
          "data": {
            "text/plain": [
              "       ID  Headcirc  Length  Birthweight  Gestation  mage  smoker  mheight  \\\n",
              "0  1360.0      34.0    56.0         4.55       44.0  20.0     0.0    162.0   \n",
              "1  1016.0      36.0    53.0         4.32       40.0  19.0     0.0    171.0   \n",
              "2   462.0      39.0    58.0         4.10       41.0  35.0     0.0    172.0   \n",
              "3  1187.0      38.0    53.0         4.07       44.0  20.0     0.0    174.0   \n",
              "4   553.0      37.0    54.0         3.94       42.0  24.0     0.0    175.0   \n",
              "\n",
              "   mppwt  fage  fedyrs  fnocig  fheight  lowbwt  mage35  mnocig  \n",
              "0   57.0  23.0    10.0    35.0    179.0     0.0     0.0     0.0  \n",
              "1   62.0  19.0    12.0     0.0    183.0     0.0     0.0     0.0  \n",
              "2   58.0  31.0    16.0    25.0    185.0     0.0     1.0     0.0  \n",
              "3   68.0  26.0    14.0    25.0    189.0     0.0     0.0     0.0  \n",
              "4   66.0  30.0    12.0     0.0    184.0     0.0     0.0     0.0  "
            ],
            "text/html": [
              "\n",
              "\n",
              "  <div id=\"df-a931ae28-91dd-4667-abfb-8cc01db68293\">\n",
              "    <div class=\"colab-df-container\">\n",
              "      <div>\n",
              "<style scoped>\n",
              "    .dataframe tbody tr th:only-of-type {\n",
              "        vertical-align: middle;\n",
              "    }\n",
              "\n",
              "    .dataframe tbody tr th {\n",
              "        vertical-align: top;\n",
              "    }\n",
              "\n",
              "    .dataframe thead th {\n",
              "        text-align: right;\n",
              "    }\n",
              "</style>\n",
              "<table border=\"1\" class=\"dataframe\">\n",
              "  <thead>\n",
              "    <tr style=\"text-align: right;\">\n",
              "      <th></th>\n",
              "      <th>ID</th>\n",
              "      <th>Headcirc</th>\n",
              "      <th>Length</th>\n",
              "      <th>Birthweight</th>\n",
              "      <th>Gestation</th>\n",
              "      <th>mage</th>\n",
              "      <th>smoker</th>\n",
              "      <th>mheight</th>\n",
              "      <th>mppwt</th>\n",
              "      <th>fage</th>\n",
              "      <th>fedyrs</th>\n",
              "      <th>fnocig</th>\n",
              "      <th>fheight</th>\n",
              "      <th>lowbwt</th>\n",
              "      <th>mage35</th>\n",
              "      <th>mnocig</th>\n",
              "    </tr>\n",
              "  </thead>\n",
              "  <tbody>\n",
              "    <tr>\n",
              "      <th>0</th>\n",
              "      <td>1360.0</td>\n",
              "      <td>34.0</td>\n",
              "      <td>56.0</td>\n",
              "      <td>4.55</td>\n",
              "      <td>44.0</td>\n",
              "      <td>20.0</td>\n",
              "      <td>0.0</td>\n",
              "      <td>162.0</td>\n",
              "      <td>57.0</td>\n",
              "      <td>23.0</td>\n",
              "      <td>10.0</td>\n",
              "      <td>35.0</td>\n",
              "      <td>179.0</td>\n",
              "      <td>0.0</td>\n",
              "      <td>0.0</td>\n",
              "      <td>0.0</td>\n",
              "    </tr>\n",
              "    <tr>\n",
              "      <th>1</th>\n",
              "      <td>1016.0</td>\n",
              "      <td>36.0</td>\n",
              "      <td>53.0</td>\n",
              "      <td>4.32</td>\n",
              "      <td>40.0</td>\n",
              "      <td>19.0</td>\n",
              "      <td>0.0</td>\n",
              "      <td>171.0</td>\n",
              "      <td>62.0</td>\n",
              "      <td>19.0</td>\n",
              "      <td>12.0</td>\n",
              "      <td>0.0</td>\n",
              "      <td>183.0</td>\n",
              "      <td>0.0</td>\n",
              "      <td>0.0</td>\n",
              "      <td>0.0</td>\n",
              "    </tr>\n",
              "    <tr>\n",
              "      <th>2</th>\n",
              "      <td>462.0</td>\n",
              "      <td>39.0</td>\n",
              "      <td>58.0</td>\n",
              "      <td>4.10</td>\n",
              "      <td>41.0</td>\n",
              "      <td>35.0</td>\n",
              "      <td>0.0</td>\n",
              "      <td>172.0</td>\n",
              "      <td>58.0</td>\n",
              "      <td>31.0</td>\n",
              "      <td>16.0</td>\n",
              "      <td>25.0</td>\n",
              "      <td>185.0</td>\n",
              "      <td>0.0</td>\n",
              "      <td>1.0</td>\n",
              "      <td>0.0</td>\n",
              "    </tr>\n",
              "    <tr>\n",
              "      <th>3</th>\n",
              "      <td>1187.0</td>\n",
              "      <td>38.0</td>\n",
              "      <td>53.0</td>\n",
              "      <td>4.07</td>\n",
              "      <td>44.0</td>\n",
              "      <td>20.0</td>\n",
              "      <td>0.0</td>\n",
              "      <td>174.0</td>\n",
              "      <td>68.0</td>\n",
              "      <td>26.0</td>\n",
              "      <td>14.0</td>\n",
              "      <td>25.0</td>\n",
              "      <td>189.0</td>\n",
              "      <td>0.0</td>\n",
              "      <td>0.0</td>\n",
              "      <td>0.0</td>\n",
              "    </tr>\n",
              "    <tr>\n",
              "      <th>4</th>\n",
              "      <td>553.0</td>\n",
              "      <td>37.0</td>\n",
              "      <td>54.0</td>\n",
              "      <td>3.94</td>\n",
              "      <td>42.0</td>\n",
              "      <td>24.0</td>\n",
              "      <td>0.0</td>\n",
              "      <td>175.0</td>\n",
              "      <td>66.0</td>\n",
              "      <td>30.0</td>\n",
              "      <td>12.0</td>\n",
              "      <td>0.0</td>\n",
              "      <td>184.0</td>\n",
              "      <td>0.0</td>\n",
              "      <td>0.0</td>\n",
              "      <td>0.0</td>\n",
              "    </tr>\n",
              "  </tbody>\n",
              "</table>\n",
              "</div>\n",
              "      <button class=\"colab-df-convert\" onclick=\"convertToInteractive('df-a931ae28-91dd-4667-abfb-8cc01db68293')\"\n",
              "              title=\"Convert this dataframe to an interactive table.\"\n",
              "              style=\"display:none;\">\n",
              "\n",
              "  <svg xmlns=\"http://www.w3.org/2000/svg\" height=\"24px\"viewBox=\"0 0 24 24\"\n",
              "       width=\"24px\">\n",
              "    <path d=\"M0 0h24v24H0V0z\" fill=\"none\"/>\n",
              "    <path d=\"M18.56 5.44l.94 2.06.94-2.06 2.06-.94-2.06-.94-.94-2.06-.94 2.06-2.06.94zm-11 1L8.5 8.5l.94-2.06 2.06-.94-2.06-.94L8.5 2.5l-.94 2.06-2.06.94zm10 10l.94 2.06.94-2.06 2.06-.94-2.06-.94-.94-2.06-.94 2.06-2.06.94z\"/><path d=\"M17.41 7.96l-1.37-1.37c-.4-.4-.92-.59-1.43-.59-.52 0-1.04.2-1.43.59L10.3 9.45l-7.72 7.72c-.78.78-.78 2.05 0 2.83L4 21.41c.39.39.9.59 1.41.59.51 0 1.02-.2 1.41-.59l7.78-7.78 2.81-2.81c.8-.78.8-2.07 0-2.86zM5.41 20L4 18.59l7.72-7.72 1.47 1.35L5.41 20z\"/>\n",
              "  </svg>\n",
              "      </button>\n",
              "\n",
              "\n",
              "\n",
              "    <div id=\"df-ff243e36-c6b1-4ddb-9053-e0feef5882b1\">\n",
              "      <button class=\"colab-df-quickchart\" onclick=\"quickchart('df-ff243e36-c6b1-4ddb-9053-e0feef5882b1')\"\n",
              "              title=\"Suggest charts.\"\n",
              "              style=\"display:none;\">\n",
              "\n",
              "<svg xmlns=\"http://www.w3.org/2000/svg\" height=\"24px\"viewBox=\"0 0 24 24\"\n",
              "     width=\"24px\">\n",
              "    <g>\n",
              "        <path d=\"M19 3H5c-1.1 0-2 .9-2 2v14c0 1.1.9 2 2 2h14c1.1 0 2-.9 2-2V5c0-1.1-.9-2-2-2zM9 17H7v-7h2v7zm4 0h-2V7h2v10zm4 0h-2v-4h2v4z\"/>\n",
              "    </g>\n",
              "</svg>\n",
              "      </button>\n",
              "    </div>\n",
              "\n",
              "<style>\n",
              "  .colab-df-quickchart {\n",
              "    background-color: #E8F0FE;\n",
              "    border: none;\n",
              "    border-radius: 50%;\n",
              "    cursor: pointer;\n",
              "    display: none;\n",
              "    fill: #1967D2;\n",
              "    height: 32px;\n",
              "    padding: 0 0 0 0;\n",
              "    width: 32px;\n",
              "  }\n",
              "\n",
              "  .colab-df-quickchart:hover {\n",
              "    background-color: #E2EBFA;\n",
              "    box-shadow: 0px 1px 2px rgba(60, 64, 67, 0.3), 0px 1px 3px 1px rgba(60, 64, 67, 0.15);\n",
              "    fill: #174EA6;\n",
              "  }\n",
              "\n",
              "  [theme=dark] .colab-df-quickchart {\n",
              "    background-color: #3B4455;\n",
              "    fill: #D2E3FC;\n",
              "  }\n",
              "\n",
              "  [theme=dark] .colab-df-quickchart:hover {\n",
              "    background-color: #434B5C;\n",
              "    box-shadow: 0px 1px 3px 1px rgba(0, 0, 0, 0.15);\n",
              "    filter: drop-shadow(0px 1px 2px rgba(0, 0, 0, 0.3));\n",
              "    fill: #FFFFFF;\n",
              "  }\n",
              "</style>\n",
              "\n",
              "    <script>\n",
              "      async function quickchart(key) {\n",
              "        const containerElement = document.querySelector('#' + key);\n",
              "        const charts = await google.colab.kernel.invokeFunction(\n",
              "            'suggestCharts', [key], {});\n",
              "      }\n",
              "    </script>\n",
              "\n",
              "      <script>\n",
              "\n",
              "function displayQuickchartButton(domScope) {\n",
              "  let quickchartButtonEl =\n",
              "    domScope.querySelector('#df-ff243e36-c6b1-4ddb-9053-e0feef5882b1 button.colab-df-quickchart');\n",
              "  quickchartButtonEl.style.display =\n",
              "    google.colab.kernel.accessAllowed ? 'block' : 'none';\n",
              "}\n",
              "\n",
              "        displayQuickchartButton(document);\n",
              "      </script>\n",
              "      <style>\n",
              "    .colab-df-container {\n",
              "      display:flex;\n",
              "      flex-wrap:wrap;\n",
              "      gap: 12px;\n",
              "    }\n",
              "\n",
              "    .colab-df-convert {\n",
              "      background-color: #E8F0FE;\n",
              "      border: none;\n",
              "      border-radius: 50%;\n",
              "      cursor: pointer;\n",
              "      display: none;\n",
              "      fill: #1967D2;\n",
              "      height: 32px;\n",
              "      padding: 0 0 0 0;\n",
              "      width: 32px;\n",
              "    }\n",
              "\n",
              "    .colab-df-convert:hover {\n",
              "      background-color: #E2EBFA;\n",
              "      box-shadow: 0px 1px 2px rgba(60, 64, 67, 0.3), 0px 1px 3px 1px rgba(60, 64, 67, 0.15);\n",
              "      fill: #174EA6;\n",
              "    }\n",
              "\n",
              "    [theme=dark] .colab-df-convert {\n",
              "      background-color: #3B4455;\n",
              "      fill: #D2E3FC;\n",
              "    }\n",
              "\n",
              "    [theme=dark] .colab-df-convert:hover {\n",
              "      background-color: #434B5C;\n",
              "      box-shadow: 0px 1px 3px 1px rgba(0, 0, 0, 0.15);\n",
              "      filter: drop-shadow(0px 1px 2px rgba(0, 0, 0, 0.3));\n",
              "      fill: #FFFFFF;\n",
              "    }\n",
              "  </style>\n",
              "\n",
              "      <script>\n",
              "        const buttonEl =\n",
              "          document.querySelector('#df-a931ae28-91dd-4667-abfb-8cc01db68293 button.colab-df-convert');\n",
              "        buttonEl.style.display =\n",
              "          google.colab.kernel.accessAllowed ? 'block' : 'none';\n",
              "\n",
              "        async function convertToInteractive(key) {\n",
              "          const element = document.querySelector('#df-a931ae28-91dd-4667-abfb-8cc01db68293');\n",
              "          const dataTable =\n",
              "            await google.colab.kernel.invokeFunction('convertToInteractive',\n",
              "                                                     [key], {});\n",
              "          if (!dataTable) return;\n",
              "\n",
              "          const docLinkHtml = 'Like what you see? Visit the ' +\n",
              "            '<a target=\"_blank\" href=https://colab.research.google.com/notebooks/data_table.ipynb>data table notebook</a>'\n",
              "            + ' to learn more about interactive tables.';\n",
              "          element.innerHTML = '';\n",
              "          dataTable['output_type'] = 'display_data';\n",
              "          await google.colab.output.renderOutput(dataTable, element);\n",
              "          const docLink = document.createElement('div');\n",
              "          docLink.innerHTML = docLinkHtml;\n",
              "          element.appendChild(docLink);\n",
              "        }\n",
              "      </script>\n",
              "    </div>\n",
              "  </div>\n"
            ]
          },
          "metadata": {},
          "execution_count": 6
        }
      ]
    },
    {
      "cell_type": "code",
      "source": [
        "# Accessing the variable names\n",
        "print(\"Variable names:\\n\", meta.column_names)\n",
        "\n",
        "# Accessing the variable labels\n",
        "print(\"Variable labels:\\n\", meta.variable_value_labels)\n",
        "\n",
        "# Accessing the detailed information about each variable\n",
        "print(\"Variable information:\")\n",
        "print(meta.column_names_to_labels)"
      ],
      "metadata": {
        "colab": {
          "base_uri": "https://localhost:8080/"
        },
        "id": "Px-EQv4pqK8z",
        "outputId": "6b5983c2-3748-4bc7-e843-bb2f940abd6b"
      },
      "execution_count": null,
      "outputs": [
        {
          "output_type": "stream",
          "name": "stdout",
          "text": [
            "Variable names:\n",
            " ['ID', 'Headcirc', 'Length', 'Birthweight', 'Gestation', 'mage', 'smoker', 'mheight', 'mppwt', 'fage', 'fedyrs', 'fnocig', 'fheight', 'lowbwt', 'mage35', 'mnocig']\n",
            "Variable labels:\n",
            " {'smoker': {0.0: 'Non-smoker', 1.0: 'Smoker'}, 'lowbwt': {0.0: 'Not low birthweight', 1.0: 'Low birthweight'}, 'mage35': {0.0: 'Aged < 35', 1.0: 'Aged 35+'}}\n",
            "Variable information:\n",
            "{'ID': 'Baby ID', 'Headcirc': 'Head circumference (cm)', 'Length': 'Length of baby (cm)', 'Birthweight': 'Birthweight (kg)', 'Gestation': 'Gestational age at birth (weeks)', 'mage': 'Maternal age', 'smoker': None, 'mheight': 'Maternal height (cm)', 'mppwt': \"Mother's pre-pregnancy weight (kg)\", 'fage': \"Father's age\", 'fedyrs': 'Years father was in education', 'fnocig': 'Number of cigarettes smoked per day by father', 'fheight': \"Father's height (cm)\", 'lowbwt': 'Low birthweight baby', 'mage35': 'Mother aged over 35', 'mnocig': 'Number of cigarettes smoked per day by mother'}\n"
          ]
        }
      ]
    },
    {
      "cell_type": "markdown",
      "source": [
        "`Q1. What is the mean birth weight for babies of non-smoking mothers?`"
      ],
      "metadata": {
        "id": "2Px0W4GHnauC"
      }
    },
    {
      "cell_type": "code",
      "source": [
        "Answer = Df[Df['smoker'] == 0.0]['Birthweight'].mean()\n",
        "print(\"The mean birth weight for babies of non-smoking mothers is:\", round(Answer, 2))"
      ],
      "metadata": {
        "colab": {
          "base_uri": "https://localhost:8080/"
        },
        "id": "2z94wQNRxN2x",
        "outputId": "f327d616-2c36-4499-b640-a4b22c93e73a"
      },
      "execution_count": null,
      "outputs": [
        {
          "output_type": "stream",
          "name": "stdout",
          "text": [
            "The mean birth weight for babies of non-smoking mothers is: 3.51\n"
          ]
        }
      ]
    },
    {
      "cell_type": "markdown",
      "source": [
        "`Q2. What is the mean birth weight for babies of smoking mothers?`"
      ],
      "metadata": {
        "id": "FCXIqBaRxzMj"
      }
    },
    {
      "cell_type": "code",
      "source": [
        "Answer = Df[Df['smoker'] == 1.0]['Birthweight'].mean()\n",
        "print(\"The mean birth weight for babies of smoking mothers is:\", round(Answer, 2))"
      ],
      "metadata": {
        "colab": {
          "base_uri": "https://localhost:8080/"
        },
        "id": "dtkpHLIDzn9v",
        "outputId": "c65d3cae-2ee8-4011-c328-0851d407a6a5"
      },
      "execution_count": null,
      "outputs": [
        {
          "output_type": "stream",
          "name": "stdout",
          "text": [
            "The mean birth weight for babies of smoking mothers is: 3.13\n"
          ]
        }
      ]
    },
    {
      "cell_type": "markdown",
      "source": [
        "`Q3. What is the mean head circumference for babies of non-smoking mothers?`"
      ],
      "metadata": {
        "id": "ufuBz2aVzvww"
      }
    },
    {
      "cell_type": "code",
      "source": [
        "Answer = Df[Df['smoker'] == 0.0]['Headcirc'].mean()\n",
        "print(\"The mean head circumference for babies of smoking mothers is:\", round(Answer, 2))"
      ],
      "metadata": {
        "colab": {
          "base_uri": "https://localhost:8080/"
        },
        "id": "6OQQsfFZdDl1",
        "outputId": "2e3c8e41-8c4f-4737-99c1-6c9c975b749f"
      },
      "execution_count": null,
      "outputs": [
        {
          "output_type": "stream",
          "name": "stdout",
          "text": [
            "The mean head circumference for babies of smoking mothers is: 35.05\n"
          ]
        }
      ]
    },
    {
      "cell_type": "markdown",
      "source": [
        "`Q4. What is the mean gestational age at birth for babies of smoking mothers?`"
      ],
      "metadata": {
        "id": "b3HUGhq2eFpc"
      }
    },
    {
      "cell_type": "code",
      "source": [
        "Answer = Df[Df['smoker'] == 1.0]['Gestation'].mean()\n",
        "print(\"The mean gestational age for babies of smoking mothers is:\", round(Answer, 2))"
      ],
      "metadata": {
        "colab": {
          "base_uri": "https://localhost:8080/"
        },
        "id": "qqVxIucbeR66",
        "outputId": "e249e982-bccc-44f9-a193-2b409d3f36e7"
      },
      "execution_count": null,
      "outputs": [
        {
          "output_type": "stream",
          "name": "stdout",
          "text": [
            "The mean gestational age for babies of smoking mothers is: 38.95\n"
          ]
        }
      ]
    },
    {
      "cell_type": "markdown",
      "source": [
        "`Q5. What is the maximum head circumference for babies of non-smoking mothers?`"
      ],
      "metadata": {
        "id": "UF71c81qf03f"
      }
    },
    {
      "cell_type": "code",
      "source": [
        "Answer = Df[Df['smoker'] == 0.0]['Headcirc'].max()\n",
        "print(\"The maximum head circumference for babies of non-smoking mothers is:\", round(Answer, 2))"
      ],
      "metadata": {
        "colab": {
          "base_uri": "https://localhost:8080/"
        },
        "id": "T_Tht5Owf_DA",
        "outputId": "1938c39c-874b-48f6-d0bc-1ba65daef4b7"
      },
      "execution_count": null,
      "outputs": [
        {
          "output_type": "stream",
          "name": "stdout",
          "text": [
            "The maximum head circumference for babies of smoking mothers is: 39.0\n"
          ]
        }
      ]
    },
    {
      "cell_type": "markdown",
      "source": [
        "`Q6. What is the minimum gestational age at birth for babies of smoking mothers?`"
      ],
      "metadata": {
        "id": "Aj0_QlqQgFTr"
      }
    },
    {
      "cell_type": "code",
      "source": [
        "Answer = Df[Df['smoker'] == 1.0]['Gestation'].min()\n",
        "print(\"The minimum gestational age for babies of smoking mothers is:\", round(Answer, 2))"
      ],
      "metadata": {
        "colab": {
          "base_uri": "https://localhost:8080/"
        },
        "id": "OH7s1YtugtY3",
        "outputId": "86f12793-0863-40f9-c5ac-e90ff700192d"
      },
      "execution_count": null,
      "outputs": [
        {
          "output_type": "stream",
          "name": "stdout",
          "text": [
            "The minimum gestational age for babies of smoking mothers is: 33.0\n"
          ]
        }
      ]
    },
    {
      "cell_type": "markdown",
      "source": [
        "`Q7. Based on the dataset you have, out of the two, which one would be a better bet:`\n",
        "* Pregnancy period in smoking mothers is shorter\n",
        "* Pregnancy period in non-smoking mothers is shorter"
      ],
      "metadata": {
        "id": "XJiFDYG-hPSm"
      }
    },
    {
      "cell_type": "markdown",
      "source": [
        "`Answer:` Pregnancy period in smoking mothers is \"slightly\" shorter\n"
      ],
      "metadata": {
        "id": "KHF0aDLWhrNp"
      }
    },
    {
      "cell_type": "markdown",
      "source": [
        "`Q8. Justify the above choice in a few words.`"
      ],
      "metadata": {
        "id": "qcWigIAfjkLN"
      }
    },
    {
      "cell_type": "markdown",
      "source": [
        "`Answer:` The mean and maximum gestation age period shows that smoking mothers have a shorter gestation period, albeit a period of one week which is a slight difference."
      ],
      "metadata": {
        "id": "n5WKGgskkEbk"
      }
    },
    {
      "cell_type": "markdown",
      "source": [
        "`Q9. What is the baby birth weight range for babies of smoking mothers?`"
      ],
      "metadata": {
        "id": "-vt2DqmRk-W2"
      }
    },
    {
      "cell_type": "code",
      "source": [
        "Answer1 = Df[Df['smoker'] == 1.0]['Birthweight'].max()\n",
        "Answer2 = Df[Df['smoker'] == 1.0]['Birthweight'].min()\n",
        "Answer = Answer1 - Answer2\n",
        "print(\"The baby birth weight range for babies of smoking mothers is:\", round(Answer, 2))"
      ],
      "metadata": {
        "colab": {
          "base_uri": "https://localhost:8080/"
        },
        "id": "k7x9z8julM4p",
        "outputId": "91e3c01d-b65f-495e-c3eb-f0e00a5413d4"
      },
      "execution_count": null,
      "outputs": [
        {
          "output_type": "stream",
          "name": "stdout",
          "text": [
            "The baby birth weight range for babies of smoking mothers is: 2.65\n"
          ]
        }
      ]
    },
    {
      "cell_type": "markdown",
      "source": [
        "`Q10. In your own words describe what the value of the above range for baby's birthweight tells us about smoking versus non-smoking mothers?`"
      ],
      "metadata": {
        "id": "0OylM6NbkPnK"
      }
    },
    {
      "cell_type": "code",
      "source": [
        "print(Answer1, Answer2) #from Q9"
      ],
      "metadata": {
        "colab": {
          "base_uri": "https://localhost:8080/"
        },
        "id": "pxXzBcBLIm3H",
        "outputId": "2624e008-6bdc-4421-eeb1-b54bc96cc4cd"
      },
      "execution_count": null,
      "outputs": [
        {
          "output_type": "stream",
          "name": "stdout",
          "text": [
            "4.57 1.92\n"
          ]
        }
      ]
    },
    {
      "cell_type": "code",
      "source": [
        "Answer1 = Df[Df['smoker'] == 0.0]['Birthweight'].max()\n",
        "Answer2 = Df[Df['smoker'] == 0.0]['Birthweight'].min()\n",
        "Answer = Answer1 - Answer2 #range\n",
        "print(\"The baby birth weight range for babies of smoking non-mothers is:\", round(Answer, 2))"
      ],
      "metadata": {
        "colab": {
          "base_uri": "https://localhost:8080/"
        },
        "id": "ZA6yL1gBlGFn",
        "outputId": "4a933947-ad3c-4f30-b74d-a7316b763f91"
      },
      "execution_count": null,
      "outputs": [
        {
          "output_type": "stream",
          "name": "stdout",
          "text": [
            "The baby birth weight range for babies of smoking non-mothers is: 1.9\n"
          ]
        }
      ]
    },
    {
      "cell_type": "code",
      "source": [
        "print(Answer1, Answer2) #from Q10"
      ],
      "metadata": {
        "colab": {
          "base_uri": "https://localhost:8080/"
        },
        "id": "BX_ZaJ7pIuC9",
        "outputId": "688f1217-1f0e-4918-e32f-d2fde6587933"
      },
      "execution_count": null,
      "outputs": [
        {
          "output_type": "stream",
          "name": "stdout",
          "text": [
            "4.55 2.65\n"
          ]
        }
      ]
    },
    {
      "cell_type": "markdown",
      "source": [
        "`Answer:` There is a significance difference between the birth weights of\n",
        " babies from smokers and non-smokers in that while there is very little difference bwtween thei minimum weights of both parties, their maximum weights vary in that smokers tend to have heavier babies.\n"
      ],
      "metadata": {
        "id": "NOf1_Ezynkc3"
      }
    },
    {
      "cell_type": "markdown",
      "source": [
        "`Q11. Are head circumference data for babies of smoking mothers normally distributed?`"
      ],
      "metadata": {
        "id": "pjph8CIyJm2G"
      }
    },
    {
      "cell_type": "code",
      "source": [
        "Answer = Df[Df['smoker'] == 1.0]['Headcirc'] #mothers who smoke and the head circumference of their babies"
      ],
      "metadata": {
        "id": "d_Be2kV7dJWi"
      },
      "execution_count": null,
      "outputs": []
    },
    {
      "cell_type": "code",
      "source": [
        "#Using histogram\n",
        "Answer.plot.hist(bins=5, title='Distribution of the head circumferences of babies of smoking mothers')\n",
        "plt.xlabel(\"Head circumferences\")"
      ],
      "metadata": {
        "colab": {
          "base_uri": "https://localhost:8080/",
          "height": 489
        },
        "id": "Wg7LTVVwT8fC",
        "outputId": "79865761-5601-4881-98f7-8839d0f74ea5"
      },
      "execution_count": null,
      "outputs": [
        {
          "output_type": "execute_result",
          "data": {
            "text/plain": [
              "Text(0.5, 0, 'Head circumferences')"
            ]
          },
          "metadata": {},
          "execution_count": 44
        },
        {
          "output_type": "display_data",
          "data": {
            "text/plain": [
              "<Figure size 640x480 with 1 Axes>"
            ],
            "image/png": "[encoded data removed]"
          },
          "metadata": {}
        }
      ]
    },
    {
      "cell_type": "code",
      "source": [
        "#Using QQ-plot\n",
        "sm.qqplot(Answer, line='s')\n",
        "plt.title(\"QQ plot to test for normality\")"
      ],
      "metadata": {
        "colab": {
          "base_uri": "https://localhost:8080/",
          "height": 489
        },
        "id": "YgJqzEqEZ4Hb",
        "outputId": "38ed98ef-1e21-407c-c8ae-6dde9e854f89"
      },
      "execution_count": null,
      "outputs": [
        {
          "output_type": "execute_result",
          "data": {
            "text/plain": [
              "Text(0.5, 1.0, 'QQ plot to test for normality')"
            ]
          },
          "metadata": {},
          "execution_count": 45
        },
        {
          "output_type": "display_data",
          "data": {
            "text/plain": [
              "<Figure size 640x480 with 1 Axes>"
            ],
            "image/png": "[encoded data removed]"
          },
          "metadata": {}
        }
      ]
    },
    {
      "cell_type": "code",
      "source": [
        "#Shapiro-Wilk test for normality\n",
        "shapiro_statistic, p_value = shapiro(Answer)\n",
        "alpha = 0.05\n",
        "if p_value > alpha:\n",
        "  print(\"The shapiro p-value,\", p_value, \"is greater than the alpha,\", alpha)\n",
        "  print(\"This implies that the data is normally distributed\")\n",
        "else:\n",
        "  print(\"The shapiro p-value,\", p_value, \"is less than the alpha,\", alpha)\n",
        "  print(\"This implies that the data is not normally distributed\")"
      ],
      "metadata": {
        "colab": {
          "base_uri": "https://localhost:8080/"
        },
        "id": "7Q-R1V6uJ2W3",
        "outputId": "5aea03bc-a0dd-4a4c-cc61-4be390202079"
      },
      "execution_count": null,
      "outputs": [
        {
          "output_type": "stream",
          "name": "stdout",
          "text": [
            "The shapiro p-value, 0.3723871409893036 is greater than the alpha, 0.05\n",
            "This implies that the data is normally distributed\n"
          ]
        }
      ]
    },
    {
      "cell_type": "markdown",
      "source": [
        "`Answer:` The QQ-plot and shapiro-wilk test tells us that the data in question is normally distributed. But the histogram disagrees. We vote to agree that the data is normally distributed."
      ],
      "metadata": {
        "id": "uqyj85ZQXO98"
      }
    },
    {
      "cell_type": "markdown",
      "source": [
        "`Q12. What is the significance value for the above on the Shapiro-Wilk test?`"
      ],
      "metadata": {
        "id": "E74WaZuAbtJv"
      }
    },
    {
      "cell_type": "code",
      "source": [
        "print(\"Significance value:\", round(p_value, 3))"
      ],
      "metadata": {
        "colab": {
          "base_uri": "https://localhost:8080/"
        },
        "id": "_O0DfdP9eAE_",
        "outputId": "b14e2c86-c40b-4d9c-e97c-502fbb1ccbc8"
      },
      "execution_count": null,
      "outputs": [
        {
          "output_type": "stream",
          "name": "stdout",
          "text": [
            "Significance value: 0.372\n"
          ]
        }
      ]
    },
    {
      "cell_type": "markdown",
      "source": [
        "`Q13. What is the standard score (Z-score) for head circumference of 35.05 (X=35.05) in non-smoking mothers?`"
      ],
      "metadata": {
        "id": "6wNS9_92eZ-a"
      }
    },
    {
      "cell_type": "code",
      "source": [
        "mean = Df[Df['smoker'] == 0.0]['Headcirc'].mean()\n",
        "SD = Df[Df['smoker'] == 0.0]['Headcirc'].std()\n",
        "z_score = (35.05 - mean)/SD\n",
        "print(\"The z-score for head circumference of 35.05 is\", z_score)"
      ],
      "metadata": {
        "colab": {
          "base_uri": "https://localhost:8080/"
        },
        "id": "206jDELievr-",
        "outputId": "d1215ad8-2e08-4112-aeb3-c2437088e03b"
      },
      "execution_count": null,
      "outputs": [
        {
          "output_type": "stream",
          "name": "stdout",
          "text": [
            "The z-score for head circumference of 35.05 is 0.0\n"
          ]
        }
      ]
    },
    {
      "cell_type": "markdown",
      "source": [
        "`Q14. How are birth weight data of non-smoking mothers skewed?`"
      ],
      "metadata": {
        "id": "2qhrQV29hQEz"
      }
    },
    {
      "cell_type": "code",
      "source": [
        "Answer = Df[Df['smoker'] == 0.0]['Birthweight'].kurt()\n",
        "print(\"The birth weight data of non-smoking mothers is\", round(Answer, 3))"
      ],
      "metadata": {
        "colab": {
          "base_uri": "https://localhost:8080/"
        },
        "id": "2DH_8jk3i9U6",
        "outputId": "896c54a3-5db7-4af5-9dd7-cd5e3d7490aa"
      },
      "execution_count": null,
      "outputs": [
        {
          "output_type": "stream",
          "name": "stdout",
          "text": [
            "The birth weight data of non-smoking mothers is -0.727\n"
          ]
        }
      ]
    },
    {
      "cell_type": "markdown",
      "source": [
        "`Q15. Are birth weight data for babies of smoking mothers normally distributed?`"
      ],
      "metadata": {
        "id": "eCvZMnUumJSl"
      }
    },
    {
      "cell_type": "code",
      "source": [
        "Answer = Df[Df['smoker'] == 1.0]['Birthweight'] #The birth weight of babies of smoking mums"
      ],
      "metadata": {
        "id": "iHeKQgShmI6Y"
      },
      "execution_count": null,
      "outputs": []
    },
    {
      "cell_type": "code",
      "source": [
        "#Using histogram\n",
        "Answer.plot.hist(bins=5, title='Distribution of the birth weights of babies of smoking mothers')\n",
        "plt.xlabel(\"Birth weights\")"
      ],
      "metadata": {
        "colab": {
          "base_uri": "https://localhost:8080/",
          "height": 489
        },
        "id": "crdUMIT6oLSR",
        "outputId": "3a16f380-60ff-42cc-ea38-1104f0fe7b31"
      },
      "execution_count": null,
      "outputs": [
        {
          "output_type": "execute_result",
          "data": {
            "text/plain": [
              "Text(0.5, 0, 'Birth weights')"
            ]
          },
          "metadata": {},
          "execution_count": 68
        },
        {
          "output_type": "display_data",
          "data": {
            "text/plain": [
              "<Figure size 640x480 with 1 Axes>"
            ],
            "image/png": "[encoded data removed]"
          },
          "metadata": {}
        }
      ]
    },
    {
      "cell_type": "code",
      "source": [
        "#Using QQ-plot\n",
        "sm.qqplot(Answer, line='s')\n",
        "plt.title(\"QQ plot to test for normality\")"
      ],
      "metadata": {
        "colab": {
          "base_uri": "https://localhost:8080/",
          "height": 489
        },
        "id": "C4z0F4LRoC7N",
        "outputId": "25aa510c-b378-4ba7-de8f-a6579320b832"
      },
      "execution_count": null,
      "outputs": [
        {
          "output_type": "execute_result",
          "data": {
            "text/plain": [
              "Text(0.5, 1.0, 'QQ plot to test for normality')"
            ]
          },
          "metadata": {},
          "execution_count": 69
        },
        {
          "output_type": "display_data",
          "data": {
            "text/plain": [
              "<Figure size 640x480 with 1 Axes>"
            ],
            "image/png": "[encoded data removed]"
          },
          "metadata": {}
        }
      ]
    },
    {
      "cell_type": "code",
      "source": [
        "#Shapiro-Wilk test for normality\n",
        "shapiro_statistic, p_value = shapiro(Answer)\n",
        "alpha = 0.05\n",
        "if p_value > alpha:\n",
        "  print(\"The shapiro p-value,\", p_value, \"is greater than the alpha,\", alpha)\n",
        "  print(\"This implies that the data is normally distributed\")\n",
        "else:\n",
        "  print(\"The shapiro p-value,\", p_value, \"is less than the alpha,\", alpha)\n",
        "  print(\"This implies that the data is not normally distributed\")"
      ],
      "metadata": {
        "colab": {
          "base_uri": "https://localhost:8080/"
        },
        "id": "F2Jsiqh-oenZ",
        "outputId": "1cc9b277-7373-4a8d-c9ee-b1846237003e"
      },
      "execution_count": null,
      "outputs": [
        {
          "output_type": "stream",
          "name": "stdout",
          "text": [
            "The shapiro p-value, 0.9494693279266357 is greater than the alpha, 0.05\n",
            "This implies that the data is normally distributed\n"
          ]
        }
      ]
    },
    {
      "cell_type": "markdown",
      "source": [
        "`Answer:` The QQ-plot and Shapiro-Wilk test tells us that the data is normally distributed. But the histogram plot disagrees. We will go with the QQ-plot and Shapiro-Wilk test results and agree that the data is normally distributed."
      ],
      "metadata": {
        "id": "tUeVee7zo1v6"
      }
    },
    {
      "cell_type": "markdown",
      "source": [
        "`Q16. What is the significance value for the above on the Shapiro-Wilk test?`"
      ],
      "metadata": {
        "id": "IUoYjn5tkxk2"
      }
    },
    {
      "cell_type": "code",
      "source": [
        "print(\"Significance value:\", p_value)"
      ],
      "metadata": {
        "colab": {
          "base_uri": "https://localhost:8080/"
        },
        "id": "mc24yekBpgxs",
        "outputId": "0b4a02aa-575f-4aa3-e9dd-59c28d307d88"
      },
      "execution_count": null,
      "outputs": [
        {
          "output_type": "stream",
          "name": "stdout",
          "text": [
            "Significance value: 0.9494693279266357\n"
          ]
        }
      ]
    },
    {
      "cell_type": "markdown",
      "source": [
        "`Q17. Based on the dataset you have, how confident can you be in saying that a baby's birth weight will be +/- 1 standard deviation from the mean?`"
      ],
      "metadata": {
        "id": "0UkzqGMnprgF"
      }
    },
    {
      "cell_type": "code",
      "source": [
        "print(\"Confidence: 68%\")"
      ],
      "metadata": {
        "colab": {
          "base_uri": "https://localhost:8080/"
        },
        "id": "rlcsVurVp0pw",
        "outputId": "c1ddd6c7-96ec-4d21-97ed-48d43534768b"
      },
      "execution_count": null,
      "outputs": [
        {
          "output_type": "stream",
          "name": "stdout",
          "text": [
            "Confidence: 68%\n"
          ]
        }
      ]
    },
    {
      "cell_type": "markdown",
      "source": [
        "`Q18. Based on the dataset you have, what is the probability that the birth weight for a baby of a smoking mother will be less than 4.2 kg?`"
      ],
      "metadata": {
        "id": "sA2N6hEX1B1x"
      }
    },
    {
      "cell_type": "code",
      "source": [
        "smoking_mums_4 = len(Df.loc[(Df['smoker'] == 1) & (Df['Birthweight'] < 4.2), 'Birthweight'])\n",
        "smoking_mums = len(Df.loc[(Df['smoker'] == 1) & Df['Birthweight'], 'Birthweight'])\n",
        "Answer = (smoking_mums_4/smoking_mums)*100\n",
        "print(\"The probability of a smoking mum giving birth to a baby less than 4,2 is {:.3}%\".format(Answer))"
      ],
      "metadata": {
        "colab": {
          "base_uri": "https://localhost:8080/"
        },
        "id": "Ld-ZIkaj8cuZ",
        "outputId": "bcb41a0d-07ea-4bda-93da-a8a0491acaf1"
      },
      "execution_count": null,
      "outputs": [
        {
          "output_type": "stream",
          "name": "stdout",
          "text": [
            "The probability of a smoking mum giving birth to a baby less than 4,2 is 95.5%\n"
          ]
        }
      ]
    },
    {
      "cell_type": "markdown",
      "source": [
        "`Q19. Are data for length of baby of non-smoking mothers normally distributed?`"
      ],
      "metadata": {
        "id": "8Q2iJRQO_WrP"
      }
    },
    {
      "cell_type": "code",
      "source": [
        "#data for length of babies of non-smoking moms\n",
        "Answer = Df[Df['smoker'] == 0.0]['Length']"
      ],
      "metadata": {
        "id": "ZAa-4SCPD1hJ"
      },
      "execution_count": null,
      "outputs": []
    },
    {
      "cell_type": "code",
      "source": [
        "#Using histogram\n",
        "Answer.plot.hist(bins=5, title='Distribution of the lengths of babies of non-smoking mothers')\n",
        "plt.xlabel(\"Baby lengths\")"
      ],
      "metadata": {
        "colab": {
          "base_uri": "https://localhost:8080/",
          "height": 489
        },
        "id": "FpuWCJiXGOL5",
        "outputId": "77a57458-ca1f-4a9b-fe96-b4724b42001e"
      },
      "execution_count": null,
      "outputs": [
        {
          "output_type": "execute_result",
          "data": {
            "text/plain": [
              "Text(0.5, 0, 'Baby lengths')"
            ]
          },
          "metadata": {},
          "execution_count": 110
        },
        {
          "output_type": "display_data",
          "data": {
            "text/plain": [
              "<Figure size 640x480 with 1 Axes>"
            ],
            "image/png": "[encoded data removed]"
          },
          "metadata": {}
        }
      ]
    },
    {
      "cell_type": "code",
      "source": [
        "#Using QQ-plot\n",
        "sm.qqplot(Answer, line='s')\n",
        "plt.title(\"QQ plot to test for normality\")"
      ],
      "metadata": {
        "colab": {
          "base_uri": "https://localhost:8080/",
          "height": 489
        },
        "id": "k2xcEEMgGTmA",
        "outputId": "06cdc8d0-c2a1-4625-d6cb-5f066e143651"
      },
      "execution_count": null,
      "outputs": [
        {
          "output_type": "execute_result",
          "data": {
            "text/plain": [
              "Text(0.5, 1.0, 'QQ plot to test for normality')"
            ]
          },
          "metadata": {},
          "execution_count": 111
        },
        {
          "output_type": "display_data",
          "data": {
            "text/plain": [
              "<Figure size 640x480 with 1 Axes>"
            ],
            "image/png": "[encoded data removed]"
          },
          "metadata": {}
        }
      ]
    },
    {
      "cell_type": "code",
      "source": [
        "#Shapiro-Wilk test for normality\n",
        "shapiro_statistic, p_value = shapiro(Answer)\n",
        "alpha = 0.05\n",
        "if p_value > alpha:\n",
        "  print(\"The shapiro p-value,\", p_value, \"is greater than the alpha,\", alpha)\n",
        "  print(\"This implies that the data is normally distributed\")\n",
        "else:\n",
        "  print(\"The shapiro p-value,\", p_value, \"is less than the alpha,\", alpha)\n",
        "  print(\"This implies that the data is not normally distributed.\")"
      ],
      "metadata": {
        "colab": {
          "base_uri": "https://localhost:8080/"
        },
        "id": "klAid1w3GvGm",
        "outputId": "7ecd80c0-1d32-4ab4-8e88-9e945632722c"
      },
      "execution_count": null,
      "outputs": [
        {
          "output_type": "stream",
          "name": "stdout",
          "text": [
            "The shapiro p-value, 0.0703715905547142 is greater than the alpha, 0.05\n",
            "This implies that the data is normally distributed\n"
          ]
        }
      ]
    },
    {
      "cell_type": "markdown",
      "source": [
        "`Answer:` The plots from the histogram and QQ plots do not imply a clear normal distribution because of visible skewness. But we will agree with the Shapiro test that it is 'almost' normally distributed."
      ],
      "metadata": {
        "id": "6BfQKNQLG42o"
      }
    },
    {
      "cell_type": "markdown",
      "source": [
        "`Q20. What is the significance value for the above on the Shapiro-Wilk test?`"
      ],
      "metadata": {
        "id": "yk7VPKs5IU2j"
      }
    },
    {
      "cell_type": "code",
      "source": [
        "print(\"Significance value\", p_value)"
      ],
      "metadata": {
        "colab": {
          "base_uri": "https://localhost:8080/"
        },
        "id": "wLeALTKNIbbY",
        "outputId": "0a255388-0a76-483f-ed3a-fc0d2956c715"
      },
      "execution_count": null,
      "outputs": [
        {
          "output_type": "stream",
          "name": "stdout",
          "text": [
            "Significance value 0.0703715905547142\n"
          ]
        }
      ]
    },
    {
      "cell_type": "markdown",
      "source": [
        "`Q21. What is the standard score for the length of a baby of 48.5cm for non-smoking mothers?`"
      ],
      "metadata": {
        "id": "8JYjYM5cIihJ"
      }
    },
    {
      "cell_type": "code",
      "source": [
        "mean = Df[Df['smoker'] == 0.0]['Length'].mean()\n",
        "SD = Df[Df['smoker'] == 0.0]['Length'].std()\n",
        "\n",
        "z_score = (48.5 - mean)/SD\n",
        "print(\"The standard score for a baby of length 48.5cm for a non-smoking mother is\", round(z_score, 3))"
      ],
      "metadata": {
        "colab": {
          "base_uri": "https://localhost:8080/"
        },
        "id": "yWrS8gARIs8h",
        "outputId": "32410d51-6102-4f5f-ad42-9eb1ea97f843"
      },
      "execution_count": null,
      "outputs": [
        {
          "output_type": "stream",
          "name": "stdout",
          "text": [
            "The standard score for a baby of length 48.5cm for a non-smoking mother is -1.014\n"
          ]
        }
      ]
    },
    {
      "cell_type": "markdown",
      "source": [
        "`Q22. Based on the dataset you have, what is the probability that the length of baby for non-smoking mothers will be more than 55 cm?`\n"
      ],
      "metadata": {
        "id": "OSnaP1r8JDHh"
      }
    },
    {
      "cell_type": "code",
      "source": [
        "lengths_5 = len(Df.loc[(Df['smoker'] == 0.0) & (Df['Length'] > 55), 'Length'])\n",
        "lengths = len(Df.loc[(Df['smoker'] == 0.0) & Df['Length'], 'Length'])\n",
        "Answer = (lengths_5/lengths)*100\n",
        "print(\"The probability of a baby of a non-smoking mum to be longer than 55cm is {:.3}%\".format(Answer))"
      ],
      "metadata": {
        "colab": {
          "base_uri": "https://localhost:8080/"
        },
        "id": "RA9x1lbYKA1k",
        "outputId": "67e78d23-3289-4480-888b-f5cf7df53ccf"
      },
      "execution_count": null,
      "outputs": [
        {
          "output_type": "stream",
          "name": "stdout",
          "text": [
            "The probability of a baby of a non-smoking mum to be longer than 55cm is 10.0%\n"
          ]
        }
      ]
    },
    {
      "cell_type": "code",
      "source": [],
      "metadata": {
        "id": "-v17uqdILOXT"
      },
      "execution_count": null,
      "outputs": []
    }
  ]
}