{
  "nbformat": 4,
  "nbformat_minor": 0,
  "metadata": {
    "colab": {
      "provenance": [],
      "authorship_tag": "ABX9TyMmMLLjGUB/WHmAai0hq+Xy",
      "include_colab_link": true
    },
    "kernelspec": {
      "name": "python3",
      "display_name": "Python 3"
    },
    "language_info": {
      "name": "python"
    }
  },
  "cells": [
    {
      "cell_type": "markdown",
      "metadata": {
        "id": "view-in-github",
        "colab_type": "text"
      },
      "source": [
        "<a href=\"https://colab.research.google.com/github/ASTRONOE/Common_Data_Analysis/blob/KreativStorm/Week_3.ipynb\" target=\"_parent\"><img src=\"https://colab.research.google.com/assets/colab-badge.svg\" alt=\"Open In Colab\"/></a>"
      ]
    },
    {
      "cell_type": "markdown",
      "source": [
        "#**Data Analysis Hands-On Program - KreativStorm**\n",
        "##WEEK 3 ASSIGNMENT"
      ],
      "metadata": {
        "id": "BTL9Uj-PLtyu"
      }
    },
    {
      "cell_type": "code",
      "source": [
        "#ensure pyreadstat for spss is installed!!\n",
        "!pip install pyreadstat"
      ],
      "metadata": {
        "colab": {
          "base_uri": "https://localhost:8080/"
        },
        "id": "O0kcsw6VLwwr",
        "outputId": "8546dc6c-5e22-41f2-e3dd-148773e4a663"
      },
      "execution_count": null,
      "outputs": [
        {
          "output_type": "stream",
          "name": "stdout",
          "text": [
            "Collecting pyreadstat\n",
            "  Downloading pyreadstat-1.2.2-cp310-cp310-manylinux_2_17_x86_64.manylinux2014_x86_64.whl (2.7 MB)\n",
            "\u001b[2K     \u001b[90m━━━━━━━━━━━━━━━━━━━━━━━━━━━━━━━━━━━━━━━━\u001b[0m \u001b[32m2.7/2.7 MB\u001b[0m \u001b[31m10.1 MB/s\u001b[0m eta \u001b[36m0:00:00\u001b[0m\n",
            "\u001b[?25hRequirement already satisfied: pandas>=1.2.0 in /usr/local/lib/python3.10/dist-packages (from pyreadstat) (1.5.3)\n",
            "Requirement already satisfied: python-dateutil>=2.8.1 in /usr/local/lib/python3.10/dist-packages (from pandas>=1.2.0->pyreadstat) (2.8.2)\n",
            "Requirement already satisfied: pytz>=2020.1 in /usr/local/lib/python3.10/dist-packages (from pandas>=1.2.0->pyreadstat) (2022.7.1)\n",
            "Requirement already satisfied: numpy>=1.21.0 in /usr/local/lib/python3.10/dist-packages (from pandas>=1.2.0->pyreadstat) (1.22.4)\n",
            "Requirement already satisfied: six>=1.5 in /usr/local/lib/python3.10/dist-packages (from python-dateutil>=2.8.1->pandas>=1.2.0->pyreadstat) (1.16.0)\n",
            "Installing collected packages: pyreadstat\n",
            "Successfully installed pyreadstat-1.2.2\n"
          ]
        }
      ]
    },
    {
      "cell_type": "code",
      "source": [
        "#load libraries\n",
        "import numpy as np\n",
        "import pandas as pd\n",
        "import pyreadstat as prs\n",
        "import matplotlib.pyplot as plt\n",
        "import statsmodels.api as sm\n",
        "import seaborn as sb\n",
        "from scipy.stats import levene, median_test, ttest_ind, ttest_rel, ttest_1samp, kstest, shapiro\n",
        "from statsmodels.stats.stattools import durbin_watson\n",
        "from statsmodels.stats.diagnostic import het_breuschpagan\n",
        "from statsmodels.multivariate.manova import MANOVA\n",
        "from google.colab import files"
      ],
      "metadata": {
        "id": "cvWyf9dqL1xP"
      },
      "execution_count": null,
      "outputs": []
    },
    {
      "cell_type": "code",
      "source": [
        "sav_file = files.upload() #upload file from explorer"
      ],
      "metadata": {
        "colab": {
          "base_uri": "https://localhost:8080/",
          "height": 70
        },
        "id": "Txb94b8KL9lj",
        "outputId": "0d4f8f27-26e2-48d1-f15f-09ce538c52bb"
      },
      "execution_count": null,
      "outputs": [
        {
          "output_type": "display_data",
          "data": {
            "text/plain": [
              "<IPython.core.display.HTML object>"
            ],
            "text/html": [
              "\n",
              "     <input type=\"file\" id=\"files-710e52b0-477e-434e-b3d0-fb40c8ced039\" name=\"files[]\" multiple disabled\n",
              "        style=\"border:none\" />\n",
              "     <output id=\"result-710e52b0-477e-434e-b3d0-fb40c8ced039\">\n",
              "      Upload widget is only available when the cell has been executed in the\n",
              "      current browser session. Please rerun this cell to enable.\n",
              "      </output>\n",
              "      <script>// Copyright 2017 Google LLC\n",
              "//\n",
              "// Licensed under the Apache License, Version 2.0 (the \"License\");\n",
              "// you may not use this file except in compliance with the License.\n",
              "// You may obtain a copy of the License at\n",
              "//\n",
              "//      http://www.apache.org/licenses/LICENSE-2.0\n",
              "//\n",
              "// Unless required by applicable law or agreed to in writing, software\n",
              "// distributed under the License is distributed on an \"AS IS\" BASIS,\n",
              "// WITHOUT WARRANTIES OR CONDITIONS OF ANY KIND, either express or implied.\n",
              "// See the License for the specific language governing permissions and\n",
              "// limitations under the License.\n",
              "\n",
              "/**\n",
              " * @fileoverview Helpers for google.colab Python module.\n",
              " */\n",
              "(function(scope) {\n",
              "function span(text, styleAttributes = {}) {\n",
              "  const element = document.createElement('span');\n",
              "  element.textContent = text;\n",
              "  for (const key of Object.keys(styleAttributes)) {\n",
              "    element.style[key] = styleAttributes[key];\n",
              "  }\n",
              "  return element;\n",
              "}\n",
              "\n",
              "// Max number of bytes which will be uploaded at a time.\n",
              "const MAX_PAYLOAD_SIZE = 100 * 1024;\n",
              "\n",
              "function _uploadFiles(inputId, outputId) {\n",
              "  const steps = uploadFilesStep(inputId, outputId);\n",
              "  const outputElement = document.getElementById(outputId);\n",
              "  // Cache steps on the outputElement to make it available for the next call\n",
              "  // to uploadFilesContinue from Python.\n",
              "  outputElement.steps = steps;\n",
              "\n",
              "  return _uploadFilesContinue(outputId);\n",
              "}\n",
              "\n",
              "// This is roughly an async generator (not supported in the browser yet),\n",
              "// where there are multiple asynchronous steps and the Python side is going\n",
              "// to poll for completion of each step.\n",
              "// This uses a Promise to block the python side on completion of each step,\n",
              "// then passes the result of the previous step as the input to the next step.\n",
              "function _uploadFilesContinue(outputId) {\n",
              "  const outputElement = document.getElementById(outputId);\n",
              "  const steps = outputElement.steps;\n",
              "\n",
              "  const next = steps.next(outputElement.lastPromiseValue);\n",
              "  return Promise.resolve(next.value.promise).then((value) => {\n",
              "    // Cache the last promise value to make it available to the next\n",
              "    // step of the generator.\n",
              "    outputElement.lastPromiseValue = value;\n",
              "    return next.value.response;\n",
              "  });\n",
              "}\n",
              "\n",
              "/**\n",
              " * Generator function which is called between each async step of the upload\n",
              " * process.\n",
              " * @param {string} inputId Element ID of the input file picker element.\n",
              " * @param {string} outputId Element ID of the output display.\n",
              " * @return {!Iterable<!Object>} Iterable of next steps.\n",
              " */\n",
              "function* uploadFilesStep(inputId, outputId) {\n",
              "  const inputElement = document.getElementById(inputId);\n",
              "  inputElement.disabled = false;\n",
              "\n",
              "  const outputElement = document.getElementById(outputId);\n",
              "  outputElement.innerHTML = '';\n",
              "\n",
              "  const pickedPromise = new Promise((resolve) => {\n",
              "    inputElement.addEventListener('change', (e) => {\n",
              "      resolve(e.target.files);\n",
              "    });\n",
              "  });\n",
              "\n",
              "  const cancel = document.createElement('button');\n",
              "  inputElement.parentElement.appendChild(cancel);\n",
              "  cancel.textContent = 'Cancel upload';\n",
              "  const cancelPromise = new Promise((resolve) => {\n",
              "    cancel.onclick = () => {\n",
              "      resolve(null);\n",
              "    };\n",
              "  });\n",
              "\n",
              "  // Wait for the user to pick the files.\n",
              "  const files = yield {\n",
              "    promise: Promise.race([pickedPromise, cancelPromise]),\n",
              "    response: {\n",
              "      action: 'starting',\n",
              "    }\n",
              "  };\n",
              "\n",
              "  cancel.remove();\n",
              "\n",
              "  // Disable the input element since further picks are not allowed.\n",
              "  inputElement.disabled = true;\n",
              "\n",
              "  if (!files) {\n",
              "    return {\n",
              "      response: {\n",
              "        action: 'complete',\n",
              "      }\n",
              "    };\n",
              "  }\n",
              "\n",
              "  for (const file of files) {\n",
              "    const li = document.createElement('li');\n",
              "    li.append(span(file.name, {fontWeight: 'bold'}));\n",
              "    li.append(span(\n",
              "        `(${file.type || 'n/a'}) - ${file.size} bytes, ` +\n",
              "        `last modified: ${\n",
              "            file.lastModifiedDate ? file.lastModifiedDate.toLocaleDateString() :\n",
              "                                    'n/a'} - `));\n",
              "    const percent = span('0% done');\n",
              "    li.appendChild(percent);\n",
              "\n",
              "    outputElement.appendChild(li);\n",
              "\n",
              "    const fileDataPromise = new Promise((resolve) => {\n",
              "      const reader = new FileReader();\n",
              "      reader.onload = (e) => {\n",
              "        resolve(e.target.result);\n",
              "      };\n",
              "      reader.readAsArrayBuffer(file);\n",
              "    });\n",
              "    // Wait for the data to be ready.\n",
              "    let fileData = yield {\n",
              "      promise: fileDataPromise,\n",
              "      response: {\n",
              "        action: 'continue',\n",
              "      }\n",
              "    };\n",
              "\n",
              "    // Use a chunked sending to avoid message size limits. See b/62115660.\n",
              "    let position = 0;\n",
              "    do {\n",
              "      const length = Math.min(fileData.byteLength - position, MAX_PAYLOAD_SIZE);\n",
              "      const chunk = new Uint8Array(fileData, position, length);\n",
              "      position += length;\n",
              "\n",
              "      const base64 = btoa(String.fromCharCode.apply(null, chunk));\n",
              "      yield {\n",
              "        response: {\n",
              "          action: 'append',\n",
              "          file: file.name,\n",
              "          data: base64,\n",
              "        },\n",
              "      };\n",
              "\n",
              "      let percentDone = fileData.byteLength === 0 ?\n",
              "          100 :\n",
              "          Math.round((position / fileData.byteLength) * 100);\n",
              "      percent.textContent = `${percentDone}% done`;\n",
              "\n",
              "    } while (position < fileData.byteLength);\n",
              "  }\n",
              "\n",
              "  // All done.\n",
              "  yield {\n",
              "    response: {\n",
              "      action: 'complete',\n",
              "    }\n",
              "  };\n",
              "}\n",
              "\n",
              "scope.google = scope.google || {};\n",
              "scope.google.colab = scope.google.colab || {};\n",
              "scope.google.colab._files = {\n",
              "  _uploadFiles,\n",
              "  _uploadFilesContinue,\n",
              "};\n",
              "})(self);\n",
              "</script> "
            ]
          },
          "metadata": {}
        },
        {
          "output_type": "stream",
          "name": "stdout",
          "text": [
            "Saving Birthweight_reduced_kg_SPSS.sav to Birthweight_reduced_kg_SPSS.sav\n"
          ]
        }
      ]
    },
    {
      "cell_type": "code",
      "source": [
        "Df, meta = prs.read_sav(\"Birthweight_reduced_kg_SPSS.sav\") #load file"
      ],
      "metadata": {
        "id": "IHq1JrWwMCTg"
      },
      "execution_count": null,
      "outputs": []
    },
    {
      "cell_type": "code",
      "source": [
        "#print dataframe summary\n",
        "print(Df.shape)\n",
        "print(Df.info())"
      ],
      "metadata": {
        "colab": {
          "base_uri": "https://localhost:8080/"
        },
        "id": "GWTmWtexMohZ",
        "outputId": "e20523b7-b2ef-4f86-d59d-208849de4e80"
      },
      "execution_count": null,
      "outputs": [
        {
          "output_type": "stream",
          "name": "stdout",
          "text": [
            "(42, 16)\n",
            "<class 'pandas.core.frame.DataFrame'>\n",
            "RangeIndex: 42 entries, 0 to 41\n",
            "Data columns (total 16 columns):\n",
            " #   Column       Non-Null Count  Dtype  \n",
            "---  ------       --------------  -----  \n",
            " 0   ID           42 non-null     float64\n",
            " 1   Headcirc     42 non-null     float64\n",
            " 2   Length       42 non-null     float64\n",
            " 3   Birthweight  42 non-null     float64\n",
            " 4   Gestation    42 non-null     float64\n",
            " 5   mage         42 non-null     float64\n",
            " 6   smoker       42 non-null     float64\n",
            " 7   mheight      42 non-null     float64\n",
            " 8   mppwt        42 non-null     float64\n",
            " 9   fage         42 non-null     float64\n",
            " 10  fedyrs       42 non-null     float64\n",
            " 11  fnocig       42 non-null     float64\n",
            " 12  fheight      42 non-null     float64\n",
            " 13  lowbwt       42 non-null     float64\n",
            " 14  mage35       42 non-null     float64\n",
            " 15  mnocig       42 non-null     float64\n",
            "dtypes: float64(16)\n",
            "memory usage: 5.4 KB\n",
            "None\n"
          ]
        }
      ]
    },
    {
      "cell_type": "code",
      "source": [
        "# Accessing the variable names\n",
        "print(\"Variable names:\\n\", meta.column_names)\n",
        "\n",
        "# Accessing the variable labels\n",
        "print(\"Variable labels:\\n\", meta.variable_value_labels)\n",
        "\n",
        "# Accessing the detailed information about each variable\n",
        "print(\"Variable information:\")\n",
        "print(meta.column_names_to_labels)"
      ],
      "metadata": {
        "colab": {
          "base_uri": "https://localhost:8080/"
        },
        "id": "uXtpddgHMukA",
        "outputId": "4000652c-53f4-40a3-f141-5ce7573be5bf"
      },
      "execution_count": null,
      "outputs": [
        {
          "output_type": "stream",
          "name": "stdout",
          "text": [
            "Variable names:\n",
            " ['ID', 'Headcirc', 'Length', 'Birthweight', 'Gestation', 'mage', 'smoker', 'mheight', 'mppwt', 'fage', 'fedyrs', 'fnocig', 'fheight', 'lowbwt', 'mage35', 'mnocig']\n",
            "Variable labels:\n",
            " {'smoker': {0.0: 'Non-smoker', 1.0: 'Smoker'}, 'lowbwt': {0.0: 'Not low birthweight', 1.0: 'Low birthweight'}, 'mage35': {0.0: 'Aged < 35', 1.0: 'Aged 35+'}}\n",
            "Variable information:\n",
            "{'ID': 'Baby ID', 'Headcirc': 'Head circumference (cm)', 'Length': 'Length of baby (cm)', 'Birthweight': 'Birthweight (kg)', 'Gestation': 'Gestational age at birth (weeks)', 'mage': 'Maternal age', 'smoker': None, 'mheight': 'Maternal height (cm)', 'mppwt': \"Mother's pre-pregnancy weight (kg)\", 'fage': \"Father's age\", 'fedyrs': 'Years father was in education', 'fnocig': 'Number of cigarettes smoked per day by father', 'fheight': \"Father's height (cm)\", 'lowbwt': 'Low birthweight baby', 'mage35': 'Mother aged over 35', 'mnocig': 'Number of cigarettes smoked per day by mother'}\n"
          ]
        }
      ]
    },
    {
      "cell_type": "code",
      "source": [
        "Df.head()"
      ],
      "metadata": {
        "colab": {
          "base_uri": "https://localhost:8080/",
          "height": 206
        },
        "id": "mv_ntRKMM2Pz",
        "outputId": "5477d0c6-0d5f-49f4-caea-9181c91117d0"
      },
      "execution_count": null,
      "outputs": [
        {
          "output_type": "execute_result",
          "data": {
            "text/plain": [
              "       ID  Headcirc  Length  Birthweight  Gestation  mage  smoker  mheight  \\\n",
              "0  1360.0      34.0    56.0         4.55       44.0  20.0     0.0    162.0   \n",
              "1  1016.0      36.0    53.0         4.32       40.0  19.0     0.0    171.0   \n",
              "2   462.0      39.0    58.0         4.10       41.0  35.0     0.0    172.0   \n",
              "3  1187.0      38.0    53.0         4.07       44.0  20.0     0.0    174.0   \n",
              "4   553.0      37.0    54.0         3.94       42.0  24.0     0.0    175.0   \n",
              "\n",
              "   mppwt  fage  fedyrs  fnocig  fheight  lowbwt  mage35  mnocig  \n",
              "0   57.0  23.0    10.0    35.0    179.0     0.0     0.0     0.0  \n",
              "1   62.0  19.0    12.0     0.0    183.0     0.0     0.0     0.0  \n",
              "2   58.0  31.0    16.0    25.0    185.0     0.0     1.0     0.0  \n",
              "3   68.0  26.0    14.0    25.0    189.0     0.0     0.0     0.0  \n",
              "4   66.0  30.0    12.0     0.0    184.0     0.0     0.0     0.0  "
            ],
            "text/html": [
              "\n",
              "\n",
              "  <div id=\"df-67c68a2e-a146-4111-b628-cfbfc56b09e5\">\n",
              "    <div class=\"colab-df-container\">\n",
              "      <div>\n",
              "<style scoped>\n",
              "    .dataframe tbody tr th:only-of-type {\n",
              "        vertical-align: middle;\n",
              "    }\n",
              "\n",
              "    .dataframe tbody tr th {\n",
              "        vertical-align: top;\n",
              "    }\n",
              "\n",
              "    .dataframe thead th {\n",
              "        text-align: right;\n",
              "    }\n",
              "</style>\n",
              "<table border=\"1\" class=\"dataframe\">\n",
              "  <thead>\n",
              "    <tr style=\"text-align: right;\">\n",
              "      <th></th>\n",
              "      <th>ID</th>\n",
              "      <th>Headcirc</th>\n",
              "      <th>Length</th>\n",
              "      <th>Birthweight</th>\n",
              "      <th>Gestation</th>\n",
              "      <th>mage</th>\n",
              "      <th>smoker</th>\n",
              "      <th>mheight</th>\n",
              "      <th>mppwt</th>\n",
              "      <th>fage</th>\n",
              "      <th>fedyrs</th>\n",
              "      <th>fnocig</th>\n",
              "      <th>fheight</th>\n",
              "      <th>lowbwt</th>\n",
              "      <th>mage35</th>\n",
              "      <th>mnocig</th>\n",
              "    </tr>\n",
              "  </thead>\n",
              "  <tbody>\n",
              "    <tr>\n",
              "      <th>0</th>\n",
              "      <td>1360.0</td>\n",
              "      <td>34.0</td>\n",
              "      <td>56.0</td>\n",
              "      <td>4.55</td>\n",
              "      <td>44.0</td>\n",
              "      <td>20.0</td>\n",
              "      <td>0.0</td>\n",
              "      <td>162.0</td>\n",
              "      <td>57.0</td>\n",
              "      <td>23.0</td>\n",
              "      <td>10.0</td>\n",
              "      <td>35.0</td>\n",
              "      <td>179.0</td>\n",
              "      <td>0.0</td>\n",
              "      <td>0.0</td>\n",
              "      <td>0.0</td>\n",
              "    </tr>\n",
              "    <tr>\n",
              "      <th>1</th>\n",
              "      <td>1016.0</td>\n",
              "      <td>36.0</td>\n",
              "      <td>53.0</td>\n",
              "      <td>4.32</td>\n",
              "      <td>40.0</td>\n",
              "      <td>19.0</td>\n",
              "      <td>0.0</td>\n",
              "      <td>171.0</td>\n",
              "      <td>62.0</td>\n",
              "      <td>19.0</td>\n",
              "      <td>12.0</td>\n",
              "      <td>0.0</td>\n",
              "      <td>183.0</td>\n",
              "      <td>0.0</td>\n",
              "      <td>0.0</td>\n",
              "      <td>0.0</td>\n",
              "    </tr>\n",
              "    <tr>\n",
              "      <th>2</th>\n",
              "      <td>462.0</td>\n",
              "      <td>39.0</td>\n",
              "      <td>58.0</td>\n",
              "      <td>4.10</td>\n",
              "      <td>41.0</td>\n",
              "      <td>35.0</td>\n",
              "      <td>0.0</td>\n",
              "      <td>172.0</td>\n",
              "      <td>58.0</td>\n",
              "      <td>31.0</td>\n",
              "      <td>16.0</td>\n",
              "      <td>25.0</td>\n",
              "      <td>185.0</td>\n",
              "      <td>0.0</td>\n",
              "      <td>1.0</td>\n",
              "      <td>0.0</td>\n",
              "    </tr>\n",
              "    <tr>\n",
              "      <th>3</th>\n",
              "      <td>1187.0</td>\n",
              "      <td>38.0</td>\n",
              "      <td>53.0</td>\n",
              "      <td>4.07</td>\n",
              "      <td>44.0</td>\n",
              "      <td>20.0</td>\n",
              "      <td>0.0</td>\n",
              "      <td>174.0</td>\n",
              "      <td>68.0</td>\n",
              "      <td>26.0</td>\n",
              "      <td>14.0</td>\n",
              "      <td>25.0</td>\n",
              "      <td>189.0</td>\n",
              "      <td>0.0</td>\n",
              "      <td>0.0</td>\n",
              "      <td>0.0</td>\n",
              "    </tr>\n",
              "    <tr>\n",
              "      <th>4</th>\n",
              "      <td>553.0</td>\n",
              "      <td>37.0</td>\n",
              "      <td>54.0</td>\n",
              "      <td>3.94</td>\n",
              "      <td>42.0</td>\n",
              "      <td>24.0</td>\n",
              "      <td>0.0</td>\n",
              "      <td>175.0</td>\n",
              "      <td>66.0</td>\n",
              "      <td>30.0</td>\n",
              "      <td>12.0</td>\n",
              "      <td>0.0</td>\n",
              "      <td>184.0</td>\n",
              "      <td>0.0</td>\n",
              "      <td>0.0</td>\n",
              "      <td>0.0</td>\n",
              "    </tr>\n",
              "  </tbody>\n",
              "</table>\n",
              "</div>\n",
              "      <button class=\"colab-df-convert\" onclick=\"convertToInteractive('df-67c68a2e-a146-4111-b628-cfbfc56b09e5')\"\n",
              "              title=\"Convert this dataframe to an interactive table.\"\n",
              "              style=\"display:none;\">\n",
              "\n",
              "  <svg xmlns=\"http://www.w3.org/2000/svg\" height=\"24px\"viewBox=\"0 0 24 24\"\n",
              "       width=\"24px\">\n",
              "    <path d=\"M0 0h24v24H0V0z\" fill=\"none\"/>\n",
              "    <path d=\"M18.56 5.44l.94 2.06.94-2.06 2.06-.94-2.06-.94-.94-2.06-.94 2.06-2.06.94zm-11 1L8.5 8.5l.94-2.06 2.06-.94-2.06-.94L8.5 2.5l-.94 2.06-2.06.94zm10 10l.94 2.06.94-2.06 2.06-.94-2.06-.94-.94-2.06-.94 2.06-2.06.94z\"/><path d=\"M17.41 7.96l-1.37-1.37c-.4-.4-.92-.59-1.43-.59-.52 0-1.04.2-1.43.59L10.3 9.45l-7.72 7.72c-.78.78-.78 2.05 0 2.83L4 21.41c.39.39.9.59 1.41.59.51 0 1.02-.2 1.41-.59l7.78-7.78 2.81-2.81c.8-.78.8-2.07 0-2.86zM5.41 20L4 18.59l7.72-7.72 1.47 1.35L5.41 20z\"/>\n",
              "  </svg>\n",
              "      </button>\n",
              "\n",
              "\n",
              "\n",
              "    <div id=\"df-3d5292c6-7e5b-48eb-8df4-31aba4581a70\">\n",
              "      <button class=\"colab-df-quickchart\" onclick=\"quickchart('df-3d5292c6-7e5b-48eb-8df4-31aba4581a70')\"\n",
              "              title=\"Suggest charts.\"\n",
              "              style=\"display:none;\">\n",
              "\n",
              "<svg xmlns=\"http://www.w3.org/2000/svg\" height=\"24px\"viewBox=\"0 0 24 24\"\n",
              "     width=\"24px\">\n",
              "    <g>\n",
              "        <path d=\"M19 3H5c-1.1 0-2 .9-2 2v14c0 1.1.9 2 2 2h14c1.1 0 2-.9 2-2V5c0-1.1-.9-2-2-2zM9 17H7v-7h2v7zm4 0h-2V7h2v10zm4 0h-2v-4h2v4z\"/>\n",
              "    </g>\n",
              "</svg>\n",
              "      </button>\n",
              "    </div>\n",
              "\n",
              "<style>\n",
              "  .colab-df-quickchart {\n",
              "    background-color: #E8F0FE;\n",
              "    border: none;\n",
              "    border-radius: 50%;\n",
              "    cursor: pointer;\n",
              "    display: none;\n",
              "    fill: #1967D2;\n",
              "    height: 32px;\n",
              "    padding: 0 0 0 0;\n",
              "    width: 32px;\n",
              "  }\n",
              "\n",
              "  .colab-df-quickchart:hover {\n",
              "    background-color: #E2EBFA;\n",
              "    box-shadow: 0px 1px 2px rgba(60, 64, 67, 0.3), 0px 1px 3px 1px rgba(60, 64, 67, 0.15);\n",
              "    fill: #174EA6;\n",
              "  }\n",
              "\n",
              "  [theme=dark] .colab-df-quickchart {\n",
              "    background-color: #3B4455;\n",
              "    fill: #D2E3FC;\n",
              "  }\n",
              "\n",
              "  [theme=dark] .colab-df-quickchart:hover {\n",
              "    background-color: #434B5C;\n",
              "    box-shadow: 0px 1px 3px 1px rgba(0, 0, 0, 0.15);\n",
              "    filter: drop-shadow(0px 1px 2px rgba(0, 0, 0, 0.3));\n",
              "    fill: #FFFFFF;\n",
              "  }\n",
              "</style>\n",
              "\n",
              "    <script>\n",
              "      async function quickchart(key) {\n",
              "        const containerElement = document.querySelector('#' + key);\n",
              "        const charts = await google.colab.kernel.invokeFunction(\n",
              "            'suggestCharts', [key], {});\n",
              "      }\n",
              "    </script>\n",
              "\n",
              "      <script>\n",
              "\n",
              "function displayQuickchartButton(domScope) {\n",
              "  let quickchartButtonEl =\n",
              "    domScope.querySelector('#df-3d5292c6-7e5b-48eb-8df4-31aba4581a70 button.colab-df-quickchart');\n",
              "  quickchartButtonEl.style.display =\n",
              "    google.colab.kernel.accessAllowed ? 'block' : 'none';\n",
              "}\n",
              "\n",
              "        displayQuickchartButton(document);\n",
              "      </script>\n",
              "      <style>\n",
              "    .colab-df-container {\n",
              "      display:flex;\n",
              "      flex-wrap:wrap;\n",
              "      gap: 12px;\n",
              "    }\n",
              "\n",
              "    .colab-df-convert {\n",
              "      background-color: #E8F0FE;\n",
              "      border: none;\n",
              "      border-radius: 50%;\n",
              "      cursor: pointer;\n",
              "      display: none;\n",
              "      fill: #1967D2;\n",
              "      height: 32px;\n",
              "      padding: 0 0 0 0;\n",
              "      width: 32px;\n",
              "    }\n",
              "\n",
              "    .colab-df-convert:hover {\n",
              "      background-color: #E2EBFA;\n",
              "      box-shadow: 0px 1px 2px rgba(60, 64, 67, 0.3), 0px 1px 3px 1px rgba(60, 64, 67, 0.15);\n",
              "      fill: #174EA6;\n",
              "    }\n",
              "\n",
              "    [theme=dark] .colab-df-convert {\n",
              "      background-color: #3B4455;\n",
              "      fill: #D2E3FC;\n",
              "    }\n",
              "\n",
              "    [theme=dark] .colab-df-convert:hover {\n",
              "      background-color: #434B5C;\n",
              "      box-shadow: 0px 1px 3px 1px rgba(0, 0, 0, 0.15);\n",
              "      filter: drop-shadow(0px 1px 2px rgba(0, 0, 0, 0.3));\n",
              "      fill: #FFFFFF;\n",
              "    }\n",
              "  </style>\n",
              "\n",
              "      <script>\n",
              "        const buttonEl =\n",
              "          document.querySelector('#df-67c68a2e-a146-4111-b628-cfbfc56b09e5 button.colab-df-convert');\n",
              "        buttonEl.style.display =\n",
              "          google.colab.kernel.accessAllowed ? 'block' : 'none';\n",
              "\n",
              "        async function convertToInteractive(key) {\n",
              "          const element = document.querySelector('#df-67c68a2e-a146-4111-b628-cfbfc56b09e5');\n",
              "          const dataTable =\n",
              "            await google.colab.kernel.invokeFunction('convertToInteractive',\n",
              "                                                     [key], {});\n",
              "          if (!dataTable) return;\n",
              "\n",
              "          const docLinkHtml = 'Like what you see? Visit the ' +\n",
              "            '<a target=\"_blank\" href=https://colab.research.google.com/notebooks/data_table.ipynb>data table notebook</a>'\n",
              "            + ' to learn more about interactive tables.';\n",
              "          element.innerHTML = '';\n",
              "          dataTable['output_type'] = 'display_data';\n",
              "          await google.colab.output.renderOutput(dataTable, element);\n",
              "          const docLink = document.createElement('div');\n",
              "          docLink.innerHTML = docLinkHtml;\n",
              "          element.appendChild(docLink);\n",
              "        }\n",
              "      </script>\n",
              "    </div>\n",
              "  </div>\n"
            ]
          },
          "metadata": {},
          "execution_count": 7
        }
      ]
    },
    {
      "cell_type": "code",
      "source": [
        "Df.describe()"
      ],
      "metadata": {
        "colab": {
          "base_uri": "https://localhost:8080/",
          "height": 364
        },
        "id": "HgrobNlAM795",
        "outputId": "9e43d545-d1b1-411a-f9f1-bdf7cdf9625d"
      },
      "execution_count": null,
      "outputs": [
        {
          "output_type": "execute_result",
          "data": {
            "text/plain": [
              "                ID   Headcirc     Length  Birthweight  Gestation       mage  \\\n",
              "count    42.000000  42.000000  42.000000    42.000000  42.000000  42.000000   \n",
              "mean    894.071429  34.595238  51.333333     3.312857  39.190476  25.547619   \n",
              "std     467.616186   2.399792   2.935624     0.603895   2.643336   5.666342   \n",
              "min      27.000000  30.000000  43.000000     1.920000  33.000000  18.000000   \n",
              "25%     537.250000  33.000000  50.000000     2.940000  38.000000  20.250000   \n",
              "50%     821.000000  34.000000  52.000000     3.295000  39.500000  24.000000   \n",
              "75%    1269.500000  36.000000  53.000000     3.647500  41.000000  29.000000   \n",
              "max    1764.000000  39.000000  58.000000     4.570000  45.000000  41.000000   \n",
              "\n",
              "          smoker     mheight      mppwt       fage     fedyrs     fnocig  \\\n",
              "count  42.000000   42.000000  42.000000  42.000000  42.000000  42.000000   \n",
              "mean    0.523810  164.452381  57.500000  28.904762  13.666667  17.190476   \n",
              "std     0.505487    6.504041   7.198408   6.863866   2.160247  17.308165   \n",
              "min     0.000000  149.000000  45.000000  19.000000  10.000000   0.000000   \n",
              "25%     0.000000  161.000000  52.250000  23.000000  12.000000   0.000000   \n",
              "50%     1.000000  164.500000  57.000000  29.500000  14.000000  18.500000   \n",
              "75%     1.000000  169.500000  62.000000  32.000000  16.000000  25.000000   \n",
              "max     1.000000  181.000000  78.000000  46.000000  16.000000  50.000000   \n",
              "\n",
              "          fheight     lowbwt     mage35     mnocig  \n",
              "count   42.000000  42.000000  42.000000  42.000000  \n",
              "mean   180.500000   0.142857   0.095238   9.428571  \n",
              "std      6.978189   0.354169   0.297102  12.511737  \n",
              "min    169.000000   0.000000   0.000000   0.000000  \n",
              "25%    175.250000   0.000000   0.000000   0.000000  \n",
              "50%    180.500000   0.000000   0.000000   4.500000  \n",
              "75%    184.750000   0.000000   0.000000  15.750000  \n",
              "max    200.000000   1.000000   1.000000  50.000000  "
            ],
            "text/html": [
              "\n",
              "\n",
              "  <div id=\"df-b998fa23-fa85-4fa2-b544-ccf186a61c50\">\n",
              "    <div class=\"colab-df-container\">\n",
              "      <div>\n",
              "<style scoped>\n",
              "    .dataframe tbody tr th:only-of-type {\n",
              "        vertical-align: middle;\n",
              "    }\n",
              "\n",
              "    .dataframe tbody tr th {\n",
              "        vertical-align: top;\n",
              "    }\n",
              "\n",
              "    .dataframe thead th {\n",
              "        text-align: right;\n",
              "    }\n",
              "</style>\n",
              "<table border=\"1\" class=\"dataframe\">\n",
              "  <thead>\n",
              "    <tr style=\"text-align: right;\">\n",
              "      <th></th>\n",
              "      <th>ID</th>\n",
              "      <th>Headcirc</th>\n",
              "      <th>Length</th>\n",
              "      <th>Birthweight</th>\n",
              "      <th>Gestation</th>\n",
              "      <th>mage</th>\n",
              "      <th>smoker</th>\n",
              "      <th>mheight</th>\n",
              "      <th>mppwt</th>\n",
              "      <th>fage</th>\n",
              "      <th>fedyrs</th>\n",
              "      <th>fnocig</th>\n",
              "      <th>fheight</th>\n",
              "      <th>lowbwt</th>\n",
              "      <th>mage35</th>\n",
              "      <th>mnocig</th>\n",
              "    </tr>\n",
              "  </thead>\n",
              "  <tbody>\n",
              "    <tr>\n",
              "      <th>count</th>\n",
              "      <td>42.000000</td>\n",
              "      <td>42.000000</td>\n",
              "      <td>42.000000</td>\n",
              "      <td>42.000000</td>\n",
              "      <td>42.000000</td>\n",
              "      <td>42.000000</td>\n",
              "      <td>42.000000</td>\n",
              "      <td>42.000000</td>\n",
              "      <td>42.000000</td>\n",
              "      <td>42.000000</td>\n",
              "      <td>42.000000</td>\n",
              "      <td>42.000000</td>\n",
              "      <td>42.000000</td>\n",
              "      <td>42.000000</td>\n",
              "      <td>42.000000</td>\n",
              "      <td>42.000000</td>\n",
              "    </tr>\n",
              "    <tr>\n",
              "      <th>mean</th>\n",
              "      <td>894.071429</td>\n",
              "      <td>34.595238</td>\n",
              "      <td>51.333333</td>\n",
              "      <td>3.312857</td>\n",
              "      <td>39.190476</td>\n",
              "      <td>25.547619</td>\n",
              "      <td>0.523810</td>\n",
              "      <td>164.452381</td>\n",
              "      <td>57.500000</td>\n",
              "      <td>28.904762</td>\n",
              "      <td>13.666667</td>\n",
              "      <td>17.190476</td>\n",
              "      <td>180.500000</td>\n",
              "      <td>0.142857</td>\n",
              "      <td>0.095238</td>\n",
              "      <td>9.428571</td>\n",
              "    </tr>\n",
              "    <tr>\n",
              "      <th>std</th>\n",
              "      <td>467.616186</td>\n",
              "      <td>2.399792</td>\n",
              "      <td>2.935624</td>\n",
              "      <td>0.603895</td>\n",
              "      <td>2.643336</td>\n",
              "      <td>5.666342</td>\n",
              "      <td>0.505487</td>\n",
              "      <td>6.504041</td>\n",
              "      <td>7.198408</td>\n",
              "      <td>6.863866</td>\n",
              "      <td>2.160247</td>\n",
              "      <td>17.308165</td>\n",
              "      <td>6.978189</td>\n",
              "      <td>0.354169</td>\n",
              "      <td>0.297102</td>\n",
              "      <td>12.511737</td>\n",
              "    </tr>\n",
              "    <tr>\n",
              "      <th>min</th>\n",
              "      <td>27.000000</td>\n",
              "      <td>30.000000</td>\n",
              "      <td>43.000000</td>\n",
              "      <td>1.920000</td>\n",
              "      <td>33.000000</td>\n",
              "      <td>18.000000</td>\n",
              "      <td>0.000000</td>\n",
              "      <td>149.000000</td>\n",
              "      <td>45.000000</td>\n",
              "      <td>19.000000</td>\n",
              "      <td>10.000000</td>\n",
              "      <td>0.000000</td>\n",
              "      <td>169.000000</td>\n",
              "      <td>0.000000</td>\n",
              "      <td>0.000000</td>\n",
              "      <td>0.000000</td>\n",
              "    </tr>\n",
              "    <tr>\n",
              "      <th>25%</th>\n",
              "      <td>537.250000</td>\n",
              "      <td>33.000000</td>\n",
              "      <td>50.000000</td>\n",
              "      <td>2.940000</td>\n",
              "      <td>38.000000</td>\n",
              "      <td>20.250000</td>\n",
              "      <td>0.000000</td>\n",
              "      <td>161.000000</td>\n",
              "      <td>52.250000</td>\n",
              "      <td>23.000000</td>\n",
              "      <td>12.000000</td>\n",
              "      <td>0.000000</td>\n",
              "      <td>175.250000</td>\n",
              "      <td>0.000000</td>\n",
              "      <td>0.000000</td>\n",
              "      <td>0.000000</td>\n",
              "    </tr>\n",
              "    <tr>\n",
              "      <th>50%</th>\n",
              "      <td>821.000000</td>\n",
              "      <td>34.000000</td>\n",
              "      <td>52.000000</td>\n",
              "      <td>3.295000</td>\n",
              "      <td>39.500000</td>\n",
              "      <td>24.000000</td>\n",
              "      <td>1.000000</td>\n",
              "      <td>164.500000</td>\n",
              "      <td>57.000000</td>\n",
              "      <td>29.500000</td>\n",
              "      <td>14.000000</td>\n",
              "      <td>18.500000</td>\n",
              "      <td>180.500000</td>\n",
              "      <td>0.000000</td>\n",
              "      <td>0.000000</td>\n",
              "      <td>4.500000</td>\n",
              "    </tr>\n",
              "    <tr>\n",
              "      <th>75%</th>\n",
              "      <td>1269.500000</td>\n",
              "      <td>36.000000</td>\n",
              "      <td>53.000000</td>\n",
              "      <td>3.647500</td>\n",
              "      <td>41.000000</td>\n",
              "      <td>29.000000</td>\n",
              "      <td>1.000000</td>\n",
              "      <td>169.500000</td>\n",
              "      <td>62.000000</td>\n",
              "      <td>32.000000</td>\n",
              "      <td>16.000000</td>\n",
              "      <td>25.000000</td>\n",
              "      <td>184.750000</td>\n",
              "      <td>0.000000</td>\n",
              "      <td>0.000000</td>\n",
              "      <td>15.750000</td>\n",
              "    </tr>\n",
              "    <tr>\n",
              "      <th>max</th>\n",
              "      <td>1764.000000</td>\n",
              "      <td>39.000000</td>\n",
              "      <td>58.000000</td>\n",
              "      <td>4.570000</td>\n",
              "      <td>45.000000</td>\n",
              "      <td>41.000000</td>\n",
              "      <td>1.000000</td>\n",
              "      <td>181.000000</td>\n",
              "      <td>78.000000</td>\n",
              "      <td>46.000000</td>\n",
              "      <td>16.000000</td>\n",
              "      <td>50.000000</td>\n",
              "      <td>200.000000</td>\n",
              "      <td>1.000000</td>\n",
              "      <td>1.000000</td>\n",
              "      <td>50.000000</td>\n",
              "    </tr>\n",
              "  </tbody>\n",
              "</table>\n",
              "</div>\n",
              "      <button class=\"colab-df-convert\" onclick=\"convertToInteractive('df-b998fa23-fa85-4fa2-b544-ccf186a61c50')\"\n",
              "              title=\"Convert this dataframe to an interactive table.\"\n",
              "              style=\"display:none;\">\n",
              "\n",
              "  <svg xmlns=\"http://www.w3.org/2000/svg\" height=\"24px\"viewBox=\"0 0 24 24\"\n",
              "       width=\"24px\">\n",
              "    <path d=\"M0 0h24v24H0V0z\" fill=\"none\"/>\n",
              "    <path d=\"M18.56 5.44l.94 2.06.94-2.06 2.06-.94-2.06-.94-.94-2.06-.94 2.06-2.06.94zm-11 1L8.5 8.5l.94-2.06 2.06-.94-2.06-.94L8.5 2.5l-.94 2.06-2.06.94zm10 10l.94 2.06.94-2.06 2.06-.94-2.06-.94-.94-2.06-.94 2.06-2.06.94z\"/><path d=\"M17.41 7.96l-1.37-1.37c-.4-.4-.92-.59-1.43-.59-.52 0-1.04.2-1.43.59L10.3 9.45l-7.72 7.72c-.78.78-.78 2.05 0 2.83L4 21.41c.39.39.9.59 1.41.59.51 0 1.02-.2 1.41-.59l7.78-7.78 2.81-2.81c.8-.78.8-2.07 0-2.86zM5.41 20L4 18.59l7.72-7.72 1.47 1.35L5.41 20z\"/>\n",
              "  </svg>\n",
              "      </button>\n",
              "\n",
              "\n",
              "\n",
              "    <div id=\"df-89e85b50-55ad-42f9-a31b-95773debad85\">\n",
              "      <button class=\"colab-df-quickchart\" onclick=\"quickchart('df-89e85b50-55ad-42f9-a31b-95773debad85')\"\n",
              "              title=\"Suggest charts.\"\n",
              "              style=\"display:none;\">\n",
              "\n",
              "<svg xmlns=\"http://www.w3.org/2000/svg\" height=\"24px\"viewBox=\"0 0 24 24\"\n",
              "     width=\"24px\">\n",
              "    <g>\n",
              "        <path d=\"M19 3H5c-1.1 0-2 .9-2 2v14c0 1.1.9 2 2 2h14c1.1 0 2-.9 2-2V5c0-1.1-.9-2-2-2zM9 17H7v-7h2v7zm4 0h-2V7h2v10zm4 0h-2v-4h2v4z\"/>\n",
              "    </g>\n",
              "</svg>\n",
              "      </button>\n",
              "    </div>\n",
              "\n",
              "<style>\n",
              "  .colab-df-quickchart {\n",
              "    background-color: #E8F0FE;\n",
              "    border: none;\n",
              "    border-radius: 50%;\n",
              "    cursor: pointer;\n",
              "    display: none;\n",
              "    fill: #1967D2;\n",
              "    height: 32px;\n",
              "    padding: 0 0 0 0;\n",
              "    width: 32px;\n",
              "  }\n",
              "\n",
              "  .colab-df-quickchart:hover {\n",
              "    background-color: #E2EBFA;\n",
              "    box-shadow: 0px 1px 2px rgba(60, 64, 67, 0.3), 0px 1px 3px 1px rgba(60, 64, 67, 0.15);\n",
              "    fill: #174EA6;\n",
              "  }\n",
              "\n",
              "  [theme=dark] .colab-df-quickchart {\n",
              "    background-color: #3B4455;\n",
              "    fill: #D2E3FC;\n",
              "  }\n",
              "\n",
              "  [theme=dark] .colab-df-quickchart:hover {\n",
              "    background-color: #434B5C;\n",
              "    box-shadow: 0px 1px 3px 1px rgba(0, 0, 0, 0.15);\n",
              "    filter: drop-shadow(0px 1px 2px rgba(0, 0, 0, 0.3));\n",
              "    fill: #FFFFFF;\n",
              "  }\n",
              "</style>\n",
              "\n",
              "    <script>\n",
              "      async function quickchart(key) {\n",
              "        const containerElement = document.querySelector('#' + key);\n",
              "        const charts = await google.colab.kernel.invokeFunction(\n",
              "            'suggestCharts', [key], {});\n",
              "      }\n",
              "    </script>\n",
              "\n",
              "      <script>\n",
              "\n",
              "function displayQuickchartButton(domScope) {\n",
              "  let quickchartButtonEl =\n",
              "    domScope.querySelector('#df-89e85b50-55ad-42f9-a31b-95773debad85 button.colab-df-quickchart');\n",
              "  quickchartButtonEl.style.display =\n",
              "    google.colab.kernel.accessAllowed ? 'block' : 'none';\n",
              "}\n",
              "\n",
              "        displayQuickchartButton(document);\n",
              "      </script>\n",
              "      <style>\n",
              "    .colab-df-container {\n",
              "      display:flex;\n",
              "      flex-wrap:wrap;\n",
              "      gap: 12px;\n",
              "    }\n",
              "\n",
              "    .colab-df-convert {\n",
              "      background-color: #E8F0FE;\n",
              "      border: none;\n",
              "      border-radius: 50%;\n",
              "      cursor: pointer;\n",
              "      display: none;\n",
              "      fill: #1967D2;\n",
              "      height: 32px;\n",
              "      padding: 0 0 0 0;\n",
              "      width: 32px;\n",
              "    }\n",
              "\n",
              "    .colab-df-convert:hover {\n",
              "      background-color: #E2EBFA;\n",
              "      box-shadow: 0px 1px 2px rgba(60, 64, 67, 0.3), 0px 1px 3px 1px rgba(60, 64, 67, 0.15);\n",
              "      fill: #174EA6;\n",
              "    }\n",
              "\n",
              "    [theme=dark] .colab-df-convert {\n",
              "      background-color: #3B4455;\n",
              "      fill: #D2E3FC;\n",
              "    }\n",
              "\n",
              "    [theme=dark] .colab-df-convert:hover {\n",
              "      background-color: #434B5C;\n",
              "      box-shadow: 0px 1px 3px 1px rgba(0, 0, 0, 0.15);\n",
              "      filter: drop-shadow(0px 1px 2px rgba(0, 0, 0, 0.3));\n",
              "      fill: #FFFFFF;\n",
              "    }\n",
              "  </style>\n",
              "\n",
              "      <script>\n",
              "        const buttonEl =\n",
              "          document.querySelector('#df-b998fa23-fa85-4fa2-b544-ccf186a61c50 button.colab-df-convert');\n",
              "        buttonEl.style.display =\n",
              "          google.colab.kernel.accessAllowed ? 'block' : 'none';\n",
              "\n",
              "        async function convertToInteractive(key) {\n",
              "          const element = document.querySelector('#df-b998fa23-fa85-4fa2-b544-ccf186a61c50');\n",
              "          const dataTable =\n",
              "            await google.colab.kernel.invokeFunction('convertToInteractive',\n",
              "                                                     [key], {});\n",
              "          if (!dataTable) return;\n",
              "\n",
              "          const docLinkHtml = 'Like what you see? Visit the ' +\n",
              "            '<a target=\"_blank\" href=https://colab.research.google.com/notebooks/data_table.ipynb>data table notebook</a>'\n",
              "            + ' to learn more about interactive tables.';\n",
              "          element.innerHTML = '';\n",
              "          dataTable['output_type'] = 'display_data';\n",
              "          await google.colab.output.renderOutput(dataTable, element);\n",
              "          const docLink = document.createElement('div');\n",
              "          docLink.innerHTML = docLinkHtml;\n",
              "          element.appendChild(docLink);\n",
              "        }\n",
              "      </script>\n",
              "    </div>\n",
              "  </div>\n"
            ]
          },
          "metadata": {},
          "execution_count": 8
        }
      ]
    },
    {
      "cell_type": "markdown",
      "source": [
        "`Q1. In your own words, describe what a residual is in linear regression.`"
      ],
      "metadata": {
        "id": "pVQkHiiENKFn"
      }
    },
    {
      "cell_type": "markdown",
      "source": [
        "A residual is the difference between the observed values and the predicted values. It is indicated by the distance between the data points of the dependent variable and the regression line. It is used to calculate the squared or absolute errors between the actual and expected values."
      ],
      "metadata": {
        "id": "9UK63YAFQwdF"
      }
    },
    {
      "cell_type": "markdown",
      "source": [
        "`Q2. If you know that your residual data follow the below pattern, are your data better approximated with a linear model for the lower values of independent variable or higher values of independent variable and why?`"
      ],
      "metadata": {
        "id": "eVnul_89SLxo"
      }
    },
    {
      "cell_type": "markdown",
      "source": [
        "The data is better approximated with the lower values because the proximity to the the line implies stronger positive correlation and\n",
        "lower errors of expectancy."
      ],
      "metadata": {
        "id": "-GQShwtbSQ7S"
      }
    },
    {
      "cell_type": "markdown",
      "source": [
        "`Q3. What is the difference between R2 and adjusted R2?`"
      ],
      "metadata": {
        "id": "hzHCX_BrUM-Q"
      }
    },
    {
      "cell_type": "markdown",
      "source": [
        "R-squared takes account the residual difference between the dependent and independent variables or predictors without taking into the strengths or biases of the individual independent variables.\n",
        "\n",
        "Adjusted R-squared takes the strengths the different independent variables or factors have on the dependent variable into account, such that proportionally weaker variables can reduce the R-squared value."
      ],
      "metadata": {
        "id": "6YBqQD3qUT0p"
      }
    },
    {
      "cell_type": "markdown",
      "source": [
        "`Q4. Is there independence of observations if you are trying to predict baby length with mother’s height?`\n",
        "* Yes\n",
        "* No"
      ],
      "metadata": {
        "id": "nYiY6W35Zjsl"
      }
    },
    {
      "cell_type": "code",
      "source": [
        "# Create the regression plot\n",
        "sb.regplot(x='mheight', y='Length', data=Df, ci=None)\n",
        "\n",
        "# Add labels and title\n",
        "plt.xlabel(\"Mother's Height\")\n",
        "plt.ylabel(\"Baby Length\")\n",
        "plt.title(\"Regression Plot: Baby Length vs. Mother's Height\")\n",
        "\n",
        "# Show the plot\n",
        "plt.show()"
      ],
      "metadata": {
        "colab": {
          "base_uri": "https://localhost:8080/",
          "height": 472
        },
        "id": "N4pKODwwjFe6",
        "outputId": "2dc3dcbd-3d08-4b26-ae7c-abbb49ab0bb3"
      },
      "execution_count": null,
      "outputs": [
        {
          "output_type": "display_data",
          "data": {
            "text/plain": [
              "<Figure size 640x480 with 1 Axes>"
            ],
            "image/png": "[encoded data removed]"
          },
          "metadata": {}
        }
      ]
    },
    {
      "cell_type": "code",
      "source": [
        "X = Df['mheight']\n",
        "y = Df['Length']\n",
        "\n",
        "# Add a constant term to the independent variable to fit an intercept in the regression model\n",
        "X = sm.add_constant(X)\n",
        "\n",
        "# Fit the linear regression model\n",
        "model = sm.OLS(y, X).fit()\n",
        "\n",
        "#get residuals\n",
        "residuals = model.resid\n",
        "\n",
        "# Perform the Durbin-Watson test\n",
        "dw = durbin_watson(residuals)\n",
        "dw"
      ],
      "metadata": {
        "colab": {
          "base_uri": "https://localhost:8080/"
        },
        "id": "kEpzuYY5Zzx5",
        "outputId": "8dd6b471-4d8c-42ba-f00b-9943cf3ffd77"
      },
      "execution_count": null,
      "outputs": [
        {
          "output_type": "execute_result",
          "data": {
            "text/plain": [
              "1.7244869271425978"
            ]
          },
          "metadata": {},
          "execution_count": 10
        }
      ]
    },
    {
      "cell_type": "markdown",
      "source": [
        "`Answer` Yes"
      ],
      "metadata": {
        "id": "0Kwa3iToggdM"
      }
    },
    {
      "cell_type": "markdown",
      "source": [
        "`Q5. Justify the above answer.`"
      ],
      "metadata": {
        "id": "BkCtkeEjig35"
      }
    },
    {
      "cell_type": "markdown",
      "source": [
        "The resulting value from the Durbin-Watson test, 1.72 indicates that there is slight independence between the length of babies and mothers' heights. The little autocorrelation present could be caused by some of the babies being almost exactly 53cm long."
      ],
      "metadata": {
        "id": "Hd-KP9TNi00r"
      }
    },
    {
      "cell_type": "markdown",
      "source": [
        "`Q6. Do residual data show homoscedasticity?`"
      ],
      "metadata": {
        "id": "mLRSSBD9m7oS"
      }
    },
    {
      "cell_type": "markdown",
      "source": [
        "`Answer` Yes. There is homoscedasticity in the plot."
      ],
      "metadata": {
        "id": "LMnr0tuOpFif"
      }
    },
    {
      "cell_type": "markdown",
      "source": [
        "`Q7. Justify the above answer.`"
      ],
      "metadata": {
        "id": "0DcyPXJ3v-d7"
      }
    },
    {
      "cell_type": "markdown",
      "source": [
        "There are very few patterns scattered all over the plot. They are mostly indiscernable. But the overall plot shows that the data is homoscedastic."
      ],
      "metadata": {
        "id": "bh70HM0xwDsq"
      }
    },
    {
      "cell_type": "markdown",
      "source": [
        "`Q8. What is the value of R2 and what does this tell you?`"
      ],
      "metadata": {
        "id": "WfB6zhEUww47"
      }
    },
    {
      "cell_type": "code",
      "source": [
        "model.rsquared"
      ],
      "metadata": {
        "colab": {
          "base_uri": "https://localhost:8080/"
        },
        "id": "lUig23oYw1u-",
        "outputId": "fcb947a3-9652-4999-c476-ba5eac3c8683"
      },
      "execution_count": null,
      "outputs": [
        {
          "output_type": "execute_result",
          "data": {
            "text/plain": [
              "0.23521763061139123"
            ]
          },
          "metadata": {},
          "execution_count": 11
        }
      ]
    },
    {
      "cell_type": "markdown",
      "source": [
        "The value of R-squared is 0.23, which means that the mothers' heights contribute to 23% of the babies lengths."
      ],
      "metadata": {
        "id": "vi9WvMoiw7aM"
      }
    },
    {
      "cell_type": "markdown",
      "source": [
        "`Q9. Can you consider the relationship between mother’s height and baby length a statistically significant linear relationship and why?`"
      ],
      "metadata": {
        "id": "sfJLdgs03q2A"
      }
    },
    {
      "cell_type": "code",
      "source": [
        "model.summary()"
      ],
      "metadata": {
        "colab": {
          "base_uri": "https://localhost:8080/",
          "height": 486
        },
        "id": "a3lnz2tb30Kf",
        "outputId": "1460932e-d100-4774-c3eb-2aee5dec9921"
      },
      "execution_count": null,
      "outputs": [
        {
          "output_type": "execute_result",
          "data": {
            "text/plain": [
              "<class 'statsmodels.iolib.summary.Summary'>\n",
              "\"\"\"\n",
              "                            OLS Regression Results                            \n",
              "==============================================================================\n",
              "Dep. Variable:                 Length   R-squared:                       0.235\n",
              "Model:                            OLS   Adj. R-squared:                  0.216\n",
              "Method:                 Least Squares   F-statistic:                     12.30\n",
              "Date:                Fri, 04 Aug 2023   Prob (F-statistic):            0.00113\n",
              "Time:                        10:46:40   Log-Likelihood:                -98.689\n",
              "No. Observations:                  42   AIC:                             201.4\n",
              "Df Residuals:                      40   BIC:                             204.9\n",
              "Df Model:                           1                                         \n",
              "Covariance Type:            nonrobust                                         \n",
              "==============================================================================\n",
              "                 coef    std err          t      P>|t|      [0.025      0.975]\n",
              "------------------------------------------------------------------------------\n",
              "const         15.3342     10.271      1.493      0.143      -5.425      36.093\n",
              "mheight        0.2189      0.062      3.507      0.001       0.093       0.345\n",
              "==============================================================================\n",
              "Omnibus:                        0.736   Durbin-Watson:                   1.724\n",
              "Prob(Omnibus):                  0.692   Jarque-Bera (JB):                0.358\n",
              "Skew:                          -0.224   Prob(JB):                        0.836\n",
              "Kurtosis:                       3.059   Cond. No.                     4.22e+03\n",
              "==============================================================================\n",
              "\n",
              "Notes:\n",
              "[1] Standard Errors assume that the covariance matrix of the errors is correctly specified.\n",
              "[2] The condition number is large, 4.22e+03. This might indicate that there are\n",
              "strong multicollinearity or other numerical problems.\n",
              "\"\"\""
            ],
            "text/html": [
              "<table class=\"simpletable\">\n",
              "<caption>OLS Regression Results</caption>\n",
              "<tr>\n",
              "  <th>Dep. Variable:</th>         <td>Length</td>      <th>  R-squared:         </th> <td>   0.235</td>\n",
              "</tr>\n",
              "<tr>\n",
              "  <th>Model:</th>                   <td>OLS</td>       <th>  Adj. R-squared:    </th> <td>   0.216</td>\n",
              "</tr>\n",
              "<tr>\n",
              "  <th>Method:</th>             <td>Least Squares</td>  <th>  F-statistic:       </th> <td>   12.30</td>\n",
              "</tr>\n",
              "<tr>\n",
              "  <th>Date:</th>             <td>Fri, 04 Aug 2023</td> <th>  Prob (F-statistic):</th>  <td>0.00113</td>\n",
              "</tr>\n",
              "<tr>\n",
              "  <th>Time:</th>                 <td>10:46:40</td>     <th>  Log-Likelihood:    </th> <td> -98.689</td>\n",
              "</tr>\n",
              "<tr>\n",
              "  <th>No. Observations:</th>      <td>    42</td>      <th>  AIC:               </th> <td>   201.4</td>\n",
              "</tr>\n",
              "<tr>\n",
              "  <th>Df Residuals:</th>          <td>    40</td>      <th>  BIC:               </th> <td>   204.9</td>\n",
              "</tr>\n",
              "<tr>\n",
              "  <th>Df Model:</th>              <td>     1</td>      <th>                     </th>     <td> </td>   \n",
              "</tr>\n",
              "<tr>\n",
              "  <th>Covariance Type:</th>      <td>nonrobust</td>    <th>                     </th>     <td> </td>   \n",
              "</tr>\n",
              "</table>\n",
              "<table class=\"simpletable\">\n",
              "<tr>\n",
              "     <td></td>        <th>coef</th>     <th>std err</th>      <th>t</th>      <th>P>|t|</th>  <th>[0.025</th>    <th>0.975]</th>  \n",
              "</tr>\n",
              "<tr>\n",
              "  <th>const</th>   <td>   15.3342</td> <td>   10.271</td> <td>    1.493</td> <td> 0.143</td> <td>   -5.425</td> <td>   36.093</td>\n",
              "</tr>\n",
              "<tr>\n",
              "  <th>mheight</th> <td>    0.2189</td> <td>    0.062</td> <td>    3.507</td> <td> 0.001</td> <td>    0.093</td> <td>    0.345</td>\n",
              "</tr>\n",
              "</table>\n",
              "<table class=\"simpletable\">\n",
              "<tr>\n",
              "  <th>Omnibus:</th>       <td> 0.736</td> <th>  Durbin-Watson:     </th> <td>   1.724</td>\n",
              "</tr>\n",
              "<tr>\n",
              "  <th>Prob(Omnibus):</th> <td> 0.692</td> <th>  Jarque-Bera (JB):  </th> <td>   0.358</td>\n",
              "</tr>\n",
              "<tr>\n",
              "  <th>Skew:</th>          <td>-0.224</td> <th>  Prob(JB):          </th> <td>   0.836</td>\n",
              "</tr>\n",
              "<tr>\n",
              "  <th>Kurtosis:</th>      <td> 3.059</td> <th>  Cond. No.          </th> <td>4.22e+03</td>\n",
              "</tr>\n",
              "</table><br/><br/>Notes:<br/>[1] Standard Errors assume that the covariance matrix of the errors is correctly specified.<br/>[2] The condition number is large, 4.22e+03. This might indicate that there are<br/>strong multicollinearity or other numerical problems."
            ]
          },
          "metadata": {},
          "execution_count": 12
        }
      ]
    },
    {
      "cell_type": "code",
      "source": [
        "Df.mheight.corr(Df.Length)"
      ],
      "metadata": {
        "colab": {
          "base_uri": "https://localhost:8080/"
        },
        "id": "th5Pj8FX4OZQ",
        "outputId": "5370bb50-f714-4bc5-f04c-771d18183acd"
      },
      "execution_count": null,
      "outputs": [
        {
          "output_type": "execute_result",
          "data": {
            "text/plain": [
              "0.48499240263265053"
            ]
          },
          "metadata": {},
          "execution_count": 13
        }
      ]
    },
    {
      "cell_type": "markdown",
      "source": [
        "The correlation and p-value of the F-statistic are 0.48 and 0.00113 (< 0.05)respectively. This indicates that that there is a significant linear relationship between both variables."
      ],
      "metadata": {
        "id": "2ts5MzXw69q3"
      }
    },
    {
      "cell_type": "markdown",
      "source": [
        "`Q10. Having the ANOVA table for the linear regression in mind, what is the null and alternative hypothesis in this case?`"
      ],
      "metadata": {
        "id": "-uttw3COJoTc"
      }
    },
    {
      "cell_type": "markdown",
      "source": [
        "The null hypothesis says there is no relationship between the mothers' heights and babies' lengthd. The alternative hypothesis says otherwise; there is a relationship between mothers' heights and baby length.\n"
      ],
      "metadata": {
        "id": "AqBsLLdOLhEp"
      }
    },
    {
      "cell_type": "markdown",
      "source": [
        "`Q12. What does the value of b1 tell you in practical terms?`"
      ],
      "metadata": {
        "id": "efCi7QJ_uM1K"
      }
    },
    {
      "cell_type": "code",
      "source": [
        "model.params['const']"
      ],
      "metadata": {
        "colab": {
          "base_uri": "https://localhost:8080/"
        },
        "id": "0CUCag8Tue5_",
        "outputId": "66ba46e2-1a21-4d80-bd8b-42e502a39f47"
      },
      "execution_count": null,
      "outputs": [
        {
          "output_type": "execute_result",
          "data": {
            "text/plain": [
              "15.334189031505502"
            ]
          },
          "metadata": {},
          "execution_count": 14
        }
      ]
    },
    {
      "cell_type": "code",
      "source": [
        "model.params['mheight']"
      ],
      "metadata": {
        "colab": {
          "base_uri": "https://localhost:8080/"
        },
        "id": "Hj8yf-b7v4Bh",
        "outputId": "deec15b7-fde2-4b68-e80f-2f9475b46c8f"
      },
      "execution_count": null,
      "outputs": [
        {
          "output_type": "execute_result",
          "data": {
            "text/plain": [
              "0.2189031505250863"
            ]
          },
          "metadata": {},
          "execution_count": 15
        }
      ]
    },
    {
      "cell_type": "markdown",
      "source": [
        "It tells us that the slope of the relation is positive. It means that on average there is an 0.219cm in a baby's length for every increase in his mom's height.\n",
        "\n"
      ],
      "metadata": {
        "id": "8BDDBOQ10gqg"
      }
    },
    {
      "cell_type": "markdown",
      "source": [
        "`Q13. Could you claim the same for the mother’s height in the range between 140cm and 145cm and why?`"
      ],
      "metadata": {
        "id": "e_4_T9BA2zu1"
      }
    },
    {
      "cell_type": "code",
      "source": [
        "heights_to_predict = [140, 145]\n",
        "X_predict = sm.add_constant(heights_to_predict)\n",
        "predicted_lengths = model.predict(X_predict)\n",
        "\n",
        "# Calculate the slope\n",
        "slope = (predicted_lengths[1] - predicted_lengths[0]) / (heights_to_predict[1] - heights_to_predict[0])\n",
        "\n",
        "print(\"Slope between mothers' heights 140 and 145:\", slope)\n"
      ],
      "metadata": {
        "colab": {
          "base_uri": "https://localhost:8080/"
        },
        "id": "zYkhnqDs28S1",
        "outputId": "1430c60b-77f1-4555-b76a-f6b9ae86bccf"
      },
      "execution_count": null,
      "outputs": [
        {
          "output_type": "stream",
          "name": "stdout",
          "text": [
            "Slope between mothers' heights 140 and 145: 0.2189031505250867\n"
          ]
        }
      ]
    },
    {
      "cell_type": "markdown",
      "source": [
        "Yes. Using Python, I calculated the slope using the gradient formula, (predicted_y2 - predicted_y1)/(145 - 140) and arrived at 0.219 again."
      ],
      "metadata": {
        "id": "ocBgXvh43Usf"
      }
    },
    {
      "cell_type": "markdown",
      "source": [
        "`Q14. According to this model, what is the prediction of baby length for mother’s height of 170cm?`"
      ],
      "metadata": {
        "id": "0-xxHcpG6f_u"
      }
    },
    {
      "cell_type": "code",
      "source": [
        "x_predict = sm.add_constant([0, 170])  # Create an array with constant and the height to predict\n",
        "predicted_length = model.predict(x_predict)\n",
        "\n",
        "print(\"Predicted length for a mother with height 170:\", predicted_length[1])"
      ],
      "metadata": {
        "colab": {
          "base_uri": "https://localhost:8080/"
        },
        "id": "9f-jHqq86nC9",
        "outputId": "f3601c62-c848-495f-84f9-afd3ffa3766b"
      },
      "execution_count": null,
      "outputs": [
        {
          "output_type": "stream",
          "name": "stdout",
          "text": [
            "Predicted length for a mother with height 170: 52.547724620770175\n"
          ]
        }
      ]
    },
    {
      "cell_type": "markdown",
      "source": [
        "`Q15. Report on your findings for predicting baby length with mother’s height.`"
      ],
      "metadata": {
        "id": "rHKM_n4b63Yn"
      }
    },
    {
      "cell_type": "markdown",
      "source": [
        "Using Python's OLS formula from the statsmodels library, I could confirm that the intercept or constant is 15.3cm, and the length of a baby of a mother with height of 170cm is around 52.5cm. The regression line also agrees with this."
      ],
      "metadata": {
        "id": "HnU7gKzs-pHm"
      }
    },
    {
      "cell_type": "markdown",
      "source": [
        "`Q16. Can you predict baby length with father’s age? Why?`"
      ],
      "metadata": {
        "id": "N2efUDOE_yLu"
      }
    },
    {
      "cell_type": "code",
      "source": [
        "# Create the regression plot\n",
        "sb.regplot(x='fage', y='Length', data=Df)\n",
        "\n",
        "# Add labels and title\n",
        "plt.xlabel(\"Father's age\")\n",
        "plt.ylabel(\"Baby length\")\n",
        "plt.title(\"Regression Plot: Father's age against baby's length\")\n",
        "\n",
        "# Show the plot\n",
        "plt.show()"
      ],
      "metadata": {
        "id": "8rIQ7rwI_3-5",
        "colab": {
          "base_uri": "https://localhost:8080/",
          "height": 472
        },
        "outputId": "3800189d-d8aa-4e20-c43c-0109855aa35f"
      },
      "execution_count": null,
      "outputs": [
        {
          "output_type": "display_data",
          "data": {
            "text/plain": [
              "<Figure size 640x480 with 1 Axes>"
            ],
            "image/png": "[encoded data removed]"
          },
          "metadata": {}
        }
      ]
    },
    {
      "cell_type": "code",
      "source": [
        "# Assuming 'df' is your pandas DataFrame with 'baby_length' as the dependent variable and 'mother_height' as the independent variable\n",
        "X1 = Df['fage']\n",
        "y1 = Df['Length']\n",
        "\n",
        "# Add a constant term to the independent variable to fit an intercept in the regression model\n",
        "X1 = sm.add_constant(X1)\n",
        "\n",
        "# Fit the linear regression model\n",
        "model1 = sm.OLS(y1, X1).fit()\n",
        "\n",
        "#get residuals\n",
        "residuals1 = model1.resid\n",
        "print(Df['fage'].corr(Df['Length']))"
      ],
      "metadata": {
        "colab": {
          "base_uri": "https://localhost:8080/"
        },
        "id": "X56-x3brBYXk",
        "outputId": "3f5b9f09-d67f-444e-da85-2ce7b655fc67"
      },
      "execution_count": null,
      "outputs": [
        {
          "output_type": "stream",
          "name": "stdout",
          "text": [
            "0.13718436501767456\n"
          ]
        }
      ]
    },
    {
      "cell_type": "code",
      "source": [
        "model1.summary()"
      ],
      "metadata": {
        "colab": {
          "base_uri": "https://localhost:8080/",
          "height": 452
        },
        "id": "RVKIsAf_C3uy",
        "outputId": "b00ca771-0b3f-4c93-803c-8823d8fddcb7"
      },
      "execution_count": null,
      "outputs": [
        {
          "output_type": "execute_result",
          "data": {
            "text/plain": [
              "<class 'statsmodels.iolib.summary.Summary'>\n",
              "\"\"\"\n",
              "                            OLS Regression Results                            \n",
              "==============================================================================\n",
              "Dep. Variable:                 Length   R-squared:                       0.019\n",
              "Model:                            OLS   Adj. R-squared:                 -0.006\n",
              "Method:                 Least Squares   F-statistic:                    0.7672\n",
              "Date:                Fri, 04 Aug 2023   Prob (F-statistic):              0.386\n",
              "Time:                        10:46:40   Log-Likelihood:                -103.92\n",
              "No. Observations:                  42   AIC:                             211.8\n",
              "Df Residuals:                      40   BIC:                             215.3\n",
              "Df Model:                           1                                         \n",
              "Covariance Type:            nonrobust                                         \n",
              "==============================================================================\n",
              "                 coef    std err          t      P>|t|      [0.025      0.975]\n",
              "------------------------------------------------------------------------------\n",
              "const         49.6374      1.989     24.959      0.000      45.618      53.657\n",
              "fage           0.0587      0.067      0.876      0.386      -0.077       0.194\n",
              "==============================================================================\n",
              "Omnibus:                        2.432   Durbin-Watson:                   1.736\n",
              "Prob(Omnibus):                  0.296   Jarque-Bera (JB):                1.407\n",
              "Skew:                          -0.265   Prob(JB):                        0.495\n",
              "Kurtosis:                       3.724   Cond. No.                         130.\n",
              "==============================================================================\n",
              "\n",
              "Notes:\n",
              "[1] Standard Errors assume that the covariance matrix of the errors is correctly specified.\n",
              "\"\"\""
            ],
            "text/html": [
              "<table class=\"simpletable\">\n",
              "<caption>OLS Regression Results</caption>\n",
              "<tr>\n",
              "  <th>Dep. Variable:</th>         <td>Length</td>      <th>  R-squared:         </th> <td>   0.019</td>\n",
              "</tr>\n",
              "<tr>\n",
              "  <th>Model:</th>                   <td>OLS</td>       <th>  Adj. R-squared:    </th> <td>  -0.006</td>\n",
              "</tr>\n",
              "<tr>\n",
              "  <th>Method:</th>             <td>Least Squares</td>  <th>  F-statistic:       </th> <td>  0.7672</td>\n",
              "</tr>\n",
              "<tr>\n",
              "  <th>Date:</th>             <td>Fri, 04 Aug 2023</td> <th>  Prob (F-statistic):</th>  <td> 0.386</td> \n",
              "</tr>\n",
              "<tr>\n",
              "  <th>Time:</th>                 <td>10:46:40</td>     <th>  Log-Likelihood:    </th> <td> -103.92</td>\n",
              "</tr>\n",
              "<tr>\n",
              "  <th>No. Observations:</th>      <td>    42</td>      <th>  AIC:               </th> <td>   211.8</td>\n",
              "</tr>\n",
              "<tr>\n",
              "  <th>Df Residuals:</th>          <td>    40</td>      <th>  BIC:               </th> <td>   215.3</td>\n",
              "</tr>\n",
              "<tr>\n",
              "  <th>Df Model:</th>              <td>     1</td>      <th>                     </th>     <td> </td>   \n",
              "</tr>\n",
              "<tr>\n",
              "  <th>Covariance Type:</th>      <td>nonrobust</td>    <th>                     </th>     <td> </td>   \n",
              "</tr>\n",
              "</table>\n",
              "<table class=\"simpletable\">\n",
              "<tr>\n",
              "    <td></td>       <th>coef</th>     <th>std err</th>      <th>t</th>      <th>P>|t|</th>  <th>[0.025</th>    <th>0.975]</th>  \n",
              "</tr>\n",
              "<tr>\n",
              "  <th>const</th> <td>   49.6374</td> <td>    1.989</td> <td>   24.959</td> <td> 0.000</td> <td>   45.618</td> <td>   53.657</td>\n",
              "</tr>\n",
              "<tr>\n",
              "  <th>fage</th>  <td>    0.0587</td> <td>    0.067</td> <td>    0.876</td> <td> 0.386</td> <td>   -0.077</td> <td>    0.194</td>\n",
              "</tr>\n",
              "</table>\n",
              "<table class=\"simpletable\">\n",
              "<tr>\n",
              "  <th>Omnibus:</th>       <td> 2.432</td> <th>  Durbin-Watson:     </th> <td>   1.736</td>\n",
              "</tr>\n",
              "<tr>\n",
              "  <th>Prob(Omnibus):</th> <td> 0.296</td> <th>  Jarque-Bera (JB):  </th> <td>   1.407</td>\n",
              "</tr>\n",
              "<tr>\n",
              "  <th>Skew:</th>          <td>-0.265</td> <th>  Prob(JB):          </th> <td>   0.495</td>\n",
              "</tr>\n",
              "<tr>\n",
              "  <th>Kurtosis:</th>      <td> 3.724</td> <th>  Cond. No.          </th> <td>    130.</td>\n",
              "</tr>\n",
              "</table><br/><br/>Notes:<br/>[1] Standard Errors assume that the covariance matrix of the errors is correctly specified."
            ]
          },
          "metadata": {},
          "execution_count": 20
        }
      ]
    },
    {
      "cell_type": "markdown",
      "source": [
        "The age of the father and the length of a baby have continuous values. We use three metrics to check if it is possible to calculate the length of a baby using father's age.\n",
        "Regression plot: The line is almost horizontal, and the scatterplot is non-linear.\n",
        "Correlation coefficient: 0.13. It is too weak.\n",
        "Durbin-Watson test: 1.73. It is very homoscedastic.\n",
        "p-value of F-statistic: 0.13. It is above the p.value.\n",
        "\n",
        "These results unanimously agree that there is no way fathers' age can have significant effect on baby length."
      ],
      "metadata": {
        "id": "OXS1UimBC_9o"
      }
    },
    {
      "cell_type": "markdown",
      "source": [
        "`Q17. What does homogeneity of variance mean and why is it important assumption of an independent t-test?`\n"
      ],
      "metadata": {
        "id": "IyJuId5zEdEv"
      }
    },
    {
      "cell_type": "markdown",
      "source": [
        "Homogeneity of variance implies that the variance of a sample size is equally distributed all across the mean such that the spread often looks symmetric. This is crucial in an independent t-test because if there is an imbalance between the two groups involved, erroneous results and conclusions might appear, leading to possible type 1 or type 2 errors."
      ],
      "metadata": {
        "id": "p0zE7bYUK4PC"
      }
    },
    {
      "cell_type": "markdown",
      "source": [
        "*The assumption of homogeneity of variance is an assumption of the independent samples t-test and ANOVA stating that all comparison groups have the same variance.  The independent samples t-test and ANOVA utilize the t and F statistics respectively, which are generally robust to violations of the assumption as long as group sizes are equal.  Equal group sizes may be defined by the ratio of the largest to smallest group being less than 1.5.  If group sizes are vastly unequal and homogeneity of variance is violated, then the F statistic will be biased when large sample variances are associated with small group sizes.  When this occurs, the significance level will be underestimated, which can cause the null hypothesis to be falsely rejected.  On the other hand, the F statistic will be biased in the opposite direction if large variances are associated with large group sizes.  This would mean that the significance level will be overestimated.  This does not cause the same problems as falsely rejecting the null hypothesis, however, it can cause a decrease in the power of the test.*"
      ],
      "metadata": {
        "id": "C2WNhwcKGGbp"
      }
    },
    {
      "cell_type": "markdown",
      "source": [
        "Homogeneity of variance, also known as homoscedasticity, refers to the condition where the variance of the dependent variable is approximately constant across different levels of the independent variable. In other words, the spread or dispersion of data points around the mean should be similar across all groups or conditions of the independent variable.\n",
        "\n",
        "In the context of an independent t-test, homogeneity of variance is an important assumption because the t-test relies on the assumption that the variances of the two groups being compared are equal. When the variances are not equal (i.e., when there is violation of homogeneity of variance), the standard errors of the mean in each group can be different, leading to inaccurate results and potentially incorrect conclusions.\n",
        "\n",
        "If the assumption of homogeneity of variance is violated in an independent t-test, the t-test may become less reliable and less powerful. Specifically, if the group with the larger variance has a larger standard error, it may contribute more noise to the t-test, making it less sensitive to detect true differences between the group means.\n",
        "\n",
        "To assess the homogeneity of variance assumption, researchers often use statistical tests such as Levene's test or the Brown-Forsythe test. These tests compare the variances of the groups and provide a p-value that indicates whether there is a significant difference in variances between the groups. If the p-value is less than the chosen significance level (often 0.05), it suggests a violation of the assumption of homogeneity of variance.\n",
        "\n",
        "If the assumption of homogeneity of variance is violated, researchers may consider using alternative statistical tests, such as the Welch's t-test, which does not assume equal variances between the groups. Welch's t-test is more robust to violations of the homogeneity of variance assumption and can provide more reliable results when the variances differ between groups."
      ],
      "metadata": {
        "id": "V1tD52ImHzbz"
      }
    },
    {
      "cell_type": "markdown",
      "source": [
        "`Q18. Is there homogeneity of variance between head circumference for babies of smoking mothers and head circumference for babies of non-smoking mothers?`\n",
        "* Yes\n",
        "* No"
      ],
      "metadata": {
        "id": "WP3UwrFmH19q"
      }
    },
    {
      "cell_type": "code",
      "source": [
        "# Assuming 'df' is your pandas DataFrame containing the head circumference data and a 'smoker' column indicating smoking status\n",
        "\n",
        "# Separate the head circumference data for smoking and non-smoking mothers\n",
        "head_circumference_smoking = Df[Df['smoker'] == 1]['Headcirc']\n",
        "head_circumference_non_smoking = Df[Df['smoker'] == 0]['Headcirc']\n",
        "\n",
        "# Perform Levene's test\n",
        "levene_statistic, levene_pvalue = levene(head_circumference_smoking, head_circumference_non_smoking)\n",
        "print(\"Levene's test p-value:\", levene_pvalue)\n",
        "\n",
        "# Perform Brown-Forsythe test (using median test from scipy.stats)\n",
        "brown_forsythe_statistic, brown_forsythe_pvalue, _, _ = median_test(head_circumference_smoking, head_circumference_non_smoking)\n",
        "print(\"Brown-Forsythe test p-value:\", brown_forsythe_pvalue)\n"
      ],
      "metadata": {
        "colab": {
          "base_uri": "https://localhost:8080/"
        },
        "id": "nPWRVKvBNv1r",
        "outputId": "d7c8961f-13cf-4ce9-ad65-222e7bbe8661"
      },
      "execution_count": null,
      "outputs": [
        {
          "output_type": "stream",
          "name": "stdout",
          "text": [
            "Levene's test p-value: 0.4328189702719909\n",
            "Brown-Forsythe test p-value: 0.7788568176939545\n"
          ]
        }
      ]
    },
    {
      "cell_type": "markdown",
      "source": [
        "Yes"
      ],
      "metadata": {
        "id": "zpGb1YFUPBK0"
      }
    },
    {
      "cell_type": "markdown",
      "source": [
        "`Q19. Justify your choice.`"
      ],
      "metadata": {
        "id": "4nuWGD5ZQkCi"
      }
    },
    {
      "cell_type": "markdown",
      "source": [
        "Using Levene test and Brown-Forsythe test, both p-values were 0.43 and 0.7 respectively. This means that both variables share homogeneity of variance."
      ],
      "metadata": {
        "id": "4bRk0AqhQ3IM"
      }
    },
    {
      "cell_type": "markdown",
      "source": [
        "`Q20. Do smokers have lighter babies? Justify your answer.`"
      ],
      "metadata": {
        "id": "P0s7gQOxUsnL"
      }
    },
    {
      "cell_type": "code",
      "source": [
        "# Separate the birth weights for smoking and non-smoking mothers\n",
        "birthweight_smoker = Df[Df['smoker'] == 1]['Birthweight']\n",
        "birthweight_non_smoker = Df[Df['smoker'] == 0]['Birthweight']\n",
        "\n",
        "#print(\"Birthweight smokers (count):\", len(birthweight_smoker))\n",
        "#print(\"Birthweight non-smokers (count):\", len(birthweight_non_smoker))\n",
        "#print('\\n')\n",
        "\n",
        "#print(\"Birthweight smokers (mean):\", birthweight_smoker.mean())\n",
        "#print(\"Birthweight non-smokers (mean):\", birthweight_non_smoker.mean())\n",
        "#print('\\n')\n",
        "\n",
        "#print(\"Birthweight smokers (standard deviation):\", birthweight_smoker.std())\n",
        "#print(\"Birthweight non-smokers (standard deviation):\", birthweight_non_smoker.std())\n",
        "#print('\\n')\n",
        "\n",
        "#print(\"Birthweight smokers variance):\", birthweight_smoker.var())\n",
        "#print(\"Birthweight non-smokers (variance):\", birthweight_non_smoker.var())\n",
        "#print('\\n')\n",
        "\n",
        "statistic, shapiro_p_value = shapiro(birthweight_smoker)\n",
        "print('Normality test', shapiro_p_value)\n",
        "\n",
        "levene_statistic, levene_pvalue = levene(birthweight_smoker, birthweight_non_smoker)\n",
        "print(\"Levene's test for homogeneity p-value:\", levene_pvalue)\n",
        "\n",
        "brown_forsythe_statistic, brown_forsythe_pvalue, _, _ = median_test(birthweight_smoker, birthweight_non_smoker)\n",
        "print(\"Brown-Forsythe test p-value:\", brown_forsythe_pvalue)\n",
        "\n",
        "# Perform the independent samples t-test\n",
        "t_statistic, p_value = ttest_ind(birthweight_smoker, birthweight_non_smoker, equal_var=False)\n",
        "\n",
        "print(\"T-statistic:\", t_statistic)\n",
        "print(\"P-value:\", p_value)"
      ],
      "metadata": {
        "colab": {
          "base_uri": "https://localhost:8080/"
        },
        "id": "_mE0L6yHVIVE",
        "outputId": "0a0abe23-29db-49dd-f832-44e6c18eb330"
      },
      "execution_count": null,
      "outputs": [
        {
          "output_type": "stream",
          "name": "stdout",
          "text": [
            "Normality test 0.9494693279266357\n",
            "Levene's test for homogeneity p-value: 0.5819055339947978\n",
            "Brown-Forsythe test p-value: 0.7573540918457526\n",
            "T-statistic: -2.113372024365596\n",
            "P-value: 0.0409170622231392\n"
          ]
        }
      ]
    },
    {
      "cell_type": "markdown",
      "source": [
        "Yes, albeit with minute difference in mean (dM = 0.37) and a difference in variance (dV = 0.113). The t-test showed that the t-statistic gave a score of -2.11) with p-value is 0.04 (< 0.05) implies that smokers have slightly lighter babies. Effect size is 0.58. So we can conclude that smokers do have lighter babies."
      ],
      "metadata": {
        "id": "lor_XjM080w-"
      }
    },
    {
      "cell_type": "markdown",
      "source": [
        "`Q21. Do women over 35 have lighter babies? Justify your answer.`"
      ],
      "metadata": {
        "id": "a3gthHKiC7eg"
      }
    },
    {
      "cell_type": "code",
      "source": [
        "# Separate the birth weights for smoking and non-smoking motherso\n",
        "over_35 = Df[Df['mage'] > 35]['Birthweight']\n",
        "under_35 = Df[Df['mage'] < 35]['Birthweight']\n",
        "\n",
        "# Perform the independent samples t-test\n",
        "\n",
        "print(\"Age over 35 (count):\", len(over_35))\n",
        "print(\"Age under 35 (count):\", len(under_35))\n",
        "print('\\n')\n",
        "\n",
        "print(\"Age over 35 (mean):\", over_35.mean())\n",
        "print(\"Age under 35 (mean)\", under_35.mean())\n",
        "print('\\n')\n",
        "\n",
        "print(\"Age over 35 (standard deviation):\", over_35.std())\n",
        "print(\"Age under 35 (standard deviation):\", under_35.std())\n",
        "print('\\n')\n",
        "\n",
        "print(\"Age over 35 (variance):\", over_35.var())\n",
        "print(\"Age under 35 (variance):\", under_35.var())\n",
        "print('\\n')\n",
        "\n",
        "statistic, shapiro_p_value = shapiro(over_35)\n",
        "print('Normality test', shapiro_p_value)\n",
        "\n",
        "levene_statistic, levene_pvalue = levene(over_35, under_35)\n",
        "print(\"Levene's test for homogeneity p-value:\", levene_pvalue)\n",
        "\n",
        "brown_forsythe_statistic, brown_forsythe_pvalue, _, _ = median_test(over_35, under_35)\n",
        "print(\"Brown-Forsythe test p-value:\", brown_forsythe_pvalue)\n",
        "\n",
        "t_statistic, p_value = ttest_ind(over_35, under_35, equal_var=False)\n",
        "print(\"T-statistic:\", t_statistic)\n",
        "print(\"P-value:\", p_value)"
      ],
      "metadata": {
        "colab": {
          "base_uri": "https://localhost:8080/"
        },
        "id": "dcwG_wyTDEq4",
        "outputId": "8229a2ee-0dce-4052-c63e-ed4cacbbe581"
      },
      "execution_count": null,
      "outputs": [
        {
          "output_type": "stream",
          "name": "stdout",
          "text": [
            "Age over 35 (count): 3\n",
            "Age under 35 (count): 38\n",
            "\n",
            "\n",
            "Age over 35 (mean): 2.783333333333333\n",
            "Age under 35 (mean) 3.333947368421053\n",
            "\n",
            "\n",
            "Age over 35 (standard deviation): 0.7505553499465135\n",
            "Age under 35 (standard deviation): 0.5776913019929356\n",
            "\n",
            "\n",
            "Age over 35 (variance): 0.5633333333333334\n",
            "Age under 35 (variance): 0.3337272403982931\n",
            "\n",
            "\n",
            "Normality test 0.9265208840370178\n",
            "Levene's test for homogeneity p-value: 0.7951461404505358\n",
            "Brown-Forsythe test p-value: 1.0\n",
            "T-statistic: -1.2419371671261996\n",
            "P-value: 0.33068208188065706\n"
          ]
        }
      ]
    },
    {
      "cell_type": "markdown",
      "source": [
        "The mean of the distribution of women over 35 is 2.78, while the rest is 3.33. But our sample, only 3 mothers are over 35 years old, while the majority, 39 are under 35 years old. This sample is very imbalanced. So we cannot rely on the raw mean or standard deviation to make conclusions.\n",
        "\n",
        "So we resort to hypothesis testing.\n",
        "The p-value of the normality test showed that (p = 0.92) > 0.05. It means that the data is normally distributed.\n",
        "\n",
        "The Levene and Brown-Forsythe test p-value = 0.79 and 1.0 respectively. This means that there is no significant difference in the variance between both variables.\n",
        "\n",
        "Finally, the t-test, the t-score and p-value (t(42) = -1.24, p-value=0.3) shows that there is no way we can conclude that women over 35 years of age have lighter babies."
      ],
      "metadata": {
        "id": "2vmG5Ni2Eyhc"
      }
    },
    {
      "cell_type": "code",
      "source": [
        "sav_file2 = files.upload() #upload file from explorer"
      ],
      "metadata": {
        "colab": {
          "base_uri": "https://localhost:8080/",
          "height": 70
        },
        "id": "R4OeGTN_KIMS",
        "outputId": "a0e016d0-2632-412e-b614-fff9e5b42af1"
      },
      "execution_count": null,
      "outputs": [
        {
          "output_type": "display_data",
          "data": {
            "text/plain": [
              "<IPython.core.display.HTML object>"
            ],
            "text/html": [
              "\n",
              "     <input type=\"file\" id=\"files-a802cd0e-fa29-4c9f-855c-3f603c8915ab\" name=\"files[]\" multiple disabled\n",
              "        style=\"border:none\" />\n",
              "     <output id=\"result-a802cd0e-fa29-4c9f-855c-3f603c8915ab\">\n",
              "      Upload widget is only available when the cell has been executed in the\n",
              "      current browser session. Please rerun this cell to enable.\n",
              "      </output>\n",
              "      <script>// Copyright 2017 Google LLC\n",
              "//\n",
              "// Licensed under the Apache License, Version 2.0 (the \"License\");\n",
              "// you may not use this file except in compliance with the License.\n",
              "// You may obtain a copy of the License at\n",
              "//\n",
              "//      http://www.apache.org/licenses/LICENSE-2.0\n",
              "//\n",
              "// Unless required by applicable law or agreed to in writing, software\n",
              "// distributed under the License is distributed on an \"AS IS\" BASIS,\n",
              "// WITHOUT WARRANTIES OR CONDITIONS OF ANY KIND, either express or implied.\n",
              "// See the License for the specific language governing permissions and\n",
              "// limitations under the License.\n",
              "\n",
              "/**\n",
              " * @fileoverview Helpers for google.colab Python module.\n",
              " */\n",
              "(function(scope) {\n",
              "function span(text, styleAttributes = {}) {\n",
              "  const element = document.createElement('span');\n",
              "  element.textContent = text;\n",
              "  for (const key of Object.keys(styleAttributes)) {\n",
              "    element.style[key] = styleAttributes[key];\n",
              "  }\n",
              "  return element;\n",
              "}\n",
              "\n",
              "// Max number of bytes which will be uploaded at a time.\n",
              "const MAX_PAYLOAD_SIZE = 100 * 1024;\n",
              "\n",
              "function _uploadFiles(inputId, outputId) {\n",
              "  const steps = uploadFilesStep(inputId, outputId);\n",
              "  const outputElement = document.getElementById(outputId);\n",
              "  // Cache steps on the outputElement to make it available for the next call\n",
              "  // to uploadFilesContinue from Python.\n",
              "  outputElement.steps = steps;\n",
              "\n",
              "  return _uploadFilesContinue(outputId);\n",
              "}\n",
              "\n",
              "// This is roughly an async generator (not supported in the browser yet),\n",
              "// where there are multiple asynchronous steps and the Python side is going\n",
              "// to poll for completion of each step.\n",
              "// This uses a Promise to block the python side on completion of each step,\n",
              "// then passes the result of the previous step as the input to the next step.\n",
              "function _uploadFilesContinue(outputId) {\n",
              "  const outputElement = document.getElementById(outputId);\n",
              "  const steps = outputElement.steps;\n",
              "\n",
              "  const next = steps.next(outputElement.lastPromiseValue);\n",
              "  return Promise.resolve(next.value.promise).then((value) => {\n",
              "    // Cache the last promise value to make it available to the next\n",
              "    // step of the generator.\n",
              "    outputElement.lastPromiseValue = value;\n",
              "    return next.value.response;\n",
              "  });\n",
              "}\n",
              "\n",
              "/**\n",
              " * Generator function which is called between each async step of the upload\n",
              " * process.\n",
              " * @param {string} inputId Element ID of the input file picker element.\n",
              " * @param {string} outputId Element ID of the output display.\n",
              " * @return {!Iterable<!Object>} Iterable of next steps.\n",
              " */\n",
              "function* uploadFilesStep(inputId, outputId) {\n",
              "  const inputElement = document.getElementById(inputId);\n",
              "  inputElement.disabled = false;\n",
              "\n",
              "  const outputElement = document.getElementById(outputId);\n",
              "  outputElement.innerHTML = '';\n",
              "\n",
              "  const pickedPromise = new Promise((resolve) => {\n",
              "    inputElement.addEventListener('change', (e) => {\n",
              "      resolve(e.target.files);\n",
              "    });\n",
              "  });\n",
              "\n",
              "  const cancel = document.createElement('button');\n",
              "  inputElement.parentElement.appendChild(cancel);\n",
              "  cancel.textContent = 'Cancel upload';\n",
              "  const cancelPromise = new Promise((resolve) => {\n",
              "    cancel.onclick = () => {\n",
              "      resolve(null);\n",
              "    };\n",
              "  });\n",
              "\n",
              "  // Wait for the user to pick the files.\n",
              "  const files = yield {\n",
              "    promise: Promise.race([pickedPromise, cancelPromise]),\n",
              "    response: {\n",
              "      action: 'starting',\n",
              "    }\n",
              "  };\n",
              "\n",
              "  cancel.remove();\n",
              "\n",
              "  // Disable the input element since further picks are not allowed.\n",
              "  inputElement.disabled = true;\n",
              "\n",
              "  if (!files) {\n",
              "    return {\n",
              "      response: {\n",
              "        action: 'complete',\n",
              "      }\n",
              "    };\n",
              "  }\n",
              "\n",
              "  for (const file of files) {\n",
              "    const li = document.createElement('li');\n",
              "    li.append(span(file.name, {fontWeight: 'bold'}));\n",
              "    li.append(span(\n",
              "        `(${file.type || 'n/a'}) - ${file.size} bytes, ` +\n",
              "        `last modified: ${\n",
              "            file.lastModifiedDate ? file.lastModifiedDate.toLocaleDateString() :\n",
              "                                    'n/a'} - `));\n",
              "    const percent = span('0% done');\n",
              "    li.appendChild(percent);\n",
              "\n",
              "    outputElement.appendChild(li);\n",
              "\n",
              "    const fileDataPromise = new Promise((resolve) => {\n",
              "      const reader = new FileReader();\n",
              "      reader.onload = (e) => {\n",
              "        resolve(e.target.result);\n",
              "      };\n",
              "      reader.readAsArrayBuffer(file);\n",
              "    });\n",
              "    // Wait for the data to be ready.\n",
              "    let fileData = yield {\n",
              "      promise: fileDataPromise,\n",
              "      response: {\n",
              "        action: 'continue',\n",
              "      }\n",
              "    };\n",
              "\n",
              "    // Use a chunked sending to avoid message size limits. See b/62115660.\n",
              "    let position = 0;\n",
              "    do {\n",
              "      const length = Math.min(fileData.byteLength - position, MAX_PAYLOAD_SIZE);\n",
              "      const chunk = new Uint8Array(fileData, position, length);\n",
              "      position += length;\n",
              "\n",
              "      const base64 = btoa(String.fromCharCode.apply(null, chunk));\n",
              "      yield {\n",
              "        response: {\n",
              "          action: 'append',\n",
              "          file: file.name,\n",
              "          data: base64,\n",
              "        },\n",
              "      };\n",
              "\n",
              "      let percentDone = fileData.byteLength === 0 ?\n",
              "          100 :\n",
              "          Math.round((position / fileData.byteLength) * 100);\n",
              "      percent.textContent = `${percentDone}% done`;\n",
              "\n",
              "    } while (position < fileData.byteLength);\n",
              "  }\n",
              "\n",
              "  // All done.\n",
              "  yield {\n",
              "    response: {\n",
              "      action: 'complete',\n",
              "    }\n",
              "  };\n",
              "}\n",
              "\n",
              "scope.google = scope.google || {};\n",
              "scope.google.colab = scope.google.colab || {};\n",
              "scope.google.colab._files = {\n",
              "  _uploadFiles,\n",
              "  _uploadFilesContinue,\n",
              "};\n",
              "})(self);\n",
              "</script> "
            ]
          },
          "metadata": {}
        },
        {
          "output_type": "stream",
          "name": "stdout",
          "text": [
            "Saving Cholesterol_SPSS.sav to Cholesterol_SPSS.sav\n"
          ]
        }
      ]
    },
    {
      "cell_type": "code",
      "source": [
        "Df1, meta1 = prs.read_sav(\"Cholesterol_SPSS.sav\") #load file"
      ],
      "metadata": {
        "id": "GYDtiPLsUrO5"
      },
      "execution_count": null,
      "outputs": []
    },
    {
      "cell_type": "code",
      "source": [
        "# Accessing the variable names\n",
        "print(\"Variable names:\\n\", meta1.column_names)\n",
        "\n",
        "# Accessing the variable labels\n",
        "print(\"Variable labels:\\n\", meta1.variable_value_labels)\n",
        "\n",
        "# Accessing the detailed information about each variable\n",
        "print(\"Variable information:\")\n",
        "print(meta1.column_names_to_labels)"
      ],
      "metadata": {
        "colab": {
          "base_uri": "https://localhost:8080/"
        },
        "id": "r3nTbz4mVH3W",
        "outputId": "4b701bd9-26fb-4ae4-d5e2-e7edcdd81b69"
      },
      "execution_count": null,
      "outputs": [
        {
          "output_type": "stream",
          "name": "stdout",
          "text": [
            "Variable names:\n",
            " ['ID', 'Before', 'After4weeks', 'After8weeks', 'Margarine']\n",
            "Variable labels:\n",
            " {}\n",
            "Variable information:\n",
            "{'ID': None, 'Before': None, 'After4weeks': 'After 4 weeks', 'After8weeks': 'After 8 weeks', 'Margarine': None}\n"
          ]
        }
      ]
    },
    {
      "cell_type": "code",
      "source": [
        "print(Df1.shape)\n",
        "print(Df1.info())"
      ],
      "metadata": {
        "colab": {
          "base_uri": "https://localhost:8080/"
        },
        "id": "fF_YgW20VemB",
        "outputId": "702c598b-f82a-48ba-8f35-9ddaa6532a1d"
      },
      "execution_count": null,
      "outputs": [
        {
          "output_type": "stream",
          "name": "stdout",
          "text": [
            "(18, 5)\n",
            "<class 'pandas.core.frame.DataFrame'>\n",
            "RangeIndex: 18 entries, 0 to 17\n",
            "Data columns (total 5 columns):\n",
            " #   Column       Non-Null Count  Dtype  \n",
            "---  ------       --------------  -----  \n",
            " 0   ID           18 non-null     float64\n",
            " 1   Before       18 non-null     float64\n",
            " 2   After4weeks  18 non-null     float64\n",
            " 3   After8weeks  18 non-null     float64\n",
            " 4   Margarine    18 non-null     object \n",
            "dtypes: float64(4), object(1)\n",
            "memory usage: 848.0+ bytes\n",
            "None\n"
          ]
        }
      ]
    },
    {
      "cell_type": "code",
      "source": [
        "Df1.head()"
      ],
      "metadata": {
        "colab": {
          "base_uri": "https://localhost:8080/",
          "height": 206
        },
        "id": "MqCH1U_bVmqE",
        "outputId": "c8769db5-1f26-4ce3-9440-66cf90b1f106"
      },
      "execution_count": null,
      "outputs": [
        {
          "output_type": "execute_result",
          "data": {
            "text/plain": [
              "    ID  Before  After4weeks  After8weeks Margarine\n",
              "0  1.0    6.42         5.83         5.75         B\n",
              "1  2.0    6.76         6.20         6.13         A\n",
              "2  3.0    6.56         5.83         5.71         B\n",
              "3  4.0    4.80         4.27         4.15         A\n",
              "4  5.0    8.43         7.71         7.67         B"
            ],
            "text/html": [
              "\n",
              "\n",
              "  <div id=\"df-23e312e1-b854-4571-acee-35701af3c750\">\n",
              "    <div class=\"colab-df-container\">\n",
              "      <div>\n",
              "<style scoped>\n",
              "    .dataframe tbody tr th:only-of-type {\n",
              "        vertical-align: middle;\n",
              "    }\n",
              "\n",
              "    .dataframe tbody tr th {\n",
              "        vertical-align: top;\n",
              "    }\n",
              "\n",
              "    .dataframe thead th {\n",
              "        text-align: right;\n",
              "    }\n",
              "</style>\n",
              "<table border=\"1\" class=\"dataframe\">\n",
              "  <thead>\n",
              "    <tr style=\"text-align: right;\">\n",
              "      <th></th>\n",
              "      <th>ID</th>\n",
              "      <th>Before</th>\n",
              "      <th>After4weeks</th>\n",
              "      <th>After8weeks</th>\n",
              "      <th>Margarine</th>\n",
              "    </tr>\n",
              "  </thead>\n",
              "  <tbody>\n",
              "    <tr>\n",
              "      <th>0</th>\n",
              "      <td>1.0</td>\n",
              "      <td>6.42</td>\n",
              "      <td>5.83</td>\n",
              "      <td>5.75</td>\n",
              "      <td>B</td>\n",
              "    </tr>\n",
              "    <tr>\n",
              "      <th>1</th>\n",
              "      <td>2.0</td>\n",
              "      <td>6.76</td>\n",
              "      <td>6.20</td>\n",
              "      <td>6.13</td>\n",
              "      <td>A</td>\n",
              "    </tr>\n",
              "    <tr>\n",
              "      <th>2</th>\n",
              "      <td>3.0</td>\n",
              "      <td>6.56</td>\n",
              "      <td>5.83</td>\n",
              "      <td>5.71</td>\n",
              "      <td>B</td>\n",
              "    </tr>\n",
              "    <tr>\n",
              "      <th>3</th>\n",
              "      <td>4.0</td>\n",
              "      <td>4.80</td>\n",
              "      <td>4.27</td>\n",
              "      <td>4.15</td>\n",
              "      <td>A</td>\n",
              "    </tr>\n",
              "    <tr>\n",
              "      <th>4</th>\n",
              "      <td>5.0</td>\n",
              "      <td>8.43</td>\n",
              "      <td>7.71</td>\n",
              "      <td>7.67</td>\n",
              "      <td>B</td>\n",
              "    </tr>\n",
              "  </tbody>\n",
              "</table>\n",
              "</div>\n",
              "      <button class=\"colab-df-convert\" onclick=\"convertToInteractive('df-23e312e1-b854-4571-acee-35701af3c750')\"\n",
              "              title=\"Convert this dataframe to an interactive table.\"\n",
              "              style=\"display:none;\">\n",
              "\n",
              "  <svg xmlns=\"http://www.w3.org/2000/svg\" height=\"24px\"viewBox=\"0 0 24 24\"\n",
              "       width=\"24px\">\n",
              "    <path d=\"M0 0h24v24H0V0z\" fill=\"none\"/>\n",
              "    <path d=\"M18.56 5.44l.94 2.06.94-2.06 2.06-.94-2.06-.94-.94-2.06-.94 2.06-2.06.94zm-11 1L8.5 8.5l.94-2.06 2.06-.94-2.06-.94L8.5 2.5l-.94 2.06-2.06.94zm10 10l.94 2.06.94-2.06 2.06-.94-2.06-.94-.94-2.06-.94 2.06-2.06.94z\"/><path d=\"M17.41 7.96l-1.37-1.37c-.4-.4-.92-.59-1.43-.59-.52 0-1.04.2-1.43.59L10.3 9.45l-7.72 7.72c-.78.78-.78 2.05 0 2.83L4 21.41c.39.39.9.59 1.41.59.51 0 1.02-.2 1.41-.59l7.78-7.78 2.81-2.81c.8-.78.8-2.07 0-2.86zM5.41 20L4 18.59l7.72-7.72 1.47 1.35L5.41 20z\"/>\n",
              "  </svg>\n",
              "      </button>\n",
              "\n",
              "\n",
              "\n",
              "    <div id=\"df-b7abe6fb-601b-438a-aee9-7ca856b71297\">\n",
              "      <button class=\"colab-df-quickchart\" onclick=\"quickchart('df-b7abe6fb-601b-438a-aee9-7ca856b71297')\"\n",
              "              title=\"Suggest charts.\"\n",
              "              style=\"display:none;\">\n",
              "\n",
              "<svg xmlns=\"http://www.w3.org/2000/svg\" height=\"24px\"viewBox=\"0 0 24 24\"\n",
              "     width=\"24px\">\n",
              "    <g>\n",
              "        <path d=\"M19 3H5c-1.1 0-2 .9-2 2v14c0 1.1.9 2 2 2h14c1.1 0 2-.9 2-2V5c0-1.1-.9-2-2-2zM9 17H7v-7h2v7zm4 0h-2V7h2v10zm4 0h-2v-4h2v4z\"/>\n",
              "    </g>\n",
              "</svg>\n",
              "      </button>\n",
              "    </div>\n",
              "\n",
              "<style>\n",
              "  .colab-df-quickchart {\n",
              "    background-color: #E8F0FE;\n",
              "    border: none;\n",
              "    border-radius: 50%;\n",
              "    cursor: pointer;\n",
              "    display: none;\n",
              "    fill: #1967D2;\n",
              "    height: 32px;\n",
              "    padding: 0 0 0 0;\n",
              "    width: 32px;\n",
              "  }\n",
              "\n",
              "  .colab-df-quickchart:hover {\n",
              "    background-color: #E2EBFA;\n",
              "    box-shadow: 0px 1px 2px rgba(60, 64, 67, 0.3), 0px 1px 3px 1px rgba(60, 64, 67, 0.15);\n",
              "    fill: #174EA6;\n",
              "  }\n",
              "\n",
              "  [theme=dark] .colab-df-quickchart {\n",
              "    background-color: #3B4455;\n",
              "    fill: #D2E3FC;\n",
              "  }\n",
              "\n",
              "  [theme=dark] .colab-df-quickchart:hover {\n",
              "    background-color: #434B5C;\n",
              "    box-shadow: 0px 1px 3px 1px rgba(0, 0, 0, 0.15);\n",
              "    filter: drop-shadow(0px 1px 2px rgba(0, 0, 0, 0.3));\n",
              "    fill: #FFFFFF;\n",
              "  }\n",
              "</style>\n",
              "\n",
              "    <script>\n",
              "      async function quickchart(key) {\n",
              "        const containerElement = document.querySelector('#' + key);\n",
              "        const charts = await google.colab.kernel.invokeFunction(\n",
              "            'suggestCharts', [key], {});\n",
              "      }\n",
              "    </script>\n",
              "\n",
              "      <script>\n",
              "\n",
              "function displayQuickchartButton(domScope) {\n",
              "  let quickchartButtonEl =\n",
              "    domScope.querySelector('#df-b7abe6fb-601b-438a-aee9-7ca856b71297 button.colab-df-quickchart');\n",
              "  quickchartButtonEl.style.display =\n",
              "    google.colab.kernel.accessAllowed ? 'block' : 'none';\n",
              "}\n",
              "\n",
              "        displayQuickchartButton(document);\n",
              "      </script>\n",
              "      <style>\n",
              "    .colab-df-container {\n",
              "      display:flex;\n",
              "      flex-wrap:wrap;\n",
              "      gap: 12px;\n",
              "    }\n",
              "\n",
              "    .colab-df-convert {\n",
              "      background-color: #E8F0FE;\n",
              "      border: none;\n",
              "      border-radius: 50%;\n",
              "      cursor: pointer;\n",
              "      display: none;\n",
              "      fill: #1967D2;\n",
              "      height: 32px;\n",
              "      padding: 0 0 0 0;\n",
              "      width: 32px;\n",
              "    }\n",
              "\n",
              "    .colab-df-convert:hover {\n",
              "      background-color: #E2EBFA;\n",
              "      box-shadow: 0px 1px 2px rgba(60, 64, 67, 0.3), 0px 1px 3px 1px rgba(60, 64, 67, 0.15);\n",
              "      fill: #174EA6;\n",
              "    }\n",
              "\n",
              "    [theme=dark] .colab-df-convert {\n",
              "      background-color: #3B4455;\n",
              "      fill: #D2E3FC;\n",
              "    }\n",
              "\n",
              "    [theme=dark] .colab-df-convert:hover {\n",
              "      background-color: #434B5C;\n",
              "      box-shadow: 0px 1px 3px 1px rgba(0, 0, 0, 0.15);\n",
              "      filter: drop-shadow(0px 1px 2px rgba(0, 0, 0, 0.3));\n",
              "      fill: #FFFFFF;\n",
              "    }\n",
              "  </style>\n",
              "\n",
              "      <script>\n",
              "        const buttonEl =\n",
              "          document.querySelector('#df-23e312e1-b854-4571-acee-35701af3c750 button.colab-df-convert');\n",
              "        buttonEl.style.display =\n",
              "          google.colab.kernel.accessAllowed ? 'block' : 'none';\n",
              "\n",
              "        async function convertToInteractive(key) {\n",
              "          const element = document.querySelector('#df-23e312e1-b854-4571-acee-35701af3c750');\n",
              "          const dataTable =\n",
              "            await google.colab.kernel.invokeFunction('convertToInteractive',\n",
              "                                                     [key], {});\n",
              "          if (!dataTable) return;\n",
              "\n",
              "          const docLinkHtml = 'Like what you see? Visit the ' +\n",
              "            '<a target=\"_blank\" href=https://colab.research.google.com/notebooks/data_table.ipynb>data table notebook</a>'\n",
              "            + ' to learn more about interactive tables.';\n",
              "          element.innerHTML = '';\n",
              "          dataTable['output_type'] = 'display_data';\n",
              "          await google.colab.output.renderOutput(dataTable, element);\n",
              "          const docLink = document.createElement('div');\n",
              "          docLink.innerHTML = docLinkHtml;\n",
              "          element.appendChild(docLink);\n",
              "        }\n",
              "      </script>\n",
              "    </div>\n",
              "  </div>\n"
            ]
          },
          "metadata": {},
          "execution_count": 29
        }
      ]
    },
    {
      "cell_type": "markdown",
      "source": [
        "`Q22. Using the cholesterol dataset, was the diet effective in lowering cholesterol concentration after 8 weeks of use? Justify your answer.`"
      ],
      "metadata": {
        "id": "WgJSceUlG98r"
      }
    },
    {
      "cell_type": "code",
      "source": [
        "Df1['Difference_Now'] = Df1['Before'] - Df1['After8weeks']"
      ],
      "metadata": {
        "id": "mn8So1saYSHj"
      },
      "execution_count": null,
      "outputs": []
    },
    {
      "cell_type": "code",
      "source": [
        "# Assuming you have the 'Before_8weeks' column in the DataFrame 'Df1'\n",
        "# Perform the Kolmogorov-Smirnov test\n",
        "statistic, p_value = kstest(Df1['Difference_Now'], 'norm')\n",
        "\n",
        "# Print the results\n",
        "print(\"Kolmogorov-Smirnov test statistic:\", statistic)\n",
        "print(\"P-value:\", p_value)\n",
        "\n",
        "statistic, p_value = shapiro(Df1['Difference_Now'])\n",
        "\n",
        "print(Df1.Before.mean())\n",
        "print(Df1.After8weeks.mean())\n",
        "\n",
        "# Print the results\n",
        "print(\"Shapiro-Wilk test statistic:\", statistic)\n",
        "print(\"P-value:\", p_value)\n",
        "\n",
        "# Assuming you have loaded the cholesterol dataset into a DataFrame named 'df'\n",
        "# The columns 'Cholesterol_Before' and 'Cholesterol_After' represent cholesterol concentrations before and after the diet.\n",
        "\n",
        "# Perform the dependent t-test\n",
        "t_statistic, p_value = ttest_rel(Df1['Before'], Df1['After8weeks'])\n",
        "\n",
        "# Print the results\n",
        "print(\"T-statistic:\", t_statistic)\n",
        "print(\"P-value:\", p_value)\n"
      ],
      "metadata": {
        "colab": {
          "base_uri": "https://localhost:8080/"
        },
        "id": "2ObrQ5pSZToK",
        "outputId": "629c4b0e-9008-4b22-f039-6f310f785bcb"
      },
      "execution_count": null,
      "outputs": [
        {
          "output_type": "stream",
          "name": "stdout",
          "text": [
            "Kolmogorov-Smirnov test statistic: 0.5987063256829237\n",
            "P-value: 1.0710034039491798e-06\n",
            "6.407777777777778\n",
            "5.77888888888889\n",
            "Shapiro-Wilk test statistic: 0.9850128293037415\n",
            "P-value: 0.9868758320808411\n",
            "T-statistic: 14.945967764585072\n",
            "P-value: 3.27857534017563e-11\n"
          ]
        }
      ]
    },
    {
      "cell_type": "markdown",
      "source": [
        "We calculate the difference in recorded cholesterol levels for before and after eight weeks. The mean difference is a reduction in cholesterol levels by 0.63.\n",
        "\n",
        "Testing for normality, we use kolmogorov-Smirnov, and Shapiro test and arrived at p = 0.000001 and 0.98 respectively. To compensate for this I plotted a histogram, and I arrived at the conclusion from the sketch that the distribution is likely normal.\n",
        "\n",
        "Finally, I deployed a dependent t-test and arrived at a T-score, t(18) = 14.9, and p-value = 3.27e-11, which is extremely small by 11 orders of magnitude.\n",
        "\n",
        "From this, we can conclude that there was effective reduction in cholesterol after eight weeks."
      ],
      "metadata": {
        "id": "azMa1H2ZZ56f"
      }
    },
    {
      "cell_type": "code",
      "source": [
        "Df1.Difference_Now.hist()"
      ],
      "metadata": {
        "colab": {
          "base_uri": "https://localhost:8080/",
          "height": 447
        },
        "id": "GxaKNzPNVrRk",
        "outputId": "b6ee3302-5a3f-457c-c003-cc499cbd0646"
      },
      "execution_count": null,
      "outputs": [
        {
          "output_type": "execute_result",
          "data": {
            "text/plain": [
              "<Axes: >"
            ]
          },
          "metadata": {},
          "execution_count": 47
        },
        {
          "output_type": "display_data",
          "data": {
            "text/plain": [
              "<Figure size 640x480 with 1 Axes>"
            ],
            "image/png": "[encoded data removed]"
          },
          "metadata": {}
        }
      ]
    },
    {
      "cell_type": "markdown",
      "source": [
        "`Q23. For the above case, what is the null and alternative hypothesis?`"
      ],
      "metadata": {
        "id": "U6IDGXMktp9h"
      }
    },
    {
      "cell_type": "markdown",
      "source": [
        "The null hypothesis, 'H0': \"The diet was ineffective in lowering the cholesterol levels.\"\n",
        "\n",
        "The alternative hypothesis, 'H1': \"The diet was effective in lowering the cholesterol levels.\"\n",
        "\n",
        "In our answer, we rejected the null hypothesis and accepted the alternate hypothesis.\""
      ],
      "metadata": {
        "id": "9--dOVCDXuOL"
      }
    },
    {
      "cell_type": "markdown",
      "source": [
        "`Q24. Was the margarine diet more effective in the first 4 weeks of use or the last 4 weeks of use? Justify your answer.`"
      ],
      "metadata": {
        "id": "7lkvIwZFu2iX"
      }
    },
    {
      "cell_type": "code",
      "source": [
        "# Assuming Df1 is your DataFrame\n",
        "\n",
        "plt.figure(figsize=(20, 6))\n",
        "plt.plot(Df1['ID'], Df1['Before'], label='Before')\n",
        "plt.plot(Df1['ID'], Df1['After4weeks'], label='After 4 Weeks')\n",
        "plt.plot(Df1['ID'], Df1['After8weeks'], label='After 8 Weeks')\n",
        "\n",
        "# Add labels and title\n",
        "plt.xlabel('ID')\n",
        "plt.ylabel('Cholesterol Concentration')\n",
        "plt.title('Changes in Cholesterol Concentration Over Time')\n",
        "\n",
        "# Add legend\n",
        "plt.legend()\n",
        "\n",
        "# Show the plot\n",
        "plt.show()\n"
      ],
      "metadata": {
        "colab": {
          "base_uri": "https://localhost:8080/",
          "height": 463
        },
        "id": "xvR1luXcwStZ",
        "outputId": "df469bfe-1cad-45a8-c765-50c16b1edfff"
      },
      "execution_count": null,
      "outputs": [
        {
          "output_type": "display_data",
          "data": {
            "text/plain": [
              "<Figure size 2000x600 with 1 Axes>"
            ],
            "image/png": "[encoded data removed]"
          },
          "metadata": {}
        }
      ]
    },
    {
      "cell_type": "markdown",
      "source": [
        "I used a line plot showing the graph to compare the changes. The result is consistent. It clearly shows that changes in cholesterol was effective after the first four weeks but significantly weaker after eight weeks."
      ],
      "metadata": {
        "id": "XsXt7O_hBN05"
      }
    },
    {
      "cell_type": "markdown",
      "source": [
        "`Q25. If you know that the average cholesterol concentration in healthy adults is 3 mmol/L, would you consider your sample (N=18) significantly better or worse than average adult population? Justify your answer.`"
      ],
      "metadata": {
        "id": "7wTJ_cWRvD1k"
      }
    },
    {
      "cell_type": "code",
      "source": [
        "sample_mean = Df1['After8weeks'].mean()\n",
        "population_mean = 3.0  # Average cholesterol concentration in healthy adults\n",
        "sample_size = len(Df1)\n",
        "\n",
        "# Perform one-sample t-test\n",
        "t_statistic, p_value = ttest_1samp(Df1['After8weeks'], population_mean)\n",
        "\n",
        "print(\"Sample Mean:\", sample_mean)\n",
        "print(\"Population Mean:\", population_mean)\n",
        "print(\"Sample Size:\", sample_size)\n",
        "print(\"T-statistic:\", t_statistic)\n",
        "print(\"P-value:\", p_value)\n",
        "\n",
        "if p_value < 0.05:\n",
        "    print(\"The sample mean is significantly different from the population mean.\")\n",
        "else:\n",
        "    print(\"The sample mean is not significantly different from the population mean.\")\n"
      ],
      "metadata": {
        "colab": {
          "base_uri": "https://localhost:8080/"
        },
        "id": "R5NQsnmzwRdt",
        "outputId": "842a88bc-6132-49ee-ae5c-3cb15aab3e0f"
      },
      "execution_count": null,
      "outputs": [
        {
          "output_type": "stream",
          "name": "stdout",
          "text": [
            "Sample Mean: 5.77888888888889\n",
            "Population Mean: 3.0\n",
            "Sample Size: 18\n",
            "T-statistic: 10.69942528478202\n",
            "P-value: 5.696836608393939e-09\n",
            "The sample mean is significantly different from the population mean.\n"
          ]
        }
      ]
    },
    {
      "cell_type": "code",
      "source": [
        "statistic, p_value = shapiro(Df1['After4weeks'])\n",
        "p_value"
      ],
      "metadata": {
        "colab": {
          "base_uri": "https://localhost:8080/"
        },
        "id": "A1LuYM3XQVGK",
        "outputId": "acb61d66-bb93-4dc9-86a7-de6f49289249"
      },
      "execution_count": null,
      "outputs": [
        {
          "output_type": "execute_result",
          "data": {
            "text/plain": [
              "0.9120969176292419"
            ]
          },
          "metadata": {},
          "execution_count": 79
        }
      ]
    },
    {
      "cell_type": "code",
      "source": [
        "columns_to_calculate = ['Before', 'After4weeks', 'After8weeks']\n",
        "\n",
        "for column in columns_to_calculate:\n",
        "  column_mean = Df1[column].mean()\n",
        "  print(f\"Mean {column}: {column_mean}\")\n"
      ],
      "metadata": {
        "colab": {
          "base_uri": "https://localhost:8080/"
        },
        "id": "e4lP7_K52_4w",
        "outputId": "9e03c66e-cf3a-44f7-a218-dcf849bb924b"
      },
      "execution_count": null,
      "outputs": [
        {
          "output_type": "stream",
          "name": "stdout",
          "text": [
            "Mean Before: 6.407777777777778\n",
            "Mean After4weeks: 5.841666666666666\n",
            "Mean After8weeks: 5.77888888888889\n"
          ]
        }
      ]
    },
    {
      "cell_type": "markdown",
      "source": [
        "I tested for normality for all variables involving cholesterol levels, the p-value = 0.9. So they are likely a normal distribution.\n",
        "\n",
        "I performed a one-sample t-test on the three sets of cholesterol levels. The p-values for each of the variables are all way orders of magnitude less than 0.05. As a result, we cannot compare our sample means with the mean of the general population since the p-values show extreme insignificance in their relationship.\n",
        "\n",
        "The lowest mean is the mean of the cholesterol after eight weeks with values of 5.77 > 3. This means that our results are bad compared to the population mean."
      ],
      "metadata": {
        "id": "gWzLClUrOBhE"
      }
    },
    {
      "cell_type": "code",
      "source": [],
      "metadata": {
        "id": "sb3b_9FlRj14"
      },
      "execution_count": null,
      "outputs": []
    }
  ]
}