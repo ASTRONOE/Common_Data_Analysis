{
  "cells": [
    {
      "cell_type": "markdown",
      "metadata": {
        "id": "view-in-github",
        "colab_type": "text"
      },
      "source": [
        "<a href=\"https://colab.research.google.com/github/ASTRONOE/Common_Data_Analysis/blob/KreativStorm/Week_4.ipynb\" target=\"_parent\"><img src=\"https://colab.research.google.com/assets/colab-badge.svg\" alt=\"Open In Colab\"/></a>"
      ]
    },
    {
      "cell_type": "markdown",
      "metadata": {
        "id": "Dw9bqq9G8xhu"
      },
      "source": [
        "#**Data Analysis Hands-On Program - KreativStorm**\n",
        "##WEEK 4 ASSIGNMENT\n",
        "###**Main Research Question: How do pick-up lines and a person’s scent influence relationship initiation?**"
      ]
    },
    {
      "cell_type": "code",
      "execution_count": null,
      "metadata": {
        "colab": {
          "base_uri": "https://localhost:8080/"
        },
        "id": "cMm0-KZf9UrB",
        "outputId": "337402e8-720b-4774-be45-2fdedae860d3"
      },
      "outputs": [
        {
          "output_type": "stream",
          "name": "stdout",
          "text": [
            "Collecting pyreadstat\n",
            "  Downloading pyreadstat-1.2.2-cp310-cp310-manylinux_2_17_x86_64.manylinux2014_x86_64.whl (2.7 MB)\n",
            "\u001b[2K     \u001b[90m━━━━━━━━━━━━━━━━━━━━━━━━━━━━━━━━━━━━━━━━\u001b[0m \u001b[32m2.7/2.7 MB\u001b[0m \u001b[31m5.8 MB/s\u001b[0m eta \u001b[36m0:00:00\u001b[0m\n",
            "\u001b[?25hRequirement already satisfied: pandas>=1.2.0 in /usr/local/lib/python3.10/dist-packages (from pyreadstat) (1.5.3)\n",
            "Requirement already satisfied: python-dateutil>=2.8.1 in /usr/local/lib/python3.10/dist-packages (from pandas>=1.2.0->pyreadstat) (2.8.2)\n",
            "Requirement already satisfied: pytz>=2020.1 in /usr/local/lib/python3.10/dist-packages (from pandas>=1.2.0->pyreadstat) (2023.3)\n",
            "Requirement already satisfied: numpy>=1.21.0 in /usr/local/lib/python3.10/dist-packages (from pandas>=1.2.0->pyreadstat) (1.23.5)\n",
            "Requirement already satisfied: six>=1.5 in /usr/local/lib/python3.10/dist-packages (from python-dateutil>=2.8.1->pandas>=1.2.0->pyreadstat) (1.16.0)\n",
            "Installing collected packages: pyreadstat\n",
            "Successfully installed pyreadstat-1.2.2\n"
          ]
        }
      ],
      "source": [
        "!pip install pyreadstat"
      ]
    },
    {
      "cell_type": "code",
      "execution_count": null,
      "metadata": {
        "colab": {
          "base_uri": "https://localhost:8080/"
        },
        "id": "GeD2YPeyl_Kx",
        "outputId": "213db471-903b-4cc8-9d6b-51f096ddacbe"
      },
      "outputs": [
        {
          "output_type": "stream",
          "name": "stdout",
          "text": [
            "Collecting pingouin\n",
            "  Downloading pingouin-0.5.3-py3-none-any.whl (198 kB)\n",
            "\u001b[?25l     \u001b[90m━━━━━━━━━━━━━━━━━━━━━━━━━━━━━━━━━━━━━━━━\u001b[0m \u001b[32m0.0/198.6 kB\u001b[0m \u001b[31m?\u001b[0m eta \u001b[36m-:--:--\u001b[0m\r\u001b[2K     \u001b[91m━━━━━━━━━━━━━━━━━━━━━━━━\u001b[0m\u001b[90m╺\u001b[0m\u001b[90m━━━━━━━━━━━━━━\u001b[0m \u001b[32m122.9/198.6 kB\u001b[0m \u001b[31m3.5 MB/s\u001b[0m eta \u001b[36m0:00:01\u001b[0m\r\u001b[2K     \u001b[90m━━━━━━━━━━━━━━━━━━━━━━━━━━━━━━━━━━━━━━━\u001b[0m \u001b[32m198.6/198.6 kB\u001b[0m \u001b[31m3.9 MB/s\u001b[0m eta \u001b[36m0:00:00\u001b[0m\n",
            "\u001b[?25hRequirement already satisfied: numpy>=1.19 in /usr/local/lib/python3.10/dist-packages (from pingouin) (1.23.5)\n",
            "Requirement already satisfied: scipy>=1.7 in /usr/local/lib/python3.10/dist-packages (from pingouin) (1.10.1)\n",
            "Requirement already satisfied: pandas>=1.0 in /usr/local/lib/python3.10/dist-packages (from pingouin) (1.5.3)\n",
            "Requirement already satisfied: matplotlib>=3.0.2 in /usr/local/lib/python3.10/dist-packages (from pingouin) (3.7.1)\n",
            "Requirement already satisfied: seaborn>=0.11 in /usr/local/lib/python3.10/dist-packages (from pingouin) (0.12.2)\n",
            "Requirement already satisfied: statsmodels>=0.13 in /usr/local/lib/python3.10/dist-packages (from pingouin) (0.14.0)\n",
            "Requirement already satisfied: scikit-learn in /usr/local/lib/python3.10/dist-packages (from pingouin) (1.2.2)\n",
            "Collecting pandas-flavor>=0.2.0 (from pingouin)\n",
            "  Downloading pandas_flavor-0.6.0-py3-none-any.whl (7.2 kB)\n",
            "Collecting outdated (from pingouin)\n",
            "  Downloading outdated-0.2.2-py2.py3-none-any.whl (7.5 kB)\n",
            "Requirement already satisfied: tabulate in /usr/local/lib/python3.10/dist-packages (from pingouin) (0.9.0)\n",
            "Requirement already satisfied: contourpy>=1.0.1 in /usr/local/lib/python3.10/dist-packages (from matplotlib>=3.0.2->pingouin) (1.1.0)\n",
            "Requirement already satisfied: cycler>=0.10 in /usr/local/lib/python3.10/dist-packages (from matplotlib>=3.0.2->pingouin) (0.11.0)\n",
            "Requirement already satisfied: fonttools>=4.22.0 in /usr/local/lib/python3.10/dist-packages (from matplotlib>=3.0.2->pingouin) (4.42.0)\n",
            "Requirement already satisfied: kiwisolver>=1.0.1 in /usr/local/lib/python3.10/dist-packages (from matplotlib>=3.0.2->pingouin) (1.4.4)\n",
            "Requirement already satisfied: packaging>=20.0 in /usr/local/lib/python3.10/dist-packages (from matplotlib>=3.0.2->pingouin) (23.1)\n",
            "Requirement already satisfied: pillow>=6.2.0 in /usr/local/lib/python3.10/dist-packages (from matplotlib>=3.0.2->pingouin) (9.4.0)\n",
            "Requirement already satisfied: pyparsing>=2.3.1 in /usr/local/lib/python3.10/dist-packages (from matplotlib>=3.0.2->pingouin) (3.1.1)\n",
            "Requirement already satisfied: python-dateutil>=2.7 in /usr/local/lib/python3.10/dist-packages (from matplotlib>=3.0.2->pingouin) (2.8.2)\n",
            "Requirement already satisfied: pytz>=2020.1 in /usr/local/lib/python3.10/dist-packages (from pandas>=1.0->pingouin) (2023.3)\n",
            "Requirement already satisfied: xarray in /usr/local/lib/python3.10/dist-packages (from pandas-flavor>=0.2.0->pingouin) (2023.7.0)\n",
            "Requirement already satisfied: patsy>=0.5.2 in /usr/local/lib/python3.10/dist-packages (from statsmodels>=0.13->pingouin) (0.5.3)\n",
            "Requirement already satisfied: setuptools>=44 in /usr/local/lib/python3.10/dist-packages (from outdated->pingouin) (67.7.2)\n",
            "Collecting littleutils (from outdated->pingouin)\n",
            "  Downloading littleutils-0.2.2.tar.gz (6.6 kB)\n",
            "  Preparing metadata (setup.py) ... \u001b[?25l\u001b[?25hdone\n",
            "Requirement already satisfied: requests in /usr/local/lib/python3.10/dist-packages (from outdated->pingouin) (2.31.0)\n",
            "Requirement already satisfied: joblib>=1.1.1 in /usr/local/lib/python3.10/dist-packages (from scikit-learn->pingouin) (1.3.2)\n",
            "Requirement already satisfied: threadpoolctl>=2.0.0 in /usr/local/lib/python3.10/dist-packages (from scikit-learn->pingouin) (3.2.0)\n",
            "Requirement already satisfied: six in /usr/local/lib/python3.10/dist-packages (from patsy>=0.5.2->statsmodels>=0.13->pingouin) (1.16.0)\n",
            "Requirement already satisfied: charset-normalizer<4,>=2 in /usr/local/lib/python3.10/dist-packages (from requests->outdated->pingouin) (3.2.0)\n",
            "Requirement already satisfied: idna<4,>=2.5 in /usr/local/lib/python3.10/dist-packages (from requests->outdated->pingouin) (3.4)\n",
            "Requirement already satisfied: urllib3<3,>=1.21.1 in /usr/local/lib/python3.10/dist-packages (from requests->outdated->pingouin) (2.0.4)\n",
            "Requirement already satisfied: certifi>=2017.4.17 in /usr/local/lib/python3.10/dist-packages (from requests->outdated->pingouin) (2023.7.22)\n",
            "Building wheels for collected packages: littleutils\n",
            "  Building wheel for littleutils (setup.py) ... \u001b[?25l\u001b[?25hdone\n",
            "  Created wheel for littleutils: filename=littleutils-0.2.2-py3-none-any.whl size=7029 sha256=e1a1e5e51a911bdb9f412bed95d645d16c8298329d199d271cb0dfc286a94b76\n",
            "  Stored in directory: /root/.cache/pip/wheels/3d/fe/b0/27a9892da57472e538c7452a721a9cf463cc03cf7379889266\n",
            "Successfully built littleutils\n",
            "Installing collected packages: littleutils, outdated, pandas-flavor, pingouin\n",
            "Successfully installed littleutils-0.2.2 outdated-0.2.2 pandas-flavor-0.6.0 pingouin-0.5.3\n"
          ]
        }
      ],
      "source": [
        "!pip install pingouin"
      ]
    },
    {
      "cell_type": "code",
      "execution_count": null,
      "metadata": {
        "id": "7nEzjjllPEQu"
      },
      "outputs": [],
      "source": [
        "import pandas as pd\n",
        "import seaborn as sb\n",
        "import pyreadstat as prs\n",
        "import numpy as np\n",
        "import pingouin as pg\n",
        "import matplotlib.pyplot as plt\n",
        "import statsmodels.api as sm\n",
        "from statsmodels.formula.api import ols\n",
        "from statsmodels.multivariate.manova import MANOVA\n",
        "from google.colab import files\n",
        "from scipy.stats import ttest_ind, f_oneway, levene, shapiro, boxcox, chi2_contingency, kurtosis, variation, mannwhitneyu, median_test"
      ]
    },
    {
      "cell_type": "code",
      "execution_count": null,
      "metadata": {
        "colab": {
          "base_uri": "https://localhost:8080/",
          "height": 69
        },
        "id": "g2fHxsDB4pJA",
        "outputId": "eda1d8e6-e8f0-42e3-de37-0935f0235d82"
      },
      "outputs": [
        {
          "output_type": "display_data",
          "data": {
            "text/plain": [
              "<IPython.core.display.HTML object>"
            ],
            "text/html": [
              "\n",
              "     <input type=\"file\" id=\"files-5fbe8bae-d003-48aa-823d-c3bf76b5a73f\" name=\"files[]\" multiple disabled\n",
              "        style=\"border:none\" />\n",
              "     <output id=\"result-5fbe8bae-d003-48aa-823d-c3bf76b5a73f\">\n",
              "      Upload widget is only available when the cell has been executed in the\n",
              "      current browser session. Please rerun this cell to enable.\n",
              "      </output>\n",
              "      <script>// Copyright 2017 Google LLC\n",
              "//\n",
              "// Licensed under the Apache License, Version 2.0 (the \"License\");\n",
              "// you may not use this file except in compliance with the License.\n",
              "// You may obtain a copy of the License at\n",
              "//\n",
              "//      http://www.apache.org/licenses/LICENSE-2.0\n",
              "//\n",
              "// Unless required by applicable law or agreed to in writing, software\n",
              "// distributed under the License is distributed on an \"AS IS\" BASIS,\n",
              "// WITHOUT WARRANTIES OR CONDITIONS OF ANY KIND, either express or implied.\n",
              "// See the License for the specific language governing permissions and\n",
              "// limitations under the License.\n",
              "\n",
              "/**\n",
              " * @fileoverview Helpers for google.colab Python module.\n",
              " */\n",
              "(function(scope) {\n",
              "function span(text, styleAttributes = {}) {\n",
              "  const element = document.createElement('span');\n",
              "  element.textContent = text;\n",
              "  for (const key of Object.keys(styleAttributes)) {\n",
              "    element.style[key] = styleAttributes[key];\n",
              "  }\n",
              "  return element;\n",
              "}\n",
              "\n",
              "// Max number of bytes which will be uploaded at a time.\n",
              "const MAX_PAYLOAD_SIZE = 100 * 1024;\n",
              "\n",
              "function _uploadFiles(inputId, outputId) {\n",
              "  const steps = uploadFilesStep(inputId, outputId);\n",
              "  const outputElement = document.getElementById(outputId);\n",
              "  // Cache steps on the outputElement to make it available for the next call\n",
              "  // to uploadFilesContinue from Python.\n",
              "  outputElement.steps = steps;\n",
              "\n",
              "  return _uploadFilesContinue(outputId);\n",
              "}\n",
              "\n",
              "// This is roughly an async generator (not supported in the browser yet),\n",
              "// where there are multiple asynchronous steps and the Python side is going\n",
              "// to poll for completion of each step.\n",
              "// This uses a Promise to block the python side on completion of each step,\n",
              "// then passes the result of the previous step as the input to the next step.\n",
              "function _uploadFilesContinue(outputId) {\n",
              "  const outputElement = document.getElementById(outputId);\n",
              "  const steps = outputElement.steps;\n",
              "\n",
              "  const next = steps.next(outputElement.lastPromiseValue);\n",
              "  return Promise.resolve(next.value.promise).then((value) => {\n",
              "    // Cache the last promise value to make it available to the next\n",
              "    // step of the generator.\n",
              "    outputElement.lastPromiseValue = value;\n",
              "    return next.value.response;\n",
              "  });\n",
              "}\n",
              "\n",
              "/**\n",
              " * Generator function which is called between each async step of the upload\n",
              " * process.\n",
              " * @param {string} inputId Element ID of the input file picker element.\n",
              " * @param {string} outputId Element ID of the output display.\n",
              " * @return {!Iterable<!Object>} Iterable of next steps.\n",
              " */\n",
              "function* uploadFilesStep(inputId, outputId) {\n",
              "  const inputElement = document.getElementById(inputId);\n",
              "  inputElement.disabled = false;\n",
              "\n",
              "  const outputElement = document.getElementById(outputId);\n",
              "  outputElement.innerHTML = '';\n",
              "\n",
              "  const pickedPromise = new Promise((resolve) => {\n",
              "    inputElement.addEventListener('change', (e) => {\n",
              "      resolve(e.target.files);\n",
              "    });\n",
              "  });\n",
              "\n",
              "  const cancel = document.createElement('button');\n",
              "  inputElement.parentElement.appendChild(cancel);\n",
              "  cancel.textContent = 'Cancel upload';\n",
              "  const cancelPromise = new Promise((resolve) => {\n",
              "    cancel.onclick = () => {\n",
              "      resolve(null);\n",
              "    };\n",
              "  });\n",
              "\n",
              "  // Wait for the user to pick the files.\n",
              "  const files = yield {\n",
              "    promise: Promise.race([pickedPromise, cancelPromise]),\n",
              "    response: {\n",
              "      action: 'starting',\n",
              "    }\n",
              "  };\n",
              "\n",
              "  cancel.remove();\n",
              "\n",
              "  // Disable the input element since further picks are not allowed.\n",
              "  inputElement.disabled = true;\n",
              "\n",
              "  if (!files) {\n",
              "    return {\n",
              "      response: {\n",
              "        action: 'complete',\n",
              "      }\n",
              "    };\n",
              "  }\n",
              "\n",
              "  for (const file of files) {\n",
              "    const li = document.createElement('li');\n",
              "    li.append(span(file.name, {fontWeight: 'bold'}));\n",
              "    li.append(span(\n",
              "        `(${file.type || 'n/a'}) - ${file.size} bytes, ` +\n",
              "        `last modified: ${\n",
              "            file.lastModifiedDate ? file.lastModifiedDate.toLocaleDateString() :\n",
              "                                    'n/a'} - `));\n",
              "    const percent = span('0% done');\n",
              "    li.appendChild(percent);\n",
              "\n",
              "    outputElement.appendChild(li);\n",
              "\n",
              "    const fileDataPromise = new Promise((resolve) => {\n",
              "      const reader = new FileReader();\n",
              "      reader.onload = (e) => {\n",
              "        resolve(e.target.result);\n",
              "      };\n",
              "      reader.readAsArrayBuffer(file);\n",
              "    });\n",
              "    // Wait for the data to be ready.\n",
              "    let fileData = yield {\n",
              "      promise: fileDataPromise,\n",
              "      response: {\n",
              "        action: 'continue',\n",
              "      }\n",
              "    };\n",
              "\n",
              "    // Use a chunked sending to avoid message size limits. See b/62115660.\n",
              "    let position = 0;\n",
              "    do {\n",
              "      const length = Math.min(fileData.byteLength - position, MAX_PAYLOAD_SIZE);\n",
              "      const chunk = new Uint8Array(fileData, position, length);\n",
              "      position += length;\n",
              "\n",
              "      const base64 = btoa(String.fromCharCode.apply(null, chunk));\n",
              "      yield {\n",
              "        response: {\n",
              "          action: 'append',\n",
              "          file: file.name,\n",
              "          data: base64,\n",
              "        },\n",
              "      };\n",
              "\n",
              "      let percentDone = fileData.byteLength === 0 ?\n",
              "          100 :\n",
              "          Math.round((position / fileData.byteLength) * 100);\n",
              "      percent.textContent = `${percentDone}% done`;\n",
              "\n",
              "    } while (position < fileData.byteLength);\n",
              "  }\n",
              "\n",
              "  // All done.\n",
              "  yield {\n",
              "    response: {\n",
              "      action: 'complete',\n",
              "    }\n",
              "  };\n",
              "}\n",
              "\n",
              "scope.google = scope.google || {};\n",
              "scope.google.colab = scope.google.colab || {};\n",
              "scope.google.colab._files = {\n",
              "  _uploadFiles,\n",
              "  _uploadFilesContinue,\n",
              "};\n",
              "})(self);\n",
              "</script> "
            ]
          },
          "metadata": {}
        },
        {
          "output_type": "stream",
          "name": "stdout",
          "text": [
            "Saving PickUpLines.sav to PickUpLines.sav\n"
          ]
        }
      ],
      "source": [
        "pufile = files.upload()"
      ]
    },
    {
      "cell_type": "code",
      "execution_count": null,
      "metadata": {
        "id": "hpO9oa9z3zCH"
      },
      "outputs": [],
      "source": [
        "Df, meta = prs.read_sav(\"PickUpLines.sav\")\n",
        "Df = Df.drop(columns=['ParticipantNumber', 'Contraceptive', 'filter_$'])"
      ]
    },
    {
      "cell_type": "code",
      "execution_count": null,
      "metadata": {
        "id": "dYgXk4JD6zxn",
        "colab": {
          "base_uri": "https://localhost:8080/"
        },
        "outputId": "468c5e83-698f-4339-a772-42cd39ef4806"
      },
      "outputs": [
        {
          "output_type": "stream",
          "name": "stdout",
          "text": [
            "(194, 7)\n",
            "<class 'pandas.core.frame.DataFrame'>\n",
            "RangeIndex: 194 entries, 0 to 193\n",
            "Data columns (total 7 columns):\n",
            " #   Column        Non-Null Count  Dtype  \n",
            "---  ------        --------------  -----  \n",
            " 0   PickUp        194 non-null    float64\n",
            " 1   Scent         194 non-null    float64\n",
            " 2   Receptivity   194 non-null    float64\n",
            " 3   Gender        194 non-null    float64\n",
            " 4   Age           194 non-null    float64\n",
            " 5   Ethnicity     194 non-null    float64\n",
            " 6   YearInSchool  194 non-null    float64\n",
            "dtypes: float64(7)\n",
            "memory usage: 10.7 KB\n",
            "None\n"
          ]
        }
      ],
      "source": [
        "#print dataframe summary\n",
        "print(Df.shape)\n",
        "print(Df.info())"
      ]
    },
    {
      "cell_type": "code",
      "execution_count": null,
      "metadata": {
        "id": "6cqqofWZ65GM",
        "colab": {
          "base_uri": "https://localhost:8080/"
        },
        "outputId": "29499971-3b71-45b8-cc4b-1531006d39ba"
      },
      "outputs": [
        {
          "output_type": "stream",
          "name": "stdout",
          "text": [
            "Variable names:\n",
            " ['ParticipantNumber', 'PickUp', 'Scent', 'Receptivity', 'Gender', 'Age', 'Ethnicity', 'YearInSchool', 'Contraceptive', 'filter_$']\n",
            "Variable labels:\n",
            " {'PickUp': {1.0: 'Cute-Direct (Experimental Condition)', 2.0: 'Direct-Direct (Control Condition)'}, 'Scent': {1.0: 'Spray (Experimental Condition)', 2.0: 'No Spray (Control Condition)'}, 'Gender': {1.0: 'male', 2.0: 'female'}, 'Ethnicity': {1.0: 'eastern or asian', 2.0: 'black or african', 3.0: 'hispanic, latino, spanish', 4.0: 'white or european', 5.0: 'other'}, 'YearInSchool': {1.0: 'freshman', 2.0: 'sophomore', 3.0: 'junior', 4.0: 'senior'}, 'Contraceptive': {1.0: 'No', 2.0: 'Yes'}, 'filter_$': {0.0: 'Not Selected', 1.0: 'Selected'}}\n",
            "Variable information:\n",
            "{'ParticipantNumber': None, 'PickUp': None, 'Scent': None, 'Receptivity': None, 'Gender': None, 'Age': None, 'Ethnicity': None, 'YearInSchool': None, 'Contraceptive': None, 'filter_$': 'Contraceptive = 1 (FILTER)'}\n"
          ]
        }
      ],
      "source": [
        "# Accessing the variable names\n",
        "print(\"Variable names:\\n\", meta.column_names)\n",
        "\n",
        "# Accessing the variable labels\n",
        "print(\"Variable labels:\\n\", meta.variable_value_labels)\n",
        "\n",
        "# Accessing the detailed information about each variable\n",
        "print(\"Variable information:\")\n",
        "print(meta.column_names_to_labels)"
      ]
    },
    {
      "cell_type": "code",
      "execution_count": null,
      "metadata": {
        "id": "qNPJFG2xt8gI",
        "colab": {
          "base_uri": "https://localhost:8080/",
          "height": 206
        },
        "outputId": "7a3dfff8-3e35-450a-9459-ee1330ebe9e6"
      },
      "outputs": [
        {
          "output_type": "execute_result",
          "data": {
            "text/plain": [
              "   PickUp  Scent  Receptivity  Gender   Age  Ethnicity  YearInSchool\n",
              "0     1.0    2.0      3.25424     2.0  21.0        4.0           2.0\n",
              "1     1.0    1.0      4.43760     2.0  19.0        4.0           3.0\n",
              "2     1.0    1.0      4.43760     2.0  21.0        4.0           1.0\n",
              "3     1.0    1.0      3.91988     2.0  19.0        4.0           3.0\n",
              "4     2.0    2.0      3.99384     2.0  20.0        1.0           2.0"
            ],
            "text/html": [
              "\n",
              "  <div id=\"df-54fba34c-16f1-414e-b637-57c155e5a3d7\" class=\"colab-df-container\">\n",
              "    <div>\n",
              "<style scoped>\n",
              "    .dataframe tbody tr th:only-of-type {\n",
              "        vertical-align: middle;\n",
              "    }\n",
              "\n",
              "    .dataframe tbody tr th {\n",
              "        vertical-align: top;\n",
              "    }\n",
              "\n",
              "    .dataframe thead th {\n",
              "        text-align: right;\n",
              "    }\n",
              "</style>\n",
              "<table border=\"1\" class=\"dataframe\">\n",
              "  <thead>\n",
              "    <tr style=\"text-align: right;\">\n",
              "      <th></th>\n",
              "      <th>PickUp</th>\n",
              "      <th>Scent</th>\n",
              "      <th>Receptivity</th>\n",
              "      <th>Gender</th>\n",
              "      <th>Age</th>\n",
              "      <th>Ethnicity</th>\n",
              "      <th>YearInSchool</th>\n",
              "    </tr>\n",
              "  </thead>\n",
              "  <tbody>\n",
              "    <tr>\n",
              "      <th>0</th>\n",
              "      <td>1.0</td>\n",
              "      <td>2.0</td>\n",
              "      <td>3.25424</td>\n",
              "      <td>2.0</td>\n",
              "      <td>21.0</td>\n",
              "      <td>4.0</td>\n",
              "      <td>2.0</td>\n",
              "    </tr>\n",
              "    <tr>\n",
              "      <th>1</th>\n",
              "      <td>1.0</td>\n",
              "      <td>1.0</td>\n",
              "      <td>4.43760</td>\n",
              "      <td>2.0</td>\n",
              "      <td>19.0</td>\n",
              "      <td>4.0</td>\n",
              "      <td>3.0</td>\n",
              "    </tr>\n",
              "    <tr>\n",
              "      <th>2</th>\n",
              "      <td>1.0</td>\n",
              "      <td>1.0</td>\n",
              "      <td>4.43760</td>\n",
              "      <td>2.0</td>\n",
              "      <td>21.0</td>\n",
              "      <td>4.0</td>\n",
              "      <td>1.0</td>\n",
              "    </tr>\n",
              "    <tr>\n",
              "      <th>3</th>\n",
              "      <td>1.0</td>\n",
              "      <td>1.0</td>\n",
              "      <td>3.91988</td>\n",
              "      <td>2.0</td>\n",
              "      <td>19.0</td>\n",
              "      <td>4.0</td>\n",
              "      <td>3.0</td>\n",
              "    </tr>\n",
              "    <tr>\n",
              "      <th>4</th>\n",
              "      <td>2.0</td>\n",
              "      <td>2.0</td>\n",
              "      <td>3.99384</td>\n",
              "      <td>2.0</td>\n",
              "      <td>20.0</td>\n",
              "      <td>1.0</td>\n",
              "      <td>2.0</td>\n",
              "    </tr>\n",
              "  </tbody>\n",
              "</table>\n",
              "</div>\n",
              "    <div class=\"colab-df-buttons\">\n",
              "\n",
              "  <div class=\"colab-df-container\">\n",
              "    <button class=\"colab-df-convert\" onclick=\"convertToInteractive('df-54fba34c-16f1-414e-b637-57c155e5a3d7')\"\n",
              "            title=\"Convert this dataframe to an interactive table.\"\n",
              "            style=\"display:none;\">\n",
              "\n",
              "  <svg xmlns=\"http://www.w3.org/2000/svg\" height=\"24px\" viewBox=\"0 -960 960 960\">\n",
              "    <path d=\"M120-120v-720h720v720H120Zm60-500h600v-160H180v160Zm220 220h160v-160H400v160Zm0 220h160v-160H400v160ZM180-400h160v-160H180v160Zm440 0h160v-160H620v160ZM180-180h160v-160H180v160Zm440 0h160v-160H620v160Z\"/>\n",
              "  </svg>\n",
              "    </button>\n",
              "\n",
              "  <style>\n",
              "    .colab-df-container {\n",
              "      display:flex;\n",
              "      gap: 12px;\n",
              "    }\n",
              "\n",
              "    .colab-df-convert {\n",
              "      background-color: #E8F0FE;\n",
              "      border: none;\n",
              "      border-radius: 50%;\n",
              "      cursor: pointer;\n",
              "      display: none;\n",
              "      fill: #1967D2;\n",
              "      height: 32px;\n",
              "      padding: 0 0 0 0;\n",
              "      width: 32px;\n",
              "    }\n",
              "\n",
              "    .colab-df-convert:hover {\n",
              "      background-color: #E2EBFA;\n",
              "      box-shadow: 0px 1px 2px rgba(60, 64, 67, 0.3), 0px 1px 3px 1px rgba(60, 64, 67, 0.15);\n",
              "      fill: #174EA6;\n",
              "    }\n",
              "\n",
              "    .colab-df-buttons div {\n",
              "      margin-bottom: 4px;\n",
              "    }\n",
              "\n",
              "    [theme=dark] .colab-df-convert {\n",
              "      background-color: #3B4455;\n",
              "      fill: #D2E3FC;\n",
              "    }\n",
              "\n",
              "    [theme=dark] .colab-df-convert:hover {\n",
              "      background-color: #434B5C;\n",
              "      box-shadow: 0px 1px 3px 1px rgba(0, 0, 0, 0.15);\n",
              "      filter: drop-shadow(0px 1px 2px rgba(0, 0, 0, 0.3));\n",
              "      fill: #FFFFFF;\n",
              "    }\n",
              "  </style>\n",
              "\n",
              "    <script>\n",
              "      const buttonEl =\n",
              "        document.querySelector('#df-54fba34c-16f1-414e-b637-57c155e5a3d7 button.colab-df-convert');\n",
              "      buttonEl.style.display =\n",
              "        google.colab.kernel.accessAllowed ? 'block' : 'none';\n",
              "\n",
              "      async function convertToInteractive(key) {\n",
              "        const element = document.querySelector('#df-54fba34c-16f1-414e-b637-57c155e5a3d7');\n",
              "        const dataTable =\n",
              "          await google.colab.kernel.invokeFunction('convertToInteractive',\n",
              "                                                    [key], {});\n",
              "        if (!dataTable) return;\n",
              "\n",
              "        const docLinkHtml = 'Like what you see? Visit the ' +\n",
              "          '<a target=\"_blank\" href=https://colab.research.google.com/notebooks/data_table.ipynb>data table notebook</a>'\n",
              "          + ' to learn more about interactive tables.';\n",
              "        element.innerHTML = '';\n",
              "        dataTable['output_type'] = 'display_data';\n",
              "        await google.colab.output.renderOutput(dataTable, element);\n",
              "        const docLink = document.createElement('div');\n",
              "        docLink.innerHTML = docLinkHtml;\n",
              "        element.appendChild(docLink);\n",
              "      }\n",
              "    </script>\n",
              "  </div>\n",
              "\n",
              "\n",
              "<div id=\"df-34d261c9-1343-437c-a766-cac5cba017ef\">\n",
              "  <button class=\"colab-df-quickchart\" onclick=\"quickchart('df-34d261c9-1343-437c-a766-cac5cba017ef')\"\n",
              "            title=\"Suggest charts.\"\n",
              "            style=\"display:none;\">\n",
              "\n",
              "<svg xmlns=\"http://www.w3.org/2000/svg\" height=\"24px\"viewBox=\"0 0 24 24\"\n",
              "     width=\"24px\">\n",
              "    <g>\n",
              "        <path d=\"M19 3H5c-1.1 0-2 .9-2 2v14c0 1.1.9 2 2 2h14c1.1 0 2-.9 2-2V5c0-1.1-.9-2-2-2zM9 17H7v-7h2v7zm4 0h-2V7h2v10zm4 0h-2v-4h2v4z\"/>\n",
              "    </g>\n",
              "</svg>\n",
              "  </button>\n",
              "\n",
              "<style>\n",
              "  .colab-df-quickchart {\n",
              "    background-color: #E8F0FE;\n",
              "    border: none;\n",
              "    border-radius: 50%;\n",
              "    cursor: pointer;\n",
              "    display: none;\n",
              "    fill: #1967D2;\n",
              "    height: 32px;\n",
              "    padding: 0 0 0 0;\n",
              "    width: 32px;\n",
              "  }\n",
              "\n",
              "  .colab-df-quickchart:hover {\n",
              "    background-color: #E2EBFA;\n",
              "    box-shadow: 0px 1px 2px rgba(60, 64, 67, 0.3), 0px 1px 3px 1px rgba(60, 64, 67, 0.15);\n",
              "    fill: #174EA6;\n",
              "  }\n",
              "\n",
              "  [theme=dark] .colab-df-quickchart {\n",
              "    background-color: #3B4455;\n",
              "    fill: #D2E3FC;\n",
              "  }\n",
              "\n",
              "  [theme=dark] .colab-df-quickchart:hover {\n",
              "    background-color: #434B5C;\n",
              "    box-shadow: 0px 1px 3px 1px rgba(0, 0, 0, 0.15);\n",
              "    filter: drop-shadow(0px 1px 2px rgba(0, 0, 0, 0.3));\n",
              "    fill: #FFFFFF;\n",
              "  }\n",
              "</style>\n",
              "\n",
              "  <script>\n",
              "    async function quickchart(key) {\n",
              "      const charts = await google.colab.kernel.invokeFunction(\n",
              "          'suggestCharts', [key], {});\n",
              "    }\n",
              "    (() => {\n",
              "      let quickchartButtonEl =\n",
              "        document.querySelector('#df-34d261c9-1343-437c-a766-cac5cba017ef button');\n",
              "      quickchartButtonEl.style.display =\n",
              "        google.colab.kernel.accessAllowed ? 'block' : 'none';\n",
              "    })();\n",
              "  </script>\n",
              "</div>\n",
              "    </div>\n",
              "  </div>\n"
            ]
          },
          "metadata": {},
          "execution_count": 8
        }
      ],
      "source": [
        "Df.head()"
      ]
    },
    {
      "cell_type": "markdown",
      "metadata": {
        "id": "Akvcz54y7BTw"
      },
      "source": [
        "**RQ1: Is there any evidence to suggest that the cute-direct pick-up approach will lead to more relationship receptivity than the direct-direct approach?**\n",
        "---"
      ]
    },
    {
      "cell_type": "markdown",
      "metadata": {
        "id": "2k0Bv8vkoKqt"
      },
      "source": [
        "`1. What is your dependent variable?`"
      ]
    },
    {
      "cell_type": "markdown",
      "metadata": {
        "id": "Rr8z7OFpokLc"
      },
      "source": [
        "`Answer`\n",
        "\n",
        "Receptivity is the dependent variable as required by the question. The goal of every pick up is to get a mate or date. Certain factors determine how the recepeint will respond. The factors involved are among the independent variables."
      ]
    },
    {
      "cell_type": "markdown",
      "metadata": {
        "id": "P6n5IHDJxlDm"
      },
      "source": [
        "`2. What is(are) your independent variable(s)?`"
      ]
    },
    {
      "cell_type": "markdown",
      "metadata": {
        "id": "eiyjWMZ5qnGZ"
      },
      "source": [
        "`Answer`\n",
        "\n",
        "The pick up is the independent variable in this context of the research question."
      ]
    },
    {
      "cell_type": "code",
      "execution_count": null,
      "metadata": {
        "id": "lHjiOlXj58-_"
      },
      "outputs": [],
      "source": [
        "fig, ax = plt.subplots(1, 3, figsize=(15, 5))\n",
        "\n",
        "cute_direct_data = Df[Df['PickUp'] == 1.0]['Receptivity']\n",
        "direct_direct_data = Df[Df['PickUp'] == 2.0]['Receptivity']\n",
        "\n",
        "sb.boxplot(data=Df, x='PickUp', y='Receptivity', ax=ax[1])\n",
        "sb.violinplot(data=Df, x='PickUp', y='Receptivity', ax=ax[2])\n",
        "\n",
        "# Create overlaid histogram plots\n",
        "ax[0].hist(cute_direct_data, bins=20, alpha=0.5, label='Cute-Direct Pick-Up')\n",
        "ax[0].hist(direct_direct_data, bins=20, alpha=0.5, label='Direct-Direct Pick-Up')\n",
        "\n",
        "# Add labels and legend\n",
        "ax[0].set_xlabel('Receptivity')\n",
        "ax[0].set_ylabel('Frequency')\n",
        "ax[0].legend()\n",
        "\n",
        "# Show the plot\n",
        "plt.suptitle('Distribution of Receptivity by Pickup Group')\n",
        "plt.legend()"
      ]
    },
    {
      "cell_type": "code",
      "execution_count": null,
      "metadata": {
        "id": "I837zBlxOSJt",
        "colab": {
          "base_uri": "https://localhost:8080/",
          "height": 206
        },
        "outputId": "a0b6c416-6d1b-4718-bc7b-7536c27fd214"
      },
      "outputs": [
        {
          "output_type": "execute_result",
          "data": {
            "text/plain": [
              "   PickUp  Scent  Receptivity  Gender   Age  Ethnicity  YearInSchool\n",
              "0     1.0    2.0      3.25424     2.0  21.0        4.0           2.0\n",
              "1     1.0    1.0      4.43760     2.0  19.0        4.0           3.0\n",
              "2     1.0    1.0      4.43760     2.0  21.0        4.0           1.0\n",
              "3     1.0    1.0      3.91988     2.0  19.0        4.0           3.0\n",
              "4     2.0    2.0      3.99384     2.0  20.0        1.0           2.0"
            ],
            "text/html": [
              "\n",
              "  <div id=\"df-8969f3af-46a4-4bf6-81b6-d24afe2df292\" class=\"colab-df-container\">\n",
              "    <div>\n",
              "<style scoped>\n",
              "    .dataframe tbody tr th:only-of-type {\n",
              "        vertical-align: middle;\n",
              "    }\n",
              "\n",
              "    .dataframe tbody tr th {\n",
              "        vertical-align: top;\n",
              "    }\n",
              "\n",
              "    .dataframe thead th {\n",
              "        text-align: right;\n",
              "    }\n",
              "</style>\n",
              "<table border=\"1\" class=\"dataframe\">\n",
              "  <thead>\n",
              "    <tr style=\"text-align: right;\">\n",
              "      <th></th>\n",
              "      <th>PickUp</th>\n",
              "      <th>Scent</th>\n",
              "      <th>Receptivity</th>\n",
              "      <th>Gender</th>\n",
              "      <th>Age</th>\n",
              "      <th>Ethnicity</th>\n",
              "      <th>YearInSchool</th>\n",
              "    </tr>\n",
              "  </thead>\n",
              "  <tbody>\n",
              "    <tr>\n",
              "      <th>0</th>\n",
              "      <td>1.0</td>\n",
              "      <td>2.0</td>\n",
              "      <td>3.25424</td>\n",
              "      <td>2.0</td>\n",
              "      <td>21.0</td>\n",
              "      <td>4.0</td>\n",
              "      <td>2.0</td>\n",
              "    </tr>\n",
              "    <tr>\n",
              "      <th>1</th>\n",
              "      <td>1.0</td>\n",
              "      <td>1.0</td>\n",
              "      <td>4.43760</td>\n",
              "      <td>2.0</td>\n",
              "      <td>19.0</td>\n",
              "      <td>4.0</td>\n",
              "      <td>3.0</td>\n",
              "    </tr>\n",
              "    <tr>\n",
              "      <th>2</th>\n",
              "      <td>1.0</td>\n",
              "      <td>1.0</td>\n",
              "      <td>4.43760</td>\n",
              "      <td>2.0</td>\n",
              "      <td>21.0</td>\n",
              "      <td>4.0</td>\n",
              "      <td>1.0</td>\n",
              "    </tr>\n",
              "    <tr>\n",
              "      <th>3</th>\n",
              "      <td>1.0</td>\n",
              "      <td>1.0</td>\n",
              "      <td>3.91988</td>\n",
              "      <td>2.0</td>\n",
              "      <td>19.0</td>\n",
              "      <td>4.0</td>\n",
              "      <td>3.0</td>\n",
              "    </tr>\n",
              "    <tr>\n",
              "      <th>4</th>\n",
              "      <td>2.0</td>\n",
              "      <td>2.0</td>\n",
              "      <td>3.99384</td>\n",
              "      <td>2.0</td>\n",
              "      <td>20.0</td>\n",
              "      <td>1.0</td>\n",
              "      <td>2.0</td>\n",
              "    </tr>\n",
              "  </tbody>\n",
              "</table>\n",
              "</div>\n",
              "    <div class=\"colab-df-buttons\">\n",
              "\n",
              "  <div class=\"colab-df-container\">\n",
              "    <button class=\"colab-df-convert\" onclick=\"convertToInteractive('df-8969f3af-46a4-4bf6-81b6-d24afe2df292')\"\n",
              "            title=\"Convert this dataframe to an interactive table.\"\n",
              "            style=\"display:none;\">\n",
              "\n",
              "  <svg xmlns=\"http://www.w3.org/2000/svg\" height=\"24px\" viewBox=\"0 -960 960 960\">\n",
              "    <path d=\"M120-120v-720h720v720H120Zm60-500h600v-160H180v160Zm220 220h160v-160H400v160Zm0 220h160v-160H400v160ZM180-400h160v-160H180v160Zm440 0h160v-160H620v160ZM180-180h160v-160H180v160Zm440 0h160v-160H620v160Z\"/>\n",
              "  </svg>\n",
              "    </button>\n",
              "\n",
              "  <style>\n",
              "    .colab-df-container {\n",
              "      display:flex;\n",
              "      gap: 12px;\n",
              "    }\n",
              "\n",
              "    .colab-df-convert {\n",
              "      background-color: #E8F0FE;\n",
              "      border: none;\n",
              "      border-radius: 50%;\n",
              "      cursor: pointer;\n",
              "      display: none;\n",
              "      fill: #1967D2;\n",
              "      height: 32px;\n",
              "      padding: 0 0 0 0;\n",
              "      width: 32px;\n",
              "    }\n",
              "\n",
              "    .colab-df-convert:hover {\n",
              "      background-color: #E2EBFA;\n",
              "      box-shadow: 0px 1px 2px rgba(60, 64, 67, 0.3), 0px 1px 3px 1px rgba(60, 64, 67, 0.15);\n",
              "      fill: #174EA6;\n",
              "    }\n",
              "\n",
              "    .colab-df-buttons div {\n",
              "      margin-bottom: 4px;\n",
              "    }\n",
              "\n",
              "    [theme=dark] .colab-df-convert {\n",
              "      background-color: #3B4455;\n",
              "      fill: #D2E3FC;\n",
              "    }\n",
              "\n",
              "    [theme=dark] .colab-df-convert:hover {\n",
              "      background-color: #434B5C;\n",
              "      box-shadow: 0px 1px 3px 1px rgba(0, 0, 0, 0.15);\n",
              "      filter: drop-shadow(0px 1px 2px rgba(0, 0, 0, 0.3));\n",
              "      fill: #FFFFFF;\n",
              "    }\n",
              "  </style>\n",
              "\n",
              "    <script>\n",
              "      const buttonEl =\n",
              "        document.querySelector('#df-8969f3af-46a4-4bf6-81b6-d24afe2df292 button.colab-df-convert');\n",
              "      buttonEl.style.display =\n",
              "        google.colab.kernel.accessAllowed ? 'block' : 'none';\n",
              "\n",
              "      async function convertToInteractive(key) {\n",
              "        const element = document.querySelector('#df-8969f3af-46a4-4bf6-81b6-d24afe2df292');\n",
              "        const dataTable =\n",
              "          await google.colab.kernel.invokeFunction('convertToInteractive',\n",
              "                                                    [key], {});\n",
              "        if (!dataTable) return;\n",
              "\n",
              "        const docLinkHtml = 'Like what you see? Visit the ' +\n",
              "          '<a target=\"_blank\" href=https://colab.research.google.com/notebooks/data_table.ipynb>data table notebook</a>'\n",
              "          + ' to learn more about interactive tables.';\n",
              "        element.innerHTML = '';\n",
              "        dataTable['output_type'] = 'display_data';\n",
              "        await google.colab.output.renderOutput(dataTable, element);\n",
              "        const docLink = document.createElement('div');\n",
              "        docLink.innerHTML = docLinkHtml;\n",
              "        element.appendChild(docLink);\n",
              "      }\n",
              "    </script>\n",
              "  </div>\n",
              "\n",
              "\n",
              "<div id=\"df-3d9a98d6-9f24-4b9f-a5e0-861e09dff949\">\n",
              "  <button class=\"colab-df-quickchart\" onclick=\"quickchart('df-3d9a98d6-9f24-4b9f-a5e0-861e09dff949')\"\n",
              "            title=\"Suggest charts.\"\n",
              "            style=\"display:none;\">\n",
              "\n",
              "<svg xmlns=\"http://www.w3.org/2000/svg\" height=\"24px\"viewBox=\"0 0 24 24\"\n",
              "     width=\"24px\">\n",
              "    <g>\n",
              "        <path d=\"M19 3H5c-1.1 0-2 .9-2 2v14c0 1.1.9 2 2 2h14c1.1 0 2-.9 2-2V5c0-1.1-.9-2-2-2zM9 17H7v-7h2v7zm4 0h-2V7h2v10zm4 0h-2v-4h2v4z\"/>\n",
              "    </g>\n",
              "</svg>\n",
              "  </button>\n",
              "\n",
              "<style>\n",
              "  .colab-df-quickchart {\n",
              "    background-color: #E8F0FE;\n",
              "    border: none;\n",
              "    border-radius: 50%;\n",
              "    cursor: pointer;\n",
              "    display: none;\n",
              "    fill: #1967D2;\n",
              "    height: 32px;\n",
              "    padding: 0 0 0 0;\n",
              "    width: 32px;\n",
              "  }\n",
              "\n",
              "  .colab-df-quickchart:hover {\n",
              "    background-color: #E2EBFA;\n",
              "    box-shadow: 0px 1px 2px rgba(60, 64, 67, 0.3), 0px 1px 3px 1px rgba(60, 64, 67, 0.15);\n",
              "    fill: #174EA6;\n",
              "  }\n",
              "\n",
              "  [theme=dark] .colab-df-quickchart {\n",
              "    background-color: #3B4455;\n",
              "    fill: #D2E3FC;\n",
              "  }\n",
              "\n",
              "  [theme=dark] .colab-df-quickchart:hover {\n",
              "    background-color: #434B5C;\n",
              "    box-shadow: 0px 1px 3px 1px rgba(0, 0, 0, 0.15);\n",
              "    filter: drop-shadow(0px 1px 2px rgba(0, 0, 0, 0.3));\n",
              "    fill: #FFFFFF;\n",
              "  }\n",
              "</style>\n",
              "\n",
              "  <script>\n",
              "    async function quickchart(key) {\n",
              "      const charts = await google.colab.kernel.invokeFunction(\n",
              "          'suggestCharts', [key], {});\n",
              "    }\n",
              "    (() => {\n",
              "      let quickchartButtonEl =\n",
              "        document.querySelector('#df-3d9a98d6-9f24-4b9f-a5e0-861e09dff949 button');\n",
              "      quickchartButtonEl.style.display =\n",
              "        google.colab.kernel.accessAllowed ? 'block' : 'none';\n",
              "    })();\n",
              "  </script>\n",
              "</div>\n",
              "    </div>\n",
              "  </div>\n"
            ]
          },
          "metadata": {},
          "execution_count": 10
        }
      ],
      "source": [
        "Df.head()"
      ]
    },
    {
      "cell_type": "code",
      "execution_count": null,
      "metadata": {
        "id": "osN_TAO5i5h7",
        "colab": {
          "base_uri": "https://localhost:8080/"
        },
        "outputId": "fb317bd1-d734-4056-b9bf-0b45cc0d24f3"
      },
      "outputs": [
        {
          "output_type": "stream",
          "name": "stdout",
          "text": [
            "3.863434\n",
            "3.6544516216216207\n"
          ]
        }
      ],
      "source": [
        "print(Df[Df['PickUp'] == 1.0]['Receptivity'].mean())\n",
        "print(Df[Df['PickUp'] == 2.0]['Receptivity'].mean())"
      ]
    },
    {
      "cell_type": "code",
      "execution_count": null,
      "metadata": {
        "id": "4B0jGvAYJfBl",
        "colab": {
          "base_uri": "https://localhost:8080/"
        },
        "outputId": "caa72857-e1c4-4202-c5f9-05d0572550e0"
      },
      "outputs": [
        {
          "output_type": "execute_result",
          "data": {
            "text/plain": [
              "0.23716681801185832"
            ]
          },
          "metadata": {},
          "execution_count": 12
        }
      ],
      "source": [
        "(Df.PickUp == 1).var()"
      ]
    },
    {
      "cell_type": "code",
      "execution_count": null,
      "metadata": {
        "id": "2ufMmX1YrXDJ",
        "colab": {
          "base_uri": "https://localhost:8080/",
          "height": 447
        },
        "outputId": "b726ac26-46ef-4cd4-bf07-bc86fde23635"
      },
      "outputs": [
        {
          "output_type": "execute_result",
          "data": {
            "text/plain": [
              "<Axes: ylabel='Frequency'>"
            ]
          },
          "metadata": {},
          "execution_count": 13
        },
        {
          "output_type": "display_data",
          "data": {
            "text/plain": [
              "<Figure size 640x480 with 1 Axes>"
            ],
            "image/png": "[encoded data removed]"
          },
          "metadata": {}
        }
      ],
      "source": [
        "Df.Receptivity.plot.hist()"
      ]
    },
    {
      "cell_type": "markdown",
      "metadata": {
        "id": "eH6t1wc7m468"
      },
      "source": [
        "Both the standard one-way ANOVA and the Welch ANOVA agree that there is difference between both means."
      ]
    },
    {
      "cell_type": "code",
      "execution_count": null,
      "metadata": {
        "id": "6qoS6WyCOAAR",
        "colab": {
          "base_uri": "https://localhost:8080/"
        },
        "outputId": "fe3494ee-05f0-4744-d99b-d6af675b2005"
      },
      "outputs": [
        {
          "output_type": "stream",
          "name": "stdout",
          "text": [
            "Shapiro-Wilk test statistic: 0.9844916462898254\n",
            "P-value: 0.03101087361574173\n",
            "Reject the null hypothesis: Data is not normally distributed.\n"
          ]
        }
      ],
      "source": [
        "# Perform Shapiro-Wilk test\n",
        "statistic, p_value = shapiro(Df['Receptivity'])\n",
        "\n",
        "print(\"Shapiro-Wilk test statistic:\", statistic)\n",
        "print(\"P-value:\", p_value)\n",
        "\n",
        "if p_value < 0.05:\n",
        "  print(\"Reject the null hypothesis: Data is not normally distributed.\")\n",
        "else:\n",
        "  print(\"Fail to reject the null hypothesis: Data is normally distributed.\")"
      ]
    },
    {
      "cell_type": "code",
      "execution_count": null,
      "metadata": {
        "id": "PNOT0kfnte1f",
        "colab": {
          "base_uri": "https://localhost:8080/"
        },
        "outputId": "ed4c0a8d-2816-447e-81df-69023ff23195"
      },
      "outputs": [
        {
          "output_type": "stream",
          "name": "stdout",
          "text": [
            "Lambda value: 0.34351158278149607\n"
          ]
        }
      ],
      "source": [
        "# Original Receptivity data\n",
        "\n",
        "# Apply Box-Cox transformation\n",
        "receptivity_transformed, lambda_value = boxcox(Df['Receptivity'])\n",
        "\n",
        "Df['Receptivity_T'] = receptivity_transformed\n",
        "\n",
        "# Print the lambda value used for transformation\n",
        "print(\"Lambda value:\", lambda_value)\n",
        "\n",
        "# Now you can use the transformed data for analysis\n"
      ]
    },
    {
      "cell_type": "markdown",
      "metadata": {
        "id": "jLWKRuasmncT"
      },
      "source": [
        "`3. Are the scores in each cell independent? `"
      ]
    },
    {
      "cell_type": "code",
      "execution_count": null,
      "metadata": {
        "id": "CAL5eNcz7WYi",
        "colab": {
          "base_uri": "https://localhost:8080/"
        },
        "outputId": "cb9fdec9-8fa6-49a9-f801-0164f77d89e6"
      },
      "outputs": [
        {
          "output_type": "stream",
          "name": "stdout",
          "text": [
            "T-statistic: 2.7192399643435032\n",
            "P-value: 0.007403621475660464\n",
            "Reject the null hypothesis: There is a significant difference in means.\n"
          ]
        }
      ],
      "source": [
        "# Load your dataset into a DataFrame named 'df'\n",
        "# Make sure you have dropped the 'Contraceptive' and 'filter_$' columns\n",
        "\n",
        "# Separate the 'Receptivity' data for the two 'PickUp' choices\n",
        "receptivity_pickup_1 = Df[Df['PickUp'] == 1.0]['Receptivity_T']\n",
        "receptivity_pickup_2 = Df[Df['PickUp'] == 2.0]['Receptivity_T']\n",
        "\n",
        "# Perform independent samples t-test\n",
        "t_statistic, p_value = ttest_ind(receptivity_pickup_1, receptivity_pickup_2, equal_var=False)\n",
        "\n",
        "print(\"T-statistic:\", t_statistic)\n",
        "print(\"P-value:\", p_value)\n",
        "\n",
        "if p_value < 0.05:\n",
        "  print(\"Reject the null hypothesis: There is a significant difference in means.\")\n",
        "else:\n",
        "  print(\"Fail to reject the null hypothesis: Means are not significantly different.\")\n"
      ]
    },
    {
      "cell_type": "code",
      "execution_count": null,
      "metadata": {
        "id": "xCQjUyJqBHic",
        "colab": {
          "base_uri": "https://localhost:8080/"
        },
        "outputId": "b14cab10-0236-49d6-ab11-93721cd624ec"
      },
      "outputs": [
        {
          "output_type": "stream",
          "name": "stdout",
          "text": [
            "Mann-Whitney U test statistic: 5352.5\n",
            "P-value: 0.016296580430660665\n",
            "Adjusted alpha: 0.025\n",
            "Reject the null hypothesis: There is a significant difference between groups.\n"
          ]
        }
      ],
      "source": [
        "cute_direct = Df[Df['PickUp'] == 1]['Receptivity_T']\n",
        "direct_direct = Df[Df['PickUp'] == 2]['Receptivity_T']\n",
        "\n",
        "statistic, p_value = mannwhitneyu(cute_direct, direct_direct, alternative='two-sided')\n",
        "print(\"Mann-Whitney U test statistic:\", statistic)\n",
        "print(\"P-value:\", p_value)\n",
        "\n",
        "adjusted_alpha = 0.05 / len(Df['PickUp'].unique())  # Number of comparisons\n",
        "print(\"Adjusted alpha:\", adjusted_alpha)\n",
        "\n",
        "# Check if p-value is significant after Bonferroni correction\n",
        "if p_value < adjusted_alpha:\n",
        "  print(\"Reject the null hypothesis: There is a significant difference between groups.\")\n",
        "else:\n",
        "  print(\"Fail to reject the null hypothesis: There is no significant difference between groups.\")"
      ]
    },
    {
      "cell_type": "code",
      "execution_count": null,
      "metadata": {
        "id": "9Nl33ILMkg5H",
        "colab": {
          "base_uri": "https://localhost:8080/"
        },
        "outputId": "b08f0fbc-118c-4686-d596-83aa4bfa8239"
      },
      "outputs": [
        {
          "output_type": "stream",
          "name": "stdout",
          "text": [
            "0.04104586377383583\n",
            "0.05787596379657918\n",
            "0.01683010002274335\n"
          ]
        }
      ],
      "source": [
        "print(cute_direct.var())\n",
        "print(direct_direct.var())\n",
        "print(direct_direct.var() - cute_direct.var())"
      ]
    },
    {
      "cell_type": "code",
      "execution_count": null,
      "metadata": {
        "id": "7GBiEoCwIBBU",
        "colab": {
          "base_uri": "https://localhost:8080/"
        },
        "outputId": "145b5893-5866-4875-915c-ff8e327833f4"
      },
      "outputs": [
        {
          "output_type": "stream",
          "name": "stdout",
          "text": [
            "1.7116226008527278\n",
            "1.6204507189623985\n",
            "0.09117188189032932\n"
          ]
        }
      ],
      "source": [
        "print(cute_direct.mean())\n",
        "print(direct_direct.mean())\n",
        "print(cute_direct.mean() - direct_direct.mean())"
      ]
    },
    {
      "cell_type": "markdown",
      "metadata": {
        "id": "4zBeLpFyVyBu"
      },
      "source": [
        "After checking the necessary assumptions, I conducted two independent t-tests to compare the means of the two PickUp groups. The mean for PickUp group 1 was found to be mean (M = 1.71) with a variance of (var = 0.041), while for group 2, the mean was M = 1.62 with a variance of var = 0.057.\n",
        "\n",
        "Upon applying the Welch's t-test, I obtained a test statistic of t(F = 2.72) and a corresponding p-value of p = 0.007 < (0.05). Consequently, H0 is rejected in favor of H1.\n",
        "\n",
        "Additionally, the Mann-Whitney U test was conducted, taking into account an adjusted alpha level due to Bonferroni correction. With an adjusted alpha of 0.25, the computed test statistic was U = 5352.5 and the associated p-value was p = 0.01, which exceeds the adjusted significance level of 0.025. Despite being a non-parametric test, the result still indicates the rejection of the null hypothesis in support of the alternative hypothesis.\n",
        "\n",
        "In both instances, the p-values obtained from these tests demonstrated a violation of the null hypothesis (H0) and provided support for the alternative hypothesis (H1). Thus, it can be confidently concluded that there exists a statistically significant difference in means between the two PickUp groups, signifying their independence."
      ]
    },
    {
      "cell_type": "code",
      "execution_count": null,
      "metadata": {
        "id": "0m9er5VMqboL",
        "colab": {
          "base_uri": "https://localhost:8080/",
          "height": 447
        },
        "outputId": "3901a8e5-a101-4d7e-fc04-dcfe9cb5d7dc"
      },
      "outputs": [
        {
          "output_type": "execute_result",
          "data": {
            "text/plain": [
              "<Axes: ylabel='Frequency'>"
            ]
          },
          "metadata": {},
          "execution_count": 20
        },
        {
          "output_type": "display_data",
          "data": {
            "text/plain": [
              "<Figure size 640x480 with 1 Axes>"
            ],
            "image/png": "[encoded data removed]"
          },
          "metadata": {}
        }
      ],
      "source": [
        "Df['Receptivity_T'].plot.hist()"
      ]
    },
    {
      "cell_type": "code",
      "execution_count": null,
      "metadata": {
        "id": "kH_NofhGuc_m",
        "colab": {
          "base_uri": "https://localhost:8080/"
        },
        "outputId": "b8259fe6-a1fd-49ee-c3ca-b810cd13f58d"
      },
      "outputs": [
        {
          "output_type": "stream",
          "name": "stdout",
          "text": [
            "Shapiro-Wilk test statistic: 0.9892567992210388\n",
            "P-value: 0.15320268273353577\n",
            "Fail to reject the null hypothesis: Data is normally distributed.\n"
          ]
        }
      ],
      "source": [
        "# Perform Shapiro-Wilk test\n",
        "statistic, p_value = shapiro(Df['Receptivity_T'])\n",
        "\n",
        "print(\"Shapiro-Wilk test statistic:\", statistic)\n",
        "print(\"P-value:\", p_value)\n",
        "\n",
        "if p_value < 0.05:\n",
        "  print(\"Reject the null hypothesis: Data is not normally distributed.\")\n",
        "else:\n",
        "  print(\"Fail to reject the null hypothesis: Data is normally distributed.\")"
      ]
    },
    {
      "cell_type": "markdown",
      "metadata": {
        "id": "w40REdBSyqUJ"
      },
      "source": [
        "`4. Are there any significant outliers?`"
      ]
    },
    {
      "cell_type": "code",
      "execution_count": null,
      "metadata": {
        "id": "P2ozg77Nvmbk",
        "colab": {
          "base_uri": "https://localhost:8080/"
        },
        "outputId": "22900f34-3003-4db8-c4ce-692d71a30a25"
      },
      "outputs": [
        {
          "output_type": "stream",
          "name": "stdout",
          "text": [
            "Identified Outliers:\n",
            "Empty DataFrame\n",
            "Columns: [PickUp, Scent, Receptivity, Gender, Age, Ethnicity, YearInSchool, Receptivity_T, Z_Score]\n",
            "Index: []\n"
          ]
        }
      ],
      "source": [
        "mean_receptivity = Df['PickUp'].mean()\n",
        "std_receptivity = Df['PickUp'].std()\n",
        "\n",
        "# Calculate z-scores for 'Receptivity'\n",
        "Df['Z_Score'] = (Df['PickUp'] - mean_receptivity) / std_receptivity\n",
        "\n",
        "# Set the z-score threshold for identifying outliers (e.g., 3)\n",
        "z_score_threshold = 3\n",
        "\n",
        "# Identify outliers based on z-scores\n",
        "outliers = Df[abs(Df['Z_Score']) > z_score_threshold]\n",
        "\n",
        "print(\"Identified Outliers:\")\n",
        "print(outliers)\n"
      ]
    },
    {
      "cell_type": "markdown",
      "metadata": {
        "id": "3dN1jjLYyC68"
      },
      "source": [
        "`Answer`\n",
        "\n",
        "I drew violinplots, boxplots and calculated z-score and found no datapoint to exceed the 75th quartile or 3 standard deviations, z > 3SD from the mean."
      ]
    },
    {
      "cell_type": "markdown",
      "metadata": {
        "id": "PiCtJ3ElzEvV"
      },
      "source": [
        "`5. How is your dependent variable distributed in each cell?`"
      ]
    },
    {
      "cell_type": "code",
      "execution_count": null,
      "metadata": {
        "id": "YuQp8Zez98MI",
        "colab": {
          "base_uri": "https://localhost:8080/",
          "height": 646
        },
        "outputId": "073cc77f-9d43-4d78-b6ee-d9e410433801"
      },
      "outputs": [
        {
          "output_type": "stream",
          "name": "stdout",
          "text": [
            "PickUp Group 1.0:\n",
            "Mean: 3.863434\n",
            "Standard Deviation: 0.4988286831064828\n",
            "Variance: 0.24883005508974784\n",
            "\n",
            "PickUp Group 2.0:\n",
            "Mean: 3.6544516216216207\n",
            "Standard Deviation: 0.5587985168394703\n",
            "Variance: 0.31225578242199187\n",
            "\n"
          ]
        },
        {
          "output_type": "display_data",
          "data": {
            "text/plain": [
              "<Figure size 640x480 with 1 Axes>"
            ],
            "image/png": "[encoded data removed]"
          },
          "metadata": {}
        }
      ],
      "source": [
        "# Calculate mean, standard deviation, and variance for each PickUp group\n",
        "pickup_groups = Df['PickUp'].unique()\n",
        "for group in pickup_groups:\n",
        "  group_data = Df[Df['PickUp'] == group]['Receptivity']\n",
        "  group_mean = group_data.mean()\n",
        "  group_std = group_data.std()\n",
        "  group_var = group_data.var()\n",
        "\n",
        "  print(f\"PickUp Group {group}:\")\n",
        "  print(f\"Mean: {group_mean}\")\n",
        "  print(f\"Standard Deviation: {group_std}\")\n",
        "  print(f\"Variance: {group_var}\")\n",
        "  print()\n",
        "\n",
        "  # Create a histogram for each PickUp group\n",
        "  plt.hist(group_data, bins=20, alpha=0.5, label=f'PickUp {group}')\n",
        "\n",
        "# Add labels and legend to the histogram\n",
        "plt.xlabel('Receptivity')\n",
        "plt.ylabel('Frequency')\n",
        "plt.legend()\n",
        "plt.title('Distribution of Receptivity by PickUp Group')\n",
        "plt.show()\n"
      ]
    },
    {
      "cell_type": "code",
      "execution_count": null,
      "metadata": {
        "id": "lMTA9rhJbLBj",
        "colab": {
          "base_uri": "https://localhost:8080/"
        },
        "outputId": "39df8473-3c71-4cc6-f1cd-e805a710b2ea"
      },
      "outputs": [
        {
          "output_type": "stream",
          "name": "stdout",
          "text": [
            "Shapiro score: 0.9578617215156555 \n",
            "p-value: 0.000855224730912596\n",
            "Shapiro score: 0.9907622933387756 \n",
            "p-value: 0.8713902235031128\n"
          ]
        }
      ],
      "source": [
        "cute_pickup = Df[Df.PickUp == 1]['Receptivity']\n",
        "direct_pickup = Df[Df.PickUp == 2]['Receptivity']\n",
        "\n",
        "score, p = shapiro(cute_pickup)\n",
        "print('Shapiro score:', score, '\\np-value:', p)\n",
        "\n",
        "score, p = shapiro(direct_pickup)\n",
        "print('Shapiro score:', score, '\\np-value:', p)"
      ]
    },
    {
      "cell_type": "code",
      "execution_count": null,
      "metadata": {
        "id": "uPavlXC4AtTX",
        "colab": {
          "base_uri": "https://localhost:8080/"
        },
        "outputId": "211c52f5-edf1-4cc2-900e-09696d7fa54c"
      },
      "outputs": [
        {
          "output_type": "stream",
          "name": "stdout",
          "text": [
            "Kurtosis for PickUp 1.0: -0.29101706176136055\n",
            "Kurtosis for PickUp 2.0: -0.49228827307618017\n",
            "Coefficient of Variation for PickUp 1.0: 0.12857625677401582\n",
            "Coefficient of Variation for PickUp 2.0: 0.151872309747558\n"
          ]
        }
      ],
      "source": [
        "# Calculate kurtosis for each PickUp group\n",
        "pickup_groups = Df['PickUp'].unique()\n",
        "for group in pickup_groups:\n",
        "  group_data = Df[Df['PickUp'] == group]['Receptivity']\n",
        "  kurt = kurtosis(group_data)\n",
        "  print(f\"Kurtosis for PickUp {group}: {kurt}\")\n",
        "\n",
        "# Calculate coefficient of variation for each PickUp group\n",
        "for group in pickup_groups:\n",
        "  group_data = Df[Df['PickUp'] == group]['Receptivity']\n",
        "  coeff_var = variation(group_data)\n",
        "  print(f\"Coefficient of Variation for PickUp {group}: {coeff_var}\")\n"
      ]
    },
    {
      "cell_type": "markdown",
      "metadata": {
        "id": "eSMQucFda3Hc"
      },
      "source": [
        "`Answer`\n",
        "\n",
        "I used two methods to examine the shape of the distribution of both groups: a violin plot and a Shapiro-Wilk test\n",
        "\n",
        "For the cute-direct group, it is an aymmetric (skewed) distribution. It expectedly fails the Shapiro-Wilk normality test (S-W = 0.95, p = 0.00085 < (0.05)). H0 is violated.\n",
        "\n",
        "On the contrary, the direct_direct group, it is an aymmetric (skewed) distribution. It expectedly passess the Shapiro-Wilk normality test (S-W = 0.99, p = 0.87 > (0.05)). H0 is passed."
      ]
    },
    {
      "cell_type": "markdown",
      "metadata": {
        "id": "FWWtdrSQD39E"
      },
      "source": [
        "`6. Do you need to perform any transformations?`"
      ]
    },
    {
      "cell_type": "markdown",
      "metadata": {
        "id": "JbwYrNhuGcd6"
      },
      "source": [
        "`Answer`\n",
        "\n",
        "I performed a boxcox transformation (lambda=0.3) on the dependent variable because I noticed that the Receptivity distribution is not normally distributed according to the Shapiro-Wilk test (S-W score = 0.98, p = 0.031 < (0.05)).  it was not normally distributed.\n",
        "\n",
        "As for the independent variables, I did not see a need to transform the data but decided to compensate using non-parametric tests."
      ]
    },
    {
      "cell_type": "markdown",
      "metadata": {
        "id": "7uf76RKGGtN3"
      },
      "source": [
        "`7. Is there homogeneity or heterogeneity of variance?`"
      ]
    },
    {
      "cell_type": "code",
      "execution_count": null,
      "metadata": {
        "id": "-83bR29rLCbG",
        "colab": {
          "base_uri": "https://localhost:8080/"
        },
        "outputId": "90578e60-0d39-4481-b7fc-dd43d679c849"
      },
      "outputs": [
        {
          "output_type": "stream",
          "name": "stdout",
          "text": [
            "Levene's test statistic: 2.358728188416729\n",
            "P-value: 0.12622997000146413\n",
            "Fail to reject the null hypothesis: Variances are equal.\n"
          ]
        }
      ],
      "source": [
        "# Assuming you have a DataFrame named 'df' and columns 'PickUp' and 'Receptivity'\n",
        "cute_direct = Df[Df['PickUp'] == 1.0]['Receptivity_T']\n",
        "direct_direct = Df[Df['PickUp'] == 2.0]['Receptivity_T']\n",
        "\n",
        "# Perform Levene's test\n",
        "statistic, p_value = levene(cute_direct, direct_direct, center='median')\n",
        "\n",
        "print(\"Levene's test statistic:\", statistic)\n",
        "print(\"P-value:\", p_value)\n",
        "\n",
        "if p_value < 0.05:\n",
        "  print(\"Reject the null hypothesis: Variances are not equal.\")\n",
        "else:\n",
        "  print(\"Fail to reject the null hypothesis: Variances are equal.\")\n"
      ]
    },
    {
      "cell_type": "markdown",
      "metadata": {
        "id": "aYHPYmOamBhR"
      },
      "source": [
        "`Answer`\n",
        "\n",
        "I carried out the Levene test among the groups and arrived at the Levene scores (L = 2.35, p = 0.12). This means we can accept H0 and say that the variances are equal or homogeneous.\n",
        "\n",
        "However, I conducted a Levene test again using median as the centre to compensate for the possible presence of failed normality in the data. This transforms the Levene test to a Brown-Forsythe test. When executed, I did not get a different result."
      ]
    },
    {
      "cell_type": "markdown",
      "metadata": {
        "id": "lgbldkn-IJja"
      },
      "source": [
        "`8. What is the mean score of receptivity in the experimental condition?`"
      ]
    },
    {
      "cell_type": "code",
      "execution_count": null,
      "metadata": {
        "id": "JigPZW0fIO1B",
        "colab": {
          "base_uri": "https://localhost:8080/"
        },
        "outputId": "756c9476-061f-4392-ad18-39c2748f214f"
      },
      "outputs": [
        {
          "output_type": "execute_result",
          "data": {
            "text/plain": [
              "3.863434"
            ]
          },
          "metadata": {},
          "execution_count": 27
        }
      ],
      "source": [
        "Df[Df['PickUp'] == 1.0]['Receptivity'].mean()\n",
        "#print(\"Mean Receptivity in Experimental Condition:\", mean_receptivity_experimental)"
      ]
    },
    {
      "cell_type": "markdown",
      "metadata": {
        "id": "9aKv6IINzmUq"
      },
      "source": [
        "`Answer` 3.86"
      ]
    },
    {
      "cell_type": "markdown",
      "metadata": {
        "id": "3e7BCkIIKJT2"
      },
      "source": [
        "`9. What is the mean score of receptivity in the control condition?`"
      ]
    },
    {
      "cell_type": "code",
      "execution_count": null,
      "metadata": {
        "id": "FgQn3XqGKWzi",
        "colab": {
          "base_uri": "https://localhost:8080/"
        },
        "outputId": "3c2ccac3-cae6-42b1-9464-ebf6a0934117"
      },
      "outputs": [
        {
          "output_type": "execute_result",
          "data": {
            "text/plain": [
              "3.6544516216216207"
            ]
          },
          "metadata": {},
          "execution_count": 28
        }
      ],
      "source": [
        "Df[Df['PickUp'] == 2.0]['Receptivity'].mean()\n",
        "#print(\"Mean Receptivity in Experimental Condition:\", mean_receptivity_experimental)"
      ]
    },
    {
      "cell_type": "markdown",
      "metadata": {
        "id": "Xe11Y12fzw2U"
      },
      "source": [
        "`Answer` 3.65"
      ]
    },
    {
      "cell_type": "markdown",
      "metadata": {
        "id": "99BA2l970GA7"
      },
      "source": [
        "`10. What is your answer to RQ1? Report on the findings (no less than 150 words). Don’t forget to mention the assumptions.`"
      ]
    },
    {
      "cell_type": "code",
      "execution_count": null,
      "metadata": {
        "id": "mqGyKN2UDxUI",
        "colab": {
          "base_uri": "https://localhost:8080/"
        },
        "outputId": "69bf3d12-9e62-4d09-8c5b-d338896d2b0e"
      },
      "outputs": [
        {
          "output_type": "stream",
          "name": "stdout",
          "text": [
            "One-way ANOVA results:\n",
            "F-statistic: 8.01944623959719\n",
            "P-value: 0.005121220560347551\n",
            "Reject the null hypothesis: There is a significant difference between groups.\n",
            "Degrees of freedom (between): 1\n",
            "Degrees of freedom (within): 192\n",
            "Eta-squared (effect size): 0.005181347150259067\n"
          ]
        }
      ],
      "source": [
        "spray = Df[Df['PickUp'] == 1]['Receptivity_T']\n",
        "nospray = Df[Df['PickUp'] == 2]['Receptivity_T']\n",
        "\n",
        "# Assuming 'Df' is your DataFrame and 'Receptivity_T' is the transformed receptivity column\n",
        "grouped_data = [spray, nospray]\n",
        "\n",
        "# Perform one-way ANOVA\n",
        "f_statistic, p_value = f_oneway(*grouped_data)\n",
        "\n",
        "print(\"One-way ANOVA results:\")\n",
        "print(\"F-statistic:\", f_statistic)\n",
        "print(\"P-value:\", p_value)\n",
        "\n",
        "if p_value < 0.05:\n",
        "  print(\"Reject the null hypothesis: There is a significant difference between groups.\")\n",
        "else:\n",
        "  print(\"Fail to reject the null hypothesis: No significant difference between groups.\")\n",
        "\n",
        "# Calculate degrees of freedom\n",
        "df_between = len(grouped_data) - 1\n",
        "df_within = len(Df['Receptivity_T']) - len(grouped_data)\n",
        "\n",
        "# Calculate eta-squared (effect size)\n",
        "ss_between = df_between * f_statistic / df_within\n",
        "eta_squared = ss_between / (ss_between + f_statistic)\n",
        "\n",
        "print(\"Degrees of freedom (between):\", df_between)\n",
        "print(\"Degrees of freedom (within):\", df_within)\n",
        "print(\"Eta-squared (effect size):\", eta_squared)"
      ]
    },
    {
      "cell_type": "code",
      "execution_count": null,
      "metadata": {
        "id": "FU988I6diiwk",
        "colab": {
          "base_uri": "https://localhost:8080/"
        },
        "outputId": "8dcdd9e8-0474-4bf5-9cdc-5bdfb3dc34b8"
      },
      "outputs": [
        {
          "output_type": "stream",
          "name": "stdout",
          "text": [
            "Welch's ANOVA results:\n",
            "   Source  ddof1       ddof2         F     p-unc       np2\n",
            "0  PickUp      1  134.977334  7.394266  0.007404  0.040093\n"
          ]
        }
      ],
      "source": [
        "# Perform Welch's ANOVA\n",
        "welch_result = pg.welch_anova(data=Df, dv='Receptivity_T', between='PickUp')\n",
        "\n",
        "print(\"Welch's ANOVA results:\")\n",
        "print(welch_result)"
      ]
    },
    {
      "cell_type": "markdown",
      "metadata": {
        "id": "hSmE4vxH0WEc"
      },
      "source": [
        "VARIABLE DESCRIPTION\n",
        "\n",
        "The dependent variable is the 'Receptivity' Y feature whose values are continuous. It describes the degree of willingness a prospective partner is willing to accept the proposing party.\n",
        "\n",
        "The independent variable is the PickUp variable whose values are discrete and binary. It has values, 'cute direct' X1 and 'direct-direct' X2 which describes the method used by the proposing partner to attract his mate.\n",
        "\n",
        "ASSUMPTIONS\n",
        "\n",
        "Normality:- Four methods were applied to test for normality: histogram plots, violinplots, boxplots, and Shapiro-Wilk test. Of the three variables involved, only the direct-direct cell passed the H0 for normality test, X2 = (S-W = 0.99, p = 0.87). Receptivity and the cute-direct approach were skewed and only passed H1. Y = (S-W = 0.98, p = 0.03), X1 = (S-W = 0.95, 0.008). We later used a boxcox transformation to normalize the dependent variable.\n",
        "\n",
        "Outliers:- Three methods were applied to test for outliers: violinplot, boxplots, and z-scores. The results were unanimously negative for outliers for PickUp groups and Receptivity. z < 3SD.\n",
        "\n",
        "Homogeneity: The Levene test was chosen to test for homogeneity of variance. To compensate for the discrepancies in variance, a median test was applied to the centre (or Brown-forsythe test), the result was that H0 was respected, (L = 2.35, p = 0.12). This means that the variance was the same between both groups.\n",
        "\n",
        "\n",
        "Independence: The t-test was chosen to test for independence. The standard Student t-test gave us a t-score (t = 2.7, p = 0.007 < (0.05)). This means that we reject H0, and declare that there is a difference in the mean of both groups. Furthermore, a non-parametric test, Mann-Whitney U-test added to the confirmation with scores (U = 5342, p = 0.016 < (adj. 0.025))\n",
        "\n",
        "ANOVA\n",
        "\n",
        "Finally, I decided to apply the one-way ANOVA to the data, and I got the results (ddf = 192, F = 8.01, p = 0.005 < (0.05), np2 = 0.005. However, not all the prerequisite assumptions were met. X1 failed the normality test. Given that situation, plus considering the size of our sample, we decided to apply Welch ANOVA for extra confirmation. The results of the ANOVA were (dof = 134.9, F = 7.39, p = 0.007 < (0.05), np2 = 0.04), which concurs with the metrics from the one-way ANOVA.\n",
        "\n",
        "CONCLUSION\n",
        "\n",
        "The F-value and p-value from the ANOVA enabled me to deduce that there is a significant difference between the receptivity in the two groups, with X1 having higher mean and lower variance, (dM = 0.091, dvar = 0.016), with an effect size of 4% to account for the variation between both groups.\n",
        "\n",
        "The answer to the research question is that the cute-direct approach is more attractive than the direct-direct approach by an effect size of 4%.\n"
      ]
    },
    {
      "cell_type": "markdown",
      "metadata": {
        "id": "f6TmpzIYK9pb"
      },
      "source": [
        "\n",
        "\n",
        "---\n",
        "\n",
        "\n",
        "### **RQ2: Is there any evidence to suggest that the presence of androstadienone spray will lead to more relationship receptivity than no spray?**\n",
        "\n",
        "---"
      ]
    },
    {
      "cell_type": "markdown",
      "metadata": {
        "id": "sPBQZH5hLBDF"
      },
      "source": [
        "`11. What is your dependent variable?`"
      ]
    },
    {
      "cell_type": "markdown",
      "metadata": {
        "id": "NZnuIJY6RXnV"
      },
      "source": [
        "`Answer`\n",
        "\n",
        "Receptivity is the dependent variable. The main research question is about it. The goal of every pick up is to get a mate. Certain factors determine how the recepeint will respond. The factors involved are the independent variables."
      ]
    },
    {
      "cell_type": "markdown",
      "metadata": {
        "id": "w2Ehf7lLTjRE"
      },
      "source": [
        "`12. What is(are) your independent variable(s)?`"
      ]
    },
    {
      "cell_type": "markdown",
      "metadata": {
        "id": "qKPpj0YVTvOi"
      },
      "source": [
        "The scent is the chosen independent variable because it has an effect on the attractive of a proposing partner to a potential mate. Like the PickUp variable, it consists of two binary values to signify those who spray perfume before approaching their desired partners, and those who do not."
      ]
    },
    {
      "cell_type": "markdown",
      "metadata": {
        "id": "eCLfP8jvT8yc"
      },
      "source": [
        "`13. Are the scores in each cell independent?`"
      ]
    },
    {
      "cell_type": "code",
      "execution_count": null,
      "metadata": {
        "id": "vzlAxgRvFNXN",
        "colab": {
          "base_uri": "https://localhost:8080/"
        },
        "outputId": "5aa4280f-10dc-4c46-c7ff-68bab52da933"
      },
      "outputs": [
        {
          "output_type": "stream",
          "name": "stdout",
          "text": [
            "T-statistic: 1.883086801350598\n",
            "P-value: 0.06120069477592636\n",
            "Fail to reject the null hypothesis: Means are not significantly different.\n"
          ]
        }
      ],
      "source": [
        "# Separate the 'Receptivity' data for the two 'PickUp' choices\n",
        "receptivity_spray = Df[Df['Scent'] == 1.0]['Receptivity_T']\n",
        "receptivity_nospray = Df[Df['Scent'] == 2.0]['Receptivity_T']\n",
        "\n",
        "# Perform independent samples t-test\n",
        "t_statistic, p_value = ttest_ind(receptivity_spray, receptivity_nospray)\n",
        "\n",
        "print(\"T-statistic:\", t_statistic)\n",
        "print(\"P-value:\", p_value)\n",
        "\n",
        "if p_value < 0.05:\n",
        "  print(\"Reject the null hypothesis: There is a significant difference in means.\")\n",
        "else:\n",
        "  print(\"Fail to reject the null hypothesis: Means are not significantly different.\")\n"
      ]
    },
    {
      "cell_type": "code",
      "execution_count": null,
      "metadata": {
        "id": "UfnKsuqtDV3C",
        "colab": {
          "base_uri": "https://localhost:8080/"
        },
        "outputId": "36c635b0-dc2c-4c64-c69d-0967c4ba9896"
      },
      "outputs": [
        {
          "output_type": "stream",
          "name": "stdout",
          "text": [
            "Mann-Whitney U test statistic: 5403.5\n",
            "P-value: 0.06360956103741593\n"
          ]
        }
      ],
      "source": [
        "spray = Df[Df['Scent'] == 1]['Receptivity_T']\n",
        "no_spray = Df[Df['Scent'] == 2]['Receptivity_T']\n",
        "\n",
        "statistic, p_value = mannwhitneyu(spray, no_spray, alternative='two-sided')\n",
        "print(\"Mann-Whitney U test statistic:\", statistic)\n",
        "print(\"P-value:\", p_value)"
      ]
    },
    {
      "cell_type": "code",
      "execution_count": null,
      "metadata": {
        "id": "EQ6Ga1K9U6IG",
        "colab": {
          "base_uri": "https://localhost:8080/"
        },
        "outputId": "bcb845ba-2e59-4a81-f2ee-2fc23934bd28"
      },
      "outputs": [
        {
          "output_type": "stream",
          "name": "stdout",
          "text": [
            "1.7045520930429912\n",
            "1.6448294181008192\n",
            "0.05972267494217198\n"
          ]
        }
      ],
      "source": [
        "print(spray.mean())\n",
        "print(no_spray.mean())\n",
        "print(spray.mean() - no_spray.mean())"
      ]
    },
    {
      "cell_type": "code",
      "execution_count": null,
      "metadata": {
        "id": "TwxfCA0zVZTb",
        "colab": {
          "base_uri": "https://localhost:8080/"
        },
        "outputId": "54b8e49f-03dc-4dca-8298-fe36d83744d5"
      },
      "outputs": [
        {
          "output_type": "stream",
          "name": "stdout",
          "text": [
            "0.06276746788137291\n",
            "0.03205332849417453\n",
            "0.030714139387198386\n"
          ]
        }
      ],
      "source": [
        "print(spray.var())\n",
        "print(no_spray.var())\n",
        "print(spray.var() - no_spray.var())"
      ]
    },
    {
      "cell_type": "markdown",
      "metadata": {
        "id": "pSSw16XcTrB9"
      },
      "source": [
        "`Answer`\n",
        "\n",
        "I applied a Student t-test in an endeavour to discover the distinction between means of the variable groups sprayers (M = 3.85, var = 0.36), and non-sprayers (M = 3.69, 0.17). The result of the t-test showed that the t-score (t = 1.88, p = 0.06 > (0.05)) agrees with H0. This means that there is no independence of the means.\n",
        "\n",
        "To compensate for possible deviations from normality, we attempt a non-parametric U-test for better confirmation. The result (U = 5403.2, p = 0.063) which also agrees with H0. Consequently, we reject H1 and accept that there is no independence between both groups."
      ]
    },
    {
      "cell_type": "markdown",
      "metadata": {
        "id": "4v5H3iNYPBvJ"
      },
      "source": []
    },
    {
      "cell_type": "code",
      "execution_count": null,
      "metadata": {
        "id": "v2i2QUilUCMo",
        "colab": {
          "base_uri": "https://localhost:8080/"
        },
        "outputId": "0c91098b-d0d9-4159-984a-decc56917962"
      },
      "outputs": [
        {
          "output_type": "execute_result",
          "data": {
            "text/plain": [
              "1.0    104\n",
              "2.0     90\n",
              "Name: Scent, dtype: int64"
            ]
          },
          "metadata": {},
          "execution_count": 35
        }
      ],
      "source": [
        "Df.Scent.value_counts()"
      ]
    },
    {
      "cell_type": "code",
      "execution_count": null,
      "metadata": {
        "id": "NNdVWnNhUg9f",
        "colab": {
          "base_uri": "https://localhost:8080/"
        },
        "outputId": "c6280c32-26b5-4697-c46e-b973687c0d09"
      },
      "outputs": [
        {
          "output_type": "stream",
          "name": "stdout",
          "text": [
            "0.3637162292228528\n",
            "0.17687335949508115\n"
          ]
        }
      ],
      "source": [
        "print(Df[Df.Scent == 1.0]['Receptivity'].var())\n",
        "print(Df[Df.Scent == 2.0]['Receptivity'].var())"
      ]
    },
    {
      "cell_type": "code",
      "execution_count": null,
      "metadata": {
        "id": "6NmEhkHMUz7q",
        "colab": {
          "base_uri": "https://localhost:8080/",
          "height": 570
        },
        "outputId": "339918bd-592a-463b-c58b-08b2e66a3f53"
      },
      "outputs": [
        {
          "output_type": "stream",
          "name": "stderr",
          "text": [
            "WARNING:matplotlib.legend:No artists with labels found to put in legend.  Note that artists whose label start with an underscore are ignored when legend() is called with no argument.\n"
          ]
        },
        {
          "output_type": "execute_result",
          "data": {
            "text/plain": [
              "<matplotlib.legend.Legend at 0x7b8236063fd0>"
            ]
          },
          "metadata": {},
          "execution_count": 37
        },
        {
          "output_type": "display_data",
          "data": {
            "text/plain": [
              "<Figure size 1500x500 with 3 Axes>"
            ],
            "image/png": "[encoded data removed]"
          },
          "metadata": {}
        }
      ],
      "source": [
        "fig, ax = plt.subplots(1, 3, figsize=(15, 5))\n",
        "\n",
        "spray_data = Df[Df['Scent'] == 1.0]['Receptivity']\n",
        "nospray_data = Df[Df['Scent'] == 2.0]['Receptivity']\n",
        "\n",
        "sb.boxplot(data=Df, x='Scent', y='Receptivity', ax=ax[1])\n",
        "sb.violinplot(data=Df, x='Scent', y='Receptivity', ax=ax[2])\n",
        "\n",
        "# Create overlaid histogram plots\n",
        "ax[0].hist(spray_data, bins=20, alpha=0.5, label='With spray')\n",
        "ax[0].hist(nospray_data, bins=20, alpha=0.5, label='Without spray')\n",
        "\n",
        "# Add labels and legend\n",
        "ax[0].set_xlabel('Receptivity')\n",
        "ax[0].set_ylabel('Frequency')\n",
        "ax[0].legend()\n",
        "\n",
        "# Show the plot\n",
        "plt.suptitle('Distribution of Receptivity by Pickup Group')\n",
        "plt.legend()"
      ]
    },
    {
      "cell_type": "code",
      "execution_count": null,
      "metadata": {
        "id": "EEfSbiDOVkEy",
        "colab": {
          "base_uri": "https://localhost:8080/"
        },
        "outputId": "45df4c7e-cb15-4220-e87f-5fe8d636229c"
      },
      "outputs": [
        {
          "output_type": "stream",
          "name": "stdout",
          "text": [
            "Shapiro-Wilk test statistic for Spray: 0.9737378358840942\n",
            "P-value for Spray: 0.036449555307626724\n",
            "Shapiro-Wilk test statistic for No Spray: 0.9701603651046753\n",
            "P-value for No Spray: 0.03629191964864731\n"
          ]
        }
      ],
      "source": [
        "receptivity_spray = Df[Df['Scent'] == 1]['Receptivity']\n",
        "receptivity_no_spray = Df[Df['Scent'] == 2]['Receptivity']\n",
        "\n",
        "statistic_spray, p_value_spray = shapiro(receptivity_spray)\n",
        "print(\"Shapiro-Wilk test statistic for Spray:\", statistic_spray)\n",
        "print(\"P-value for Spray:\", p_value_spray)\n",
        "\n",
        "statistic_no_spray, p_value_no_spray = shapiro(receptivity_no_spray)\n",
        "print(\"Shapiro-Wilk test statistic for No Spray:\", statistic_no_spray)\n",
        "print(\"P-value for No Spray:\", p_value_no_spray)"
      ]
    },
    {
      "cell_type": "markdown",
      "metadata": {
        "id": "pF1uUL8ZYruA"
      },
      "source": [
        "The Shapiro-Wilk test results for both scent groups indicate that the p-values are less than the common significance level of 0.05. This suggests that the receptivity scores for both the Spray and No Spray groups are not normally distributed.\n",
        "\n",
        "Since the normality assumption is not met, you might need to consider using non-parametric tests or transformations when analyzing the data related to scent and receptivity. Keep in mind that non-parametric tests are less sensitive to distributional assumptions and can be used when dealing with non-normally distributed data."
      ]
    },
    {
      "cell_type": "code",
      "execution_count": null,
      "metadata": {
        "id": "vpkqok4MZOr_",
        "colab": {
          "base_uri": "https://localhost:8080/"
        },
        "outputId": "0d331f74-1f4a-4bc5-bc89-a79aa7cef93d"
      },
      "outputs": [
        {
          "output_type": "stream",
          "name": "stdout",
          "text": [
            "Shapiro-Wilk test statistic for cute direct: 0.9578617215156555\n",
            "P-value for cute direct: 0.000855224730912596\n",
            "Shapiro-Wilk test statistic for direct direct: 0.9907622933387756\n",
            "P-value for direct direct: 0.8713902235031128\n"
          ]
        }
      ],
      "source": [
        "cute_direct = Df[Df['PickUp'] == 1]['Receptivity']\n",
        "direct_direct = Df[Df['PickUp'] == 2]['Receptivity']\n",
        "\n",
        "statistic_cute, p_value_cute = shapiro(cute_direct)\n",
        "print(\"Shapiro-Wilk test statistic for cute direct:\", statistic_cute)\n",
        "print(\"P-value for cute direct:\", p_value_cute)\n",
        "\n",
        "statistic_direct, p_value_direct = shapiro(direct_direct)\n",
        "print(\"Shapiro-Wilk test statistic for direct direct:\", statistic_direct)\n",
        "print(\"P-value for direct direct:\", p_value_direct)"
      ]
    },
    {
      "cell_type": "markdown",
      "metadata": {
        "id": "77uk25Drt2m0"
      },
      "source": [
        "`14. Are there any significant outliers?`"
      ]
    },
    {
      "cell_type": "markdown",
      "metadata": {
        "id": "3WFY7fteaNMW"
      },
      "source": [
        "`Answer`\n",
        "\n",
        "I plotted violinplots, boxplots and calculated z-score and found no datapoint to exceed the 75th quartile or 3 standard deviations, z > 3SD from the mean."
      ]
    },
    {
      "cell_type": "code",
      "execution_count": null,
      "metadata": {
        "id": "OzrTzUXW0GO8",
        "colab": {
          "base_uri": "https://localhost:8080/"
        },
        "outputId": "e06b54da-77ee-4ab0-bed3-1beccce7a6a3"
      },
      "outputs": [
        {
          "output_type": "stream",
          "name": "stdout",
          "text": [
            "Identified Outliers:\n",
            "Empty DataFrame\n",
            "Columns: [PickUp, Scent, Receptivity, Gender, Age, Ethnicity, YearInSchool, Receptivity_T, Z_Score]\n",
            "Index: []\n"
          ]
        }
      ],
      "source": [
        "mean_receptivity = Df['Scent'].mean()\n",
        "std_receptivity = Df['Scent'].std()\n",
        "\n",
        "# Calculate z-scores for 'Receptivity'\n",
        "Df['Z_Score'] = (Df['Scent'] - mean_receptivity) / std_receptivity\n",
        "\n",
        "# Set the z-score threshold for identifying outliers (e.g., 3)\n",
        "z_score_threshold = 3\n",
        "\n",
        "# Identify outliers based on z-scores\n",
        "outliers = Df[abs(Df['Z_Score']) > z_score_threshold]\n",
        "\n",
        "print(\"Identified Outliers:\")\n",
        "print(outliers)\n"
      ]
    },
    {
      "cell_type": "markdown",
      "metadata": {
        "id": "VBGCylDq6Dee"
      },
      "source": [
        "`15. How is your dependent variable distributed in each cell?`"
      ]
    },
    {
      "cell_type": "code",
      "execution_count": null,
      "metadata": {
        "id": "NyM_gfmn6tF2",
        "colab": {
          "base_uri": "https://localhost:8080/",
          "height": 646
        },
        "outputId": "5f031228-81ac-4c4f-8b72-73e9663cb8fc"
      },
      "outputs": [
        {
          "output_type": "stream",
          "name": "stdout",
          "text": [
            "PickUp Group 2.0:\n",
            "Mean: 3.6544516216216207\n",
            "Standard Deviation: 0.5587985168394703\n",
            "Variance: 0.31225578242199187\n",
            "\n",
            "PickUp Group 1.0:\n",
            "Mean: 3.863434\n",
            "Standard Deviation: 0.4988286831064828\n",
            "Variance: 0.24883005508974784\n",
            "\n"
          ]
        },
        {
          "output_type": "display_data",
          "data": {
            "text/plain": [
              "<Figure size 640x480 with 1 Axes>"
            ],
            "image/png": "[encoded data removed]"
          },
          "metadata": {}
        }
      ],
      "source": [
        "# Calculate mean, standard deviation, and variance for each PickUp group\n",
        "pickup_groups = Df['Scent'].unique()\n",
        "for group in pickup_groups:\n",
        "  group_data = Df[Df['PickUp'] == group]['Receptivity']\n",
        "  group_mean = group_data.mean()\n",
        "  group_std = group_data.std()\n",
        "  group_var = group_data.var()\n",
        "\n",
        "  print(f\"PickUp Group {group}:\")\n",
        "  print(f\"Mean: {group_mean}\")\n",
        "  print(f\"Standard Deviation: {group_std}\")\n",
        "  print(f\"Variance: {group_var}\")\n",
        "  print()\n",
        "\n",
        "  # Create a histogram for each PickUp group\n",
        "  plt.hist(group_data, bins=20, alpha=0.5, label=f'Scent {group}')\n",
        "\n",
        "# Add labels and legend to the histogram\n",
        "plt.xlabel('Receptivity')\n",
        "plt.ylabel('Frequency')\n",
        "plt.legend()\n",
        "plt.title('Distribution of Receptivity by PickUp Group')\n",
        "plt.show()\n"
      ]
    },
    {
      "cell_type": "code",
      "execution_count": null,
      "metadata": {
        "id": "6Mj699Lm7KG-",
        "colab": {
          "base_uri": "https://localhost:8080/"
        },
        "outputId": "c2657733-24f7-4e62-8c1c-cdbd01b4dcf6"
      },
      "outputs": [
        {
          "output_type": "stream",
          "name": "stdout",
          "text": [
            "Kurtosis for Scent 2.0: 0.7428741000247499\n",
            "Kurtosis for Scent 1.0: -0.7506884930759088\n",
            "Coefficient of Variation for Scent 2.0: 0.11305772789160985\n",
            "Coefficient of Variation for Scent 1.0: 0.15561331916621282\n"
          ]
        }
      ],
      "source": [
        "# Calculate kurtosis for each PickUp group\n",
        "pickup_groups = Df['Scent'].unique()\n",
        "for group in pickup_groups:\n",
        "  group_data = Df[Df['Scent'] == group]['Receptivity']\n",
        "  kurt = kurtosis(group_data)\n",
        "  print(f\"Kurtosis for Scent {group}: {kurt}\")\n",
        "\n",
        "# Calculate coefficient of variation for each PickUp group\n",
        "for group in pickup_groups:\n",
        "  group_data = Df[Df['Scent'] == group]['Receptivity']\n",
        "  coeff_var = variation(group_data)\n",
        "  print(f\"Coefficient of Variation for Scent {group}: {coeff_var}\")\n"
      ]
    },
    {
      "cell_type": "code",
      "execution_count": null,
      "metadata": {
        "id": "qFMgpzhxdgaA",
        "colab": {
          "base_uri": "https://localhost:8080/"
        },
        "outputId": "2b26e0a0-970d-46a2-ad11-de138f4bf8fe"
      },
      "outputs": [
        {
          "output_type": "stream",
          "name": "stdout",
          "text": [
            "Shapiro score: 0.9737378358840942 \n",
            "p-value: 0.036449555307626724\n",
            "Shapiro score: 0.9701603651046753 \n",
            "p-value: 0.03629191964864731\n"
          ]
        }
      ],
      "source": [
        "spray = Df[Df.Scent == 1]['Receptivity']\n",
        "nospray = Df[Df.Scent == 2]['Receptivity']\n",
        "\n",
        "score, p = shapiro(spray)\n",
        "print('Shapiro score:', score, '\\np-value:', p)\n",
        "\n",
        "score, p = shapiro(nospray)\n",
        "print('Shapiro score:', score, '\\np-value:', p)"
      ]
    },
    {
      "cell_type": "markdown",
      "metadata": {
        "id": "b1fO9SSbbBUC"
      },
      "source": [
        "`Answer`\n",
        "\n",
        "The dependent variable itself has a skewed distribution as we have confirmed in Q5. But its distribution across the two independent Scent cells X1 and X2. it is bimodal when viewed at violinplot. This is even confirmed by the result of the Shapiro-Wilk test for both groups (S-W = 0.97, 0.036), and (S-W = 0.97, p = 0.03).\n"
      ]
    },
    {
      "cell_type": "markdown",
      "metadata": {
        "id": "F84Pcaqe7xj6"
      },
      "source": [
        "`16. Do you need to perform any transformations?`\n"
      ]
    },
    {
      "cell_type": "markdown",
      "metadata": {
        "id": "rjKt3hLO8AZ_"
      },
      "source": [
        "`Answer`\n",
        "\n",
        "I performed a boxcox transformation (lambda=0.3) on the dependent variable because I noticed that the Receptivity distribution is not normally distributed according to the Shapiro-Wilk test (S-W score = 0.98, p = 0.031 < (0.05)).  it was not normally distributed.\n",
        "\n",
        "As for the independent variables, I did not see a need to transform the data but decided to compensate using non-parametric tests."
      ]
    },
    {
      "cell_type": "markdown",
      "metadata": {
        "id": "RLtrV_009k87"
      },
      "source": [
        "`17. Is there homogeneity or heterogeneity of variance?`"
      ]
    },
    {
      "cell_type": "code",
      "execution_count": null,
      "metadata": {
        "id": "8_GJlswf9xTT",
        "colab": {
          "base_uri": "https://localhost:8080/"
        },
        "outputId": "f2d2b0e8-45cf-49dc-8035-5d58b25f5a40"
      },
      "outputs": [
        {
          "output_type": "stream",
          "name": "stdout",
          "text": [
            "Levene's test statistic: 12.752531940774608\n",
            "P-value: 0.00044934462474724294\n",
            "Reject the null hypothesis: Variances are not equal.\n"
          ]
        }
      ],
      "source": [
        "# Perform Levene's test\n",
        "scent = Df[Df['Scent'] == 1]['Receptivity']\n",
        "noscent = Df[Df['Scent'] == 2]['Receptivity']\n",
        "\n",
        "statistic, p_value = levene(scent, noscent, center='median')\n",
        "\n",
        "print(\"Levene's test statistic:\", statistic)\n",
        "print(\"P-value:\", p_value)\n",
        "\n",
        "if p_value < 0.05:\n",
        "  print(\"Reject the null hypothesis: Variances are not equal.\")\n",
        "else:\n",
        "  print(\"Fail to reject the null hypothesis: Variances are equal.\")"
      ]
    },
    {
      "cell_type": "markdown",
      "metadata": {
        "id": "gK7tkFX6G0-j"
      },
      "source": [
        "`Answer`\n",
        "\n",
        "By applying a Levene test using mean and median as centre, we transformed the Levene test to a Brown-Forscythe take into account the assumption of the effect of non-normality of the data. The resulting value is (Levene score=12.75, p = 0.0004 < (0.05)) which violates H0 considerably. The data is not homogeneous but heterogeneous."
      ]
    },
    {
      "cell_type": "markdown",
      "metadata": {
        "id": "6g6fuHri8RUU"
      },
      "source": [
        "`18. What is the mean score of receptivity in the experimental condition?\n",
        "`"
      ]
    },
    {
      "cell_type": "code",
      "execution_count": null,
      "metadata": {
        "id": "SjUuzHo28iJk",
        "colab": {
          "base_uri": "https://localhost:8080/"
        },
        "outputId": "94b5a20d-5126-4648-d987-631eea9f79bf"
      },
      "outputs": [
        {
          "output_type": "execute_result",
          "data": {
            "text/plain": [
              "3.8568834615384615"
            ]
          },
          "metadata": {},
          "execution_count": 45
        }
      ],
      "source": [
        "Df[Df['Scent'] == 1.0]['Receptivity'].mean()\n",
        "#print(\"Mean Receptivity in Experimental Condition:\", mean_receptivity_experimental)"
      ]
    },
    {
      "cell_type": "markdown",
      "metadata": {
        "id": "rO44K85Xo2jC"
      },
      "source": [
        "`Answer` 3.85"
      ]
    },
    {
      "cell_type": "markdown",
      "metadata": {
        "id": "DojFomGO9Fsd"
      },
      "source": [
        "`19. What is the mean score of receptivity in the control condition?`"
      ]
    },
    {
      "cell_type": "code",
      "execution_count": null,
      "metadata": {
        "id": "bwOmiMwM9X2V",
        "colab": {
          "base_uri": "https://localhost:8080/"
        },
        "outputId": "4dc159b2-81db-4ba6-99b1-0f68a40056c8"
      },
      "outputs": [
        {
          "output_type": "execute_result",
          "data": {
            "text/plain": [
              "3.6991735555555545"
            ]
          },
          "metadata": {},
          "execution_count": 46
        }
      ],
      "source": [
        "Df[Df['Scent'] == 2.0]['Receptivity'].mean()\n",
        "#print(\"Mean Receptivity in Experimental Condition:\", mean_receptivity_experimental)"
      ]
    },
    {
      "cell_type": "markdown",
      "metadata": {
        "id": "1RWYkXSrpEog"
      },
      "source": [
        "`Answer` 3.69"
      ]
    },
    {
      "cell_type": "markdown",
      "metadata": {
        "id": "nUWdWTNJpN-y"
      },
      "source": [
        "`20. What is your answer to RQ2? Report on the findings (no less than 150 words). Don’t forget to mention the assumptions.`"
      ]
    },
    {
      "cell_type": "code",
      "execution_count": null,
      "metadata": {
        "id": "p_Xiv7Bh9r8f",
        "colab": {
          "base_uri": "https://localhost:8080/"
        },
        "outputId": "85bc7b85-1f53-48f3-f5fa-1164eea03383"
      },
      "outputs": [
        {
          "output_type": "stream",
          "name": "stdout",
          "text": [
            "One-way ANOVA results:\n",
            "F-statistic: 3.5460159014207693\n",
            "P-value: 0.06120069477592889\n",
            "Fail to reject the null hypothesis: No significant difference between groups.\n",
            "Degrees of freedom (between): 1\n",
            "Degrees of freedom (within): 192\n",
            "Eta-squared (effect size): 0.0051813471502590676\n"
          ]
        }
      ],
      "source": [
        "spray = Df[Df['Scent'] == 1]['Receptivity_T']\n",
        "nospray = Df[Df['Scent'] == 2]['Receptivity_T']\n",
        "\n",
        "# Assuming 'Df' is your DataFrame and 'Receptivity_T' is the transformed receptivity column\n",
        "grouped_data = [spray, nospray]\n",
        "\n",
        "# Perform one-way ANOVA\n",
        "f_statistic, p_value = f_oneway(*grouped_data)\n",
        "\n",
        "print(\"One-way ANOVA results:\")\n",
        "print(\"F-statistic:\", f_statistic)\n",
        "print(\"P-value:\", p_value)\n",
        "\n",
        "if p_value < 0.05:\n",
        "  print(\"Reject the null hypothesis: There is a significant difference between groups.\")\n",
        "else:\n",
        "  print(\"Fail to reject the null hypothesis: No significant difference between groups.\")\n",
        "\n",
        "# Calculate degrees of freedom\n",
        "df_between = len(grouped_data) - 1\n",
        "df_within = len(Df['Receptivity_T']) - len(grouped_data)\n",
        "\n",
        "# Calculate eta-squared (effect size)\n",
        "ss_between = df_between * f_statistic / df_within\n",
        "eta_squared = ss_between / (ss_between + f_statistic)\n",
        "\n",
        "print(\"Degrees of freedom (between):\", df_between)\n",
        "print(\"Degrees of freedom (within):\", df_within)\n",
        "print(\"Eta-squared (effect size):\", eta_squared)"
      ]
    },
    {
      "cell_type": "code",
      "execution_count": null,
      "metadata": {
        "id": "VaNnZSec7D86",
        "colab": {
          "base_uri": "https://localhost:8080/"
        },
        "outputId": "65b87062-33e6-41d2-d7c9-a81a4d6ee7df"
      },
      "outputs": [
        {
          "output_type": "stream",
          "name": "stdout",
          "text": [
            "Welch's ANOVA results:\n",
            "  Source  ddof1       ddof2         F     p-unc       np2\n",
            "0  Scent      1  185.622643  3.716648  0.055399  0.018134\n"
          ]
        }
      ],
      "source": [
        "# Perform Welch's ANOVA\n",
        "welch_result = pg.welch_anova(data=Df, dv='Receptivity_T', between='Scent')\n",
        "\n",
        "print(\"Welch's ANOVA results:\")\n",
        "print(welch_result)"
      ]
    },
    {
      "cell_type": "markdown",
      "metadata": {
        "id": "6TRPyfDyptaq"
      },
      "source": [
        "VARIABLE DESCRIPTION\n",
        "\n",
        "The dependent variable is the 'Receptivity' Y factor whose values are continuous. It describes the degree of willingness a prospective partner is willing to accept the proposing party.\n",
        "\n",
        "The independent variable is the Scent factor whose values are discrete and binary. It has values, 'spray' X1 and 'no-spray' X2 which describes the method used by the proposing partner to attract his mate.\n",
        "\n",
        "ASSUMPTIONS\n",
        "\n",
        "Normality:- None of the variables involved exhibit a normal distribution. The Receptivity variable has a skewed distribution, as stated in the previous research. But the cells X1 and X2 exhibit a bimodal distribution, which is an apparent splitting of the mean. Their respective shapiro values are X1 = (S-W = 0.97, 0.036), X2 = (S-W = 0.97, p = 0.03). Notice their similarity in values, and they show no skewness.\n",
        "\n",
        "Outliers:- Three methods were applied to test for outliers: violinplot, boxplots, and z-scores. The results were unanimously negative for outliers for Scent groups and Receptivity. z < 3SD.\n",
        "\n",
        "Homogeneity: The Levene test was chosen to test for homogeneity of variance with median as the centre (Brown-Forsythe) because of the lack of normality. The result is that H0 failed, (L = 12.7, p = 0.00044). This means that we accept H1. The variance is heteroscedastic.\n",
        "\n",
        "Independence: Like the previous research, I used the same parametric and non-parametric tests; Levene and Mann-Whitney U test. The results were similar in that the p-value = 0.06 > (0.05). This means that H0 is true. The mean between both groups is not significantly different. This also implies that even the bimodality of the distribution is similar.\n",
        "\n",
        "ANOVA\n",
        "\n",
        "I reached the resolution that the appearance of the normality of the distribution didn't meet expectations enough for me to use a One-Way ANOVA. so I tried a Welch ANOVA first and got the results (dof = 185.6, F = 3.71, p = 0.055, np2 = 0.005). But I tried the one-way ANOVA to comparison and confirmation purposes. The outcome was similar (dof = 192, F = 3.54, p = 0.06, np2 = 0.018).\n",
        "\n",
        "CONCLUSION\n",
        "\n",
        "I noticed that both ANOVA tests had values so close to the common alpha. Nonetheless I still accept it to be above the common alpha and subsequently go with H0. There is virtually little to no difference between the mean of both groups in the scent data. If we look at the effect size from the Welch ANOVA, we see a 1.8% difference in variation.\n",
        "\n",
        "The answer to research question 2 is that based on my analysis, scent has little to no effect on receptivity ."
      ]
    },
    {
      "cell_type": "markdown",
      "metadata": {
        "id": "iUIV4JHe9cQD"
      },
      "source": [
        "###**RQ3: Is there any evidence to suggest that the impact of the androstadienone spray on attractiveness effect will be enhanced by the pick-up approach?**\n",
        "---"
      ]
    },
    {
      "cell_type": "markdown",
      "metadata": {
        "id": "ipf6fbSF-jPx"
      },
      "source": [
        "`21. What is your dependent variable?`"
      ]
    },
    {
      "cell_type": "markdown",
      "metadata": {
        "id": "eRqVelIZH8zG"
      },
      "source": [
        "Receptivity is the dependent variable. The main research question is about it. The goal of every pick up is to get a mate. Certain factors determine how the recepeint will respond. The factors involved are the independent variables."
      ]
    },
    {
      "cell_type": "markdown",
      "metadata": {
        "id": "61nUMjJfIGBH"
      },
      "source": [
        "`22. What is(are) your independent variable(s)?`"
      ]
    },
    {
      "cell_type": "markdown",
      "metadata": {
        "id": "kBEGFjjkITGs"
      },
      "source": [
        "Scent and PickUp are the independent variables because according to the research question, they are being combined together to influence Receptivity."
      ]
    },
    {
      "cell_type": "markdown",
      "metadata": {
        "id": "6O77PrkmIc0c"
      },
      "source": [
        "`23. Are the scores in each cell independent?`"
      ]
    },
    {
      "cell_type": "code",
      "execution_count": null,
      "metadata": {
        "id": "_PEUAiS9SuJr",
        "colab": {
          "base_uri": "https://localhost:8080/"
        },
        "outputId": "12ba7ca4-0db5-4626-9605-6a6e1eddb660"
      },
      "outputs": [
        {
          "output_type": "stream",
          "name": "stdout",
          "text": [
            "Chi-Square statistic: 1.288518157580657\n",
            "P-value: 0.2563212150101907\n",
            "Degrees of freedom: 1\n"
          ]
        }
      ],
      "source": [
        "# Create a contingency table\n",
        "contingency_table = pd.crosstab(Df['Scent'], Df['PickUp'])\n",
        "\n",
        "# Perform the Chi-Square test\n",
        "chi2_stat, p_value, dof, expected = chi2_contingency(contingency_table)\n",
        "\n",
        "# Print the results\n",
        "print(\"Chi-Square statistic:\", chi2_stat)\n",
        "print(\"P-value:\", p_value)\n",
        "print(\"Degrees of freedom:\", dof)\n"
      ]
    },
    {
      "cell_type": "markdown",
      "metadata": {
        "id": "NqTMKw6EVxzW"
      },
      "source": [
        "`Answer`\n",
        "\n",
        "I used a chi-square test for independence to generalize the irelationship between the PickUp and Scent groups. The results indicate that the Chi-Square statistic is 1.2885, the p-value is 0.2563. This suggests that there is no significant association between the \"Scent\" and \"PickUp\" variables in relation to \"Receptivity.\"\n",
        "\n",
        "In other words, based on this analysis, it appears that the distribution of \"Receptivity\" scores is not significantly influenced by the combination of \"Scent\" and \"PickUp\" variables."
      ]
    },
    {
      "cell_type": "markdown",
      "metadata": {
        "id": "nutyOhPSWGqy"
      },
      "source": [
        "`24. Are there any significant outliers?`"
      ]
    },
    {
      "cell_type": "markdown",
      "metadata": {
        "id": "VSb1g3OUXXTZ"
      },
      "source": [
        "In the previous research questions, I used t-tests and U-tests to compare mean independence between both groups. For the PickUp group, there was a statistically significant difference, but for the Scent group, significance of independence was not found. This also impacted the ANOVA in almost opposite ways."
      ]
    },
    {
      "cell_type": "code",
      "execution_count": null,
      "metadata": {
        "id": "SDTSnXpDM5zI",
        "colab": {
          "base_uri": "https://localhost:8080/",
          "height": 607
        },
        "outputId": "82a9b105-2442-459f-c89c-7b4ddf4945d6"
      },
      "outputs": [
        {
          "output_type": "display_data",
          "data": {
            "text/plain": [
              "<Figure size 1000x600 with 2 Axes>"
            ],
            "image/png": "[encoded data removed]"
          },
          "metadata": {}
        }
      ],
      "source": [
        "# Create bar plots for main effects\n",
        "plt.figure(figsize=(10, 6))\n",
        "plt.subplot(1, 2, 1)\n",
        "sb.barplot(x='PickUp', y='Receptivity', data=Df)\n",
        "plt.title(\"Main Effect of PickUp on Receptivity\")\n",
        "\n",
        "plt.subplot(1, 2, 2)\n",
        "sb.barplot(x='Scent', y='Receptivity', data=Df)\n",
        "plt.title(\"Main Effect of Scent on Receptivity\")\n",
        "\n",
        "plt.tight_layout()\n",
        "plt.show()\n"
      ]
    },
    {
      "cell_type": "code",
      "execution_count": null,
      "metadata": {
        "id": "0NStdhXhWXpB",
        "colab": {
          "base_uri": "https://localhost:8080/"
        },
        "outputId": "34d89b83-7510-40af-fb28-e966f9697acc"
      },
      "outputs": [
        {
          "output_type": "stream",
          "name": "stdout",
          "text": [
            "Identified Outliers:\n",
            "Empty DataFrame\n",
            "Columns: [PickUp, Scent, Receptivity, Gender, Age, Ethnicity, YearInSchool, Receptivity_T, Z_Score]\n",
            "Index: []\n"
          ]
        }
      ],
      "source": [
        "mean_receptivity = Df['Receptivity'].mean()\n",
        "std_receptivity = Df['Receptivity'].std()\n",
        "\n",
        "# Calculate z-scores for 'Receptivity'\n",
        "Df['Z_Score'] = (Df['Receptivity'] - mean_receptivity) / std_receptivity\n",
        "\n",
        "# Set the z-score threshold for identifying outliers (e.g., 3)\n",
        "z_score_threshold = 3\n",
        "\n",
        "# Identify outliers based on z-scores\n",
        "outliers = Df[abs(Df['Z_Score']) > z_score_threshold]\n",
        "\n",
        "print(\"Identified Outliers:\")\n",
        "print(outliers)\n"
      ]
    },
    {
      "cell_type": "markdown",
      "metadata": {
        "id": "poU-V0wRrMi1"
      },
      "source": [
        "`Answer`\n",
        "\n",
        "I drew violinplots, boxplots and calculated z-score and found no datapoint to exceed the 75th quartile or 3 standard deviations, z > 3SD from the mean."
      ]
    },
    {
      "cell_type": "markdown",
      "metadata": {
        "id": "O92feuslW_Vr"
      },
      "source": [
        "`25. How is your dependent variable distributed in each cell?`"
      ]
    },
    {
      "cell_type": "code",
      "execution_count": null,
      "metadata": {
        "id": "Qoa4TTka4Fqq",
        "colab": {
          "base_uri": "https://localhost:8080/",
          "height": 1000
        },
        "outputId": "4f8f613f-c222-431c-9ab3-fb7517e0c86b"
      },
      "outputs": [
        {
          "output_type": "display_data",
          "data": {
            "text/plain": [
              "<Figure size 1200x600 with 2 Axes>"
            ],
            "image/png": "[encoded data removed]"
          },
          "metadata": {}
        },
        {
          "output_type": "display_data",
          "data": {
            "text/plain": [
              "<Figure size 1200x600 with 2 Axes>"
            ],
            "image/png": "[encoded data removed]"
          },
          "metadata": {}
        }
      ],
      "source": [
        "# Create subplots for the boxplots\n",
        "fig, axes = plt.subplots(nrows=1, ncols=2, figsize=(12, 6))\n",
        "\n",
        "# Boxplot for Receptivity against PickUp\n",
        "sb.boxplot(x='PickUp', y='Receptivity', data=Df, ax=axes[0])\n",
        "axes[0].set_title('Boxplot of Receptivity against PickUp')\n",
        "\n",
        "# Boxplot for Receptivity against Scent\n",
        "sb.boxplot(x='Scent', y='Receptivity', data=Df, ax=axes[1])\n",
        "axes[1].set_title('Boxplot of Receptivity against Scent')\n",
        "\n",
        "plt.tight_layout()\n",
        "plt.show()\n",
        "\n",
        "# Create subplots for the violin plots\n",
        "fig, axes = plt.subplots(nrows=1, ncols=2, figsize=(12, 6))\n",
        "\n",
        "# Violinplot for Receptivity against PickUp\n",
        "sb.violinplot(x='PickUp', y='Receptivity', data=Df, ax=axes[0])\n",
        "axes[0].set_title('Violinplot of Receptivity against PickUp')\n",
        "\n",
        "# Violinplot for Receptivity against Scent\n",
        "sb.violinplot(x='Scent', y='Receptivity', data=Df, ax=axes[1])\n",
        "axes[1].set_title('Violinplot of Receptivity against Scent')\n",
        "\n",
        "plt.tight_layout()\n",
        "plt.show()\n"
      ]
    },
    {
      "cell_type": "markdown",
      "metadata": {
        "id": "A8MKdCo2XJae"
      },
      "source": [
        "`Answer`\n",
        "\n",
        "For the PickUp group, the distribution is skewed for the cute-direct group, but normal for the direct group according to the violinplot.\n",
        "\n",
        "For the Scent group, both cells exhibit bimodal distribution according to the violinplot. Information about their normality value is in the previous research. Only the direct-direct group of the pickUp variable passed the normality test."
      ]
    },
    {
      "cell_type": "markdown",
      "metadata": {
        "id": "xhRh51K8gFIA"
      },
      "source": [
        "`26. Do you need to perform any transformations?`"
      ]
    },
    {
      "cell_type": "markdown",
      "metadata": {
        "id": "OEnBSwGAidv9"
      },
      "source": [
        "I transformed the Receptivity variable, and I used a non-parametric test on the independent groups."
      ]
    },
    {
      "cell_type": "markdown",
      "metadata": {
        "id": "0YfRYbPbjK3y"
      },
      "source": [
        "`27. Is there homogeneity or heterogeneity of variance?`"
      ]
    },
    {
      "cell_type": "code",
      "execution_count": null,
      "metadata": {
        "id": "vyTcSiyvmrbl",
        "colab": {
          "base_uri": "https://localhost:8080/"
        },
        "outputId": "0cb169cb-8d1e-49ec-ba14-b5ebb1b34fb5"
      },
      "outputs": [
        {
          "output_type": "stream",
          "name": "stdout",
          "text": [
            "Levene's test statistic: 4.756220900015777\n",
            "P-value: 0.0028671233664495843\n",
            "Reject the null hypothesis: Variances are not equal.\n"
          ]
        }
      ],
      "source": [
        "# Perform Levene's test\n",
        "scent = Df[Df['Scent'] == 1]['Receptivity_T']\n",
        "noscent = Df[Df['Scent'] == 2]['Receptivity_T']\n",
        "\n",
        "cute_direct = Df[Df['PickUp'] == 1]['Receptivity_T']\n",
        "direct_direct = Df[Df['PickUp'] == 2]['Receptivity_T']\n",
        "\n",
        "statistic, p_value = levene(scent, noscent, cute_direct, direct_direct, center='median')\n",
        "\n",
        "print(\"Levene's test statistic:\", statistic)\n",
        "print(\"P-value:\", p_value)\n",
        "\n",
        "if p_value < 0.05:\n",
        "  print(\"Reject the null hypothesis: Variances are not equal.\")\n",
        "else:\n",
        "  print(\"Fail to reject the null hypothesis: Variances are equal.\")"
      ]
    },
    {
      "cell_type": "markdown",
      "metadata": {
        "id": "W5NxmavIk3Gs"
      },
      "source": [
        "I carried out a levene test on all the groups involved and arrived at the score (L = 4.75, p = 0.002). H0 fails. Thus, H1 is accepted. The variance distribution is unequal.\n"
      ]
    },
    {
      "cell_type": "markdown",
      "metadata": {
        "id": "EsJXLQi_6-aY"
      },
      "source": [
        "`28. Is there any interaction between the two factors?`"
      ]
    },
    {
      "cell_type": "markdown",
      "metadata": {
        "id": "Cmw4Ou4r7aeh"
      },
      "source": [
        " `Answer`\n",
        "\n",
        "The p-value associated with PickUp and Scent in the ANOVA test is 0.0039 < 0.05. This means that H1 triumphs over H0 for the interaction between the two factors. It also means that there is asymmetry on the effects of PickUp and Scent and Receptivity for all levels. I conclude that the impact of the androstadienone spray on attractiveness effect is indeed influenced by the pick-up approach, and this relationship is statistically significant. I drew the interaction plot for confirmation. There was a crossover between the PickUp and Scent points.\n"
      ]
    },
    {
      "cell_type": "markdown",
      "metadata": {
        "id": "5HKPtcvj72ie"
      },
      "source": [
        "The p-value associated with the interaction term \"C(PickUp):C(Scent)\" is **0.003923**. In hypothesis testing, if the p-value is below the chosen significance level (often denoted as α or alpha, typically 0.05), it suggests that there is evidence to reject the null hypothesis and conclude that the effect is statistically significant.\n",
        "\n",
        "In this case, since the p-value (0.003923) is less than 0.05, it indicates that the interaction effect between PickUp and Scent is statistically significant. This means that the effect of PickUp on Receptivity is not the same for all levels of Scent, and the effect of Scent on Receptivity is not the same for all levels of PickUp. In other words, there is evidence to suggest that the impact of the androstadienone spray on attractiveness effect is indeed influenced by the pick-up approach, and this relationship is statistically significant."
      ]
    },
    {
      "cell_type": "code",
      "execution_count": null,
      "metadata": {
        "id": "dFq7PpNXDtg1",
        "colab": {
          "base_uri": "https://localhost:8080/",
          "height": 651
        },
        "outputId": "eec8c23d-8fd6-4dd2-825a-d4a9067446bd"
      },
      "outputs": [
        {
          "output_type": "stream",
          "name": "stderr",
          "text": [
            "<ipython-input-54-fe6e8a295b3c>:3: FutureWarning: \n",
            "\n",
            "The `ci` parameter is deprecated. Use `errorbar='sd'` for the same effect.\n",
            "\n",
            "  sb.pointplot(data=Df, x=\"PickUp\", y=\"Receptivity\", hue=\"Scent\", ci=\"sd\")\n"
          ]
        },
        {
          "output_type": "display_data",
          "data": {
            "text/plain": [
              "<Figure size 1000x600 with 1 Axes>"
            ],
            "image/png": "[encoded data removed]"
          },
          "metadata": {}
        }
      ],
      "source": [
        "# Create an interaction plot using seaborn\n",
        "plt.figure(figsize=(10, 6))\n",
        "sb.pointplot(data=Df, x=\"PickUp\", y=\"Receptivity\", hue=\"Scent\", ci=\"sd\")\n",
        "\n",
        "# Set labels and title\n",
        "plt.xlabel(\"PickUp\")\n",
        "plt.ylabel(\"Receptivity\")\n",
        "plt.title(\"Interaction Plot of PickUp and Scent on Receptivity\")\n",
        "\n",
        "# Show the plot\n",
        "plt.legend(title=\"Scent\")\n",
        "plt.show()\n"
      ]
    },
    {
      "cell_type": "markdown",
      "metadata": {
        "id": "QvhcQu7w96kT"
      },
      "source": [
        "`29. What is your answer to RQ3? Report on the findings (no less than 200 words). Don’t forget to mention the assumptions. You can use 2 instead of 2.`\n"
      ]
    },
    {
      "cell_type": "code",
      "execution_count": null,
      "metadata": {
        "id": "y6w7v9h1I9HO",
        "colab": {
          "base_uri": "https://localhost:8080/"
        },
        "outputId": "d3465d0a-cdb0-4575-8e98-a857aa14bfcb"
      },
      "outputs": [
        {
          "output_type": "stream",
          "name": "stdout",
          "text": [
            "                      sum_sq     df         F    PR(>F)\n",
            "C(PickUp)           0.432769    1.0  9.669759  0.002162\n",
            "C(Scent)            0.224376    1.0  5.013454  0.026311\n",
            "C(PickUp):C(Scent)  0.381603    1.0  8.526517  0.003923\n",
            "Residual            8.503424  190.0       NaN       NaN\n"
          ]
        }
      ],
      "source": [
        "# Perform two-way ANOVA\n",
        "model = ols('Receptivity_T ~ C(PickUp) * C(Scent)', data=Df).fit()\n",
        "anova_table = sm.stats.anova_lm(model, typ=2)\n",
        "\n",
        "print(anova_table)"
      ]
    },
    {
      "cell_type": "markdown",
      "metadata": {
        "id": "HXYFVZNn-FZg"
      },
      "source": [
        "VARIABLE DESCRIPTION\n",
        "\n",
        "The dependent variable is the 'Receptivity' Y feature whose values are continuous. It describes the degree of willingness a prospective partner is willing to accept the proposing party.\n",
        "\n",
        "The independent variables are the PickUp and Scent variables influence receptivity.\n",
        "\n",
        "ASSUMPTIONS\n",
        "\n",
        "Normality:- Generally, the p-values of both PickUp and Normality are 20 orders of magnitude less than the standard alpha, 0.05 according to the Shapiro test. They are not normally distributed. Although as seen in the previous research questions, none of the cells pass the normality test except the direct-direct group in the PickUp variable\n",
        "\n",
        "Outliers:- Three methods were applied to test for outliers: violinplot, boxplots, and z-scores. The results were unanimously negative for outliers for PickUp groups and Receptivity. z < 3SD.\n",
        "\n",
        "Homogeneity: The Levene (Brown-Forsythe) test was chosen to test for homogeneity of variance for all the cells together. The result was (L = 4.75, p = 0.002 < (0.05)).  I carried out a levene test on all the groups involved and arrived at the score (L = 4.75, p = 0.002). Thus we accept H1 and reject H0. The variance is herteroscedatic or unequal.\n",
        "\n",
        "Independence: I used a chi-square test for independence to generalize the irelationship between the PickUp and Scent groups. The results indicate that the Chi-Square statistic is 1.2885, the p-value is 0.2563. This suggests that there is no significant association between the \"Scent\" and \"PickUp\" variables in relation to \"Receptivity.\"\n",
        "\n",
        "ANALYSIS OF VARIANCE\n",
        "\n",
        "Finally, I decided to apply the two-way ANOVA to the data and the result:\n",
        "Main effect:- The main effect of PickUp is (F = 9.67, p = 0.0002). This indicates that there is a significant difference in the means of the Receptivity_T variable between the different levels of the PickUp factor. The main effect of the Scent variable is also statistically significant (F = 5.01, p = 0.026). This suggests that there is a significant difference in the means of the Receptivity_T variable between the different levels of the Scent factor.\n",
        "Interaction Effect: The interaction effect between PickUp and Scent is statistically significant (F = 8.57, 0.0039). This indicates that the impact of PickUp on Receptivity_T is not consistent across different levels of Scent, and vice versa. In other words, there is a combined effect of PickUp and Scent on the Receptivity_T variable.\n",
        "Effect Size:- I use partial eta-squared to compute effect size. The effect size for the interaction factor is 0.043 or 4.3%. PickUp and Scent have effect sizes of 0.048 and 0.025 respectively.\n",
        "\n",
        "CONCLUSION\n",
        "\n",
        "The p-values of our two-way ANOVA, show that scent has an impact on the PickUp approach, but the effect sizes of the interactions show that to be of medium impact.\n",
        "\n",
        "The answer to this research question is that spray will lead to more relationship receptivity.\n"
      ]
    },
    {
      "cell_type": "code",
      "execution_count": null,
      "metadata": {
        "id": "U3rbyhosAZxh",
        "colab": {
          "base_uri": "https://localhost:8080/"
        },
        "outputId": "917d3c77-64ff-4b09-81cd-fbad5008a370"
      },
      "outputs": [
        {
          "output_type": "stream",
          "name": "stdout",
          "text": [
            "Shapiro score 0.6156524419784546\n",
            "p-value 1.2224234227641331e-20\n",
            "Shapiro score 0.6345351934432983\n",
            "p-value 3.5819844736258444e-20\n"
          ]
        }
      ],
      "source": [
        "score, p = shapiro(Df['PickUp'])\n",
        "print('Shapiro score', score)\n",
        "print('p-value', p)\n",
        "\n",
        "score, p = shapiro(Df['Scent'])\n",
        "print('Shapiro score', score)\n",
        "print('p-value', p)"
      ]
    },
    {
      "cell_type": "markdown",
      "metadata": {
        "id": "M-jdpKMcAzPv"
      },
      "source": [
        "`30. Answer the main research question by taking the above findings into account (no less than 200 words). Don’t forget to mention the assumptions.`"
      ]
    },
    {
      "cell_type": "markdown",
      "metadata": {
        "id": "XVYSPZQVMglh"
      },
      "source": [
        "RESEARCH QUESTION 1\n",
        "\n",
        "The skewness of the cute-direct approach has an impact as it pulled the mean toward increased receptivity unlike the direct-direct approach. This is also confirmed in the result of the t-test. It is possible that the cute-direct also caused the skewness and non-normality of the Receptivity distribution. It is not unexpected from the t-test that the ANOVA test will favour the cute-direct approach even in the absence of outliers, albeit with moderate effect size. Whatever the case, the cute-direct approach triumphed.\n",
        "\n",
        "RESEARCH QUESTION 2\n",
        "\n",
        "The distribution of both groups in the Scent factor does not satisfy the requirements for a normal distribution. They tend to follow a bimodal curve, which somewhat indicates a combination of two means entending to the other quartiles, probably caused by the other factors not discussed within the scope of this research. It is likely that it had some influence on the t-statistic which resulted in no difference between the means of either group. As a result, it is assumed that scent (on its own) does not have a meaningful effect on a proponent's approach to his/her desired partner.\n",
        "\n",
        "RESEARCH QUESTION 3\n",
        "\n",
        "Since it seemed from the outcom of RQ2 that scent by itself does not indicate an increase or decrease in receptiveness of partners perhaps due to other unnamed conditions or deviations from normality or homoscedasticity, it may have an indirect effect on the approach thereby impacting the receptiveness. The results from the two-way ANOVA tell us that there is significant link or power scent may have on the approach. As a guess, a good spray should increase the receptiveness of both sides but it will showed in or analysis to be more effective on the cute-direct approach albeit not with the strongest effect size.\n",
        "\n",
        "OTHER FACTORS AND CONCLUSION\n",
        "\n",
        "This analysis is limited to three features in the dataset: receptivity which is the dependent variable, and pick up line and perfume scent which are the predictors. In real life we know that other factors influence receptivity. Some of them are part of the dataset. Gender, age, race, ethnicity could have a linear orn non-linear effect on receptivity to varying degrees. if we do some tests and we see that age and race has way more power than scent or pickup, then we will arrive at values that will imply that scent and pickup approaches don't matter statistically. But the scope of our analysis involve immediate approach, and basic things like scent and pickup approach generate first impressions regardless of the background and prejudices of the potential couples involved.\n",
        "\n",
        "In conclusion, after addressing all the assumptions in the dataset as required by the research including normality, homogeneity, outliers, and independence, and taking measures to mitigate their effect through transformations and non-parametric tests, I believe that scent has a role in increasing the receptiveness of a potential partner, and applying spray and using the cutedirect increases the proponents chances of attracting a date."
      ]
    },
    {
      "cell_type": "code",
      "execution_count": null,
      "metadata": {
        "id": "67qyI5FQfqT5",
        "colab": {
          "base_uri": "https://localhost:8080/",
          "height": 206
        },
        "outputId": "c73fce61-d7bc-4ced-ae04-98a5c8497a4d"
      },
      "outputs": [
        {
          "output_type": "execute_result",
          "data": {
            "text/plain": [
              "   PickUp  Scent  Receptivity  Gender   Age  Ethnicity  YearInSchool  \\\n",
              "0     1.0    2.0      3.25424     2.0  21.0        4.0           2.0   \n",
              "1     1.0    1.0      4.43760     2.0  19.0        4.0           3.0   \n",
              "2     1.0    1.0      4.43760     2.0  21.0        4.0           1.0   \n",
              "3     1.0    1.0      3.91988     2.0  19.0        4.0           3.0   \n",
              "4     2.0    2.0      3.99384     2.0  20.0        1.0           2.0   \n",
              "\n",
              "   Receptivity_T   Z_Score  \n",
              "0       1.454963 -0.997263  \n",
              "1       1.945816  1.231572  \n",
              "2       1.945816  1.231572  \n",
              "3       1.743193  0.256456  \n",
              "4       1.773175  0.395759  "
            ],
            "text/html": [
              "\n",
              "  <div id=\"df-cc89cc7e-48f9-4335-a65e-6b6400e6520e\" class=\"colab-df-container\">\n",
              "    <div>\n",
              "<style scoped>\n",
              "    .dataframe tbody tr th:only-of-type {\n",
              "        vertical-align: middle;\n",
              "    }\n",
              "\n",
              "    .dataframe tbody tr th {\n",
              "        vertical-align: top;\n",
              "    }\n",
              "\n",
              "    .dataframe thead th {\n",
              "        text-align: right;\n",
              "    }\n",
              "</style>\n",
              "<table border=\"1\" class=\"dataframe\">\n",
              "  <thead>\n",
              "    <tr style=\"text-align: right;\">\n",
              "      <th></th>\n",
              "      <th>PickUp</th>\n",
              "      <th>Scent</th>\n",
              "      <th>Receptivity</th>\n",
              "      <th>Gender</th>\n",
              "      <th>Age</th>\n",
              "      <th>Ethnicity</th>\n",
              "      <th>YearInSchool</th>\n",
              "      <th>Receptivity_T</th>\n",
              "      <th>Z_Score</th>\n",
              "    </tr>\n",
              "  </thead>\n",
              "  <tbody>\n",
              "    <tr>\n",
              "      <th>0</th>\n",
              "      <td>1.0</td>\n",
              "      <td>2.0</td>\n",
              "      <td>3.25424</td>\n",
              "      <td>2.0</td>\n",
              "      <td>21.0</td>\n",
              "      <td>4.0</td>\n",
              "      <td>2.0</td>\n",
              "      <td>1.454963</td>\n",
              "      <td>-0.997263</td>\n",
              "    </tr>\n",
              "    <tr>\n",
              "      <th>1</th>\n",
              "      <td>1.0</td>\n",
              "      <td>1.0</td>\n",
              "      <td>4.43760</td>\n",
              "      <td>2.0</td>\n",
              "      <td>19.0</td>\n",
              "      <td>4.0</td>\n",
              "      <td>3.0</td>\n",
              "      <td>1.945816</td>\n",
              "      <td>1.231572</td>\n",
              "    </tr>\n",
              "    <tr>\n",
              "      <th>2</th>\n",
              "      <td>1.0</td>\n",
              "      <td>1.0</td>\n",
              "      <td>4.43760</td>\n",
              "      <td>2.0</td>\n",
              "      <td>21.0</td>\n",
              "      <td>4.0</td>\n",
              "      <td>1.0</td>\n",
              "      <td>1.945816</td>\n",
              "      <td>1.231572</td>\n",
              "    </tr>\n",
              "    <tr>\n",
              "      <th>3</th>\n",
              "      <td>1.0</td>\n",
              "      <td>1.0</td>\n",
              "      <td>3.91988</td>\n",
              "      <td>2.0</td>\n",
              "      <td>19.0</td>\n",
              "      <td>4.0</td>\n",
              "      <td>3.0</td>\n",
              "      <td>1.743193</td>\n",
              "      <td>0.256456</td>\n",
              "    </tr>\n",
              "    <tr>\n",
              "      <th>4</th>\n",
              "      <td>2.0</td>\n",
              "      <td>2.0</td>\n",
              "      <td>3.99384</td>\n",
              "      <td>2.0</td>\n",
              "      <td>20.0</td>\n",
              "      <td>1.0</td>\n",
              "      <td>2.0</td>\n",
              "      <td>1.773175</td>\n",
              "      <td>0.395759</td>\n",
              "    </tr>\n",
              "  </tbody>\n",
              "</table>\n",
              "</div>\n",
              "    <div class=\"colab-df-buttons\">\n",
              "\n",
              "  <div class=\"colab-df-container\">\n",
              "    <button class=\"colab-df-convert\" onclick=\"convertToInteractive('df-cc89cc7e-48f9-4335-a65e-6b6400e6520e')\"\n",
              "            title=\"Convert this dataframe to an interactive table.\"\n",
              "            style=\"display:none;\">\n",
              "\n",
              "  <svg xmlns=\"http://www.w3.org/2000/svg\" height=\"24px\" viewBox=\"0 -960 960 960\">\n",
              "    <path d=\"M120-120v-720h720v720H120Zm60-500h600v-160H180v160Zm220 220h160v-160H400v160Zm0 220h160v-160H400v160ZM180-400h160v-160H180v160Zm440 0h160v-160H620v160ZM180-180h160v-160H180v160Zm440 0h160v-160H620v160Z\"/>\n",
              "  </svg>\n",
              "    </button>\n",
              "\n",
              "  <style>\n",
              "    .colab-df-container {\n",
              "      display:flex;\n",
              "      gap: 12px;\n",
              "    }\n",
              "\n",
              "    .colab-df-convert {\n",
              "      background-color: #E8F0FE;\n",
              "      border: none;\n",
              "      border-radius: 50%;\n",
              "      cursor: pointer;\n",
              "      display: none;\n",
              "      fill: #1967D2;\n",
              "      height: 32px;\n",
              "      padding: 0 0 0 0;\n",
              "      width: 32px;\n",
              "    }\n",
              "\n",
              "    .colab-df-convert:hover {\n",
              "      background-color: #E2EBFA;\n",
              "      box-shadow: 0px 1px 2px rgba(60, 64, 67, 0.3), 0px 1px 3px 1px rgba(60, 64, 67, 0.15);\n",
              "      fill: #174EA6;\n",
              "    }\n",
              "\n",
              "    .colab-df-buttons div {\n",
              "      margin-bottom: 4px;\n",
              "    }\n",
              "\n",
              "    [theme=dark] .colab-df-convert {\n",
              "      background-color: #3B4455;\n",
              "      fill: #D2E3FC;\n",
              "    }\n",
              "\n",
              "    [theme=dark] .colab-df-convert:hover {\n",
              "      background-color: #434B5C;\n",
              "      box-shadow: 0px 1px 3px 1px rgba(0, 0, 0, 0.15);\n",
              "      filter: drop-shadow(0px 1px 2px rgba(0, 0, 0, 0.3));\n",
              "      fill: #FFFFFF;\n",
              "    }\n",
              "  </style>\n",
              "\n",
              "    <script>\n",
              "      const buttonEl =\n",
              "        document.querySelector('#df-cc89cc7e-48f9-4335-a65e-6b6400e6520e button.colab-df-convert');\n",
              "      buttonEl.style.display =\n",
              "        google.colab.kernel.accessAllowed ? 'block' : 'none';\n",
              "\n",
              "      async function convertToInteractive(key) {\n",
              "        const element = document.querySelector('#df-cc89cc7e-48f9-4335-a65e-6b6400e6520e');\n",
              "        const dataTable =\n",
              "          await google.colab.kernel.invokeFunction('convertToInteractive',\n",
              "                                                    [key], {});\n",
              "        if (!dataTable) return;\n",
              "\n",
              "        const docLinkHtml = 'Like what you see? Visit the ' +\n",
              "          '<a target=\"_blank\" href=https://colab.research.google.com/notebooks/data_table.ipynb>data table notebook</a>'\n",
              "          + ' to learn more about interactive tables.';\n",
              "        element.innerHTML = '';\n",
              "        dataTable['output_type'] = 'display_data';\n",
              "        await google.colab.output.renderOutput(dataTable, element);\n",
              "        const docLink = document.createElement('div');\n",
              "        docLink.innerHTML = docLinkHtml;\n",
              "        element.appendChild(docLink);\n",
              "      }\n",
              "    </script>\n",
              "  </div>\n",
              "\n",
              "\n",
              "<div id=\"df-01d13151-e0c1-4edb-aa46-a67099bfc637\">\n",
              "  <button class=\"colab-df-quickchart\" onclick=\"quickchart('df-01d13151-e0c1-4edb-aa46-a67099bfc637')\"\n",
              "            title=\"Suggest charts.\"\n",
              "            style=\"display:none;\">\n",
              "\n",
              "<svg xmlns=\"http://www.w3.org/2000/svg\" height=\"24px\"viewBox=\"0 0 24 24\"\n",
              "     width=\"24px\">\n",
              "    <g>\n",
              "        <path d=\"M19 3H5c-1.1 0-2 .9-2 2v14c0 1.1.9 2 2 2h14c1.1 0 2-.9 2-2V5c0-1.1-.9-2-2-2zM9 17H7v-7h2v7zm4 0h-2V7h2v10zm4 0h-2v-4h2v4z\"/>\n",
              "    </g>\n",
              "</svg>\n",
              "  </button>\n",
              "\n",
              "<style>\n",
              "  .colab-df-quickchart {\n",
              "    background-color: #E8F0FE;\n",
              "    border: none;\n",
              "    border-radius: 50%;\n",
              "    cursor: pointer;\n",
              "    display: none;\n",
              "    fill: #1967D2;\n",
              "    height: 32px;\n",
              "    padding: 0 0 0 0;\n",
              "    width: 32px;\n",
              "  }\n",
              "\n",
              "  .colab-df-quickchart:hover {\n",
              "    background-color: #E2EBFA;\n",
              "    box-shadow: 0px 1px 2px rgba(60, 64, 67, 0.3), 0px 1px 3px 1px rgba(60, 64, 67, 0.15);\n",
              "    fill: #174EA6;\n",
              "  }\n",
              "\n",
              "  [theme=dark] .colab-df-quickchart {\n",
              "    background-color: #3B4455;\n",
              "    fill: #D2E3FC;\n",
              "  }\n",
              "\n",
              "  [theme=dark] .colab-df-quickchart:hover {\n",
              "    background-color: #434B5C;\n",
              "    box-shadow: 0px 1px 3px 1px rgba(0, 0, 0, 0.15);\n",
              "    filter: drop-shadow(0px 1px 2px rgba(0, 0, 0, 0.3));\n",
              "    fill: #FFFFFF;\n",
              "  }\n",
              "</style>\n",
              "\n",
              "  <script>\n",
              "    async function quickchart(key) {\n",
              "      const charts = await google.colab.kernel.invokeFunction(\n",
              "          'suggestCharts', [key], {});\n",
              "    }\n",
              "    (() => {\n",
              "      let quickchartButtonEl =\n",
              "        document.querySelector('#df-01d13151-e0c1-4edb-aa46-a67099bfc637 button');\n",
              "      quickchartButtonEl.style.display =\n",
              "        google.colab.kernel.accessAllowed ? 'block' : 'none';\n",
              "    })();\n",
              "  </script>\n",
              "</div>\n",
              "    </div>\n",
              "  </div>\n"
            ]
          },
          "metadata": {},
          "execution_count": 57
        }
      ],
      "source": [
        "Df.head()"
      ]
    },
    {
      "cell_type": "code",
      "execution_count": null,
      "metadata": {
        "id": "PZJB2anZuxko"
      },
      "outputs": [],
      "source": []
    }
  ],
  "metadata": {
    "colab": {
      "toc_visible": true,
      "provenance": [],
      "authorship_tag": "ABX9TyOycGd4W77WdtJ5vXl/Dy2S",
      "include_colab_link": true
    },
    "kernelspec": {
      "display_name": "Python 3",
      "name": "python3"
    },
    "language_info": {
      "name": "python"
    }
  },
  "nbformat": 4,
  "nbformat_minor": 0
}